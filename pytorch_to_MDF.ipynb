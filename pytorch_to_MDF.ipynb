{
 "cells": [
  {
   "cell_type": "code",
   "execution_count": null,
   "id": "0f0315d9",
   "metadata": {},
   "outputs": [],
   "source": [
    "import torch\n",
    "import torch.nn as nn\n",
    "import torchvision.models as models\n",
    "import torchvision.transforms as transforms\n",
    "import torchvision.datasets as datasets\n",
    "from PIL import Image\n",
    "import numpy as np\n",
    "import ast\n",
    "from modeci_mdf.execution_engine import EvaluableGraph\n",
    "from modeci_mdf.interfaces.pytorch import pytorch_to_mdf\n"
   ]
  },
  {
   "cell_type": "code",
   "execution_count": null,
   "id": "c7d6a585",
   "metadata": {},
   "outputs": [],
   "source": [
    "def image_loader(image_path):\n",
    "    # Define transformation pipeline\n",
    "    loader = transforms.Compose([\n",
    "        transforms.Resize(256),\n",
    "        transforms.CenterCrop(224),\n",
    "        transforms.ToTensor()\n",
    "    ])\n",
    "    # Open image using PIL\n",
    "    image = Image.open(image_path)\n",
    "    # Apply transformation pipeline to image\n",
    "    image = loader(image).float()\n",
    "    # Convert image tensor to float data type\n",
    "    image = image.float()\n",
    "    # Add batch dimension to the tensor by unsqueezing it along the 0th dimension\n",
    "    image = image.unsqueeze(0)\n",
    "    # Return preprocessed image tensor\n",
    "    return image\n"
   ]
  },
  {
   "cell_type": "code",
   "execution_count": null,
   "id": "05010be8",
   "metadata": {
    "scrolled": true
   },
   "outputs": [],
   "source": [
    "\n",
    "\n",
    "# Load a pre-trained ResNet18 model\n",
    "model = models.resnet18(pretrained=True)\n",
    "\n",
    "# Set the model to evaluation mode\n",
    "model.eval()\n",
    "\n",
    "# Define an input image path\n",
    "input_image_path = \"test_img.png\"\n",
    "\n",
    "# Load the input image\n",
    "input_image = image_loader(input_image_path)\n",
    "\n",
    "# Get the model output and predicted label\n",
    "output = model(input_image)\n",
    "_, pred_label = torch.max(output.data, 1)\n",
    "\n",
    "# Print the predicted label\n",
    "print(\"Predicted Label:\", pred_label.item())\n",
    "\n",
    "# Convert the PyTorch model to MDF format\n",
    "graph = pytorch_to_mdf(model)\n",
    "print(graph)\n",
    "\n",
    "# Define the input value for the model\n",
    "input_values = {\"input.1\": input_image.numpy()}\n",
    "\n",
    "# Create an EvaluableGraph object from the MDF graph\n",
    "eval_graph = EvaluableGraph.from_mdf(graph)\n",
    "\n",
    "# Evaluate the model on the input data\n",
    "results = eval_graph.evaluate(input_values=input_values)\n",
    "\n",
    "# Print the model output\n",
    "print(\"Model Output:\", results[\"output\"])\n"
   ]
  },
  {
   "cell_type": "code",
   "execution_count": null,
   "id": "aab40b3a",
   "metadata": {},
   "outputs": [],
   "source": []
  },
  {
   "cell_type": "code",
   "execution_count": null,
   "id": "3abce8e3",
   "metadata": {},
   "outputs": [],
   "source": []
  },
  {
   "cell_type": "code",
   "execution_count": null,
   "id": "b710cf5f",
   "metadata": {},
   "outputs": [],
   "source": []
  }
 ],
 "metadata": {
  "kernelspec": {
   "display_name": "Python 3 (ipykernel)",
   "language": "python",
   "name": "python3"
  },
  "language_info": {
   "codemirror_mode": {
    "name": "ipython",
    "version": 3
   },
   "file_extension": ".py",
   "mimetype": "text/x-python",
   "name": "python",
   "nbconvert_exporter": "python",
   "pygments_lexer": "ipython3",
   "version": "3.9.13"
  }
 },
 "nbformat": 4,
 "nbformat_minor": 5
}
