{
 "cells": [
  {
   "cell_type": "markdown",
   "id": "e3dbbaa3",
   "metadata": {},
   "source": [
    "# How  To Generate MDF Documentation Offline\n",
    "\n",
    "\n"
   ]
  },
  {
   "cell_type": "markdown",
   "id": "df5b37a8",
   "metadata": {},
   "source": [
    "Generating an MDF documentation can be done using a package called Sphinx. [Sphinx](https://www.sphinx-doc.org/) is a documentation generator or a tool that translate a set of plain text source files into various outputs formats, automatically producing cross-references, indices etc. To generate a document , the `make` command is also a requirement. This `make` command  is a command that is native to the GNU Linux system. it helps to compile different program pieces and build a final executable. it also helps to automate file compilation, making the process simpler and less time-consuming."
   ]
  },
  {
   "cell_type": "markdown",
   "id": "46b035ed",
   "metadata": {},
   "source": [
    "### Steps Involve in Regenerating Documentation Offline are:\n",
    "\n",
    "\n",
    "Create a virtual environment with python\n",
    "\n",
    "`pip install virtualenv`\n",
    "\n",
    "\n",
    "Install python 3.10 into your virtual system as it is ideally used for generating MDF documentation offline, but if it doesn't work, you can try python version 3.9\n",
    "\n",
    "\n"
   ]
  },
  {
   "cell_type": "markdown",
   "id": "44f75929",
   "metadata": {},
   "source": [
    "### Create and activate virtual environment  for python 3.9 or python 3.10\n",
    "\n",
    "\n",
    "python3.9 -m virtualenv  venv39\n",
    "venv39\\script\\activate\n",
    "\n",
    "OR \n",
    "\n",
    "python3.10 -m virtualenv venv310\n",
    "venv310\\script\\activate\n"
   ]
  },
  {
   "cell_type": "markdown",
   "id": "20685b76",
   "metadata": {},
   "source": [
    "### Clone MDF repository from Github into your local machine\n",
    "\n",
    "`git clone https://github.com/ModECI/MDF.git`"
   ]
  },
  {
   "cell_type": "markdown",
   "id": "9cc7812c",
   "metadata": {},
   "source": [
    "### Change into the MDF directory\n",
    "\n",
    "cd MDF"
   ]
  },
  {
   "cell_type": "markdown",
   "id": "3529e6aa",
   "metadata": {},
   "source": [
    "### Install all MDF package into the virtual environment\n",
    "\n",
    "\n",
    "\n",
    "pip install .[all]"
   ]
  },
  {
   "cell_type": "markdown",
   "id": "7b56caef",
   "metadata": {},
   "source": [
    "### Change directory into sphinx folder\n",
    "\n",
    "cd docs\\sphinx (for windows)\n",
    "\n",
    "\n",
    "\n",
    "cd docs/spinx (for mac)"
   ]
  },
  {
   "cell_type": "markdown",
   "id": "a304632f",
   "metadata": {},
   "source": [
    "### Create offline documentation in sphinx folder\n",
    "\n",
    "To allow a fresh start when making the documentation, type the command below\n",
    "\n",
    "`make clean `\n",
    "\n",
    "To make the documentation \n",
    "\n",
    "`make html`"
   ]
  },
  {
   "cell_type": "markdown",
   "id": "22e2462b",
   "metadata": {},
   "source": [
    "### Change directory into html folder and run the documentation offline \n",
    "\n",
    "For windows, go into build\\html folder and double click on the index.html file\n",
    "\n",
    "cd build/html\n",
    "\n",
    "`index.html`\n",
    "\n",
    "For Mac, go into build/html folder and double click on the index.html file or:\n",
    "\n",
    "cd build/html\n",
    "\n",
    "`open index.html`\n",
    "\n",
    "The documentation will open up in your browser automatically or right click on the file and open in any browser of your choice."
   ]
  },
  {
   "cell_type": "markdown",
   "id": "da9c60a6",
   "metadata": {},
   "source": []
  }
 ],
 "metadata": {
  "kernelspec": {
   "display_name": "Python 3 (ipykernel)",
   "language": "python",
   "name": "python3"
  },
  "language_info": {
   "codemirror_mode": {
    "name": "ipython",
    "version": 3
   },
   "file_extension": ".py",
   "mimetype": "text/x-python",
   "name": "python",
   "nbconvert_exporter": "python",
   "pygments_lexer": "ipython3",
   "version": "3.9.7"
  }
 },
 "nbformat": 4,
 "nbformat_minor": 5
}
