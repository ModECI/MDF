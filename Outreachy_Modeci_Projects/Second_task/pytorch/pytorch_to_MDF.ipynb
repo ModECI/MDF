{
 "cells": [
  {
   "cell_type": "markdown",
   "id": "0e039635",
   "metadata": {},
   "source": [
    "### Sample Notebook Comparing MDF And PyTorch Model\n",
    "\n",
    "This notebook demonstrate how the pytorch model created in the previous notebook was converted to MDF and the graphical representation of the MDF was created, and then the model was saved in both json and yaml file format."
   ]
  },
  {
   "cell_type": "markdown",
   "id": "15233cdd",
   "metadata": {},
   "source": [
    "### Importing libraries"
   ]
  },
  {
   "cell_type": "code",
   "execution_count": 1,
   "id": "b7784cee",
   "metadata": {},
   "outputs": [],
   "source": [
    "# importing pytorch packages needed for this project\n",
    "from torchvision import transforms\n",
    "import torch\n",
    "import torchvision.models as models\n",
    "import numpy as np\n",
    "import matplotlib.pyplot as plt\n",
    "import torch\n",
    "import torchvision\n",
    "import torch.nn as nn\n",
    "import torch.optim as optim\n",
    "import torch.nn.functional as F\n",
    "import numpy as np"
   ]
  },
  {
   "cell_type": "code",
   "execution_count": null,
   "id": "72e96392",
   "metadata": {},
   "outputs": [],
   "source": [
    "# importing MDF packages\n",
    "from modeci_mdf.interfaces.pytorch import pytorch_to_mdf\n",
    "from modeci_mdf.execution_engine import EvaluableGraph\n",
    "from modelspec.utils import _val_info"
   ]
  },
  {
   "cell_type": "code",
   "execution_count": 3,
   "id": "19554a5d",
   "metadata": {},
   "outputs": [],
   "source": [
    "# the model\n",
    "class Classifier(nn.Module):\n",
    "    def __init__(self):\n",
    "        super().__init__()\n",
    "        self.conv1 = nn.Conv2d(1, 32, kernel_size=3, padding=1)\n",
    "        self.conv2 = nn.Conv2d(32, 64, kernel_size=3, padding=1)\n",
    "        self.pool = nn.MaxPool2d(2, 2)\n",
    "        self.dropout1 = nn.Dropout2d(0.25)\n",
    "        self.dropout2 = nn.Dropout2d(0.5)\n",
    "        self.fc1 = nn.Linear(64 * 7 * 7, 128)\n",
    "        self.fc2 = nn.Linear(128, 10)\n",
    "  \n",
    "    def forward(self, x):\n",
    "        x = self.pool(F.relu(self.conv1(x)))\n",
    "        x = self.dropout1(x)\n",
    "        x = self.pool(F.relu(self.conv2(x)))\n",
    "        x = self.dropout2(x)\n",
    "        x = x.view(-1, 64 * 7 * 7)\n",
    "        x = F.relu(self.fc1(x))\n",
    "        x = self.fc2(x)\n",
    "        return x\n",
    "    "
   ]
  },
  {
   "cell_type": "markdown",
   "id": "926e5859",
   "metadata": {},
   "source": [
    "### Loading the model"
   ]
  },
  {
   "cell_type": "code",
   "execution_count": 4,
   "id": "46b4fa66",
   "metadata": {},
   "outputs": [
    {
     "data": {
      "text/plain": [
       "Classifier(\n",
       "  (conv1): Conv2d(1, 32, kernel_size=(3, 3), stride=(1, 1), padding=(1, 1))\n",
       "  (conv2): Conv2d(32, 64, kernel_size=(3, 3), stride=(1, 1), padding=(1, 1))\n",
       "  (pool): MaxPool2d(kernel_size=2, stride=2, padding=0, dilation=1, ceil_mode=False)\n",
       "  (dropout1): Dropout2d(p=0.25, inplace=False)\n",
       "  (dropout2): Dropout2d(p=0.5, inplace=False)\n",
       "  (fc1): Linear(in_features=3136, out_features=128, bias=True)\n",
       "  (fc2): Linear(in_features=128, out_features=10, bias=True)\n",
       ")"
      ]
     },
     "execution_count": 4,
     "metadata": {},
     "output_type": "execute_result"
    }
   ],
   "source": [
    "# loading the model and evaluating it\n",
    "save_path = 'pytorch_model.pt'\n",
    "classifier = Classifier()\n",
    "classifier.load_state_dict(torch.load(save_path))\n",
    "classifier.eval()"
   ]
  },
  {
   "cell_type": "markdown",
   "id": "9a4e1421",
   "metadata": {},
   "source": [
    "### Loading the dataset"
   ]
  },
  {
   "cell_type": "code",
   "execution_count": 5,
   "id": "df3a9dcb",
   "metadata": {},
   "outputs": [],
   "source": [
    "# Load the MNIST dataset\n",
    "train_dataset = torchvision.datasets.MNIST(root='./data', \n",
    "                                           train=True, \n",
    "                                           transform=torchvision.transforms.ToTensor(), \n",
    "                                           download=True)\n",
    "test_dataset = torchvision.datasets.MNIST(root='./data', \n",
    "                                          train=False, \n",
    "                                          transform=torchvision.transforms.ToTensor(), \n",
    "                                          download=True)"
   ]
  },
  {
   "cell_type": "markdown",
   "id": "664bc335",
   "metadata": {},
   "source": [
    "### Retrieving the image to be  predicted"
   ]
  },
  {
   "cell_type": "code",
   "execution_count": 7,
   "id": "9c2cbae0",
   "metadata": {},
   "outputs": [
    {
     "data": {
      "image/png": "[encoded data removed]",
      "text/plain": [
       "<Figure size 640x480 with 1 Axes>"
      ]
     },
     "metadata": {},
     "output_type": "display_data"
    }
   ],
   "source": [
    "# retrieve index item\n",
    "\n",
    "with torch.no_grad():\n",
    "    index = 333\n",
    "    item = test_dataset[index]\n",
    "    image = item[0]\n",
    "    true_target = item[1]\n",
    "    prediction = classifier(image)\n",
    "    predicted_class = np.argmax(prediction)  \n",
    "    image = image.reshape(28, 28, 1)\n",
    "    plt.imshow(image, cmap = 'gray')\n",
    "    plt.title(f'prediction: {predicted_class} - Actual target: {true_target}')\n",
    "    plt.show()"
   ]
  },
  {
   "cell_type": "markdown",
   "id": "041e776a",
   "metadata": {},
   "source": [
    "### Reshaping the image before converting it to mdf"
   ]
  },
  {
   "cell_type": "code",
   "execution_count": 8,
   "id": "c6158dec",
   "metadata": {},
   "outputs": [
    {
     "data": {
      "text/plain": [
       "torch.Size([1, 1, 28, 28])"
      ]
     },
     "execution_count": 8,
     "metadata": {},
     "output_type": "execute_result"
    }
   ],
   "source": [
    "# reshaping the input image to include the batch size of the input (the batch_size is 1 because we are predicting single image)\n",
    "\n",
    "x = torch.randn(28,28)\n",
    "x.unsqueeze_(0)\n",
    "x = x.repeat(1, 1, 1, 1)\n",
    "x.shape"
   ]
  },
  {
   "cell_type": "markdown",
   "id": "d0bcbb44",
   "metadata": {},
   "source": [
    "### Passing the input into Pytorch model"
   ]
  },
  {
   "cell_type": "code",
   "execution_count": 9,
   "id": "e9560fc7",
   "metadata": {},
   "outputs": [],
   "source": [
    "# passing the input image into the pytorch model to get the output\n",
    "\n",
    "output = classifier(x)"
   ]
  },
  {
   "cell_type": "markdown",
   "id": "7f32ddef",
   "metadata": {},
   "source": [
    "### Printing out the Pytorch output  using _val_info "
   ]
  },
  {
   "cell_type": "code",
   "execution_count": 10,
   "id": "47686cad",
   "metadata": {},
   "outputs": [
    {
     "name": "stdout",
     "output_type": "stream",
     "text": [
      "Evaluated the graph in pytorch, output: tensor([[ -7.4660,   7.8946,   2.7870,   3.5330,   2.2400, -14.8616, -11.5691,\n",
      "           1.3102,  -5.4564,  -4.0407]], grad_fn=<AddmmBackward0>)(Tensor)\n"
     ]
    }
   ],
   "source": [
    "# passing the output into the _val_info to print some info about the output\n",
    "\n",
    "print(\"Evaluated the graph in pytorch, output: %s\" % (_val_info(output)))"
   ]
  },
  {
   "cell_type": "markdown",
   "id": "41fc8c99",
   "metadata": {},
   "source": [
    "### Convert PyTorch model to MDF"
   ]
  },
  {
   "cell_type": "code",
   "execution_count": 12,
   "id": "403dd319",
   "metadata": {},
   "outputs": [],
   "source": [
    "# converting the model to MDF\n",
    "mdf_model, params_dict = pytorch_to_mdf(\n",
    "        model=classifier,\n",
    "        args=(x),\n",
    "        trace=True,\n",
    "    )"
   ]
  },
  {
   "cell_type": "markdown",
   "id": "2e02988b",
   "metadata": {},
   "source": [
    "### Create graph from the model"
   ]
  },
  {
   "cell_type": "code",
   "execution_count": 13,
   "id": "84104df2",
   "metadata": {},
   "outputs": [],
   "source": [
    "#generating graph from the model\n",
    "mdf_graph = mdf_model.graphs[0]"
   ]
  },
  {
   "cell_type": "markdown",
   "id": "1a5c7526",
   "metadata": {},
   "source": [
    "### Add input to the parameters dict "
   ]
  },
  {
   "cell_type": "code",
   "execution_count": 14,
   "id": "7b353383",
   "metadata": {},
   "outputs": [],
   "source": [
    "# adding input to the parameters dict so we can feed it to the EvaluableGraph\n",
    "params_dict[\"input1\"] = x.numpy()"
   ]
  },
  {
   "cell_type": "markdown",
   "id": "01ff4ad7",
   "metadata": {},
   "source": [
    "### Evaluating the Graph"
   ]
  },
  {
   "cell_type": "code",
   "execution_count": 15,
   "id": "041aaab5",
   "metadata": {},
   "outputs": [
    {
     "name": "stdout",
     "output_type": "stream",
     "text": [
      "\n",
      "Init graph: ClassifierGraph\n",
      "Evaluating graph: ClassifierGraph, root nodes: ['Conv_9'], with array format numpy\n"
     ]
    }
   ],
   "source": [
    "#evaluating the model via the MDF scheduler\n",
    "eg = EvaluableGraph(graph=mdf_graph, verbose=False)\n",
    "\n",
    "\n",
    "eg.evaluate(initializer=params_dict)"
   ]
  },
  {
   "cell_type": "markdown",
   "id": "6525ede1",
   "metadata": {},
   "source": [
    "### Getting the MDF Prediction"
   ]
  },
  {
   "cell_type": "code",
   "execution_count": 16,
   "id": "9e1c6bfd",
   "metadata": {},
   "outputs": [
    {
     "data": {
      "text/plain": [
       "array([[ -7.4660058 ,   7.89455652,   2.78698921,   3.53299212,\n",
       "          2.24003959, -14.86164665, -11.56910515,   1.31024885,\n",
       "         -5.45644331,  -4.04074621]])"
      ]
     },
     "execution_count": 16,
     "metadata": {},
     "output_type": "execute_result"
    }
   ],
   "source": [
    "# getting the MDF output(prediction)\n",
    "output_mdf = eg.output_enodes[0].get_output()\n",
    "output_mdf"
   ]
  },
  {
   "cell_type": "markdown",
   "id": "6e4bce09",
   "metadata": {},
   "source": [
    "###  Printing out the MDF output using _val_info "
   ]
  },
  {
   "cell_type": "code",
   "execution_count": 17,
   "id": "e31ee67c",
   "metadata": {},
   "outputs": [
    {
     "name": "stdout",
     "output_type": "stream",
     "text": [
      "Evaluated the graph in pytorch, output: [[-7.4660058  ... -4.04074621]] (NP (1, 10) float64)\n"
     ]
    }
   ],
   "source": [
    "# printing out the output using val_info \n",
    "print(\"Evaluated the graph in pytorch, output: %s\" %(_val_info(output_mdf)))"
   ]
  },
  {
   "cell_type": "markdown",
   "id": "a6cb0abf",
   "metadata": {},
   "source": [
    "### Confirm if the result produced by Pytorch and MDF is the same"
   ]
  },
  {
   "cell_type": "code",
   "execution_count": 18,
   "id": "67cedaca",
   "metadata": {},
   "outputs": [
    {
     "name": "stdout",
     "output_type": "stream",
     "text": [
      "passed all comparison tests\n"
     ]
    }
   ],
   "source": [
    "# checking if the result produced by pytorch and MDF is the same\n",
    "assert np.allclose(\n",
    "     output.detach().numpy(),\n",
    "     output_mdf,\n",
    ")\n",
    "print(\"passed all comparison tests\")"
   ]
  },
  {
   "cell_type": "markdown",
   "id": "2c843558",
   "metadata": {},
   "source": [
    "From the cell above, it can be seen that the string *\"passed all comparison tests\"* was printed out, this shows that pytorch and MDF prediction is absolutely the same."
   ]
  },
  {
   "cell_type": "markdown",
   "id": "68f5d6bb",
   "metadata": {},
   "source": [
    "### Save the model to JSON"
   ]
  },
  {
   "cell_type": "code",
   "execution_count": 19,
   "id": "c2d03811",
   "metadata": {},
   "outputs": [
    {
     "data": {
      "text/plain": [
       "'mnist.json'"
      ]
     },
     "execution_count": 19,
     "metadata": {},
     "output_type": "execute_result"
    }
   ],
   "source": [
    "# saving the model in json file format\n",
    "mdf_model.to_json_file(\"mnist.json\")"
   ]
  },
  {
   "cell_type": "markdown",
   "id": "bc5a70a8",
   "metadata": {},
   "source": [
    "# Save the model to yaml"
   ]
  },
  {
   "cell_type": "code",
   "execution_count": 20,
   "id": "6d751f24",
   "metadata": {},
   "outputs": [
    {
     "data": {
      "text/plain": [
       "'mnist.yaml'"
      ]
     },
     "execution_count": 20,
     "metadata": {},
     "output_type": "execute_result"
    }
   ],
   "source": [
    "#saving the model in yaml file format\n",
    "mdf_model.to_yaml_file(\"mnist.yaml\")"
   ]
  },
  {
   "cell_type": "markdown",
   "id": "d100f169",
   "metadata": {},
   "source": [
    " ###  MDF Graph"
   ]
  },
  {
   "cell_type": "code",
   "execution_count": 21,
   "id": "12d5be16",
   "metadata": {},
   "outputs": [
    {
     "name": "stdout",
     "output_type": "stream",
     "text": [
      "Converting MDF graph: ClassifierGraph to graphviz (level: 1, format: png)\n",
      "    Node: Conv_9\n",
      "    Node: Relu_10\n",
      "    Node: MaxPool_11\n",
      "    Node: Conv_12\n",
      "    Node: Relu_13\n",
      "    Node: MaxPool_14\n",
      "    Node: Reshape_16\n",
      "    Node: Gemm_17\n",
      "    Node: Relu_18\n",
      "    Node: Gemm_19\n",
      "    Edge: Conv_9_Relu_10 connects Conv_9 to Relu_10\n",
      "    Edge: Relu_10_MaxPool_11 connects Relu_10 to MaxPool_11\n",
      "    Edge: MaxPool_11_Conv_12 connects MaxPool_11 to Conv_12\n",
      "    Edge: Conv_12_Relu_13 connects Conv_12 to Relu_13\n",
      "    Edge: Relu_13_MaxPool_14 connects Relu_13 to MaxPool_14\n",
      "    Edge: MaxPool_14_Reshape_16 connects MaxPool_14 to Reshape_16\n",
      "    Edge: Reshape_16_Gemm_17 connects Reshape_16 to Gemm_17\n",
      "    Edge: Gemm_17_Relu_18 connects Gemm_17 to Relu_18\n",
      "    Edge: Relu_18_Gemm_19 connects Relu_18 to Gemm_19\n",
      "Written graph image to: example.png\n"
     ]
    },
    {
     "data": {
      "image/png": "[encoded data removed]",
      "text/plain": [
       "<IPython.core.display.Image object>"
      ]
     },
     "execution_count": 21,
     "metadata": {},
     "output_type": "execute_result"
    }
   ],
   "source": [
    "#generating MDF graph\n",
    "mdf_model.to_graph_image(\n",
    "    engine=\"dot\",\n",
    "    output_format=\"png\",\n",
    "    view_on_render=False,\n",
    "    level=1,\n",
    "    filename_root=\"example\",\n",
    "    only_warn_on_fail=True,\n",
    "    is_horizontal = True\n",
    ")\n",
    "from IPython.display import Image\n",
    "Image(filename=\"example.png\")"
   ]
  },
  {
   "cell_type": "code",
   "execution_count": null,
   "id": "22b40c7b",
   "metadata": {},
   "outputs": [],
   "source": []
  }
 ],
 "metadata": {
  "kernelspec": {
   "display_name": "Python 3 (ipykernel)",
   "language": "python",
   "name": "python3"
  },
  "language_info": {
   "codemirror_mode": {
    "name": "ipython",
    "version": 3
   },
   "file_extension": ".py",
   "mimetype": "text/x-python",
   "name": "python",
   "nbconvert_exporter": "python",
   "pygments_lexer": "ipython3",
   "version": "3.9.7"
  }
 },
 "nbformat": 4,
 "nbformat_minor": 5
}
