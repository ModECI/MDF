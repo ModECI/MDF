{
 "cells": [
  {
   "cell_type": "markdown",
   "id": "aebbc131",
   "metadata": {},
   "source": [
    "### Importing the libraries"
   ]
  },
  {
   "cell_type": "code",
   "execution_count": 1,
   "id": "3dab08a3",
   "metadata": {},
   "outputs": [],
   "source": [
    "import numpy as np\n",
    "import tensorflow as tf\n",
    "from tensorflow.keras.models import save_model\n",
    "from tensorflow.keras import layers\n",
    "from tensorflow.keras.layers import Activation,Dense\n",
    "from keras.utils import plot_model"
   ]
  },
  {
   "cell_type": "markdown",
   "id": "f74730d7",
   "metadata": {},
   "source": [
    "### Creating feature matrix and target vector"
   ]
  },
  {
   "cell_type": "code",
   "execution_count": 2,
   "id": "5f682b6c",
   "metadata": {},
   "outputs": [],
   "source": [
    "X=np.array(([1,1,1,0],[0,1,0,1],[1,1,0,0],[1,0,0,1]), dtype=float)\n",
    "y=np.array(([0],[1],[0],[1]), dtype=float)"
   ]
  },
  {
   "cell_type": "markdown",
   "id": "03d654d7",
   "metadata": {},
   "source": [
    "### Building the model"
   ]
  },
  {
   "cell_type": "code",
   "execution_count": 3,
   "id": "5f76715e",
   "metadata": {},
   "outputs": [],
   "source": [
    "model= tf.keras.Sequential()\n",
    "model.add(Dense(16, input_dim=4, activation='relu'))\n",
    "model.add(Dense(8, activation='relu'))\n",
    "model.add(Dense(8, activation='relu'))\n",
    "model.add(Dense(1, activation='sigmoid'))"
   ]
  },
  {
   "cell_type": "markdown",
   "id": "65f492ec",
   "metadata": {},
   "source": [
    "### Compiling the model"
   ]
  },
  {
   "cell_type": "code",
   "execution_count": 4,
   "id": "af06391e",
   "metadata": {},
   "outputs": [],
   "source": [
    "model.compile(loss='binary_crossentropy', optimizer='adam', metrics=['accuracy'])"
   ]
  },
  {
   "cell_type": "markdown",
   "id": "aa08c75a",
   "metadata": {},
   "source": [
    "### Training the model"
   ]
  },
  {
   "cell_type": "code",
   "execution_count": 5,
   "id": "d79c1efe",
   "metadata": {},
   "outputs": [
    {
     "name": "stdout",
     "output_type": "stream",
     "text": [
      "Epoch 1/150\n",
      "1/1 [==============================] - 8s 8s/step - loss: 0.7780 - accuracy: 0.2500\n",
      "Epoch 2/150\n",
      "1/1 [==============================] - 0s 68ms/step - loss: 0.7737 - accuracy: 0.2500\n",
      "Epoch 3/150\n",
      "1/1 [==============================] - 0s 27ms/step - loss: 0.7697 - accuracy: 0.2500\n",
      "Epoch 4/150\n",
      "1/1 [==============================] - 0s 17ms/step - loss: 0.7658 - accuracy: 0.2500\n",
      "Epoch 5/150\n",
      "1/1 [==============================] - 0s 16ms/step - loss: 0.7631 - accuracy: 0.2500\n",
      "Epoch 6/150\n",
      "1/1 [==============================] - 0s 17ms/step - loss: 0.7605 - accuracy: 0.2500\n",
      "Epoch 7/150\n",
      "1/1 [==============================] - 0s 12ms/step - loss: 0.7579 - accuracy: 0.2500\n",
      "Epoch 8/150\n",
      "1/1 [==============================] - 0s 13ms/step - loss: 0.7551 - accuracy: 0.2500\n",
      "Epoch 9/150\n",
      "1/1 [==============================] - 0s 12ms/step - loss: 0.7522 - accuracy: 0.2500\n",
      "Epoch 10/150\n",
      "1/1 [==============================] - 0s 12ms/step - loss: 0.7494 - accuracy: 0.2500\n",
      "Epoch 11/150\n",
      "1/1 [==============================] - 0s 11ms/step - loss: 0.7465 - accuracy: 0.2500\n",
      "Epoch 12/150\n",
      "1/1 [==============================] - 0s 11ms/step - loss: 0.7436 - accuracy: 0.2500\n",
      "Epoch 13/150\n",
      "1/1 [==============================] - 0s 10ms/step - loss: 0.7408 - accuracy: 0.2500\n",
      "Epoch 14/150\n",
      "1/1 [==============================] - 0s 11ms/step - loss: 0.7379 - accuracy: 0.2500\n",
      "Epoch 15/150\n",
      "1/1 [==============================] - 0s 10ms/step - loss: 0.7350 - accuracy: 0.2500\n",
      "Epoch 16/150\n",
      "1/1 [==============================] - 0s 12ms/step - loss: 0.7323 - accuracy: 0.2500\n",
      "Epoch 17/150\n",
      "1/1 [==============================] - 0s 10ms/step - loss: 0.7295 - accuracy: 0.2500\n",
      "Epoch 18/150\n",
      "1/1 [==============================] - 0s 10ms/step - loss: 0.7267 - accuracy: 0.2500\n",
      "Epoch 19/150\n",
      "1/1 [==============================] - 0s 11ms/step - loss: 0.7239 - accuracy: 0.2500\n",
      "Epoch 20/150\n",
      "1/1 [==============================] - 0s 9ms/step - loss: 0.7215 - accuracy: 0.2500\n",
      "Epoch 21/150\n",
      "1/1 [==============================] - 0s 13ms/step - loss: 0.7192 - accuracy: 0.2500\n",
      "Epoch 22/150\n",
      "1/1 [==============================] - 0s 10ms/step - loss: 0.7169 - accuracy: 0.2500\n",
      "Epoch 23/150\n",
      "1/1 [==============================] - 0s 10ms/step - loss: 0.7145 - accuracy: 0.2500\n",
      "Epoch 24/150\n",
      "1/1 [==============================] - 0s 11ms/step - loss: 0.7121 - accuracy: 0.2500\n",
      "Epoch 25/150\n",
      "1/1 [==============================] - 0s 10ms/step - loss: 0.7097 - accuracy: 0.2500\n",
      "Epoch 26/150\n",
      "1/1 [==============================] - 0s 11ms/step - loss: 0.7073 - accuracy: 0.2500\n",
      "Epoch 27/150\n",
      "1/1 [==============================] - 0s 12ms/step - loss: 0.7048 - accuracy: 0.2500\n",
      "Epoch 28/150\n",
      "1/1 [==============================] - 0s 11ms/step - loss: 0.7023 - accuracy: 0.2500\n",
      "Epoch 29/150\n",
      "1/1 [==============================] - 0s 11ms/step - loss: 0.6999 - accuracy: 0.2500\n",
      "Epoch 30/150\n",
      "1/1 [==============================] - 0s 11ms/step - loss: 0.6976 - accuracy: 0.2500\n",
      "Epoch 31/150\n",
      "1/1 [==============================] - 0s 11ms/step - loss: 0.6954 - accuracy: 0.2500\n",
      "Epoch 32/150\n",
      "1/1 [==============================] - 0s 11ms/step - loss: 0.6933 - accuracy: 0.2500\n",
      "Epoch 33/150\n",
      "1/1 [==============================] - 0s 13ms/step - loss: 0.6913 - accuracy: 0.5000\n",
      "Epoch 34/150\n",
      "1/1 [==============================] - 0s 11ms/step - loss: 0.6891 - accuracy: 0.5000\n",
      "Epoch 35/150\n",
      "1/1 [==============================] - 0s 11ms/step - loss: 0.6868 - accuracy: 0.5000\n",
      "Epoch 36/150\n",
      "1/1 [==============================] - 0s 10ms/step - loss: 0.6845 - accuracy: 0.5000\n",
      "Epoch 37/150\n",
      "1/1 [==============================] - 0s 10ms/step - loss: 0.6825 - accuracy: 0.7500\n",
      "Epoch 38/150\n",
      "1/1 [==============================] - 0s 9ms/step - loss: 0.6806 - accuracy: 0.7500\n",
      "Epoch 39/150\n",
      "1/1 [==============================] - 0s 10ms/step - loss: 0.6786 - accuracy: 0.7500\n",
      "Epoch 40/150\n",
      "1/1 [==============================] - 0s 12ms/step - loss: 0.6772 - accuracy: 0.7500\n",
      "Epoch 41/150\n",
      "1/1 [==============================] - 0s 12ms/step - loss: 0.6758 - accuracy: 0.7500\n",
      "Epoch 42/150\n",
      "1/1 [==============================] - 0s 12ms/step - loss: 0.6747 - accuracy: 0.7500\n",
      "Epoch 43/150\n",
      "1/1 [==============================] - 0s 12ms/step - loss: 0.6737 - accuracy: 0.7500\n",
      "Epoch 44/150\n",
      "1/1 [==============================] - 0s 12ms/step - loss: 0.6725 - accuracy: 0.7500\n",
      "Epoch 45/150\n",
      "1/1 [==============================] - 0s 10ms/step - loss: 0.6719 - accuracy: 0.7500\n",
      "Epoch 46/150\n",
      "1/1 [==============================] - 0s 10ms/step - loss: 0.6713 - accuracy: 0.7500\n",
      "Epoch 47/150\n",
      "1/1 [==============================] - 0s 11ms/step - loss: 0.6707 - accuracy: 0.7500\n",
      "Epoch 48/150\n",
      "1/1 [==============================] - 0s 10ms/step - loss: 0.6700 - accuracy: 0.7500\n",
      "Epoch 49/150\n",
      "1/1 [==============================] - 0s 9ms/step - loss: 0.6693 - accuracy: 0.7500\n",
      "Epoch 50/150\n",
      "1/1 [==============================] - 0s 10ms/step - loss: 0.6686 - accuracy: 0.7500\n",
      "Epoch 51/150\n",
      "1/1 [==============================] - 0s 11ms/step - loss: 0.6676 - accuracy: 0.7500\n",
      "Epoch 52/150\n",
      "1/1 [==============================] - 0s 9ms/step - loss: 0.6658 - accuracy: 0.7500\n",
      "Epoch 53/150\n",
      "1/1 [==============================] - 0s 10ms/step - loss: 0.6641 - accuracy: 0.7500\n",
      "Epoch 54/150\n",
      "1/1 [==============================] - 0s 15ms/step - loss: 0.6624 - accuracy: 0.7500\n",
      "Epoch 55/150\n",
      "1/1 [==============================] - 0s 12ms/step - loss: 0.6604 - accuracy: 0.7500\n",
      "Epoch 56/150\n",
      "1/1 [==============================] - 0s 9ms/step - loss: 0.6584 - accuracy: 1.0000\n",
      "Epoch 57/150\n",
      "1/1 [==============================] - 0s 10ms/step - loss: 0.6561 - accuracy: 1.0000\n",
      "Epoch 58/150\n",
      "1/1 [==============================] - 0s 13ms/step - loss: 0.6538 - accuracy: 1.0000\n",
      "Epoch 59/150\n",
      "1/1 [==============================] - 0s 10ms/step - loss: 0.6513 - accuracy: 1.0000\n",
      "Epoch 60/150\n",
      "1/1 [==============================] - 0s 20ms/step - loss: 0.6489 - accuracy: 1.0000\n",
      "Epoch 61/150\n",
      "1/1 [==============================] - 0s 12ms/step - loss: 0.6465 - accuracy: 1.0000\n",
      "Epoch 62/150\n",
      "1/1 [==============================] - 0s 20ms/step - loss: 0.6442 - accuracy: 1.0000\n",
      "Epoch 63/150\n",
      "1/1 [==============================] - 0s 10ms/step - loss: 0.6419 - accuracy: 1.0000\n",
      "Epoch 64/150\n",
      "1/1 [==============================] - 0s 11ms/step - loss: 0.6398 - accuracy: 1.0000\n",
      "Epoch 65/150\n",
      "1/1 [==============================] - 0s 21ms/step - loss: 0.6377 - accuracy: 1.0000\n",
      "Epoch 66/150\n",
      "1/1 [==============================] - 0s 10ms/step - loss: 0.6357 - accuracy: 1.0000\n",
      "Epoch 67/150\n",
      "1/1 [==============================] - 0s 9ms/step - loss: 0.6336 - accuracy: 1.0000\n",
      "Epoch 68/150\n",
      "1/1 [==============================] - 0s 9ms/step - loss: 0.6316 - accuracy: 1.0000\n",
      "Epoch 69/150\n",
      "1/1 [==============================] - 0s 9ms/step - loss: 0.6294 - accuracy: 1.0000\n",
      "Epoch 70/150\n",
      "1/1 [==============================] - 0s 10ms/step - loss: 0.6273 - accuracy: 1.0000\n",
      "Epoch 71/150\n",
      "1/1 [==============================] - 0s 15ms/step - loss: 0.6251 - accuracy: 1.0000\n",
      "Epoch 72/150\n",
      "1/1 [==============================] - 0s 21ms/step - loss: 0.6230 - accuracy: 1.0000\n",
      "Epoch 73/150\n",
      "1/1 [==============================] - 0s 19ms/step - loss: 0.6208 - accuracy: 1.0000\n",
      "Epoch 74/150\n",
      "1/1 [==============================] - 0s 11ms/step - loss: 0.6186 - accuracy: 1.0000\n",
      "Epoch 75/150\n",
      "1/1 [==============================] - 0s 18ms/step - loss: 0.6164 - accuracy: 1.0000\n",
      "Epoch 76/150\n",
      "1/1 [==============================] - 0s 10ms/step - loss: 0.6141 - accuracy: 1.0000\n",
      "Epoch 77/150\n",
      "1/1 [==============================] - 0s 23ms/step - loss: 0.6118 - accuracy: 1.0000\n",
      "Epoch 78/150\n",
      "1/1 [==============================] - 0s 11ms/step - loss: 0.6094 - accuracy: 1.0000\n",
      "Epoch 79/150\n",
      "1/1 [==============================] - 0s 10ms/step - loss: 0.6070 - accuracy: 1.0000\n",
      "Epoch 80/150\n",
      "1/1 [==============================] - 0s 19ms/step - loss: 0.6046 - accuracy: 1.0000\n",
      "Epoch 81/150\n",
      "1/1 [==============================] - 0s 11ms/step - loss: 0.6023 - accuracy: 1.0000\n",
      "Epoch 82/150\n",
      "1/1 [==============================] - 0s 10ms/step - loss: 0.5999 - accuracy: 1.0000\n",
      "Epoch 83/150\n",
      "1/1 [==============================] - 0s 19ms/step - loss: 0.5977 - accuracy: 1.0000\n"
     ]
    },
    {
     "name": "stdout",
     "output_type": "stream",
     "text": [
      "Epoch 84/150\n",
      "1/1 [==============================] - 0s 10ms/step - loss: 0.5954 - accuracy: 1.0000\n",
      "Epoch 85/150\n",
      "1/1 [==============================] - 0s 15ms/step - loss: 0.5929 - accuracy: 1.0000\n",
      "Epoch 86/150\n",
      "1/1 [==============================] - 0s 15ms/step - loss: 0.5906 - accuracy: 1.0000\n",
      "Epoch 87/150\n",
      "1/1 [==============================] - 0s 15ms/step - loss: 0.5881 - accuracy: 1.0000\n",
      "Epoch 88/150\n",
      "1/1 [==============================] - 0s 32ms/step - loss: 0.5856 - accuracy: 1.0000\n",
      "Epoch 89/150\n",
      "1/1 [==============================] - 0s 18ms/step - loss: 0.5830 - accuracy: 1.0000\n",
      "Epoch 90/150\n",
      "1/1 [==============================] - 0s 20ms/step - loss: 0.5812 - accuracy: 1.0000\n",
      "Epoch 91/150\n",
      "1/1 [==============================] - 0s 16ms/step - loss: 0.5789 - accuracy: 1.0000\n",
      "Epoch 92/150\n",
      "1/1 [==============================] - 0s 17ms/step - loss: 0.5763 - accuracy: 1.0000\n",
      "Epoch 93/150\n",
      "1/1 [==============================] - 0s 11ms/step - loss: 0.5739 - accuracy: 1.0000\n",
      "Epoch 94/150\n",
      "1/1 [==============================] - 0s 20ms/step - loss: 0.5716 - accuracy: 1.0000\n",
      "Epoch 95/150\n",
      "1/1 [==============================] - 0s 11ms/step - loss: 0.5691 - accuracy: 1.0000\n",
      "Epoch 96/150\n",
      "1/1 [==============================] - 0s 11ms/step - loss: 0.5665 - accuracy: 1.0000\n",
      "Epoch 97/150\n",
      "1/1 [==============================] - 0s 11ms/step - loss: 0.5640 - accuracy: 1.0000\n",
      "Epoch 98/150\n",
      "1/1 [==============================] - 0s 11ms/step - loss: 0.5617 - accuracy: 1.0000\n",
      "Epoch 99/150\n",
      "1/1 [==============================] - 0s 13ms/step - loss: 0.5591 - accuracy: 1.0000\n",
      "Epoch 100/150\n",
      "1/1 [==============================] - 0s 17ms/step - loss: 0.5566 - accuracy: 1.0000\n",
      "Epoch 101/150\n",
      "1/1 [==============================] - 0s 17ms/step - loss: 0.5543 - accuracy: 1.0000\n",
      "Epoch 102/150\n",
      "1/1 [==============================] - 0s 15ms/step - loss: 0.5518 - accuracy: 1.0000\n",
      "Epoch 103/150\n",
      "1/1 [==============================] - 0s 15ms/step - loss: 0.5489 - accuracy: 1.0000\n",
      "Epoch 104/150\n",
      "1/1 [==============================] - 0s 11ms/step - loss: 0.5465 - accuracy: 1.0000\n",
      "Epoch 105/150\n",
      "1/1 [==============================] - 0s 10ms/step - loss: 0.5442 - accuracy: 1.0000\n",
      "Epoch 106/150\n",
      "1/1 [==============================] - 0s 12ms/step - loss: 0.5414 - accuracy: 1.0000\n",
      "Epoch 107/150\n",
      "1/1 [==============================] - 0s 12ms/step - loss: 0.5386 - accuracy: 1.0000\n",
      "Epoch 108/150\n",
      "1/1 [==============================] - 0s 18ms/step - loss: 0.5361 - accuracy: 1.0000\n",
      "Epoch 109/150\n",
      "1/1 [==============================] - 0s 19ms/step - loss: 0.5334 - accuracy: 1.0000\n",
      "Epoch 110/150\n",
      "1/1 [==============================] - 0s 16ms/step - loss: 0.5306 - accuracy: 1.0000\n",
      "Epoch 111/150\n",
      "1/1 [==============================] - 0s 16ms/step - loss: 0.5279 - accuracy: 1.0000\n",
      "Epoch 112/150\n",
      "1/1 [==============================] - 0s 15ms/step - loss: 0.5254 - accuracy: 1.0000\n",
      "Epoch 113/150\n",
      "1/1 [==============================] - 0s 10ms/step - loss: 0.5225 - accuracy: 1.0000\n",
      "Epoch 114/150\n",
      "1/1 [==============================] - 0s 12ms/step - loss: 0.5200 - accuracy: 1.0000\n",
      "Epoch 115/150\n",
      "1/1 [==============================] - 0s 15ms/step - loss: 0.5172 - accuracy: 1.0000\n",
      "Epoch 116/150\n",
      "1/1 [==============================] - 0s 17ms/step - loss: 0.5143 - accuracy: 1.0000\n",
      "Epoch 117/150\n",
      "1/1 [==============================] - 0s 12ms/step - loss: 0.5116 - accuracy: 1.0000\n",
      "Epoch 118/150\n",
      "1/1 [==============================] - 0s 15ms/step - loss: 0.5089 - accuracy: 1.0000\n",
      "Epoch 119/150\n",
      "1/1 [==============================] - 0s 16ms/step - loss: 0.5060 - accuracy: 1.0000\n",
      "Epoch 120/150\n",
      "1/1 [==============================] - 0s 17ms/step - loss: 0.5032 - accuracy: 1.0000\n",
      "Epoch 121/150\n",
      "1/1 [==============================] - 0s 14ms/step - loss: 0.5005 - accuracy: 1.0000\n",
      "Epoch 122/150\n",
      "1/1 [==============================] - 0s 12ms/step - loss: 0.4977 - accuracy: 1.0000\n",
      "Epoch 123/150\n",
      "1/1 [==============================] - 0s 12ms/step - loss: 0.4950 - accuracy: 1.0000\n",
      "Epoch 124/150\n",
      "1/1 [==============================] - 0s 14ms/step - loss: 0.4922 - accuracy: 1.0000\n",
      "Epoch 125/150\n",
      "1/1 [==============================] - 0s 13ms/step - loss: 0.4897 - accuracy: 1.0000\n",
      "Epoch 126/150\n",
      "1/1 [==============================] - 0s 12ms/step - loss: 0.4869 - accuracy: 1.0000\n",
      "Epoch 127/150\n",
      "1/1 [==============================] - 0s 47ms/step - loss: 0.4841 - accuracy: 1.0000\n",
      "Epoch 128/150\n",
      "1/1 [==============================] - 0s 18ms/step - loss: 0.4815 - accuracy: 1.0000\n",
      "Epoch 129/150\n",
      "1/1 [==============================] - 0s 19ms/step - loss: 0.4787 - accuracy: 1.0000\n",
      "Epoch 130/150\n",
      "1/1 [==============================] - 0s 19ms/step - loss: 0.4760 - accuracy: 1.0000\n",
      "Epoch 131/150\n",
      "1/1 [==============================] - 0s 11ms/step - loss: 0.4733 - accuracy: 1.0000\n",
      "Epoch 132/150\n",
      "1/1 [==============================] - 0s 19ms/step - loss: 0.4706 - accuracy: 1.0000\n",
      "Epoch 133/150\n",
      "1/1 [==============================] - 0s 18ms/step - loss: 0.4678 - accuracy: 1.0000\n",
      "Epoch 134/150\n",
      "1/1 [==============================] - 0s 12ms/step - loss: 0.4650 - accuracy: 1.0000\n",
      "Epoch 135/150\n",
      "1/1 [==============================] - 0s 10ms/step - loss: 0.4623 - accuracy: 1.0000\n",
      "Epoch 136/150\n",
      "1/1 [==============================] - 0s 20ms/step - loss: 0.4595 - accuracy: 1.0000\n",
      "Epoch 137/150\n",
      "1/1 [==============================] - 0s 12ms/step - loss: 0.4568 - accuracy: 1.0000\n",
      "Epoch 138/150\n",
      "1/1 [==============================] - 0s 10ms/step - loss: 0.4541 - accuracy: 1.0000\n",
      "Epoch 139/150\n",
      "1/1 [==============================] - 0s 16ms/step - loss: 0.4513 - accuracy: 1.0000\n",
      "Epoch 140/150\n",
      "1/1 [==============================] - 0s 11ms/step - loss: 0.4488 - accuracy: 1.0000\n",
      "Epoch 141/150\n",
      "1/1 [==============================] - 0s 10ms/step - loss: 0.4463 - accuracy: 1.0000\n",
      "Epoch 142/150\n",
      "1/1 [==============================] - 0s 11ms/step - loss: 0.4437 - accuracy: 1.0000\n",
      "Epoch 143/150\n",
      "1/1 [==============================] - 0s 11ms/step - loss: 0.4408 - accuracy: 1.0000\n",
      "Epoch 144/150\n",
      "1/1 [==============================] - 0s 10ms/step - loss: 0.4382 - accuracy: 1.0000\n",
      "Epoch 145/150\n",
      "1/1 [==============================] - 0s 14ms/step - loss: 0.4356 - accuracy: 1.0000\n",
      "Epoch 146/150\n",
      "1/1 [==============================] - 0s 10ms/step - loss: 0.4331 - accuracy: 1.0000\n",
      "Epoch 147/150\n",
      "1/1 [==============================] - 0s 12ms/step - loss: 0.4304 - accuracy: 1.0000\n",
      "Epoch 148/150\n",
      "1/1 [==============================] - 0s 10ms/step - loss: 0.4281 - accuracy: 1.0000\n",
      "Epoch 149/150\n",
      "1/1 [==============================] - 0s 14ms/step - loss: 0.4257 - accuracy: 1.0000\n",
      "Epoch 150/150\n",
      "1/1 [==============================] - 0s 10ms/step - loss: 0.4231 - accuracy: 1.0000\n"
     ]
    },
    {
     "data": {
      "text/plain": [
       "<keras.callbacks.History at 0x2a7f93a50d0>"
      ]
     },
     "execution_count": 5,
     "metadata": {},
     "output_type": "execute_result"
    }
   ],
   "source": [
    "model.fit(X, y, epochs=150, batch_size=10)"
   ]
  },
  {
   "cell_type": "markdown",
   "id": "18b81cd0",
   "metadata": {},
   "source": [
    "### Evaluating the model"
   ]
  },
  {
   "cell_type": "code",
   "execution_count": 6,
   "id": "b030c58d",
   "metadata": {},
   "outputs": [
    {
     "name": "stdout",
     "output_type": "stream",
     "text": [
      "accuracy: 100.00%\n"
     ]
    }
   ],
   "source": [
    "accuracy= model.evaluate(X, y, verbose=0)\n",
    "print('%s: %.2f%%' %(model.metrics_names[1], accuracy[1]*100))"
   ]
  },
  {
   "cell_type": "markdown",
   "id": "d02cbada",
   "metadata": {},
   "source": [
    "### Summarizing the model"
   ]
  },
  {
   "cell_type": "code",
   "execution_count": 7,
   "id": "d22558b0",
   "metadata": {},
   "outputs": [
    {
     "name": "stdout",
     "output_type": "stream",
     "text": [
      "Model: \"sequential\"\n",
      "_________________________________________________________________\n",
      " Layer (type)                Output Shape              Param #   \n",
      "=================================================================\n",
      " dense (Dense)               (None, 16)                80        \n",
      "                                                                 \n",
      " dense_1 (Dense)             (None, 8)                 136       \n",
      "                                                                 \n",
      " dense_2 (Dense)             (None, 8)                 72        \n",
      "                                                                 \n",
      " dense_3 (Dense)             (None, 1)                 9         \n",
      "                                                                 \n",
      "=================================================================\n",
      "Total params: 297\n",
      "Trainable params: 297\n",
      "Non-trainable params: 0\n",
      "_________________________________________________________________\n"
     ]
    }
   ],
   "source": [
    "model.summary()"
   ]
  },
  {
   "cell_type": "markdown",
   "id": "7cfdb307",
   "metadata": {},
   "source": [
    "### Making predictions with the model"
   ]
  },
  {
   "cell_type": "code",
   "execution_count": 8,
   "id": "8f20b0f0",
   "metadata": {},
   "outputs": [
    {
     "name": "stdout",
     "output_type": "stream",
     "text": [
      "1/1 [==============================] - 0s 256ms/step\n"
     ]
    },
    {
     "data": {
      "text/plain": [
       "array([[0],\n",
       "       [1],\n",
       "       [0],\n",
       "       [1]])"
      ]
     },
     "execution_count": 8,
     "metadata": {},
     "output_type": "execute_result"
    }
   ],
   "source": [
    "predictions=(model.predict(X) > 0.5).astype(int)\n",
    "predictions"
   ]
  },
  {
   "cell_type": "markdown",
   "id": "f465f16a",
   "metadata": {},
   "source": [
    "### looping through the model to compare actual and expected"
   ]
  },
  {
   "cell_type": "code",
   "execution_count": 9,
   "id": "b51d5120",
   "metadata": {},
   "outputs": [
    {
     "name": "stdout",
     "output_type": "stream",
     "text": [
      "[1.0, 1.0, 1.0, 0.0] => 0 (expected 0)\n",
      "[0.0, 1.0, 0.0, 1.0] => 1 (expected 1)\n",
      "[1.0, 1.0, 0.0, 0.0] => 0 (expected 0)\n",
      "[1.0, 0.0, 0.0, 1.0] => 1 (expected 1)\n"
     ]
    }
   ],
   "source": [
    "for i in range(4):\n",
    "    print('%s => %d (expected %d)' % (X[i]. tolist(), predictions[i], y[i]))"
   ]
  },
  {
   "cell_type": "markdown",
   "id": "ef319209",
   "metadata": {},
   "source": [
    "### Saving the model"
   ]
  },
  {
   "cell_type": "code",
   "execution_count": 10,
   "id": "f4d01be4",
   "metadata": {},
   "outputs": [],
   "source": [
    "save_model(model, 'model.h5')"
   ]
  },
  {
   "cell_type": "markdown",
   "id": "98ad84eb",
   "metadata": {},
   "source": [
    "### Ploting the graph of the model"
   ]
  },
  {
   "cell_type": "code",
   "execution_count": 11,
   "id": "784f9899",
   "metadata": {},
   "outputs": [
    {
     "name": "stdout",
     "output_type": "stream",
     "text": [
      "Plotting the model\n"
     ]
    },
    {
     "data": {
      "image/png": "[encoded data removed]",
      "text/plain": [
       "<IPython.core.display.Image object>"
      ]
     },
     "execution_count": 11,
     "metadata": {},
     "output_type": "execute_result"
    }
   ],
   "source": [
    "print(\"Plotting the model\")\n",
    "plot_model(model, to_file=\"model_plot.png\", show_shapes=True, show_layer_names=True)\n"
   ]
  },
  {
   "cell_type": "code",
   "execution_count": null,
   "id": "835af63d",
   "metadata": {},
   "outputs": [],
   "source": []
  }
 ],
 "metadata": {
  "kernelspec": {
   "display_name": "Python 3 (ipykernel)",
   "language": "python",
   "name": "python3"
  },
  "language_info": {
   "codemirror_mode": {
    "name": "ipython",
    "version": 3
   },
   "file_extension": ".py",
   "mimetype": "text/x-python",
   "name": "python",
   "nbconvert_exporter": "python",
   "pygments_lexer": "ipython3",
   "version": "3.9.16"
  }
 },
 "nbformat": 4,
 "nbformat_minor": 5
}
