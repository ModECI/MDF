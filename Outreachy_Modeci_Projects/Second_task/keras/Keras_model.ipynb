{
 "cells": [
  {
   "cell_type": "markdown",
   "id": "51f2d1d2",
   "metadata": {},
   "source": [
    "# GENERAL OVERVIEW OF THE PROJECT\n",
    "\n",
    "\n",
    "This project is for the ModECI outreachy internship prequisite, it is a tutorial on how to implement MDF with keras.It involves creating a model in keras that can be exported into MDF in order for it to be used with any MDF compartible tools. In this notebook, i will be taking you through a step-by-step tutorial on how i built a keras model using dataset containing 3 rows and 3 columns which was created from numpy arrays and was later converted to MDF. \n"
   ]
  },
  {
   "cell_type": "markdown",
   "id": "e4790d09",
   "metadata": {},
   "source": [
    "# REQUIREMENT\n",
    "\n",
    "## Libraries\n",
    "\n",
    "### The library used in this project are listed as follows:\n",
    "\n",
    "\n",
    "\n",
    "1. Numpy: Numpy is a python library used for working with arrays. it also has functions for working in domain of linear algebra, fourier transform and matrices. it was used in this project to generate our dataset for building the keras model.\n",
    "\n",
    "\n",
    "\n",
    "2. Tensorflow: Tensorflow is an end-end open source platform for machine learning. TensorFlow is a rich system for managing all aspects of a machine learning system. it only focuses on using a particular Tensorflow API to develop and train machine learning models. it was used in this project to import keras.\n",
    "\n",
    "\n",
    "3. keras: keras is an open-source software library that provides a Python interface for Artificial Neural Networks. Keras acts as an interface for the TensorFlow library. \n",
    "\n",
    "4. save_model:This function accepts the model object and the file path and then save the model. if no file path is specified, then the model will be saved to the current working directory. After the model is saved, you can load it using the load_model fuction. it is used in this project to save the keras model.\n",
    "\n",
    "\n",
    "5. layers: A layer in a deep learning model is a structure or network topology in the model's architecture, which takes information from the previous layers and then passes it to the next layer. it was used in this project to create layers of the model.\n",
    "\n",
    "\n",
    "6. Activation: An activation function is a mathematical gate in between the input feeding the current neuron and its output going to the next layer. it can be as simple as a step function that turns the neuron output on and off, depending on the rule of threshold. it was used in this project for activating the layers of the the keras model.\n",
    "\n",
    "\n",
    "7. Dense:Keras Dense layer is the layer that contains all the neurons that are deeply connected within themselves. it is the layer of neurons in which each neuron receives input from all the neurons of previous layer thus called as dense. it is used in this project to specify number of neurons needed in each layer.\n",
    "\n",
    "\n",
    "8. plot_model: The plot_model() is a generic plot-function which accepts ,many model-objects. it is used in this project to create plot of the network. it takes in two arguments which are the model you wish to plot(required) and the name of the file to which to save the plot.\n",
    "\n"
   ]
  },
  {
   "cell_type": "markdown",
   "id": "4663f66d",
   "metadata": {},
   "source": [
    "# DATASET\n",
    "The dataset used in this project was created from numpy arrays. it consist of three rows and three columns."
   ]
  },
  {
   "cell_type": "markdown",
   "id": "e009d9d9",
   "metadata": {},
   "source": [
    "# WORKFLOW\n",
    "\n",
    "1. I created dataset with numpy which consists of three rows and 3 columns..\n",
    "2. I created a simple feedforward keras model, trained it using binary cross-entropy loss fuction and the accuracy metric was used to evaluate the performance of the model on the test set.\n",
    "3. The keras model was saved to h5 and then imported to python script, and various functions to convert the keras model to MDF was implemented in this script.\n",
    "4. Lastly, the keras model was finally converted to MDF with the aid of the previously created functions in the python script. The newly created MDF model was then saved in both json and yaml file format and the perfomance of the MDF model was evaluated and the graphical representation of the model was also generated. "
   ]
  },
  {
   "cell_type": "markdown",
   "id": "dd9aea2e",
   "metadata": {},
   "source": [
    "### Importing libraries"
   ]
  },
  {
   "cell_type": "code",
   "execution_count": null,
   "id": "306a814a",
   "metadata": {},
   "outputs": [],
   "source": [
    "# importing the libraries\n",
    "import numpy as np\n",
    "import tensorflow as tf\n",
    "from tensorflow.keras.models import save_model\n",
    "from tensorflow.keras import layers\n",
    "from tensorflow.keras.layers import Activation,Dense\n",
    "from keras.utils import plot_model"
   ]
  },
  {
   "cell_type": "markdown",
   "id": "80879123",
   "metadata": {},
   "source": [
    "### Create feature matrix and target vector"
   ]
  },
  {
   "cell_type": "code",
   "execution_count": 16,
   "id": "4f4daace",
   "metadata": {},
   "outputs": [],
   "source": [
    "# creating the dataset\n",
    "X=np.array(([1,1,1],[0,0,0],[0,1,0]), dtype=float)\n",
    "y=np.array(([0],[1],[0]), dtype=float)"
   ]
  },
  {
   "cell_type": "markdown",
   "id": "1110c77b",
   "metadata": {},
   "source": [
    "### Create a model"
   ]
  },
  {
   "cell_type": "code",
   "execution_count": 17,
   "id": "962ea54d",
   "metadata": {},
   "outputs": [],
   "source": [
    "# building the model\n",
    "model= tf.keras.Sequential()\n",
    "model.add(Dense(12, input_dim=3, activation='relu'))\n",
    "model.add(Dense(8, activation='relu'))\n",
    "model.add(Dense(1, activation='sigmoid'))"
   ]
  },
  {
   "cell_type": "markdown",
   "id": "ed6c8d24",
   "metadata": {},
   "source": [
    "### Compiling the model"
   ]
  },
  {
   "cell_type": "code",
   "execution_count": 18,
   "id": "728e363a",
   "metadata": {},
   "outputs": [],
   "source": [
    "# compiling the model\n",
    "model.compile(loss='binary_crossentropy', optimizer='adam', metrics=['accuracy'])"
   ]
  },
  {
   "cell_type": "code",
   "execution_count": 19,
   "id": "e8bfa303",
   "metadata": {},
   "outputs": [
    {
     "name": "stdout",
     "output_type": "stream",
     "text": [
      "Epoch 1/150\n",
      "1/1 [==============================] - 1s 1s/step - loss: 0.5762 - accuracy: 0.6667\n",
      "Epoch 2/150\n",
      "1/1 [==============================] - 0s 15ms/step - loss: 0.5743 - accuracy: 0.6667\n",
      "Epoch 3/150\n",
      "1/1 [==============================] - 0s 19ms/step - loss: 0.5724 - accuracy: 0.6667\n",
      "Epoch 4/150\n",
      "1/1 [==============================] - 0s 35ms/step - loss: 0.5704 - accuracy: 0.6667\n",
      "Epoch 5/150\n",
      "1/1 [==============================] - 0s 17ms/step - loss: 0.5685 - accuracy: 0.6667\n",
      "Epoch 6/150\n",
      "1/1 [==============================] - 0s 16ms/step - loss: 0.5666 - accuracy: 0.6667\n",
      "Epoch 7/150\n",
      "1/1 [==============================] - 0s 10ms/step - loss: 0.5647 - accuracy: 0.6667\n",
      "Epoch 8/150\n",
      "1/1 [==============================] - 0s 25ms/step - loss: 0.5627 - accuracy: 0.6667\n",
      "Epoch 9/150\n",
      "1/1 [==============================] - 0s 12ms/step - loss: 0.5608 - accuracy: 0.6667\n",
      "Epoch 10/150\n",
      "1/1 [==============================] - 0s 20ms/step - loss: 0.5589 - accuracy: 0.6667\n",
      "Epoch 11/150\n",
      "1/1 [==============================] - 0s 16ms/step - loss: 0.5570 - accuracy: 0.6667\n",
      "Epoch 12/150\n",
      "1/1 [==============================] - 0s 13ms/step - loss: 0.5552 - accuracy: 0.6667\n",
      "Epoch 13/150\n",
      "1/1 [==============================] - 0s 11ms/step - loss: 0.5533 - accuracy: 0.6667\n",
      "Epoch 14/150\n",
      "1/1 [==============================] - 0s 10ms/step - loss: 0.5515 - accuracy: 0.6667\n",
      "Epoch 15/150\n",
      "1/1 [==============================] - 0s 18ms/step - loss: 0.5496 - accuracy: 0.6667\n",
      "Epoch 16/150\n",
      "1/1 [==============================] - 0s 10ms/step - loss: 0.5478 - accuracy: 0.6667\n",
      "Epoch 17/150\n",
      "1/1 [==============================] - 0s 10ms/step - loss: 0.5460 - accuracy: 0.6667\n",
      "Epoch 18/150\n",
      "1/1 [==============================] - 0s 14ms/step - loss: 0.5441 - accuracy: 0.6667\n",
      "Epoch 19/150\n",
      "1/1 [==============================] - 0s 15ms/step - loss: 0.5423 - accuracy: 0.6667\n",
      "Epoch 20/150\n",
      "1/1 [==============================] - 0s 11ms/step - loss: 0.5405 - accuracy: 0.6667\n",
      "Epoch 21/150\n",
      "1/1 [==============================] - 0s 11ms/step - loss: 0.5388 - accuracy: 0.6667\n",
      "Epoch 22/150\n",
      "1/1 [==============================] - 0s 26ms/step - loss: 0.5370 - accuracy: 0.6667\n",
      "Epoch 23/150\n",
      "1/1 [==============================] - 0s 11ms/step - loss: 0.5352 - accuracy: 0.6667\n",
      "Epoch 24/150\n",
      "1/1 [==============================] - 0s 16ms/step - loss: 0.5334 - accuracy: 0.6667\n",
      "Epoch 25/150\n",
      "1/1 [==============================] - 0s 10ms/step - loss: 0.5317 - accuracy: 0.6667\n",
      "Epoch 26/150\n",
      "1/1 [==============================] - 0s 14ms/step - loss: 0.5299 - accuracy: 0.6667\n",
      "Epoch 27/150\n",
      "1/1 [==============================] - 0s 11ms/step - loss: 0.5282 - accuracy: 0.6667\n",
      "Epoch 28/150\n",
      "1/1 [==============================] - 0s 16ms/step - loss: 0.5265 - accuracy: 0.6667\n",
      "Epoch 29/150\n",
      "1/1 [==============================] - 0s 11ms/step - loss: 0.5248 - accuracy: 0.6667\n",
      "Epoch 30/150\n",
      "1/1 [==============================] - 0s 12ms/step - loss: 0.5228 - accuracy: 0.6667\n",
      "Epoch 31/150\n",
      "1/1 [==============================] - 0s 10ms/step - loss: 0.5207 - accuracy: 0.6667\n",
      "Epoch 32/150\n",
      "1/1 [==============================] - 0s 10ms/step - loss: 0.5185 - accuracy: 0.6667\n",
      "Epoch 33/150\n",
      "1/1 [==============================] - 0s 9ms/step - loss: 0.5162 - accuracy: 0.6667\n",
      "Epoch 34/150\n",
      "1/1 [==============================] - 0s 10ms/step - loss: 0.5140 - accuracy: 0.6667\n",
      "Epoch 35/150\n",
      "1/1 [==============================] - 0s 20ms/step - loss: 0.5116 - accuracy: 0.6667\n",
      "Epoch 36/150\n",
      "1/1 [==============================] - 0s 10ms/step - loss: 0.5093 - accuracy: 0.6667\n",
      "Epoch 37/150\n",
      "1/1 [==============================] - 0s 10ms/step - loss: 0.5070 - accuracy: 0.6667\n",
      "Epoch 38/150\n",
      "1/1 [==============================] - 0s 10ms/step - loss: 0.5047 - accuracy: 0.6667\n",
      "Epoch 39/150\n",
      "1/1 [==============================] - 0s 10ms/step - loss: 0.5024 - accuracy: 0.6667\n",
      "Epoch 40/150\n",
      "1/1 [==============================] - 0s 12ms/step - loss: 0.5001 - accuracy: 0.6667\n",
      "Epoch 41/150\n",
      "1/1 [==============================] - 0s 10ms/step - loss: 0.4978 - accuracy: 0.6667\n",
      "Epoch 42/150\n",
      "1/1 [==============================] - 0s 18ms/step - loss: 0.4956 - accuracy: 0.6667\n",
      "Epoch 43/150\n",
      "1/1 [==============================] - 0s 11ms/step - loss: 0.4934 - accuracy: 0.6667\n",
      "Epoch 44/150\n",
      "1/1 [==============================] - 0s 10ms/step - loss: 0.4911 - accuracy: 0.6667\n",
      "Epoch 45/150\n",
      "1/1 [==============================] - 0s 9ms/step - loss: 0.4889 - accuracy: 0.6667\n",
      "Epoch 46/150\n",
      "1/1 [==============================] - 0s 27ms/step - loss: 0.4868 - accuracy: 0.6667\n",
      "Epoch 47/150\n",
      "1/1 [==============================] - 0s 10ms/step - loss: 0.4846 - accuracy: 0.6667\n",
      "Epoch 48/150\n",
      "1/1 [==============================] - 0s 15ms/step - loss: 0.4825 - accuracy: 0.6667\n",
      "Epoch 49/150\n",
      "1/1 [==============================] - 0s 12ms/step - loss: 0.4804 - accuracy: 0.6667\n",
      "Epoch 50/150\n",
      "1/1 [==============================] - 0s 10ms/step - loss: 0.4783 - accuracy: 0.6667\n",
      "Epoch 51/150\n",
      "1/1 [==============================] - 0s 10ms/step - loss: 0.4763 - accuracy: 0.6667\n",
      "Epoch 52/150\n",
      "1/1 [==============================] - 0s 21ms/step - loss: 0.4743 - accuracy: 0.6667\n",
      "Epoch 53/150\n",
      "1/1 [==============================] - 0s 11ms/step - loss: 0.4723 - accuracy: 0.6667\n",
      "Epoch 54/150\n",
      "1/1 [==============================] - 0s 10ms/step - loss: 0.4703 - accuracy: 0.6667\n",
      "Epoch 55/150\n",
      "1/1 [==============================] - 0s 9ms/step - loss: 0.4683 - accuracy: 0.6667\n",
      "Epoch 56/150\n",
      "1/1 [==============================] - 0s 10ms/step - loss: 0.4664 - accuracy: 0.6667\n",
      "Epoch 57/150\n",
      "1/1 [==============================] - 0s 12ms/step - loss: 0.4646 - accuracy: 0.6667\n",
      "Epoch 58/150\n",
      "1/1 [==============================] - 0s 10ms/step - loss: 0.4627 - accuracy: 0.6667\n",
      "Epoch 59/150\n",
      "1/1 [==============================] - 0s 10ms/step - loss: 0.4609 - accuracy: 0.6667\n",
      "Epoch 60/150\n",
      "1/1 [==============================] - 0s 9ms/step - loss: 0.4590 - accuracy: 0.6667\n",
      "Epoch 61/150\n",
      "1/1 [==============================] - 0s 14ms/step - loss: 0.4572 - accuracy: 0.6667\n",
      "Epoch 62/150\n",
      "1/1 [==============================] - 0s 9ms/step - loss: 0.4554 - accuracy: 0.6667\n",
      "Epoch 63/150\n",
      "1/1 [==============================] - 0s 21ms/step - loss: 0.4537 - accuracy: 0.6667\n",
      "Epoch 64/150\n",
      "1/1 [==============================] - 0s 14ms/step - loss: 0.4519 - accuracy: 0.6667\n",
      "Epoch 65/150\n",
      "1/1 [==============================] - 0s 16ms/step - loss: 0.4502 - accuracy: 0.6667\n",
      "Epoch 66/150\n",
      "1/1 [==============================] - 0s 11ms/step - loss: 0.4485 - accuracy: 0.6667\n",
      "Epoch 67/150\n",
      "1/1 [==============================] - 0s 9ms/step - loss: 0.4468 - accuracy: 0.6667\n",
      "Epoch 68/150\n",
      "1/1 [==============================] - 0s 18ms/step - loss: 0.4451 - accuracy: 0.6667\n",
      "Epoch 69/150\n",
      "1/1 [==============================] - 0s 10ms/step - loss: 0.4435 - accuracy: 0.6667\n",
      "Epoch 70/150\n",
      "1/1 [==============================] - 0s 10ms/step - loss: 0.4418 - accuracy: 0.6667\n",
      "Epoch 71/150\n",
      "1/1 [==============================] - 0s 30ms/step - loss: 0.4402 - accuracy: 0.6667\n",
      "Epoch 72/150\n",
      "1/1 [==============================] - 0s 10ms/step - loss: 0.4386 - accuracy: 0.6667\n",
      "Epoch 73/150\n",
      "1/1 [==============================] - 0s 9ms/step - loss: 0.4371 - accuracy: 0.6667\n",
      "Epoch 74/150\n",
      "1/1 [==============================] - 0s 19ms/step - loss: 0.4355 - accuracy: 0.6667\n",
      "Epoch 75/150\n",
      "1/1 [==============================] - 0s 10ms/step - loss: 0.4339 - accuracy: 0.6667\n",
      "Epoch 76/150\n",
      "1/1 [==============================] - 0s 17ms/step - loss: 0.4324 - accuracy: 0.6667\n",
      "Epoch 77/150\n",
      "1/1 [==============================] - 0s 14ms/step - loss: 0.4309 - accuracy: 0.6667\n",
      "Epoch 78/150\n",
      "1/1 [==============================] - 0s 13ms/step - loss: 0.4293 - accuracy: 0.6667\n",
      "Epoch 79/150\n",
      "1/1 [==============================] - 0s 12ms/step - loss: 0.4278 - accuracy: 0.6667\n",
      "Epoch 80/150\n",
      "1/1 [==============================] - 0s 19ms/step - loss: 0.4263 - accuracy: 0.6667\n",
      "Epoch 81/150\n",
      "1/1 [==============================] - 0s 10ms/step - loss: 0.4248 - accuracy: 0.6667\n",
      "Epoch 82/150\n",
      "1/1 [==============================] - 0s 11ms/step - loss: 0.4233 - accuracy: 0.6667\n",
      "Epoch 83/150\n",
      "1/1 [==============================] - 0s 12ms/step - loss: 0.4218 - accuracy: 0.6667\n",
      "Epoch 84/150\n",
      "1/1 [==============================] - 0s 13ms/step - loss: 0.4203 - accuracy: 0.6667\n",
      "Epoch 85/150\n",
      "1/1 [==============================] - 0s 11ms/step - loss: 0.4189 - accuracy: 0.6667\n",
      "Epoch 86/150\n",
      "1/1 [==============================] - 0s 10ms/step - loss: 0.4174 - accuracy: 0.6667\n",
      "Epoch 87/150\n",
      "1/1 [==============================] - 0s 16ms/step - loss: 0.4160 - accuracy: 0.6667\n",
      "Epoch 88/150\n",
      "1/1 [==============================] - 0s 12ms/step - loss: 0.4145 - accuracy: 0.6667\n",
      "Epoch 89/150\n",
      "1/1 [==============================] - 0s 11ms/step - loss: 0.4130 - accuracy: 0.6667\n",
      "Epoch 90/150\n",
      "1/1 [==============================] - 0s 9ms/step - loss: 0.4116 - accuracy: 0.6667\n",
      "Epoch 91/150\n",
      "1/1 [==============================] - 0s 19ms/step - loss: 0.4102 - accuracy: 0.6667\n",
      "Epoch 92/150\n",
      "1/1 [==============================] - 0s 11ms/step - loss: 0.4087 - accuracy: 0.6667\n",
      "Epoch 93/150\n",
      "1/1 [==============================] - 0s 15ms/step - loss: 0.4073 - accuracy: 0.6667\n",
      "Epoch 94/150\n",
      "1/1 [==============================] - 0s 10ms/step - loss: 0.4058 - accuracy: 0.6667\n",
      "Epoch 95/150\n",
      "1/1 [==============================] - 0s 14ms/step - loss: 0.4044 - accuracy: 0.6667\n",
      "Epoch 96/150\n",
      "1/1 [==============================] - 0s 12ms/step - loss: 0.4029 - accuracy: 0.6667\n",
      "Epoch 97/150\n",
      "1/1 [==============================] - 0s 16ms/step - loss: 0.4015 - accuracy: 0.6667\n",
      "Epoch 98/150\n",
      "1/1 [==============================] - 0s 11ms/step - loss: 0.4001 - accuracy: 0.6667\n",
      "Epoch 99/150\n",
      "1/1 [==============================] - 0s 12ms/step - loss: 0.3986 - accuracy: 0.6667\n",
      "Epoch 100/150\n",
      "1/1 [==============================] - 0s 26ms/step - loss: 0.3972 - accuracy: 0.6667\n",
      "Epoch 101/150\n",
      "1/1 [==============================] - 0s 16ms/step - loss: 0.3958 - accuracy: 0.6667\n",
      "Epoch 102/150\n",
      "1/1 [==============================] - 0s 16ms/step - loss: 0.3943 - accuracy: 0.6667\n",
      "Epoch 103/150\n",
      "1/1 [==============================] - 0s 38ms/step - loss: 0.3929 - accuracy: 0.6667\n",
      "Epoch 104/150\n",
      "1/1 [==============================] - 0s 14ms/step - loss: 0.3915 - accuracy: 0.6667\n",
      "Epoch 105/150\n",
      "1/1 [==============================] - 0s 10ms/step - loss: 0.3903 - accuracy: 0.6667\n",
      "Epoch 106/150\n",
      "1/1 [==============================] - 0s 23ms/step - loss: 0.3890 - accuracy: 0.6667\n",
      "Epoch 107/150\n",
      "1/1 [==============================] - 0s 12ms/step - loss: 0.3876 - accuracy: 0.6667\n",
      "Epoch 108/150\n",
      "1/1 [==============================] - 0s 16ms/step - loss: 0.3862 - accuracy: 0.6667\n",
      "Epoch 109/150\n",
      "1/1 [==============================] - 0s 15ms/step - loss: 0.3848 - accuracy: 0.6667\n",
      "Epoch 110/150\n",
      "1/1 [==============================] - 0s 19ms/step - loss: 0.3834 - accuracy: 0.6667\n",
      "Epoch 111/150\n",
      "1/1 [==============================] - 0s 11ms/step - loss: 0.3821 - accuracy: 0.6667\n",
      "Epoch 112/150\n",
      "1/1 [==============================] - 0s 14ms/step - loss: 0.3808 - accuracy: 0.6667\n",
      "Epoch 113/150\n",
      "1/1 [==============================] - 0s 15ms/step - loss: 0.3794 - accuracy: 0.6667\n",
      "Epoch 114/150\n",
      "1/1 [==============================] - 0s 12ms/step - loss: 0.3781 - accuracy: 0.6667\n",
      "Epoch 115/150\n",
      "1/1 [==============================] - 0s 11ms/step - loss: 0.3768 - accuracy: 0.6667\n",
      "Epoch 116/150\n",
      "1/1 [==============================] - 0s 16ms/step - loss: 0.3755 - accuracy: 0.6667\n",
      "Epoch 117/150\n",
      "1/1 [==============================] - 0s 12ms/step - loss: 0.3741 - accuracy: 0.6667\n",
      "Epoch 118/150\n",
      "1/1 [==============================] - 0s 13ms/step - loss: 0.3727 - accuracy: 0.6667\n",
      "Epoch 119/150\n",
      "1/1 [==============================] - 0s 11ms/step - loss: 0.3714 - accuracy: 0.6667\n",
      "Epoch 120/150\n",
      "1/1 [==============================] - 0s 16ms/step - loss: 0.3699 - accuracy: 0.6667\n",
      "Epoch 121/150\n",
      "1/1 [==============================] - 0s 12ms/step - loss: 0.3684 - accuracy: 0.6667\n",
      "Epoch 122/150\n",
      "1/1 [==============================] - 0s 11ms/step - loss: 0.3667 - accuracy: 0.6667\n",
      "Epoch 123/150\n",
      "1/1 [==============================] - 0s 10ms/step - loss: 0.3651 - accuracy: 0.6667\n",
      "Epoch 124/150\n",
      "1/1 [==============================] - 0s 10ms/step - loss: 0.3635 - accuracy: 0.6667\n",
      "Epoch 125/150\n",
      "1/1 [==============================] - 0s 11ms/step - loss: 0.3620 - accuracy: 0.6667\n",
      "Epoch 126/150\n",
      "1/1 [==============================] - 0s 11ms/step - loss: 0.3606 - accuracy: 0.6667\n",
      "Epoch 127/150\n",
      "1/1 [==============================] - 0s 18ms/step - loss: 0.3591 - accuracy: 0.6667\n",
      "Epoch 128/150\n",
      "1/1 [==============================] - 0s 10ms/step - loss: 0.3576 - accuracy: 0.6667\n",
      "Epoch 129/150\n",
      "1/1 [==============================] - 0s 17ms/step - loss: 0.3561 - accuracy: 0.6667\n",
      "Epoch 130/150\n",
      "1/1 [==============================] - 0s 11ms/step - loss: 0.3546 - accuracy: 1.0000\n",
      "Epoch 131/150\n",
      "1/1 [==============================] - 0s 11ms/step - loss: 0.3531 - accuracy: 1.0000\n",
      "Epoch 132/150\n",
      "1/1 [==============================] - 0s 10ms/step - loss: 0.3515 - accuracy: 1.0000\n",
      "Epoch 133/150\n",
      "1/1 [==============================] - 0s 11ms/step - loss: 0.3500 - accuracy: 1.0000\n",
      "Epoch 134/150\n",
      "1/1 [==============================] - 0s 16ms/step - loss: 0.3484 - accuracy: 1.0000\n",
      "Epoch 135/150\n",
      "1/1 [==============================] - 0s 11ms/step - loss: 0.3468 - accuracy: 1.0000\n",
      "Epoch 136/150\n",
      "1/1 [==============================] - 0s 11ms/step - loss: 0.3451 - accuracy: 1.0000\n",
      "Epoch 137/150\n",
      "1/1 [==============================] - 0s 12ms/step - loss: 0.3435 - accuracy: 1.0000\n",
      "Epoch 138/150\n",
      "1/1 [==============================] - 0s 11ms/step - loss: 0.3420 - accuracy: 1.0000\n",
      "Epoch 139/150\n",
      "1/1 [==============================] - 0s 10ms/step - loss: 0.3405 - accuracy: 1.0000\n",
      "Epoch 140/150\n",
      "1/1 [==============================] - 0s 16ms/step - loss: 0.3389 - accuracy: 1.0000\n",
      "Epoch 141/150\n",
      "1/1 [==============================] - 0s 15ms/step - loss: 0.3372 - accuracy: 1.0000\n",
      "Epoch 142/150\n",
      "1/1 [==============================] - 0s 12ms/step - loss: 0.3356 - accuracy: 1.0000\n",
      "Epoch 143/150\n",
      "1/1 [==============================] - 0s 12ms/step - loss: 0.3341 - accuracy: 1.0000\n",
      "Epoch 144/150\n",
      "1/1 [==============================] - 0s 11ms/step - loss: 0.3325 - accuracy: 1.0000\n",
      "Epoch 145/150\n",
      "1/1 [==============================] - 0s 10ms/step - loss: 0.3309 - accuracy: 1.0000\n",
      "Epoch 146/150\n",
      "1/1 [==============================] - 0s 15ms/step - loss: 0.3293 - accuracy: 1.0000\n",
      "Epoch 147/150\n",
      "1/1 [==============================] - 0s 10ms/step - loss: 0.3277 - accuracy: 1.0000\n",
      "Epoch 148/150\n",
      "1/1 [==============================] - 0s 10ms/step - loss: 0.3261 - accuracy: 1.0000\n",
      "Epoch 149/150\n",
      "1/1 [==============================] - 0s 14ms/step - loss: 0.3245 - accuracy: 1.0000\n",
      "Epoch 150/150\n",
      "1/1 [==============================] - 0s 11ms/step - loss: 0.3230 - accuracy: 1.0000\n"
     ]
    },
    {
     "data": {
      "text/plain": [
       "<keras.callbacks.History at 0x22a7bf59850>"
      ]
     },
     "execution_count": 19,
     "metadata": {},
     "output_type": "execute_result"
    }
   ],
   "source": [
    "# fitting the model\n",
    "model.fit(X, y, epochs=150, batch_size=10)"
   ]
  },
  {
   "cell_type": "markdown",
   "id": "0923fe64",
   "metadata": {},
   "source": [
    "### Getting weight of model"
   ]
  },
  {
   "cell_type": "code",
   "execution_count": 31,
   "id": "c4c4135c",
   "metadata": {},
   "outputs": [
    {
     "name": "stdout",
     "output_type": "stream",
     "text": [
      "[array([[ 0.20460442,  0.7481903 , -0.50947237, -0.5875372 , -0.24060747,\n",
      "         0.35641867,  0.11797941,  0.68521076, -0.44253325,  0.11313052,\n",
      "         0.23923866, -0.05161101],\n",
      "       [-0.21836153,  0.6215303 , -0.5920715 , -0.45953822,  0.21446449,\n",
      "        -0.10147703, -0.567256  ,  0.5810185 ,  0.40655395,  0.22924785,\n",
      "         0.17659037,  0.2841003 ],\n",
      "       [ 0.52039236,  0.43301114, -0.5867352 ,  0.29454416, -0.5498113 ,\n",
      "        -0.47041976, -0.16164279,  0.38945967,  0.62997854,  0.2835683 ,\n",
      "         0.27246788,  0.19517407]], dtype=float32), array([ 0.015307  ,  0.00734454,  0.        ,  0.        , -0.0001629 ,\n",
      "        0.        ,  0.        , -0.0008799 ,  0.0387494 , -0.11667172,\n",
      "       -0.09868469,  0.0065016 ], dtype=float32), array([[ 0.19142553,  0.30277604, -0.28667492, -0.10444027, -0.13383716,\n",
      "        -0.15678217,  0.25282678,  0.11026579],\n",
      "       [ 0.26152456, -0.08188996, -0.20236427, -0.26104978, -0.4234171 ,\n",
      "         0.63230324,  0.21271008,  0.5027759 ],\n",
      "       [-0.40546477,  0.37149024, -0.43646604,  0.24449652,  0.13926071,\n",
      "         0.0476355 ,  0.2598601 ,  0.41472143],\n",
      "       [ 0.14028764, -0.3033163 ,  0.30886936, -0.38626674,  0.3554899 ,\n",
      "        -0.18566555, -0.0059191 , -0.41988814],\n",
      "       [-0.26282087,  0.37127066, -0.260611  ,  0.00438809,  0.04939908,\n",
      "         0.65357345,  0.6461991 , -0.19045168],\n",
      "       [-0.26666632,  0.1694377 , -0.14334756, -0.46056724, -0.01963365,\n",
      "        -0.20279336, -0.01035219,  0.03949964],\n",
      "       [-0.30690247,  0.20587224, -0.28985196, -0.28152597, -0.0184474 ,\n",
      "        -0.5257843 , -0.05618647,  0.45392156],\n",
      "       [-0.45976475,  0.31826013, -0.14855114, -0.42733252, -0.41746414,\n",
      "         0.09071171,  0.6052369 , -0.5117258 ],\n",
      "       [ 0.1838675 , -0.5088169 ,  0.453905  , -0.32781875, -0.5320009 ,\n",
      "         0.15317756,  0.20645447, -0.5350884 ],\n",
      "       [ 0.45084614, -0.50944537, -0.3507453 , -0.38101608,  0.28652483,\n",
      "        -0.10301553, -0.10753195, -0.31730962],\n",
      "       [-0.52135646, -0.3337307 ,  0.46020135, -0.1848183 , -0.46239087,\n",
      "        -0.38113117,  0.35745633,  0.00862688],\n",
      "       [-0.00152734, -0.42822623,  0.12270439, -0.51281834,  0.53948855,\n",
      "         0.33125597, -0.01826647, -0.17909414]], dtype=float32), array([ 0.06590886, -0.02118066,  0.03526138,  0.        ,  0.        ,\n",
      "       -0.00971233, -0.01257886,  0.        ], dtype=float32), array([[ 0.78045446],\n",
      "       [-0.2887991 ],\n",
      "       [ 0.32849273],\n",
      "       [ 0.72925544],\n",
      "       [-0.45275816],\n",
      "       [-0.92558897],\n",
      "       [-0.88933814],\n",
      "       [-0.38244176]], dtype=float32), array([0.015241], dtype=float32)]\n"
     ]
    }
   ],
   "source": [
    "# getting the weight of the model\n",
    "print(model.get_weights())"
   ]
  },
  {
   "cell_type": "markdown",
   "id": "5fce5392",
   "metadata": {},
   "source": [
    "### Evaluating the model"
   ]
  },
  {
   "cell_type": "code",
   "execution_count": 20,
   "id": "01314599",
   "metadata": {},
   "outputs": [
    {
     "name": "stdout",
     "output_type": "stream",
     "text": [
      "accuracy: 100.00%\n"
     ]
    }
   ],
   "source": [
    "# Evaluating the model\n",
    "accuracy= model.evaluate(X, y, verbose=0)\n",
    "print('%s: %.2f%%' %(model.metrics_names[1], accuracy[1]*100))"
   ]
  },
  {
   "cell_type": "markdown",
   "id": "234f91e2",
   "metadata": {},
   "source": [
    "### Summarizing the model"
   ]
  },
  {
   "cell_type": "code",
   "execution_count": 21,
   "id": "521c53bc",
   "metadata": {},
   "outputs": [
    {
     "name": "stdout",
     "output_type": "stream",
     "text": [
      "Model: \"sequential_2\"\n",
      "_________________________________________________________________\n",
      " Layer (type)                Output Shape              Param #   \n",
      "=================================================================\n",
      " dense_6 (Dense)             (None, 12)                48        \n",
      "                                                                 \n",
      " dense_7 (Dense)             (None, 8)                 104       \n",
      "                                                                 \n",
      " dense_8 (Dense)             (None, 1)                 9         \n",
      "                                                                 \n",
      "=================================================================\n",
      "Total params: 161\n",
      "Trainable params: 161\n",
      "Non-trainable params: 0\n",
      "_________________________________________________________________\n"
     ]
    }
   ],
   "source": [
    "#summarizing the model\n",
    "model.summary()"
   ]
  },
  {
   "cell_type": "markdown",
   "id": "7084cdd2",
   "metadata": {},
   "source": [
    "### Predicting with the model"
   ]
  },
  {
   "cell_type": "code",
   "execution_count": 22,
   "id": "999a2aa0",
   "metadata": {},
   "outputs": [
    {
     "name": "stdout",
     "output_type": "stream",
     "text": [
      "1/1 [==============================] - 0s 168ms/step\n"
     ]
    },
    {
     "data": {
      "text/plain": [
       "array([[0.],\n",
       "       [1.],\n",
       "       [0.]], dtype=float32)"
      ]
     },
     "execution_count": 22,
     "metadata": {},
     "output_type": "execute_result"
    }
   ],
   "source": [
    "# making predictions with the model\n",
    "pred = model.predict(X).round()\n",
    "pred"
   ]
  },
  {
   "cell_type": "code",
   "execution_count": 23,
   "id": "1905cd0b",
   "metadata": {},
   "outputs": [
    {
     "name": "stdout",
     "output_type": "stream",
     "text": [
      "1/1 [==============================] - 0s 38ms/step\n"
     ]
    },
    {
     "data": {
      "text/plain": [
       "array([[0],\n",
       "       [1],\n",
       "       [0]])"
      ]
     },
     "execution_count": 23,
     "metadata": {},
     "output_type": "execute_result"
    }
   ],
   "source": [
    "predictions=(model.predict(X) > 0.5).astype(int)\n",
    "predictions"
   ]
  },
  {
   "cell_type": "markdown",
   "id": "877efee5",
   "metadata": {},
   "source": [
    "### Lopping through predictions to compare actual and expected"
   ]
  },
  {
   "cell_type": "code",
   "execution_count": 24,
   "id": "a5a7ffef",
   "metadata": {},
   "outputs": [
    {
     "name": "stdout",
     "output_type": "stream",
     "text": [
      "[1.0, 1.0, 1.0] => 0 (expected 0)\n",
      "[0.0, 0.0, 0.0] => 1 (expected 1)\n",
      "[0.0, 1.0, 0.0] => 0 (expected 0)\n"
     ]
    }
   ],
   "source": [
    "# comparing the actual and expected output of the predictions made by the model\n",
    "for i in range(3):\n",
    "    print('%s => %d (expected %d)' % (X[i]. tolist(), predictions[i], y[i]))"
   ]
  },
  {
   "cell_type": "markdown",
   "id": "83a95051",
   "metadata": {},
   "source": [
    "### Saving the model"
   ]
  },
  {
   "cell_type": "code",
   "execution_count": 25,
   "id": "d7b89494",
   "metadata": {},
   "outputs": [],
   "source": [
    "#saving the model\n",
    "save_model(model, 'model.h5')"
   ]
  },
  {
   "cell_type": "markdown",
   "id": "9f18849d",
   "metadata": {},
   "source": [
    "# Plotting the graph of the model"
   ]
  },
  {
   "cell_type": "code",
   "execution_count": 29,
   "id": "c59ae83d",
   "metadata": {},
   "outputs": [
    {
     "data": {
      "image/png": "[encoded data removed]",
      "text/plain": [
       "<IPython.core.display.Image object>"
      ]
     },
     "execution_count": 29,
     "metadata": {},
     "output_type": "execute_result"
    }
   ],
   "source": [
    "# generating the graph image of the model\n",
    "plot_model(model, to_file='model_plot.png', show_shapes=True, show_layer_names=True)"
   ]
  },
  {
   "cell_type": "code",
   "execution_count": null,
   "id": "486819e9",
   "metadata": {},
   "outputs": [],
   "source": []
  }
 ],
 "metadata": {
  "kernelspec": {
   "display_name": "Python 3 (ipykernel)",
   "language": "python",
   "name": "python3"
  },
  "language_info": {
   "codemirror_mode": {
    "name": "ipython",
    "version": 3
   },
   "file_extension": ".py",
   "mimetype": "text/x-python",
   "name": "python",
   "nbconvert_exporter": "python",
   "pygments_lexer": "ipython3",
   "version": "3.9.7"
  }
 },
 "nbformat": 4,
 "nbformat_minor": 5
}
