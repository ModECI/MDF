{
 "cells": [
  {
   "cell_type": "markdown",
   "id": "aebbc131",
   "metadata": {},
   "source": [
    "### Importing the libraries"
   ]
  },
  {
   "cell_type": "code",
   "execution_count": null,
   "id": "3dab08a3",
   "metadata": {},
   "outputs": [],
   "source": [
    "import numpy as np\n",
    "import tensorflow as tf\n",
    "from tensorflow.keras.models import save_model\n",
    "from tensorflow.keras import layers\n",
    "from tensorflow.keras.layers import Activation,Dense\n",
    "from keras.utils import plot_model"
   ]
  },
  {
   "cell_type": "markdown",
   "id": "f74730d7",
   "metadata": {},
   "source": [
    "### Creating feature matrix and target vector"
   ]
  },
  {
   "cell_type": "code",
   "execution_count": 2,
   "id": "5f682b6c",
   "metadata": {},
   "outputs": [],
   "source": [
    "X=np.array(([1,1,1,0],[0,1,0,1],[1,1,0,0],[1,0,0,1]), dtype=float)\n",
    "y=np.array(([0],[1],[0],[1]), dtype=float)"
   ]
  },
  {
   "cell_type": "markdown",
   "id": "03d654d7",
   "metadata": {},
   "source": [
    "### Building the model"
   ]
  },
  {
   "cell_type": "code",
   "execution_count": 3,
   "id": "5f76715e",
   "metadata": {},
   "outputs": [],
   "source": [
    "model= tf.keras.Sequential()\n",
    "model.add(Dense(12, input_dim=4, activation='relu'))\n",
    "model.add(Dense(8, activation='relu'))\n",
    "model.add(Dense(8, activation='relu'))\n",
    "model.add(Dense(1, activation='sigmoid'))"
   ]
  },
  {
   "cell_type": "markdown",
   "id": "65f492ec",
   "metadata": {},
   "source": [
    "### Compiling the model"
   ]
  },
  {
   "cell_type": "code",
   "execution_count": 4,
   "id": "af06391e",
   "metadata": {},
   "outputs": [],
   "source": [
    "model.compile(loss='binary_crossentropy', optimizer='adam', metrics=['accuracy'])"
   ]
  },
  {
   "cell_type": "markdown",
   "id": "aa08c75a",
   "metadata": {},
   "source": [
    "### Training the model"
   ]
  },
  {
   "cell_type": "code",
   "execution_count": 9,
   "id": "d79c1efe",
   "metadata": {},
   "outputs": [
    {
     "name": "stdout",
     "output_type": "stream",
     "text": [
      "Epoch 1/150\n",
      "1/1 [==============================] - 0s 136ms/step - loss: 0.4787 - accuracy: 0.7500\n",
      "Epoch 2/150\n",
      "1/1 [==============================] - 0s 43ms/step - loss: 0.4757 - accuracy: 0.7500\n",
      "Epoch 3/150\n",
      "1/1 [==============================] - 0s 18ms/step - loss: 0.4727 - accuracy: 0.7500\n",
      "Epoch 4/150\n",
      "1/1 [==============================] - 0s 31ms/step - loss: 0.4696 - accuracy: 0.7500\n",
      "Epoch 5/150\n",
      "1/1 [==============================] - 0s 14ms/step - loss: 0.4665 - accuracy: 0.7500\n",
      "Epoch 6/150\n",
      "1/1 [==============================] - 0s 20ms/step - loss: 0.4635 - accuracy: 0.7500\n",
      "Epoch 7/150\n",
      "1/1 [==============================] - 0s 10ms/step - loss: 0.4603 - accuracy: 0.7500\n",
      "Epoch 8/150\n",
      "1/1 [==============================] - 0s 42ms/step - loss: 0.4573 - accuracy: 0.7500\n",
      "Epoch 9/150\n",
      "1/1 [==============================] - 0s 14ms/step - loss: 0.4544 - accuracy: 0.7500\n",
      "Epoch 10/150\n",
      "1/1 [==============================] - 0s 15ms/step - loss: 0.4514 - accuracy: 0.7500\n",
      "Epoch 11/150\n",
      "1/1 [==============================] - 0s 12ms/step - loss: 0.4484 - accuracy: 0.7500\n",
      "Epoch 12/150\n",
      "1/1 [==============================] - 0s 22ms/step - loss: 0.4454 - accuracy: 0.7500\n",
      "Epoch 13/150\n",
      "1/1 [==============================] - 0s 10ms/step - loss: 0.4424 - accuracy: 0.7500\n",
      "Epoch 14/150\n",
      "1/1 [==============================] - 0s 24ms/step - loss: 0.4393 - accuracy: 0.7500\n",
      "Epoch 15/150\n",
      "1/1 [==============================] - 0s 36ms/step - loss: 0.4363 - accuracy: 0.7500\n",
      "Epoch 16/150\n",
      "1/1 [==============================] - 0s 11ms/step - loss: 0.4333 - accuracy: 0.7500\n",
      "Epoch 17/150\n",
      "1/1 [==============================] - 0s 60ms/step - loss: 0.4302 - accuracy: 0.7500\n",
      "Epoch 18/150\n",
      "1/1 [==============================] - 0s 28ms/step - loss: 0.4272 - accuracy: 0.7500\n",
      "Epoch 19/150\n",
      "1/1 [==============================] - 0s 19ms/step - loss: 0.4241 - accuracy: 0.7500\n",
      "Epoch 20/150\n",
      "1/1 [==============================] - 0s 34ms/step - loss: 0.4210 - accuracy: 0.7500\n",
      "Epoch 21/150\n",
      "1/1 [==============================] - 0s 14ms/step - loss: 0.4180 - accuracy: 0.7500\n",
      "Epoch 22/150\n",
      "1/1 [==============================] - 0s 15ms/step - loss: 0.4149 - accuracy: 0.7500\n",
      "Epoch 23/150\n",
      "1/1 [==============================] - 0s 11ms/step - loss: 0.4118 - accuracy: 0.7500\n",
      "Epoch 24/150\n",
      "1/1 [==============================] - 0s 21ms/step - loss: 0.4088 - accuracy: 0.7500\n",
      "Epoch 25/150\n",
      "1/1 [==============================] - 0s 16ms/step - loss: 0.4058 - accuracy: 0.7500\n",
      "Epoch 26/150\n",
      "1/1 [==============================] - 0s 20ms/step - loss: 0.4027 - accuracy: 0.7500\n",
      "Epoch 27/150\n",
      "1/1 [==============================] - 0s 14ms/step - loss: 0.3997 - accuracy: 0.7500\n",
      "Epoch 28/150\n",
      "1/1 [==============================] - 0s 23ms/step - loss: 0.3966 - accuracy: 0.7500\n",
      "Epoch 29/150\n",
      "1/1 [==============================] - 0s 11ms/step - loss: 0.3934 - accuracy: 0.7500\n",
      "Epoch 30/150\n",
      "1/1 [==============================] - 0s 10ms/step - loss: 0.3901 - accuracy: 1.0000\n",
      "Epoch 31/150\n",
      "1/1 [==============================] - 0s 9ms/step - loss: 0.3870 - accuracy: 1.0000\n",
      "Epoch 32/150\n",
      "1/1 [==============================] - 0s 10ms/step - loss: 0.3837 - accuracy: 1.0000\n",
      "Epoch 33/150\n",
      "1/1 [==============================] - 0s 20ms/step - loss: 0.3806 - accuracy: 1.0000\n",
      "Epoch 34/150\n",
      "1/1 [==============================] - 0s 22ms/step - loss: 0.3775 - accuracy: 1.0000\n",
      "Epoch 35/150\n",
      "1/1 [==============================] - 0s 14ms/step - loss: 0.3745 - accuracy: 1.0000\n",
      "Epoch 36/150\n",
      "1/1 [==============================] - 0s 10ms/step - loss: 0.3715 - accuracy: 1.0000\n",
      "Epoch 37/150\n",
      "1/1 [==============================] - 0s 13ms/step - loss: 0.3684 - accuracy: 1.0000\n",
      "Epoch 38/150\n",
      "1/1 [==============================] - 0s 22ms/step - loss: 0.3653 - accuracy: 1.0000\n",
      "Epoch 39/150\n",
      "1/1 [==============================] - 0s 9ms/step - loss: 0.3623 - accuracy: 1.0000\n",
      "Epoch 40/150\n",
      "1/1 [==============================] - 0s 45ms/step - loss: 0.3593 - accuracy: 1.0000\n",
      "Epoch 41/150\n",
      "1/1 [==============================] - 0s 14ms/step - loss: 0.3563 - accuracy: 1.0000\n",
      "Epoch 42/150\n",
      "1/1 [==============================] - 0s 20ms/step - loss: 0.3533 - accuracy: 1.0000\n",
      "Epoch 43/150\n",
      "1/1 [==============================] - 0s 11ms/step - loss: 0.3503 - accuracy: 1.0000\n",
      "Epoch 44/150\n",
      "1/1 [==============================] - 0s 11ms/step - loss: 0.3473 - accuracy: 1.0000\n",
      "Epoch 45/150\n",
      "1/1 [==============================] - 0s 10ms/step - loss: 0.3443 - accuracy: 1.0000\n",
      "Epoch 46/150\n",
      "1/1 [==============================] - 0s 19ms/step - loss: 0.3413 - accuracy: 1.0000\n",
      "Epoch 47/150\n",
      "1/1 [==============================] - 0s 13ms/step - loss: 0.3383 - accuracy: 1.0000\n",
      "Epoch 48/150\n",
      "1/1 [==============================] - 0s 19ms/step - loss: 0.3354 - accuracy: 1.0000\n",
      "Epoch 49/150\n",
      "1/1 [==============================] - 0s 10ms/step - loss: 0.3325 - accuracy: 1.0000\n",
      "Epoch 50/150\n",
      "1/1 [==============================] - 0s 10ms/step - loss: 0.3296 - accuracy: 1.0000\n",
      "Epoch 51/150\n",
      "1/1 [==============================] - 0s 12ms/step - loss: 0.3267 - accuracy: 1.0000\n",
      "Epoch 52/150\n",
      "1/1 [==============================] - 0s 14ms/step - loss: 0.3239 - accuracy: 1.0000\n",
      "Epoch 53/150\n",
      "1/1 [==============================] - 0s 15ms/step - loss: 0.3211 - accuracy: 1.0000\n",
      "Epoch 54/150\n",
      "1/1 [==============================] - 0s 12ms/step - loss: 0.3183 - accuracy: 1.0000\n",
      "Epoch 55/150\n",
      "1/1 [==============================] - 0s 16ms/step - loss: 0.3155 - accuracy: 1.0000\n",
      "Epoch 56/150\n",
      "1/1 [==============================] - 0s 11ms/step - loss: 0.3127 - accuracy: 1.0000\n",
      "Epoch 57/150\n",
      "1/1 [==============================] - 0s 11ms/step - loss: 0.3099 - accuracy: 1.0000\n",
      "Epoch 58/150\n",
      "1/1 [==============================] - 0s 9ms/step - loss: 0.3071 - accuracy: 1.0000\n",
      "Epoch 59/150\n",
      "1/1 [==============================] - 0s 19ms/step - loss: 0.3044 - accuracy: 1.0000\n",
      "Epoch 60/150\n",
      "1/1 [==============================] - 0s 10ms/step - loss: 0.3016 - accuracy: 1.0000\n",
      "Epoch 61/150\n",
      "1/1 [==============================] - 0s 16ms/step - loss: 0.2989 - accuracy: 1.0000\n",
      "Epoch 62/150\n",
      "1/1 [==============================] - 0s 10ms/step - loss: 0.2962 - accuracy: 1.0000\n",
      "Epoch 63/150\n",
      "1/1 [==============================] - 0s 22ms/step - loss: 0.2935 - accuracy: 1.0000\n",
      "Epoch 64/150\n",
      "1/1 [==============================] - 0s 12ms/step - loss: 0.2908 - accuracy: 1.0000\n",
      "Epoch 65/150\n",
      "1/1 [==============================] - 0s 10ms/step - loss: 0.2881 - accuracy: 1.0000\n",
      "Epoch 66/150\n",
      "1/1 [==============================] - 0s 20ms/step - loss: 0.2854 - accuracy: 1.0000\n",
      "Epoch 67/150\n",
      "1/1 [==============================] - 0s 11ms/step - loss: 0.2828 - accuracy: 1.0000\n",
      "Epoch 68/150\n",
      "1/1 [==============================] - 0s 11ms/step - loss: 0.2802 - accuracy: 1.0000\n",
      "Epoch 69/150\n",
      "1/1 [==============================] - 0s 11ms/step - loss: 0.2780 - accuracy: 1.0000\n",
      "Epoch 70/150\n",
      "1/1 [==============================] - 0s 15ms/step - loss: 0.2757 - accuracy: 1.0000\n",
      "Epoch 71/150\n",
      "1/1 [==============================] - 0s 10ms/step - loss: 0.2735 - accuracy: 1.0000\n",
      "Epoch 72/150\n",
      "1/1 [==============================] - 0s 11ms/step - loss: 0.2713 - accuracy: 1.0000\n",
      "Epoch 73/150\n",
      "1/1 [==============================] - 0s 16ms/step - loss: 0.2691 - accuracy: 1.0000\n",
      "Epoch 74/150\n",
      "1/1 [==============================] - 0s 13ms/step - loss: 0.2668 - accuracy: 1.0000\n",
      "Epoch 75/150\n",
      "1/1 [==============================] - 0s 12ms/step - loss: 0.2646 - accuracy: 1.0000\n",
      "Epoch 76/150\n",
      "1/1 [==============================] - 0s 12ms/step - loss: 0.2621 - accuracy: 1.0000\n",
      "Epoch 77/150\n",
      "1/1 [==============================] - 0s 11ms/step - loss: 0.2597 - accuracy: 1.0000\n",
      "Epoch 78/150\n",
      "1/1 [==============================] - 0s 11ms/step - loss: 0.2572 - accuracy: 1.0000\n",
      "Epoch 79/150\n",
      "1/1 [==============================] - 0s 12ms/step - loss: 0.2547 - accuracy: 1.0000\n",
      "Epoch 80/150\n",
      "1/1 [==============================] - 0s 14ms/step - loss: 0.2522 - accuracy: 1.0000\n",
      "Epoch 81/150\n",
      "1/1 [==============================] - 0s 10ms/step - loss: 0.2498 - accuracy: 1.0000\n",
      "Epoch 82/150\n",
      "1/1 [==============================] - 0s 9ms/step - loss: 0.2474 - accuracy: 1.0000\n",
      "Epoch 83/150\n",
      "1/1 [==============================] - 0s 14ms/step - loss: 0.2449 - accuracy: 1.0000\n",
      "Epoch 84/150\n",
      "1/1 [==============================] - 0s 11ms/step - loss: 0.2425 - accuracy: 1.0000\n",
      "Epoch 85/150\n",
      "1/1 [==============================] - 0s 10ms/step - loss: 0.2401 - accuracy: 1.0000\n",
      "Epoch 86/150\n",
      "1/1 [==============================] - 0s 12ms/step - loss: 0.2377 - accuracy: 1.0000\n",
      "Epoch 87/150\n",
      "1/1 [==============================] - 0s 13ms/step - loss: 0.2353 - accuracy: 1.0000\n",
      "Epoch 88/150\n",
      "1/1 [==============================] - 0s 11ms/step - loss: 0.2330 - accuracy: 1.0000\n",
      "Epoch 89/150\n",
      "1/1 [==============================] - 0s 10ms/step - loss: 0.2306 - accuracy: 1.0000\n",
      "Epoch 90/150\n",
      "1/1 [==============================] - 0s 21ms/step - loss: 0.2283 - accuracy: 1.0000\n",
      "Epoch 91/150\n",
      "1/1 [==============================] - 0s 22ms/step - loss: 0.2259 - accuracy: 1.0000\n",
      "Epoch 92/150\n",
      "1/1 [==============================] - 0s 42ms/step - loss: 0.2236 - accuracy: 1.0000\n",
      "Epoch 93/150\n",
      "1/1 [==============================] - 0s 23ms/step - loss: 0.2214 - accuracy: 1.0000\n",
      "Epoch 94/150\n",
      "1/1 [==============================] - 0s 16ms/step - loss: 0.2191 - accuracy: 1.0000\n",
      "Epoch 95/150\n",
      "1/1 [==============================] - 0s 13ms/step - loss: 0.2169 - accuracy: 1.0000\n",
      "Epoch 96/150\n",
      "1/1 [==============================] - 0s 30ms/step - loss: 0.2147 - accuracy: 1.0000\n",
      "Epoch 97/150\n",
      "1/1 [==============================] - 0s 15ms/step - loss: 0.2125 - accuracy: 1.0000\n",
      "Epoch 98/150\n",
      "1/1 [==============================] - 0s 20ms/step - loss: 0.2103 - accuracy: 1.0000\n",
      "Epoch 99/150\n",
      "1/1 [==============================] - 0s 16ms/step - loss: 0.2082 - accuracy: 1.0000\n",
      "Epoch 100/150\n",
      "1/1 [==============================] - 0s 13ms/step - loss: 0.2060 - accuracy: 1.0000\n",
      "Epoch 101/150\n",
      "1/1 [==============================] - 0s 15ms/step - loss: 0.2041 - accuracy: 1.0000\n",
      "Epoch 102/150\n",
      "1/1 [==============================] - 0s 17ms/step - loss: 0.2023 - accuracy: 1.0000\n",
      "Epoch 103/150\n",
      "1/1 [==============================] - 0s 28ms/step - loss: 0.2006 - accuracy: 1.0000\n",
      "Epoch 104/150\n",
      "1/1 [==============================] - 0s 52ms/step - loss: 0.1989 - accuracy: 1.0000\n",
      "Epoch 105/150\n",
      "1/1 [==============================] - 0s 12ms/step - loss: 0.1973 - accuracy: 1.0000\n",
      "Epoch 106/150\n",
      "1/1 [==============================] - 0s 57ms/step - loss: 0.1956 - accuracy: 1.0000\n",
      "Epoch 107/150\n",
      "1/1 [==============================] - 0s 11ms/step - loss: 0.1939 - accuracy: 1.0000\n",
      "Epoch 108/150\n",
      "1/1 [==============================] - 0s 15ms/step - loss: 0.1923 - accuracy: 1.0000\n",
      "Epoch 109/150\n",
      "1/1 [==============================] - 0s 12ms/step - loss: 0.1906 - accuracy: 1.0000\n",
      "Epoch 110/150\n",
      "1/1 [==============================] - 0s 21ms/step - loss: 0.1889 - accuracy: 1.0000\n",
      "Epoch 111/150\n",
      "1/1 [==============================] - 0s 18ms/step - loss: 0.1872 - accuracy: 1.0000\n",
      "Epoch 112/150\n",
      "1/1 [==============================] - 0s 27ms/step - loss: 0.1856 - accuracy: 1.0000\n",
      "Epoch 113/150\n",
      "1/1 [==============================] - 0s 29ms/step - loss: 0.1839 - accuracy: 1.0000\n",
      "Epoch 114/150\n",
      "1/1 [==============================] - 0s 12ms/step - loss: 0.1823 - accuracy: 1.0000\n",
      "Epoch 115/150\n",
      "1/1 [==============================] - 0s 13ms/step - loss: 0.1806 - accuracy: 1.0000\n",
      "Epoch 116/150\n",
      "1/1 [==============================] - 0s 12ms/step - loss: 0.1790 - accuracy: 1.0000\n",
      "Epoch 117/150\n",
      "1/1 [==============================] - 0s 14ms/step - loss: 0.1774 - accuracy: 1.0000\n",
      "Epoch 118/150\n",
      "1/1 [==============================] - 0s 12ms/step - loss: 0.1759 - accuracy: 1.0000\n",
      "Epoch 119/150\n",
      "1/1 [==============================] - 0s 38ms/step - loss: 0.1743 - accuracy: 1.0000\n",
      "Epoch 120/150\n",
      "1/1 [==============================] - 0s 10ms/step - loss: 0.1728 - accuracy: 1.0000\n",
      "Epoch 121/150\n",
      "1/1 [==============================] - 0s 30ms/step - loss: 0.1713 - accuracy: 1.0000\n",
      "Epoch 122/150\n",
      "1/1 [==============================] - 0s 31ms/step - loss: 0.1698 - accuracy: 1.0000\n",
      "Epoch 123/150\n",
      "1/1 [==============================] - 0s 14ms/step - loss: 0.1682 - accuracy: 1.0000\n",
      "Epoch 124/150\n",
      "1/1 [==============================] - 0s 9ms/step - loss: 0.1668 - accuracy: 1.0000\n",
      "Epoch 125/150\n",
      "1/1 [==============================] - 0s 16ms/step - loss: 0.1653 - accuracy: 1.0000\n",
      "Epoch 126/150\n",
      "1/1 [==============================] - 0s 12ms/step - loss: 0.1639 - accuracy: 1.0000\n",
      "Epoch 127/150\n",
      "1/1 [==============================] - 0s 11ms/step - loss: 0.1624 - accuracy: 1.0000\n",
      "Epoch 128/150\n",
      "1/1 [==============================] - 0s 16ms/step - loss: 0.1610 - accuracy: 1.0000\n",
      "Epoch 129/150\n",
      "1/1 [==============================] - 0s 11ms/step - loss: 0.1596 - accuracy: 1.0000\n",
      "Epoch 130/150\n",
      "1/1 [==============================] - 0s 11ms/step - loss: 0.1581 - accuracy: 1.0000\n",
      "Epoch 131/150\n",
      "1/1 [==============================] - 0s 11ms/step - loss: 0.1563 - accuracy: 1.0000\n",
      "Epoch 132/150\n",
      "1/1 [==============================] - 0s 17ms/step - loss: 0.1545 - accuracy: 1.0000\n",
      "Epoch 133/150\n",
      "1/1 [==============================] - 0s 18ms/step - loss: 0.1526 - accuracy: 1.0000\n",
      "Epoch 134/150\n",
      "1/1 [==============================] - 0s 10ms/step - loss: 0.1507 - accuracy: 1.0000\n",
      "Epoch 135/150\n",
      "1/1 [==============================] - 0s 11ms/step - loss: 0.1488 - accuracy: 1.0000\n",
      "Epoch 136/150\n",
      "1/1 [==============================] - 0s 12ms/step - loss: 0.1468 - accuracy: 1.0000\n",
      "Epoch 137/150\n",
      "1/1 [==============================] - 0s 11ms/step - loss: 0.1449 - accuracy: 1.0000\n",
      "Epoch 138/150\n",
      "1/1 [==============================] - 0s 10ms/step - loss: 0.1429 - accuracy: 1.0000\n",
      "Epoch 139/150\n",
      "1/1 [==============================] - 0s 13ms/step - loss: 0.1409 - accuracy: 1.0000\n",
      "Epoch 140/150\n",
      "1/1 [==============================] - 0s 10ms/step - loss: 0.1389 - accuracy: 1.0000\n",
      "Epoch 141/150\n",
      "1/1 [==============================] - 0s 10ms/step - loss: 0.1370 - accuracy: 1.0000\n",
      "Epoch 142/150\n",
      "1/1 [==============================] - 0s 10ms/step - loss: 0.1351 - accuracy: 1.0000\n",
      "Epoch 143/150\n",
      "1/1 [==============================] - 0s 10ms/step - loss: 0.1332 - accuracy: 1.0000\n",
      "Epoch 144/150\n",
      "1/1 [==============================] - 0s 11ms/step - loss: 0.1313 - accuracy: 1.0000\n",
      "Epoch 145/150\n",
      "1/1 [==============================] - 0s 10ms/step - loss: 0.1294 - accuracy: 1.0000\n",
      "Epoch 146/150\n",
      "1/1 [==============================] - 0s 18ms/step - loss: 0.1276 - accuracy: 1.0000\n",
      "Epoch 147/150\n",
      "1/1 [==============================] - 0s 10ms/step - loss: 0.1257 - accuracy: 1.0000\n",
      "Epoch 148/150\n",
      "1/1 [==============================] - 0s 12ms/step - loss: 0.1239 - accuracy: 1.0000\n",
      "Epoch 149/150\n",
      "1/1 [==============================] - 0s 10ms/step - loss: 0.1221 - accuracy: 1.0000\n",
      "Epoch 150/150\n",
      "1/1 [==============================] - 0s 15ms/step - loss: 0.1203 - accuracy: 1.0000\n"
     ]
    },
    {
     "data": {
      "text/plain": [
       "<keras.callbacks.History at 0x264dc67a0d0>"
      ]
     },
     "execution_count": 9,
     "metadata": {},
     "output_type": "execute_result"
    }
   ],
   "source": [
    "model.fit(X, y, epochs=150, batch_size=10)"
   ]
  },
  {
   "cell_type": "markdown",
   "id": "18b81cd0",
   "metadata": {},
   "source": [
    "### Evaluating the model"
   ]
  },
  {
   "cell_type": "code",
   "execution_count": 10,
   "id": "b030c58d",
   "metadata": {},
   "outputs": [
    {
     "name": "stdout",
     "output_type": "stream",
     "text": [
      "accuracy: 100.00%\n"
     ]
    }
   ],
   "source": [
    "accuracy= model.evaluate(X, y, verbose=0)\n",
    "print('%s: %.2f%%' %(model.metrics_names[1], accuracy[1]*100))"
   ]
  },
  {
   "cell_type": "markdown",
   "id": "d02cbada",
   "metadata": {},
   "source": [
    "### Summarizing the model"
   ]
  },
  {
   "cell_type": "code",
   "execution_count": 11,
   "id": "d22558b0",
   "metadata": {},
   "outputs": [
    {
     "name": "stdout",
     "output_type": "stream",
     "text": [
      "Model: \"sequential\"\n",
      "_________________________________________________________________\n",
      " Layer (type)                Output Shape              Param #   \n",
      "=================================================================\n",
      " dense (Dense)               (None, 12)                60        \n",
      "                                                                 \n",
      " dense_1 (Dense)             (None, 8)                 104       \n",
      "                                                                 \n",
      " dense_2 (Dense)             (None, 8)                 72        \n",
      "                                                                 \n",
      " dense_3 (Dense)             (None, 1)                 9         \n",
      "                                                                 \n",
      "=================================================================\n",
      "Total params: 245\n",
      "Trainable params: 245\n",
      "Non-trainable params: 0\n",
      "_________________________________________________________________\n"
     ]
    }
   ],
   "source": [
    "model.summary()"
   ]
  },
  {
   "cell_type": "markdown",
   "id": "7cfdb307",
   "metadata": {},
   "source": [
    "### Making predictions with the model"
   ]
  },
  {
   "cell_type": "code",
   "execution_count": 12,
   "id": "8f20b0f0",
   "metadata": {},
   "outputs": [
    {
     "name": "stdout",
     "output_type": "stream",
     "text": [
      "1/1 [==============================] - 0s 400ms/step\n"
     ]
    },
    {
     "data": {
      "text/plain": [
       "array([[0],\n",
       "       [1],\n",
       "       [0],\n",
       "       [1]])"
      ]
     },
     "execution_count": 12,
     "metadata": {},
     "output_type": "execute_result"
    }
   ],
   "source": [
    "predictions=(model.predict(X) > 0.5).astype(int)\n",
    "predictions"
   ]
  },
  {
   "cell_type": "markdown",
   "id": "f465f16a",
   "metadata": {},
   "source": [
    "### looping through the model to compare actual and expected"
   ]
  },
  {
   "cell_type": "code",
   "execution_count": 15,
   "id": "b51d5120",
   "metadata": {},
   "outputs": [
    {
     "name": "stdout",
     "output_type": "stream",
     "text": [
      "[1.0, 1.0, 1.0, 0.0] => 0 (expected 0)\n",
      "[0.0, 1.0, 0.0, 1.0] => 1 (expected 1)\n",
      "[1.0, 1.0, 0.0, 0.0] => 0 (expected 0)\n",
      "[1.0, 0.0, 0.0, 1.0] => 1 (expected 1)\n"
     ]
    }
   ],
   "source": [
    "for i in range(4):\n",
    "    print('%s => %d (expected %d)' % (X[i]. tolist(), predictions[i], y[i]))"
   ]
  },
  {
   "cell_type": "markdown",
   "id": "ef319209",
   "metadata": {},
   "source": [
    "### Saving the model"
   ]
  },
  {
   "cell_type": "code",
   "execution_count": 16,
   "id": "f4d01be4",
   "metadata": {},
   "outputs": [],
   "source": [
    "save_model(model, 'model.h5')"
   ]
  },
  {
   "cell_type": "markdown",
   "id": "98ad84eb",
   "metadata": {},
   "source": [
    "### Ploting the graph of the model"
   ]
  },
  {
   "cell_type": "code",
   "execution_count": 19,
   "id": "784f9899",
   "metadata": {},
   "outputs": [
    {
     "name": "stdout",
     "output_type": "stream",
     "text": [
      "Plotting the model\n"
     ]
    },
    {
     "data": {
      "image/png": "[encoded data removed]",
      "text/plain": [
       "<IPython.core.display.Image object>"
      ]
     },
     "execution_count": 19,
     "metadata": {},
     "output_type": "execute_result"
    }
   ],
   "source": [
    "print(\"Plotting the model\")\n",
    "plot_model(model, to_file=\"model_plot.png\", show_shapes=True, show_layer_names=True)\n"
   ]
  },
  {
   "cell_type": "code",
   "execution_count": null,
   "id": "394b43a7",
   "metadata": {},
   "outputs": [],
   "source": []
  }
 ],
 "metadata": {
  "kernelspec": {
   "display_name": "Python 3 (ipykernel)",
   "language": "python",
   "name": "python3"
  },
  "language_info": {
   "codemirror_mode": {
    "name": "ipython",
    "version": 3
   },
   "file_extension": ".py",
   "mimetype": "text/x-python",
   "name": "python",
   "nbconvert_exporter": "python",
   "pygments_lexer": "ipython3",
   "version": "3.9.7"
  }
 },
 "nbformat": 4,
 "nbformat_minor": 5
}
