{
 "cells": [
  {
   "cell_type": "markdown",
   "id": "867b35ee",
   "metadata": {},
   "source": [
    "### This notebook demonstrate the conversion of Keras model  to MDF\n"
   ]
  },
  {
   "cell_type": "code",
   "execution_count": 192,
   "id": "35e86e33",
   "metadata": {},
   "outputs": [],
   "source": [
    "# importing MDF libraries\n",
    "\n",
    "import numpy as np\n",
    "from modeci_mdf.utils import simple_connect\n",
    "from modeci_mdf.mdf import *\n",
    "from modeci_mdf.execution_engine import EvaluableGraph\n",
    "import graph_scheduler\n"
   ]
  },
  {
   "cell_type": "code",
   "execution_count": 193,
   "id": "453e48be",
   "metadata": {},
   "outputs": [],
   "source": [
    "# importing tensorflow library\n",
    "from tensorflow.keras.models import load_model\n",
    "import tensorflow as tf\n",
    "from tensorflow import keras\n",
    "\n"
   ]
  },
  {
   "cell_type": "code",
   "execution_count": 194,
   "id": "76d4ffef",
   "metadata": {},
   "outputs": [],
   "source": [
    "# fetching out the helper functions from the Keras_MDF script\n",
    "from Keras_MDF import *"
   ]
  },
  {
   "cell_type": "code",
   "execution_count": 195,
   "id": "48899902",
   "metadata": {},
   "outputs": [
    {
     "name": "stdout",
     "output_type": "stream",
     "text": [
      "dense\n",
      "dense_1\n",
      "dense_2\n",
      "dense_3\n"
     ]
    }
   ],
   "source": [
    "# printing out the layers in the keras model\n",
    "\n",
    "new_model = tf.keras.models.load_model(\"model.h5\")\n",
    "for x in new_model.layers:\n",
    "    print(x.name)\n",
    "\n"
   ]
  },
  {
   "cell_type": "code",
   "execution_count": 196,
   "id": "b9abfaf7",
   "metadata": {},
   "outputs": [],
   "source": [
    "# selective layers to extract\n",
    "layers_to_extract = [ \"dense\", \"dense_1\", \"dense_2\"]"
   ]
  },
  {
   "cell_type": "code",
   "execution_count": 197,
   "id": "b7ebc68c",
   "metadata": {},
   "outputs": [],
   "source": [
    "# getting the weights and activation of layer\n",
    "\n",
    "params, activations = get_weights_and_activation(layers_to_extract, new_model)\n"
   ]
  },
  {
   "cell_type": "code",
   "execution_count": 198,
   "id": "66ab6278",
   "metadata": {},
   "outputs": [],
   "source": [
    "# creating the model and graph from init_model_with_graph\n",
    "\n",
    "mod, mod_graph = init_model_with_graph(\"keras_to_MDF\", \"Keras_to_MDF_graph\")"
   ]
  },
  {
   "cell_type": "code",
   "execution_count": 199,
   "id": "f964cb94",
   "metadata": {},
   "outputs": [
    {
     "data": {
      "text/plain": [
       "(None, 16)"
      ]
     },
     "execution_count": 199,
     "metadata": {},
     "output_type": "execute_result"
    }
   ],
   "source": [
    "#checking the input shape of the first dense layer of the keras model\n",
    "new_model.layers[1].input_shape"
   ]
  },
  {
   "cell_type": "code",
   "execution_count": 200,
   "id": "7407a584",
   "metadata": {},
   "outputs": [],
   "source": [
    "# defining the target vector\n",
    "\n",
    "input = np.array(([1,0,1,1], [1,0,0,1], [1,0,1,0], [1,0,0,0]), dtype=float)\n"
   ]
  },
  {
   "cell_type": "code",
   "execution_count": 201,
   "id": "22efbcb7",
   "metadata": {},
   "outputs": [],
   "source": [
    "# create input node for the mdf model\n",
    "\n",
    "input_node = create_input_node(\"input_node\", input)\n",
    "\n",
    "# append the input node to the graph\n",
    "\n",
    "mod_graph.nodes.append(input_node)\n",
    "\n"
   ]
  },
  {
   "cell_type": "markdown",
   "id": "fe06474d",
   "metadata": {},
   "source": [
    "### Create First Dense Node of the model"
   ]
  },
  {
   "cell_type": "code",
   "execution_count": 202,
   "id": "36b0f237",
   "metadata": {},
   "outputs": [],
   "source": [
    "# get weights and bias for the first dense node\n",
    "weights = params[\"dense\"][\"weights\"]\n",
    "bias = params[\"dense\"][\"bias\"]\n",
    "\n",
    "# create first dense node of the model\n",
    "dense_node = create_dense_node(\"dense_node\", weights, bias)\n",
    "\n",
    "#append the dense node to the graph\n",
    "mod_graph.nodes.append(dense_node)\n"
   ]
  },
  {
   "cell_type": "markdown",
   "id": "c17e6773",
   "metadata": {},
   "source": [
    "### Create First Activation Node for the model"
   ]
  },
  {
   "cell_type": "code",
   "execution_count": 203,
   "id": "fd8cd600",
   "metadata": {},
   "outputs": [],
   "source": [
    "#create activation on the first dense node\n",
    "activation_node = create_activation_node(\"activation_node\",  activations[0])\n",
    "\n",
    "#append the activation node to the graph\n",
    "mod_graph.nodes.append(activation_node)\n",
    "\n"
   ]
  },
  {
   "cell_type": "markdown",
   "id": "95f82be7",
   "metadata": {},
   "source": [
    "### Create Second Dense Node"
   ]
  },
  {
   "cell_type": "code",
   "execution_count": 204,
   "id": "dbaf996e",
   "metadata": {},
   "outputs": [],
   "source": [
    "# get weights and bias for the first dense node\n",
    "weights_1 = params[\"dense_1\"][\"weights\"]\n",
    "bias_1= params[\"dense_1\"][\"bias\"]\n",
    "\n",
    "#create second dense noe\n",
    "dense1_node = create_dense_node(\"dense1_node\", weights_1, bias_1)\n",
    "\n",
    "#append second dense node to the graph\n",
    "mod_graph.nodes.append(dense1_node)"
   ]
  },
  {
   "cell_type": "markdown",
   "id": "d0ecc189",
   "metadata": {},
   "source": [
    "### Create Second activation Node"
   ]
  },
  {
   "cell_type": "code",
   "execution_count": 205,
   "id": "0eaf6bac",
   "metadata": {},
   "outputs": [],
   "source": [
    "#create activation on the second dense node\n",
    "activation1_node = create_activation_node(\"activation1_node\",  activations[1])\n",
    "\n",
    "#append the second activation node to the graph\n",
    "mod_graph.nodes.append(activation1_node)\n",
    "\n"
   ]
  },
  {
   "cell_type": "markdown",
   "id": "2e7141e0",
   "metadata": {},
   "source": [
    "### Create the third Dense Node"
   ]
  },
  {
   "cell_type": "code",
   "execution_count": 206,
   "id": "4cc6f6f7",
   "metadata": {},
   "outputs": [],
   "source": [
    "# get weights and bias for the first dense node\n",
    "weights_2 = params[\"dense_2\"][\"weights\"]\n",
    "bias_2 = params[\"dense_2\"][\"bias\"]\n",
    "\n",
    "#create the third dense node\n",
    "dense2_node = create_dense_node(\"dense2_node\", weights_2, bias_2)\n",
    "\n",
    "#append the third dense node to the graph\n",
    "mod_graph.nodes.append(dense2_node)"
   ]
  },
  {
   "cell_type": "markdown",
   "id": "487b0940",
   "metadata": {},
   "source": [
    "### Create Third Activation Node"
   ]
  },
  {
   "cell_type": "code",
   "execution_count": 207,
   "id": "c3ffcb81",
   "metadata": {},
   "outputs": [],
   "source": [
    "#create actiuvation on the third dense node\n",
    "activation2_node = create_activation_node(\"activation2_node\",  activations[2])\n",
    "\n",
    "#append the activation to the node\n",
    "mod_graph.nodes.append(activation2_node)\n"
   ]
  },
  {
   "cell_type": "markdown",
   "id": "20aab757",
   "metadata": {},
   "source": [
    "### Create connections between the Nodes \n"
   ]
  },
  {
   "cell_type": "code",
   "execution_count": 208,
   "id": "787a0533",
   "metadata": {},
   "outputs": [],
   "source": [
    "e1 = simple_connect(input_node, dense_node, mod_graph)\n",
    "e2 = simple_connect(dense_node, activation_node, mod_graph)\n",
    "e3 = simple_connect(activation_node, dense1_node, mod_graph)\n",
    "e4 = simple_connect(dense1_node, activation1_node, mod_graph)\n",
    "e5 = simple_connect(activation1_node, dense2_node, mod_graph)\n",
    "e6 = simple_connect(dense2_node, activation2_node, mod_graph)"
   ]
  },
  {
   "cell_type": "markdown",
   "id": "1bcacea9",
   "metadata": {},
   "source": [
    "### Generate Graph Image of the Model"
   ]
  },
  {
   "cell_type": "code",
   "execution_count": 209,
   "id": "b011bad4",
   "metadata": {},
   "outputs": [
    {
     "name": "stdout",
     "output_type": "stream",
     "text": [
      "Converting MDF graph: Keras_to_MDF_graph to graphviz (level: 1, format: png)\n",
      "    Node: input_node\n",
      "    Node: dense_node\n",
      "    Node: activation_node\n",
      "    Node: dense1_node\n",
      "    Node: activation1_node\n",
      "    Node: dense2_node\n",
      "    Node: activation2_node\n",
      "    Edge: edge_input_node_dense_node connects input_node to dense_node\n",
      "    Edge: edge_dense_node_activation_node connects dense_node to activation_node\n",
      "    Edge: edge_activation_node_dense1_node connects activation_node to dense1_node\n",
      "    Edge: edge_dense1_node_activation1_node connects dense1_node to activation1_node\n",
      "    Edge: edge_activation1_node_dense2_node connects activation1_node to dense2_node\n",
      "    Edge: edge_dense2_node_activation2_node connects dense2_node to activation2_node\n",
      "Written graph image to: keras_to_MDF.png\n"
     ]
    },
    {
     "data": {
      "image/png": "[encoded data removed]",
      "text/plain": [
       "<IPython.core.display.Image object>"
      ]
     },
     "execution_count": 209,
     "metadata": {},
     "output_type": "execute_result"
    }
   ],
   "source": [
    "mod.to_graph_image(\n",
    "        engine=\"dot\",\n",
    "        output_format=\"png\",\n",
    "        view_on_render=False,\n",
    "        level=1,\n",
    "        filename_root=\"keras_to_MDF\",\n",
    "        is_horizontal=True\n",
    "    )\n",
    "\n",
    "from IPython.display import Image\n",
    "Image(filename=\"Keras_to_MDF.png\")\n"
   ]
  },
  {
   "cell_type": "markdown",
   "id": "83c7411b",
   "metadata": {},
   "source": [
    "### Evaluating the model"
   ]
  },
  {
   "cell_type": "code",
   "execution_count": 210,
   "id": "86287c5f",
   "metadata": {},
   "outputs": [
    {
     "name": "stdout",
     "output_type": "stream",
     "text": [
      "\n",
      "Init graph: Keras_to_MDF_graph\n",
      "Evaluating graph: Keras_to_MDF_graph, root nodes: ['input_node'], with array format numpy\n"
     ]
    }
   ],
   "source": [
    "eg = EvaluableGraph(mod_graph, verbose=False)\n",
    "\n",
    "# evaluating the model \n",
    "eg.evaluate()"
   ]
  },
  {
   "cell_type": "code",
   "execution_count": 211,
   "id": "ebdea2cc",
   "metadata": {},
   "outputs": [],
   "source": [
    "# get mdf prediction\n",
    "\n",
    "mdf_prediction = eg.enodes[\"activation2_node\"].evaluable_outputs[\"activation2_node_out\"].curr_value"
   ]
  },
  {
   "cell_type": "code",
   "execution_count": 212,
   "id": "ab5bd49b",
   "metadata": {},
   "outputs": [],
   "source": [
    "# mdf prediction\n",
    "mdf_prediction = mdf_prediction.round()"
   ]
  },
  {
   "cell_type": "code",
   "execution_count": 213,
   "id": "533c8225",
   "metadata": {},
   "outputs": [
    {
     "data": {
      "text/plain": [
       "array([1, 0, 1, 0], dtype=int64)"
      ]
     },
     "execution_count": 213,
     "metadata": {},
     "output_type": "execute_result"
    }
   ],
   "source": [
    "mdf_pred = np.argmax(mdf_prediction, axis= 1)\n",
    "mdf_pred"
   ]
  },
  {
   "cell_type": "code",
   "execution_count": 220,
   "id": "7c028a0b",
   "metadata": {},
   "outputs": [
    {
     "name": "stdout",
     "output_type": "stream",
     "text": [
      "1/1 [==============================] - 0s 41ms/step\n"
     ]
    }
   ],
   "source": [
    "keras_prediction = new_model.predict(input_value)"
   ]
  },
  {
   "cell_type": "code",
   "execution_count": 221,
   "id": "fc2edafa",
   "metadata": {},
   "outputs": [
    {
     "data": {
      "text/plain": [
       "array([[1.],\n",
       "       [0.],\n",
       "       [0.],\n",
       "       [1.]], dtype=float32)"
      ]
     },
     "execution_count": 221,
     "metadata": {},
     "output_type": "execute_result"
    }
   ],
   "source": [
    "keras_prediction.round()"
   ]
  },
  {
   "cell_type": "code",
   "execution_count": null,
   "id": "911e682a",
   "metadata": {},
   "outputs": [],
   "source": []
  }
 ],
 "metadata": {
  "kernelspec": {
   "display_name": "Python 3 (ipykernel)",
   "language": "python",
   "name": "python3"
  },
  "language_info": {
   "codemirror_mode": {
    "name": "ipython",
    "version": 3
   },
   "file_extension": ".py",
   "mimetype": "text/x-python",
   "name": "python",
   "nbconvert_exporter": "python",
   "pygments_lexer": "ipython3",
   "version": "3.9.16"
  }
 },
 "nbformat": 4,
 "nbformat_minor": 5
}
