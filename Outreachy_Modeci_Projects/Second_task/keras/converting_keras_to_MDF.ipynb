{
 "cells": [
  {
   "cell_type": "markdown",
   "id": "380ce8bf",
   "metadata": {},
   "source": [
    "### Importing Libraries"
   ]
  },
  {
   "cell_type": "code",
   "execution_count": 1,
   "id": "96c07233",
   "metadata": {},
   "outputs": [],
   "source": [
    "import numpy as np\n",
    "from modeci_mdf.utils import simple_connect\n",
    "from modeci_mdf.mdf import *\n",
    "from modeci_mdf.execution_engine import EvaluableGraph\n",
    "from modeci_mdf.utils import simple_connect\n",
    "import graph_scheduler\n"
   ]
  },
  {
   "cell_type": "markdown",
   "id": "e8171fb9",
   "metadata": {},
   "source": [
    "### Importing MDF libraries"
   ]
  },
  {
   "cell_type": "code",
   "execution_count": 2,
   "id": "44e1fc2b",
   "metadata": {},
   "outputs": [],
   "source": [
    "from tensorflow.keras.models import load_model\n",
    "import tensorflow as tf\n",
    "from tensorflow import keras\n",
    "\n"
   ]
  },
  {
   "cell_type": "markdown",
   "id": "b1564641",
   "metadata": {},
   "source": [
    "### Importing helper functions"
   ]
  },
  {
   "cell_type": "code",
   "execution_count": 3,
   "id": "236402a1",
   "metadata": {},
   "outputs": [],
   "source": [
    "from Keras_MDF import *"
   ]
  },
  {
   "cell_type": "markdown",
   "id": "23a56a8b",
   "metadata": {},
   "source": [
    "###  Loading the model and printing out the layers "
   ]
  },
  {
   "cell_type": "code",
   "execution_count": 40,
   "id": "60508ea3",
   "metadata": {},
   "outputs": [
    {
     "name": "stdout",
     "output_type": "stream",
     "text": [
      "dense\n",
      "dense_1\n",
      "dense_2\n",
      "dense_3\n"
     ]
    }
   ],
   "source": [
    "new_model = tf.keras.models.load_model(\"model.h5\")\n",
    "for x in new_model.layers:\n",
    "    print(x.name)\n",
    "\n"
   ]
  },
  {
   "cell_type": "markdown",
   "id": "ae9eb92b",
   "metadata": {},
   "source": [
    "### Selective layers which will be used in MDF model"
   ]
  },
  {
   "cell_type": "code",
   "execution_count": 85,
   "id": "d88a1226",
   "metadata": {},
   "outputs": [],
   "source": [
    "layers_to_extract = [ \"dense\", \"dense_1\", \"dense_2\"]"
   ]
  },
  {
   "cell_type": "markdown",
   "id": "52bf4485",
   "metadata": {},
   "source": [
    "### Getting the weight and activation of layer"
   ]
  },
  {
   "cell_type": "code",
   "execution_count": 86,
   "id": "960997ba",
   "metadata": {},
   "outputs": [],
   "source": [
    "params, activations = get_weights_and_activation(layers_to_extract, new_model)\n"
   ]
  },
  {
   "cell_type": "markdown",
   "id": "7090960a",
   "metadata": {},
   "source": [
    "### Viewing the weights of the model"
   ]
  },
  {
   "cell_type": "code",
   "execution_count": 87,
   "id": "02b6cefc",
   "metadata": {},
   "outputs": [
    {
     "data": {
      "text/plain": [
       "[array([[ 0.10398559, -0.52907103, -0.5763342 , -0.42851037, -0.04213673,\n",
       "          0.13919373, -0.45565033, -0.12160711,  0.65372306, -0.44640994,\n",
       "          0.54915607, -0.3764851 ],\n",
       "        [-0.4265113 , -0.55738515,  0.44082814, -0.5989884 , -0.59382963,\n",
       "          0.68513244, -0.18171296,  0.18477757,  0.36108476,  0.360938  ,\n",
       "          0.6259903 , -0.28624615],\n",
       "        [ 0.09505785,  0.09689969, -0.45767173,  0.1257245 ,  0.40503317,\n",
       "          0.8595235 , -0.3624527 , -0.24859744,  0.36286658, -0.4621262 ,\n",
       "         -0.29659566, -0.37829697],\n",
       "        [ 0.44957379,  0.3258949 , -0.52011794,  0.07935911,  0.14579469,\n",
       "          0.09530878, -0.5674388 , -0.56147987, -0.25999516,  0.34693575,\n",
       "         -0.6629996 , -0.40959406]], dtype=float32),\n",
       " array([ 0.02978562,  0.        ,  0.        ,  0.        , -0.1130906 ,\n",
       "         0.11993016,  0.        , -0.09276331, -0.12388226,  0.08502758,\n",
       "         0.1135751 ,  0.        ], dtype=float32),\n",
       " array([[-0.18656065, -0.04099801, -0.4067576 ,  0.15045066, -0.14560755,\n",
       "         -0.28881654, -0.02535675, -0.7121998 ],\n",
       "        [ 0.23638237, -0.19268316,  0.26347256, -0.46185064, -0.15620035,\n",
       "         -0.4740685 , -0.0436902 , -0.09526196],\n",
       "        [-0.17750019, -0.15515998, -0.30633312,  0.3546961 , -0.4396546 ,\n",
       "         -0.50559354,  0.3827123 ,  0.28577125],\n",
       "        [ 0.21056867,  0.23090059, -0.40294468,  0.16565555, -0.13138044,\n",
       "         -0.05000329, -0.1436739 ,  0.14400667],\n",
       "        [-0.57432276, -0.52843654, -0.42768338, -0.18261397, -0.25179872,\n",
       "          0.39264372, -0.14302056,  0.29450426],\n",
       "        [-0.04373426,  0.5726967 , -0.3144406 ,  0.22757463,  0.3901907 ,\n",
       "          0.5810178 , -0.21977608,  0.48086986],\n",
       "        [ 0.4886825 , -0.41601557,  0.49234653, -0.4105194 , -0.01764363,\n",
       "          0.52862716, -0.11636317, -0.16158736],\n",
       "        [-0.1309938 ,  0.30471602,  0.08662766,  0.29550713, -0.34580997,\n",
       "         -0.25730827, -0.3127853 , -0.18649839],\n",
       "        [ 0.6612839 , -0.52220285, -0.36677867, -0.53472555,  0.7053203 ,\n",
       "          0.609105  ,  0.21930376,  0.2428671 ],\n",
       "        [ 0.18287124,  0.28156793,  0.2062611 , -0.04705162, -0.2755207 ,\n",
       "         -0.64869094, -0.21237507,  0.34228745],\n",
       "        [ 0.27572128, -0.00373628,  0.05305731, -0.11122315,  0.5118844 ,\n",
       "         -0.13392796, -0.3897965 ,  0.71192676],\n",
       "        [ 0.27434564,  0.5218241 ,  0.2579149 , -0.31208038, -0.24248978,\n",
       "          0.3525175 ,  0.35825604,  0.41058874]], dtype=float32),\n",
       " array([-0.11693788,  0.19391286,  0.        , -0.16743194, -0.19851318,\n",
       "        -0.00226114, -0.03576305,  0.14592917], dtype=float32),\n",
       " array([[ 0.02957501, -0.22265734,  0.867579  , -0.25658226, -0.08251969,\n",
       "          0.5532603 , -0.33851004, -0.6235838 ],\n",
       "        [ 0.24157731, -0.2289763 , -0.23375924, -0.07564503,  0.6943949 ,\n",
       "         -0.33542058,  0.30809277,  0.8551298 ],\n",
       "        [ 0.29159373, -0.17279026,  0.1797694 ,  0.27226466, -0.29301476,\n",
       "         -0.28533626,  0.26546526,  0.06177533],\n",
       "        [ 0.3157107 , -0.2540043 ,  0.45442408, -0.45917335,  0.10921816,\n",
       "         -0.5403601 , -0.08924447, -0.17981064],\n",
       "        [ 0.5208179 ,  0.87159866,  0.38507062,  0.32877314, -0.6196501 ,\n",
       "         -0.43784258, -0.20418285, -0.11795679],\n",
       "        [ 0.80903757,  0.26108375,  0.8361587 , -0.48042613, -0.09270058,\n",
       "          0.19048397, -0.05528868, -0.73735756],\n",
       "        [-0.11472408,  0.3107385 ,  0.05775063,  0.5309476 ,  0.59487396,\n",
       "         -0.60601646, -0.04924542,  0.29886454],\n",
       "        [ 0.38388482,  0.4484387 ,  0.7164425 , -0.514036  ,  0.3458156 ,\n",
       "         -0.5697808 ,  0.14881243,  0.60098004]], dtype=float32),\n",
       " array([-0.2737543 , -0.17582853, -0.3659017 ,  0.        ,  0.33810765,\n",
       "        -0.01596966,  0.27703658,  0.15934998], dtype=float32),\n",
       " array([[-0.25347453],\n",
       "        [-0.61508834],\n",
       "        [-0.621763  ],\n",
       "        [ 0.75520515],\n",
       "        [ 0.3458983 ],\n",
       "        [-0.38110682],\n",
       "        [ 0.6729483 ],\n",
       "        [ 0.80203384]], dtype=float32),\n",
       " array([0.4287883], dtype=float32)]"
      ]
     },
     "execution_count": 87,
     "metadata": {},
     "output_type": "execute_result"
    }
   ],
   "source": [
    "#View Weights of the Model\n",
    "new_model.get_weights()\n"
   ]
  },
  {
   "cell_type": "markdown",
   "id": "826dad5e",
   "metadata": {},
   "source": [
    "### Getting the weight and parameter"
   ]
  },
  {
   "cell_type": "code",
   "execution_count": 88,
   "id": "b9c127fb",
   "metadata": {},
   "outputs": [],
   "source": [
    "weights = new_model.layers[1].get_weights()[1]\n",
    "bias = new_model.layers[0].get_weights()\n"
   ]
  },
  {
   "cell_type": "markdown",
   "id": "b5a2c7e5",
   "metadata": {},
   "source": [
    "### Fetching the model and graph from the python file\n"
   ]
  },
  {
   "cell_type": "code",
   "execution_count": 89,
   "id": "0df2c35b",
   "metadata": {},
   "outputs": [],
   "source": [
    "mod, mod_graph = init_model_with_graph(\"keras_to_MDF\", \"Keras_to_MDF_graph\")"
   ]
  },
  {
   "cell_type": "markdown",
   "id": "8d5e7cb0",
   "metadata": {},
   "source": [
    "### input node"
   ]
  },
  {
   "cell_type": "code",
   "execution_count": 90,
   "id": "3bb07962",
   "metadata": {},
   "outputs": [
    {
     "name": "stdout",
     "output_type": "stream",
     "text": [
      "Keras_to_MDF_graph:\n",
      "    nodes:\n",
      "        input_node:\n",
      "            parameters:\n",
      "                input_node_in:\n",
      "                    value:\n",
      "                    - 2.0\n",
      "            output_ports:\n",
      "                input_node_out:\n",
      "                    value: input_node_in\n",
      "\n"
     ]
    }
   ],
   "source": [
    "input_node = create_input_node(\"input_node\", [2.0])\n",
    "mod_graph.nodes.append(input_node)\n",
    "print(mod_graph.to_yaml())\n"
   ]
  },
  {
   "cell_type": "markdown",
   "id": "8dcedf2f",
   "metadata": {},
   "source": [
    "### Dense node"
   ]
  },
  {
   "cell_type": "code",
   "execution_count": 91,
   "id": "39484624",
   "metadata": {},
   "outputs": [
    {
     "name": "stdout",
     "output_type": "stream",
     "text": [
      "Keras_to_MDF_graph:\n",
      "    nodes:\n",
      "        input_node:\n",
      "            parameters:\n",
      "                input_node_in:\n",
      "                    value:\n",
      "                    - 2.0\n",
      "            output_ports:\n",
      "                input_node_out:\n",
      "                    value: input_node_in\n",
      "        dense_node:\n",
      "            input_ports:\n",
      "                dense_node_in: {}\n",
      "            parameters:\n",
      "                wgts:\n",
      "                    value:\n",
      "                    - -0.11693787574768066\n",
      "                    - 0.19391286373138428\n",
      "                    - 0.0\n",
      "                    - -0.16743193566799164\n",
      "                    - -0.1985131800174713\n",
      "                    - -0.002261135959997773\n",
      "                    - -0.03576304763555527\n",
      "                    - 0.14592917263507843\n",
      "                bias:\n",
      "                    value:\n",
      "                    -   -   - 0.10398559272289276\n",
      "                            - -0.529071033000946\n",
      "                            - -0.5763341784477234\n",
      "                            - -0.4285103678703308\n",
      "                            - -0.042136725038290024\n",
      "                            - 0.13919372856616974\n",
      "                            - -0.45565032958984375\n",
      "                            - -0.12160710990428925\n",
      "                            - 0.6537230610847473\n",
      "                            - -0.4464099407196045\n",
      "                            - 0.5491560697555542\n",
      "                            - -0.37648510932922363\n",
      "                        -   - -0.426511287689209\n",
      "                            - -0.5573851466178894\n",
      "                            - 0.4408281445503235\n",
      "                            - -0.59898841381073\n",
      "                            - -0.5938296318054199\n",
      "                            - 0.6851324439048767\n",
      "                            - -0.18171295523643494\n",
      "                            - 0.18477757275104523\n",
      "                            - 0.3610847592353821\n",
      "                            - 0.36093801259994507\n",
      "                            - 0.6259902715682983\n",
      "                            - -0.2862461507320404\n",
      "                        -   - 0.09505784511566162\n",
      "                            - 0.09689968824386597\n",
      "                            - -0.45767173171043396\n",
      "                            - 0.12572449445724487\n",
      "                            - 0.4050331711769104\n",
      "                            - 0.8595234751701355\n",
      "                            - -0.3624526858329773\n",
      "                            - -0.24859744310379028\n",
      "                            - 0.3628665804862976\n",
      "                            - -0.4621261954307556\n",
      "                            - -0.29659566283226013\n",
      "                            - -0.37829697132110596\n",
      "                        -   - 0.4495737850666046\n",
      "                            - 0.32589489221572876\n",
      "                            - -0.5201179385185242\n",
      "                            - 0.07935911417007446\n",
      "                            - 0.14579468965530396\n",
      "                            - 0.09530878067016602\n",
      "                            - -0.5674387812614441\n",
      "                            - -0.5614798665046692\n",
      "                            - -0.25999516248703003\n",
      "                            - 0.3469357490539551\n",
      "                            - -0.6629995703697205\n",
      "                            - -0.4095940589904785\n",
      "                    -   - 0.02978561632335186\n",
      "                        - 0.0\n",
      "                        - 0.0\n",
      "                        - 0.0\n",
      "                        - -0.11309060454368591\n",
      "                        - 0.11993015557527542\n",
      "                        - 0.0\n",
      "                        - -0.09276331216096878\n",
      "                        - -0.12388225644826889\n",
      "                        - 0.08502758294343948\n",
      "                        - 0.11357510089874268\n",
      "                        - 0.0\n",
      "                Output:\n",
      "                    value: (dense_node_in @ wgts) + bias\n",
      "            output_ports:\n",
      "                dense_node_out:\n",
      "                    value: Output\n",
      "\n"
     ]
    }
   ],
   "source": [
    "node = create_dense_node(\"dense_node\", weights, bias)\n",
    "mod_graph.nodes.append(node)\n",
    "print(mod_graph.to_yaml())\n"
   ]
  },
  {
   "cell_type": "markdown",
   "id": "92f0c501",
   "metadata": {},
   "source": [
    "### Activation node"
   ]
  },
  {
   "cell_type": "code",
   "execution_count": 92,
   "id": "5ee9c828",
   "metadata": {},
   "outputs": [
    {
     "name": "stdout",
     "output_type": "stream",
     "text": [
      "Keras_to_MDF_graph:\n",
      "    nodes:\n",
      "        input_node:\n",
      "            parameters:\n",
      "                input_node_in:\n",
      "                    value:\n",
      "                    - 2.0\n",
      "            output_ports:\n",
      "                input_node_out:\n",
      "                    value: input_node_in\n",
      "        dense_node:\n",
      "            input_ports:\n",
      "                dense_node_in: {}\n",
      "            parameters:\n",
      "                wgts:\n",
      "                    value:\n",
      "                    - -0.11693787574768066\n",
      "                    - 0.19391286373138428\n",
      "                    - 0.0\n",
      "                    - -0.16743193566799164\n",
      "                    - -0.1985131800174713\n",
      "                    - -0.002261135959997773\n",
      "                    - -0.03576304763555527\n",
      "                    - 0.14592917263507843\n",
      "                bias:\n",
      "                    value:\n",
      "                    -   -   - 0.10398559272289276\n",
      "                            - -0.529071033000946\n",
      "                            - -0.5763341784477234\n",
      "                            - -0.4285103678703308\n",
      "                            - -0.042136725038290024\n",
      "                            - 0.13919372856616974\n",
      "                            - -0.45565032958984375\n",
      "                            - -0.12160710990428925\n",
      "                            - 0.6537230610847473\n",
      "                            - -0.4464099407196045\n",
      "                            - 0.5491560697555542\n",
      "                            - -0.37648510932922363\n",
      "                        -   - -0.426511287689209\n",
      "                            - -0.5573851466178894\n",
      "                            - 0.4408281445503235\n",
      "                            - -0.59898841381073\n",
      "                            - -0.5938296318054199\n",
      "                            - 0.6851324439048767\n",
      "                            - -0.18171295523643494\n",
      "                            - 0.18477757275104523\n",
      "                            - 0.3610847592353821\n",
      "                            - 0.36093801259994507\n",
      "                            - 0.6259902715682983\n",
      "                            - -0.2862461507320404\n",
      "                        -   - 0.09505784511566162\n",
      "                            - 0.09689968824386597\n",
      "                            - -0.45767173171043396\n",
      "                            - 0.12572449445724487\n",
      "                            - 0.4050331711769104\n",
      "                            - 0.8595234751701355\n",
      "                            - -0.3624526858329773\n",
      "                            - -0.24859744310379028\n",
      "                            - 0.3628665804862976\n",
      "                            - -0.4621261954307556\n",
      "                            - -0.29659566283226013\n",
      "                            - -0.37829697132110596\n",
      "                        -   - 0.4495737850666046\n",
      "                            - 0.32589489221572876\n",
      "                            - -0.5201179385185242\n",
      "                            - 0.07935911417007446\n",
      "                            - 0.14579468965530396\n",
      "                            - 0.09530878067016602\n",
      "                            - -0.5674387812614441\n",
      "                            - -0.5614798665046692\n",
      "                            - -0.25999516248703003\n",
      "                            - 0.3469357490539551\n",
      "                            - -0.6629995703697205\n",
      "                            - -0.4095940589904785\n",
      "                    -   - 0.02978561632335186\n",
      "                        - 0.0\n",
      "                        - 0.0\n",
      "                        - 0.0\n",
      "                        - -0.11309060454368591\n",
      "                        - 0.11993015557527542\n",
      "                        - 0.0\n",
      "                        - -0.09276331216096878\n",
      "                        - -0.12388225644826889\n",
      "                        - 0.08502758294343948\n",
      "                        - 0.11357510089874268\n",
      "                        - 0.0\n",
      "                Output:\n",
      "                    value: (dense_node_in @ wgts) + bias\n",
      "            output_ports:\n",
      "                dense_node_out:\n",
      "                    value: Output\n",
      "        activation_node:\n",
      "            input_ports:\n",
      "                activation_node_in: {}\n",
      "            functions:\n",
      "                exp:\n",
      "                    function: exponential\n",
      "                    args:\n",
      "                        variable0: pos_in\n",
      "                        scale: 1\n",
      "                        rate: 1\n",
      "                        bias: 0\n",
      "                        offset: 0\n",
      "                output:\n",
      "                    value: 1 / (1 + exp)\n",
      "            parameters:\n",
      "                pos_in:\n",
      "                    value: activation_node_in\n",
      "            output_ports:\n",
      "                activation_node_out:\n",
      "                    value: Output\n",
      "\n"
     ]
    }
   ],
   "source": [
    "activation = create_activation_node(\"activation_node\", \"sigmoid\")\n",
    "mod_graph.nodes.append(activation)\n",
    "print(mod_graph.to_yaml())\n",
    "\n"
   ]
  },
  {
   "cell_type": "code",
   "execution_count": 93,
   "id": "0ad5f8fe",
   "metadata": {},
   "outputs": [
    {
     "name": "stdout",
     "output_type": "stream",
     "text": [
      "\n",
      "Init graph: Keras_to_MDF_graph\n"
     ]
    }
   ],
   "source": [
    "eg = EvaluableGraph(mod_graph, verbose=False)"
   ]
  },
  {
   "cell_type": "markdown",
   "id": "734d546b",
   "metadata": {},
   "source": [
    "### Evaluating the current value of each of the nodes"
   ]
  },
  {
   "cell_type": "code",
   "execution_count": 94,
   "id": "e1cc4971",
   "metadata": {},
   "outputs": [],
   "source": [
    "eg.enodes[\"dense_node\"].evaluable_outputs[f\"{'dense_node'}_out\"].curr_value"
   ]
  },
  {
   "cell_type": "code",
   "execution_count": 95,
   "id": "4fe6ff83",
   "metadata": {},
   "outputs": [],
   "source": [
    "eg.enodes[\"input_node\"].evaluable_outputs[f\"{'input_node'}_out\"].curr_value"
   ]
  },
  {
   "cell_type": "code",
   "execution_count": 96,
   "id": "edc31c95",
   "metadata": {},
   "outputs": [],
   "source": [
    "eg.enodes[\"activation_node\"].evaluable_outputs[f\"{'activation_node'}_out\"].curr_value"
   ]
  },
  {
   "cell_type": "markdown",
   "id": "dbe0a687",
   "metadata": {},
   "source": [
    "### Saving the model to file"
   ]
  },
  {
   "cell_type": "code",
   "execution_count": 97,
   "id": "586336c5",
   "metadata": {},
   "outputs": [
    {
     "data": {
      "text/plain": [
       "'keras_to_MDF.json'"
      ]
     },
     "execution_count": 97,
     "metadata": {},
     "output_type": "execute_result"
    }
   ],
   "source": [
    "mod.to_json_file(\"keras_to_MDF.json\")\n"
   ]
  },
  {
   "cell_type": "code",
   "execution_count": 98,
   "id": "a1d1605a",
   "metadata": {},
   "outputs": [
    {
     "data": {
      "text/plain": [
       "'keras_to_MDF.yaml'"
      ]
     },
     "execution_count": 98,
     "metadata": {},
     "output_type": "execute_result"
    }
   ],
   "source": [
    "mod.to_yaml_file(\"keras_to_MDF.yaml\")\n"
   ]
  },
  {
   "cell_type": "markdown",
   "id": "eaba800d",
   "metadata": {},
   "source": [
    "### Generating the graph of the model"
   ]
  },
  {
   "cell_type": "code",
   "execution_count": 103,
   "id": "bd3a2d3e",
   "metadata": {},
   "outputs": [
    {
     "name": "stdout",
     "output_type": "stream",
     "text": [
      "Converting MDF graph: Keras_to_MDF_graph to graphviz (level: 3, format: png)\n",
      "    Node: input_node\n",
      "    Node: dense_node\n"
     ]
    },
    {
     "ename": "AttributeError",
     "evalue": "'Parameter' object has no attribute 'shape'",
     "output_type": "error",
     "traceback": [
      "\u001b[1;31m---------------------------------------------------------------------------\u001b[0m",
      "\u001b[1;31mAttributeError\u001b[0m                            Traceback (most recent call last)",
      "Cell \u001b[1;32mIn[103], line 1\u001b[0m\n\u001b[1;32m----> 1\u001b[0m \u001b[43mmod\u001b[49m\u001b[38;5;241;43m.\u001b[39;49m\u001b[43mto_graph_image\u001b[49m\u001b[43m(\u001b[49m\n\u001b[0;32m      2\u001b[0m \u001b[43m        \u001b[49m\u001b[43mengine\u001b[49m\u001b[38;5;241;43m=\u001b[39;49m\u001b[38;5;124;43m\"\u001b[39;49m\u001b[38;5;124;43mdot\u001b[39;49m\u001b[38;5;124;43m\"\u001b[39;49m\u001b[43m,\u001b[49m\n\u001b[0;32m      3\u001b[0m \u001b[43m        \u001b[49m\u001b[43moutput_format\u001b[49m\u001b[38;5;241;43m=\u001b[39;49m\u001b[38;5;124;43m\"\u001b[39;49m\u001b[38;5;124;43mpng\u001b[39;49m\u001b[38;5;124;43m\"\u001b[39;49m\u001b[43m,\u001b[49m\n\u001b[0;32m      4\u001b[0m \u001b[43m        \u001b[49m\u001b[43mview_on_render\u001b[49m\u001b[38;5;241;43m=\u001b[39;49m\u001b[38;5;28;43;01mFalse\u001b[39;49;00m\u001b[43m,\u001b[49m\n\u001b[0;32m      5\u001b[0m \u001b[43m        \u001b[49m\u001b[43mlevel\u001b[49m\u001b[38;5;241;43m=\u001b[39;49m\u001b[38;5;241;43m3\u001b[39;49m\u001b[43m,\u001b[49m\n\u001b[0;32m      6\u001b[0m \u001b[43m        \u001b[49m\u001b[43mfilename_root\u001b[49m\u001b[38;5;241;43m=\u001b[39;49m\u001b[38;5;124;43m\"\u001b[39;49m\u001b[38;5;124;43mkeras_to_MDF\u001b[39;49m\u001b[38;5;124;43m\"\u001b[39;49m\u001b[43m,\u001b[49m\n\u001b[0;32m      7\u001b[0m \u001b[43m        \u001b[49m\u001b[43mis_horizontal\u001b[49m\u001b[38;5;241;43m=\u001b[39;49m\u001b[38;5;28;43;01mTrue\u001b[39;49;00m\n\u001b[0;32m      8\u001b[0m \u001b[43m    \u001b[49m\u001b[43m)\u001b[49m\n\u001b[0;32m     10\u001b[0m \u001b[38;5;28;01mfrom\u001b[39;00m \u001b[38;5;21;01mIPython\u001b[39;00m\u001b[38;5;21;01m.\u001b[39;00m\u001b[38;5;21;01mdisplay\u001b[39;00m \u001b[38;5;28;01mimport\u001b[39;00m Image\n\u001b[0;32m     11\u001b[0m Image(filename\u001b[38;5;241m=\u001b[39m\u001b[38;5;124m\"\u001b[39m\u001b[38;5;124mKeras_to_MDF_Example.png\u001b[39m\u001b[38;5;124m\"\u001b[39m)\n",
      "File \u001b[1;32m~\\anaconda3\\envs\\mdf-env\\lib\\site-packages\\modeci_mdf\\mdf.py:573\u001b[0m, in \u001b[0;36mModel.to_graph_image\u001b[1;34m(self, engine, output_format, view_on_render, level, filename_root, only_warn_on_fail, is_horizontal)\u001b[0m\n\u001b[0;32m    568\u001b[0m     \u001b[38;5;28mprint\u001b[39m(\n\u001b[0;32m    569\u001b[0m         \u001b[38;5;124m\"\u001b[39m\u001b[38;5;124mFailure to generate image! Ensure Graphviz executables (dot etc.) are installed on native system. Error: \u001b[39m\u001b[38;5;130;01m\\n\u001b[39;00m\u001b[38;5;132;01m%s\u001b[39;00m\u001b[38;5;124m\"\u001b[39m\n\u001b[0;32m    570\u001b[0m         \u001b[38;5;241m%\u001b[39m e\n\u001b[0;32m    571\u001b[0m     )\n\u001b[0;32m    572\u001b[0m \u001b[38;5;28;01melse\u001b[39;00m:\n\u001b[1;32m--> 573\u001b[0m     \u001b[38;5;28;01mraise\u001b[39;00m (e)\n",
      "File \u001b[1;32m~\\anaconda3\\envs\\mdf-env\\lib\\site-packages\\modeci_mdf\\mdf.py:553\u001b[0m, in \u001b[0;36mModel.to_graph_image\u001b[1;34m(self, engine, output_format, view_on_render, level, filename_root, only_warn_on_fail, is_horizontal)\u001b[0m\n\u001b[0;32m    550\u001b[0m \u001b[38;5;28;01mfrom\u001b[39;00m \u001b[38;5;21;01mmodeci_mdf\u001b[39;00m\u001b[38;5;21;01m.\u001b[39;00m\u001b[38;5;21;01minterfaces\u001b[39;00m\u001b[38;5;21;01m.\u001b[39;00m\u001b[38;5;21;01mgraphviz\u001b[39;00m\u001b[38;5;21;01m.\u001b[39;00m\u001b[38;5;21;01mexporter\u001b[39;00m \u001b[38;5;28;01mimport\u001b[39;00m mdf_to_graphviz\n\u001b[0;32m    552\u001b[0m \u001b[38;5;28;01mtry\u001b[39;00m:\n\u001b[1;32m--> 553\u001b[0m     \u001b[43mmdf_to_graphviz\u001b[49m\u001b[43m(\u001b[49m\n\u001b[0;32m    554\u001b[0m \u001b[43m        \u001b[49m\u001b[38;5;28;43mself\u001b[39;49m\u001b[38;5;241;43m.\u001b[39;49m\u001b[43mgraphs\u001b[49m\u001b[43m[\u001b[49m\u001b[38;5;241;43m0\u001b[39;49m\u001b[43m]\u001b[49m\u001b[43m,\u001b[49m\n\u001b[0;32m    555\u001b[0m \u001b[43m        \u001b[49m\u001b[43mengine\u001b[49m\u001b[38;5;241;43m=\u001b[39;49m\u001b[43mengine\u001b[49m\u001b[43m,\u001b[49m\n\u001b[0;32m    556\u001b[0m \u001b[43m        \u001b[49m\u001b[43moutput_format\u001b[49m\u001b[38;5;241;43m=\u001b[39;49m\u001b[43moutput_format\u001b[49m\u001b[43m,\u001b[49m\n\u001b[0;32m    557\u001b[0m \u001b[43m        \u001b[49m\u001b[43mview_on_render\u001b[49m\u001b[38;5;241;43m=\u001b[39;49m\u001b[43mview_on_render\u001b[49m\u001b[43m,\u001b[49m\n\u001b[0;32m    558\u001b[0m \u001b[43m        \u001b[49m\u001b[43mlevel\u001b[49m\u001b[38;5;241;43m=\u001b[39;49m\u001b[43mlevel\u001b[49m\u001b[43m,\u001b[49m\n\u001b[0;32m    559\u001b[0m \u001b[43m        \u001b[49m\u001b[43mfilename_root\u001b[49m\u001b[38;5;241;43m=\u001b[39;49m\u001b[43mfilename_root\u001b[49m\u001b[43m,\u001b[49m\n\u001b[0;32m    560\u001b[0m \u001b[43m        \u001b[49m\u001b[43mis_horizontal\u001b[49m\u001b[38;5;241;43m=\u001b[39;49m\u001b[43mis_horizontal\u001b[49m\u001b[43m,\u001b[49m\n\u001b[0;32m    561\u001b[0m \u001b[43m    \u001b[49m\u001b[43m)\u001b[49m\n\u001b[0;32m    563\u001b[0m \u001b[38;5;28;01mexcept\u001b[39;00m \u001b[38;5;167;01mException\u001b[39;00m \u001b[38;5;28;01mas\u001b[39;00m e:\n\u001b[0;32m    564\u001b[0m     \u001b[38;5;28;01mif\u001b[39;00m only_warn_on_fail:\n",
      "File \u001b[1;32m~\\anaconda3\\envs\\mdf-env\\lib\\site-packages\\modeci_mdf\\interfaces\\graphviz\\exporter.py:419\u001b[0m, in \u001b[0;36mmdf_to_graphviz\u001b[1;34m(mdf_graph, engine, output_format, view_on_render, level, filename_root, is_horizontal)\u001b[0m\n\u001b[0;32m    412\u001b[0m     \u001b[38;5;28;01mif\u001b[39;00m node\u001b[38;5;241m.\u001b[39moutput_ports \u001b[38;5;129;01mand\u001b[39;00m \u001b[38;5;28mlen\u001b[39m(node\u001b[38;5;241m.\u001b[39moutput_ports) \u001b[38;5;241m>\u001b[39m \u001b[38;5;241m0\u001b[39m:\n\u001b[0;32m    413\u001b[0m         \u001b[38;5;28;01mfor\u001b[39;00m op \u001b[38;5;129;01min\u001b[39;00m node\u001b[38;5;241m.\u001b[39moutput_ports:\n\u001b[0;32m    414\u001b[0m             info \u001b[38;5;241m+\u001b[39m\u001b[38;5;241m=\u001b[39m \u001b[38;5;124m\"\u001b[39m\u001b[38;5;124m<tr><td>\u001b[39m\u001b[38;5;132;01m{}\u001b[39;00m\u001b[38;5;132;01m{}\u001b[39;00m\u001b[38;5;124m = \u001b[39m\u001b[38;5;132;01m{}\u001b[39;00m\u001b[38;5;124m \u001b[39m\u001b[38;5;132;01m{}\u001b[39;00m\u001b[38;5;124m</td></tr>\u001b[39m\u001b[38;5;124m\"\u001b[39m\u001b[38;5;241m.\u001b[39mformat(\n\u001b[0;32m    415\u001b[0m                 format_label(\u001b[38;5;124m\"\u001b[39m\u001b[38;5;124mOUT\u001b[39m\u001b[38;5;124m\"\u001b[39m),\n\u001b[0;32m    416\u001b[0m                 format_output(op\u001b[38;5;241m.\u001b[39mid),\n\u001b[0;32m    417\u001b[0m                 match_in_expr(op\u001b[38;5;241m.\u001b[39mvalue, node),\n\u001b[0;32m    418\u001b[0m                 \u001b[38;5;124m\"\u001b[39m\u001b[38;5;124m(shape: \u001b[39m\u001b[38;5;132;01m%s\u001b[39;00m\u001b[38;5;124m)\u001b[39m\u001b[38;5;124m\"\u001b[39m \u001b[38;5;241m%\u001b[39m op\u001b[38;5;241m.\u001b[39mshape\n\u001b[1;32m--> 419\u001b[0m                 \u001b[38;5;28;01mif\u001b[39;00m \u001b[43mop\u001b[49m\u001b[38;5;241;43m.\u001b[39;49m\u001b[43mshape\u001b[49m \u001b[38;5;129;01mis\u001b[39;00m \u001b[38;5;129;01mnot\u001b[39;00m \u001b[38;5;28;01mNone\u001b[39;00m\n\u001b[0;32m    420\u001b[0m                 \u001b[38;5;28;01melse\u001b[39;00m \u001b[38;5;124m\"\u001b[39m\u001b[38;5;124m\"\u001b[39m\n\u001b[0;32m    421\u001b[0m                 \u001b[38;5;28;01mif\u001b[39;00m level \u001b[38;5;241m>\u001b[39m\u001b[38;5;241m=\u001b[39m LEVEL_2 \u001b[38;5;129;01mand\u001b[39;00m op\u001b[38;5;241m.\u001b[39mshape \u001b[38;5;129;01mis\u001b[39;00m \u001b[38;5;129;01mnot\u001b[39;00m \u001b[38;5;28;01mNone\u001b[39;00m\n\u001b[0;32m    422\u001b[0m                 \u001b[38;5;28;01melse\u001b[39;00m \u001b[38;5;124m\"\u001b[39m\u001b[38;5;124m\"\u001b[39m,\n\u001b[0;32m    423\u001b[0m             )\n\u001b[0;32m    425\u001b[0m info \u001b[38;5;241m+\u001b[39m\u001b[38;5;241m=\u001b[39m \u001b[38;5;124m\"\u001b[39m\u001b[38;5;124m</table>\u001b[39m\u001b[38;5;124m\"\u001b[39m\n\u001b[0;32m    427\u001b[0m graph\u001b[38;5;241m.\u001b[39mnode(node\u001b[38;5;241m.\u001b[39mid, label\u001b[38;5;241m=\u001b[39m\u001b[38;5;124m\"\u001b[39m\u001b[38;5;124m<\u001b[39m\u001b[38;5;132;01m%s\u001b[39;00m\u001b[38;5;124m>\u001b[39m\u001b[38;5;124m\"\u001b[39m \u001b[38;5;241m%\u001b[39m info)\n",
      "\u001b[1;31mAttributeError\u001b[0m: 'Parameter' object has no attribute 'shape'"
     ]
    }
   ],
   "source": [
    "\n",
    "mod.to_graph_image(\n",
    "        engine=\"dot\",\n",
    "        output_format=\"png\",\n",
    "        view_on_render=False,\n",
    "        level=3,\n",
    "        filename_root=\"keras_to_MDF\",\n",
    "        is_horizontal=True\n",
    "    )\n",
    "\n",
    "from IPython.display import Image\n",
    "Image(filename=\"Keras_to_MDF_Example.png\")\n"
   ]
  },
  {
   "cell_type": "code",
   "execution_count": null,
   "id": "bebd5f9f",
   "metadata": {},
   "outputs": [],
   "source": []
  }
 ],
 "metadata": {
  "kernelspec": {
   "display_name": "Python 3 (ipykernel)",
   "language": "python",
   "name": "python3"
  },
  "language_info": {
   "codemirror_mode": {
    "name": "ipython",
    "version": 3
   },
   "file_extension": ".py",
   "mimetype": "text/x-python",
   "name": "python",
   "nbconvert_exporter": "python",
   "pygments_lexer": "ipython3",
   "version": "3.9.7"
  }
 },
 "nbformat": 4,
 "nbformat_minor": 5
}
