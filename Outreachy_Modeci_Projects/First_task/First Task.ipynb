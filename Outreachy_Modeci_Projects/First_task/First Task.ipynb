{
 "cells": [
  {
   "cell_type": "markdown",
   "id": "3757c912",
   "metadata": {},
   "source": [
    "# ABOUT THE PROJECT\n",
    "This project is the first task of Outreachy/MDF project. it is the perequisite project for outreachy intenship Summer '23.\n",
    "In this project, I created an MDF model with 3 connected nodes, with a unique mathematical expression in each of the nodes and  one condition.I also generated the graph of the model and the current value for each of the node is evaluated and printed out."
   ]
  },
  {
   "cell_type": "markdown",
   "id": "6ba1bc06",
   "metadata": {},
   "source": [
    "### The Core Elements And Libraries of MDF Needed For This Project\n",
    "\n",
    "The core element of MDF needed for this project are listed as follows:\n",
    "\n",
    "**Models**: Model is the highest level construct in MDF that consists of one or more graphs and model attributes.The graph describe the operational features of the model i.e its structure and execution while the model attributes provide additional information(metadata) useful for executing, evaluating, testing or visualizing it.\n",
    "\n",
    "**Graphs**: it specifies the structure and process flow of a model. The most fundamental element of a graph is a node which specifies some unit of computation in terms of its parameters and functions.\n",
    "\n",
    "**Nodes**: it defines the core elements of computation in a graph that receive and transmit information via their input and output port. Nodes are connected to other nodes via directed edges, which, in the absence of additional conditions, define the computational flow of the model.\n",
    "\n",
    "**Output ports**: it is the starting point of the data transmission process. After processing the information in a node, an output port is used to begin the transmission of information to the next node through edges.\n",
    "\n",
    "**Edges**: it helps to transmit information from the output port of one node to the input port of another. Edges may also contain weights that can operate on the information they carry.\n",
    "\n",
    "**Input Ports**: it is the endpoint of the data transmision process. it receives the information transmitted through an edge and inputs it to the next node for further processing.\n",
    "\n",
    "**Condition**: This provide high-level set of descriptors for specifying conditional execution of nodes.They are used in specifying when nodes are allowed to be executed and it also allows models with relatively complex execution requirements to be expressed as graphs.\n",
    "\n",
    "**Parameters**: These are attributes that determines the configuration and operation of nodes and edges. it suppoprts serialisation in portable format such as BSON and large format such as numpy arrays and TensorFlow tensors. Parameter can either be a fixed value(stateless) or change when the node is executed(stateful).\n",
    "\n",
    "**Model metadata**: it provides additional information related to how the model element should  be handled by different applications. it can be added to the top level model to specify contact information, citations pointers to sample data and benchmark results and environments in which the specified model was originally implemented.\n",
    "\n",
    "\n",
    "**Simple_connect**: This method is used to add an edge connecting the first output port of the pre node to the first input port of the post node.\n",
    "\n",
    "\n",
    "**EvaluableGraph**: This is used to evaluate the current state of the graph's parameters.\n",
    "\n",
    "**to_graph_image**: This method is used for converting MDF graphs into image of different format such as png and svg."
   ]
  },
  {
   "cell_type": "markdown",
   "id": "88119158",
   "metadata": {},
   "source": [
    "# WORKFLOW\n",
    "\n",
    "* Define The Model\n",
    "* Define the Graph\n",
    "* Append the model to the graph\n",
    "* Create First Node, define the parameter and output port of the node and append it to the graph model.\n",
    "* Create Second Node, define the input port ,parameters and outputport of the node and then append the node to the graph model.\n",
    "* Connect node A and B together using the simple_connect function\n",
    "* Create third node, define the Input port, parameters and outputport of the node and then append the node to the graph model\n",
    "* Connect node B and C together using the simple_connect function.\n",
    "* Create condition for node A B and C and append the condition to the graph using the *ConditionSet* function.\n",
    "* Generate the graph of the model \n",
    "* Evaluate the model graph to print out the current values of each node in the model.\n",
    "* Save the model to json and yaml file format"
   ]
  },
  {
   "cell_type": "markdown",
   "id": "9c0dec91",
   "metadata": {},
   "source": [
    "### Importing Libraries"
   ]
  },
  {
   "cell_type": "code",
   "execution_count": 3,
   "id": "e469271c",
   "metadata": {},
   "outputs": [],
   "source": [
    "#importing the neccessary package for the project\n",
    "\n",
    "from modeci_mdf.mdf import *"
   ]
  },
  {
   "cell_type": "markdown",
   "id": "67cf46bc",
   "metadata": {},
   "source": [
    "### Defining the model and the graph "
   ]
  },
  {
   "cell_type": "code",
   "execution_count": 4,
   "id": "2063fab2",
   "metadata": {},
   "outputs": [],
   "source": [
    "#defining the model\n",
    "mod=Model(id= \"TAO\")\n",
    "\n",
    "\n",
    "#defining graph\n",
    "mod_graph=Graph(id=\"TAO_GRAPH\")\n",
    "\n",
    "\n",
    "#appending the graph to the model\n",
    "mod.graphs.append(mod_graph)"
   ]
  },
  {
   "cell_type": "markdown",
   "id": "81c99ce5",
   "metadata": {},
   "source": [
    "### Creating the first  node (Node A)\n"
   ]
  },
  {
   "cell_type": "code",
   "execution_count": 5,
   "id": "41448430",
   "metadata": {},
   "outputs": [
    {
     "name": "stdout",
     "output_type": "stream",
     "text": [
      "TAO_GRAPH:\n",
      "    nodes:\n",
      "        A:\n",
      "            metadata:\n",
      "                color: 0 .8 0\n",
      "            parameters:\n",
      "                increment:\n",
      "                    value: 10.0\n",
      "            output_ports:\n",
      "                output:\n",
      "                    value: increment\n",
      "\n"
     ]
    }
   ],
   "source": [
    "#defining node a\n",
    "a_node = Node(id=\"A\", metadata={\"color\": \"0 .8 0\"})\n",
    "\n",
    "\n",
    "#appending the stateless  parameter to the model\n",
    "a_node.parameters.append(Parameter(id=\"increment\", value=10.0))\n",
    "\n",
    "\n",
    "#appending an outputport to the model\n",
    "a_node.output_ports.append(OutputPort(id=\"output\", value=\"increment\"))\n",
    "\n",
    "\n",
    "\n",
    "#appending the node to the graph\n",
    "mod_graph.nodes.append(a_node)\n",
    "\n",
    "\n",
    "\n",
    "#printing the structure of the graph\n",
    "print(mod_graph.to_yaml())"
   ]
  },
  {
   "cell_type": "markdown",
   "id": "db0d7cec",
   "metadata": {},
   "source": [
    "### Creating the second Node (Node B)"
   ]
  },
  {
   "cell_type": "code",
   "execution_count": 6,
   "id": "8259d9c1",
   "metadata": {},
   "outputs": [
    {
     "name": "stdout",
     "output_type": "stream",
     "text": [
      "TAO_GRAPH:\n",
      "    nodes:\n",
      "        A:\n",
      "            metadata:\n",
      "                color: 0 .8 0\n",
      "            parameters:\n",
      "                increment:\n",
      "                    value: 10.0\n",
      "            output_ports:\n",
      "                output:\n",
      "                    value: increment\n",
      "        B:\n",
      "            metadata:\n",
      "                color: .8 0 0\n",
      "            input_ports:\n",
      "                input: {}\n",
      "            parameters:\n",
      "                u:\n",
      "                    value: 1.2\n",
      "                v:\n",
      "                    value: 3\n",
      "                simple_exp:\n",
      "                    value: input * u - v\n",
      "            output_ports:\n",
      "                output:\n",
      "                    value: simple_exp\n",
      "\n"
     ]
    }
   ],
   "source": [
    "#defining node B\n",
    "b_node = Node(id=\"B\", metadata={\"color\": \".8 0 0\"})\n",
    "\n",
    "\n",
    "#appending the node to the graph model\n",
    "mod_graph.nodes.append(b_node)\n",
    "\n",
    "\n",
    "#appending an inputport to the model\n",
    "b_node.input_ports.append(InputPort(id=\"input\"))\n",
    "\n",
    "\n",
    "\n",
    "#creating a stateless parameter and appending it to the node\n",
    "b_node.parameters.append(Parameter(id=\"u\", value=1.2))\n",
    "b_node.parameters.append(Parameter(id=\"v\", value=3))\n",
    "\n",
    "\n",
    "#creating a stateful parameter and appending it to the node\n",
    "p1 = Parameter(\n",
    "    id=\"simple_exp\",\n",
    "    value=\"input * u - v\",\n",
    ")\n",
    "\n",
    "#appending the stateful parameter to the node\n",
    "b_node.parameters.append(p1)\n",
    "\n",
    "\n",
    "#creating an outputport and appending it to the node\n",
    "b_node.output_ports.append(OutputPort(id=\"output\", value=\"simple_exp\"))\n",
    "\n",
    "\n",
    "#appending the node to the graph\n",
    "mod_graph.nodes.append(b_node)\n",
    "\n",
    "\n",
    "#printing the structure of the graph\n",
    "print(mod_graph.to_yaml())"
   ]
  },
  {
   "cell_type": "markdown",
   "id": "633f85c4",
   "metadata": {},
   "source": [
    "# Creating connection between node A and node B"
   ]
  },
  {
   "cell_type": "code",
   "execution_count": 7,
   "id": "260610b2",
   "metadata": {},
   "outputs": [
    {
     "name": "stdout",
     "output_type": "stream",
     "text": [
      "TAO_GRAPH:\n",
      "    nodes:\n",
      "        A:\n",
      "            metadata:\n",
      "                color: 0 .8 0\n",
      "            parameters:\n",
      "                increment:\n",
      "                    value: 10.0\n",
      "            output_ports:\n",
      "                output:\n",
      "                    value: increment\n",
      "        B:\n",
      "            metadata:\n",
      "                color: .8 0 0\n",
      "            input_ports:\n",
      "                input: {}\n",
      "            parameters:\n",
      "                u:\n",
      "                    value: 1.2\n",
      "                v:\n",
      "                    value: 3\n",
      "                simple_exp:\n",
      "                    value: input * u - v\n",
      "            output_ports:\n",
      "                output:\n",
      "                    value: simple_exp\n",
      "    edges:\n",
      "        edge_A_B:\n",
      "            sender: A\n",
      "            receiver: B\n",
      "            sender_port: output\n",
      "            receiver_port: input\n",
      "\n"
     ]
    }
   ],
   "source": [
    "#connecting a_node and b_node together\n",
    "e1 = simple_connect(a_node, b_node, mod_graph)\n",
    "\n",
    "#printing out the structure of the model in yaml format\n",
    "print(mod_graph.to_yaml())"
   ]
  },
  {
   "cell_type": "markdown",
   "id": "a1b8f702",
   "metadata": {},
   "source": [
    "### Creating the third node (Node C)"
   ]
  },
  {
   "cell_type": "code",
   "execution_count": 8,
   "id": "df1fa880",
   "metadata": {},
   "outputs": [
    {
     "name": "stdout",
     "output_type": "stream",
     "text": [
      "TAO_GRAPH:\n",
      "    nodes:\n",
      "        A:\n",
      "            metadata:\n",
      "                color: 0 .8 0\n",
      "            parameters:\n",
      "                increment:\n",
      "                    value: 10.0\n",
      "            output_ports:\n",
      "                output:\n",
      "                    value: increment\n",
      "        B:\n",
      "            metadata:\n",
      "                color: .8 0 0\n",
      "            input_ports:\n",
      "                input: {}\n",
      "            parameters:\n",
      "                u:\n",
      "                    value: 1.2\n",
      "                v:\n",
      "                    value: 3\n",
      "                simple_exp:\n",
      "                    value: input * u - v\n",
      "            output_ports:\n",
      "                output:\n",
      "                    value: simple_exp\n",
      "        C:\n",
      "            metadata:\n",
      "                color: 0 .8 0\n",
      "            input_ports:\n",
      "                input: {}\n",
      "            parameters:\n",
      "                y:\n",
      "                    value: 8.2\n",
      "                u:\n",
      "                    value: 15\n",
      "                simple_eq:\n",
      "                    value: y**2 + 2*u\n",
      "            output_ports:\n",
      "                output:\n",
      "                    value: simple_eq\n",
      "    edges:\n",
      "        edge_A_B:\n",
      "            sender: A\n",
      "            receiver: B\n",
      "            sender_port: output\n",
      "            receiver_port: input\n",
      "\n"
     ]
    }
   ],
   "source": [
    "#creating node c\n",
    "c_node  = Node(id=\"C\", metadata={\"color\": \"0 .8 0\"})\n",
    "\n",
    "#appending node c to the graph\n",
    "mod_graph.nodes.append(c_node)\n",
    "\n",
    "#creating an inputport for node c\n",
    "c_node.input_ports.append(InputPort(id=\"input\"))\n",
    "\n",
    "#creating a stateless parameter and append it to node c\n",
    "c_node.parameters.append(Parameter(id=\"y\", value=8.2))\n",
    "\n",
    "#create another stateless parameter and append it to node c\n",
    "c_node.parameters.append(Parameter(id=\"u\", value=15))\n",
    "\n",
    "#creating a stateful parameter \n",
    "pc = Parameter(\n",
    "    id=\"simple_eq\",\n",
    "    value=\"y**2 + 2*u\",\n",
    ")\n",
    "#appending the stateful parameter to node c\n",
    "c_node.parameters.append(pc)\n",
    "\n",
    "#creating an appending an outputport to node c\n",
    "c_node.output_ports.append(OutputPort(id=\"output\", value=\"simple_eq\"))\n",
    "\n",
    "#appending the c node to the graph \n",
    "mod_graph.nodes.append(c_node)\n",
    "\n",
    "#printing out the structure of the graph in yaml format\n",
    "print(mod_graph.to_yaml())"
   ]
  },
  {
   "cell_type": "markdown",
   "id": "c1ff0528",
   "metadata": {},
   "source": [
    "### Creating connection between node B and node C"
   ]
  },
  {
   "cell_type": "code",
   "execution_count": 9,
   "id": "4d45525c",
   "metadata": {},
   "outputs": [
    {
     "name": "stdout",
     "output_type": "stream",
     "text": [
      "TAO_GRAPH:\n",
      "    nodes:\n",
      "        A:\n",
      "            metadata:\n",
      "                color: 0 .8 0\n",
      "            parameters:\n",
      "                increment:\n",
      "                    value: 10.0\n",
      "            output_ports:\n",
      "                output:\n",
      "                    value: increment\n",
      "        B:\n",
      "            metadata:\n",
      "                color: .8 0 0\n",
      "            input_ports:\n",
      "                input: {}\n",
      "            parameters:\n",
      "                u:\n",
      "                    value: 1.2\n",
      "                v:\n",
      "                    value: 3\n",
      "                simple_exp:\n",
      "                    value: input * u - v\n",
      "            output_ports:\n",
      "                output:\n",
      "                    value: simple_exp\n",
      "        C:\n",
      "            metadata:\n",
      "                color: 0 .8 0\n",
      "            input_ports:\n",
      "                input: {}\n",
      "            parameters:\n",
      "                y:\n",
      "                    value: 8.2\n",
      "                u:\n",
      "                    value: 15\n",
      "                simple_eq:\n",
      "                    value: y**2 + 2*u\n",
      "            output_ports:\n",
      "                output:\n",
      "                    value: simple_eq\n",
      "    edges:\n",
      "        edge_A_B:\n",
      "            sender: A\n",
      "            receiver: B\n",
      "            sender_port: output\n",
      "            receiver_port: input\n",
      "        edge_B_C:\n",
      "            sender: B\n",
      "            receiver: C\n",
      "            sender_port: output\n",
      "            receiver_port: input\n",
      "\n"
     ]
    }
   ],
   "source": [
    "#connecting node b and c together\n",
    "e2 = simple_connect(b_node, c_node, mod_graph)\n",
    "\n",
    "#printing the structure of the graph\n",
    "print(mod_graph.to_yaml())"
   ]
  },
  {
   "cell_type": "markdown",
   "id": "672374e6",
   "metadata": {},
   "source": [
    "### Setting Conditions for Node A, B and C"
   ]
  },
  {
   "cell_type": "code",
   "execution_count": 10,
   "id": "41a56359",
   "metadata": {},
   "outputs": [
    {
     "name": "stdout",
     "output_type": "stream",
     "text": [
      "TAO_GRAPH:\n",
      "    nodes:\n",
      "        A:\n",
      "            metadata:\n",
      "                color: 0 .8 0\n",
      "            parameters:\n",
      "                increment:\n",
      "                    value: 10.0\n",
      "            output_ports:\n",
      "                output:\n",
      "                    value: increment\n",
      "        B:\n",
      "            metadata:\n",
      "                color: .8 0 0\n",
      "            input_ports:\n",
      "                input: {}\n",
      "            parameters:\n",
      "                u:\n",
      "                    value: 1.2\n",
      "                v:\n",
      "                    value: 3\n",
      "                simple_exp:\n",
      "                    value: input * u - v\n",
      "            output_ports:\n",
      "                output:\n",
      "                    value: simple_exp\n",
      "        C:\n",
      "            metadata:\n",
      "                color: 0 .8 0\n",
      "            input_ports:\n",
      "                input: {}\n",
      "            parameters:\n",
      "                y:\n",
      "                    value: 8.2\n",
      "                u:\n",
      "                    value: 15\n",
      "                simple_eq:\n",
      "                    value: y**2 + 2*u\n",
      "            output_ports:\n",
      "                output:\n",
      "                    value: simple_eq\n",
      "    edges:\n",
      "        edge_A_B:\n",
      "            sender: A\n",
      "            receiver: B\n",
      "            sender_port: output\n",
      "            receiver_port: input\n",
      "        edge_B_C:\n",
      "            sender: B\n",
      "            receiver: C\n",
      "            sender_port: output\n",
      "            receiver_port: input\n",
      "    conditions:\n",
      "        node_specific:\n",
      "            A:\n",
      "                type: Always\n",
      "                kwargs: {}\n",
      "            B:\n",
      "                type: EveryNCalls\n",
      "                kwargs:\n",
      "                    dependencies: A\n",
      "                    n: 3\n",
      "            C:\n",
      "                type: EveryNCalls\n",
      "                kwargs:\n",
      "                    dependencies: B\n",
      "                    n: 4\n",
      "\n"
     ]
    }
   ],
   "source": [
    "#creating condition for node A. This condition means that A is always executed\n",
    "cond_a = Condition('Always')\n",
    "\n",
    "#creating condition for node B. This condition means that B will only execute when A has already run 3 times.\n",
    "cond_b = Condition(type=\"EveryNCalls\", dependencies=a_node.id, n=3) \n",
    "\n",
    "#creating condition for node C. This condition means that C will only execute when B has run 4 times.\n",
    "cond_c = Condition(type=\"EveryNCalls\", dependencies=b_node.id, n=4)  \n",
    "\n",
    "\n",
    "\n",
    "#add the conditions to the Graph\n",
    "mod_graph.conditions = ConditionSet(\n",
    "    node_specific={a_node.id: cond_a, b_node.id: cond_b, c_node.id: cond_c},\n",
    ")\n",
    "\n",
    "\n",
    "# Print the current structure\n",
    "print(mod_graph.to_yaml())"
   ]
  },
  {
   "cell_type": "markdown",
   "id": "4370a9e0",
   "metadata": {},
   "source": [
    "The cell above shows the different conditions for the nodes.\n",
    "\n",
    "Condition of Node A: The Condition of Node A is \"Always\", this means that node A is not dependent on any Node and it will always run when it is being executed.\n",
    "\n",
    "\n",
    "\n",
    "Condition of Node B: The condition of Node B is EveryNcalls and it has dependencies of a_id with n = 3, this means that the execution of Node B is dependent on Node A, and Node B  will only run when A has already run 3 times, Given us this order of execution AAAB\n",
    "\n",
    "Condition of Node C: The condition of Node C is also EveryNcalls and it has dependencies of b_id with n = 4, this means that the execution of Node C is dependent on Node B, and it will only run when Node B has already run 4 times, Given us this order of  execution BBBBC\n"
   ]
  },
  {
   "cell_type": "markdown",
   "id": "0020cde2",
   "metadata": {},
   "source": [
    "# Generating the graph of the model"
   ]
  },
  {
   "cell_type": "code",
   "execution_count": 11,
   "id": "06a8c49f",
   "metadata": {},
   "outputs": [
    {
     "name": "stdout",
     "output_type": "stream",
     "text": [
      "Converting MDF graph: TAO_GRAPH to graphviz (level: 3, format: png)\n",
      "    Node: A\n",
      "Converting 0 .8 0 to hex color\n",
      "    Node: B\n",
      "Converting .8 0 0 to hex color\n",
      "    Node: B\n",
      "Converting .8 0 0 to hex color\n",
      "    Node: C\n",
      "Converting 0 .8 0 to hex color\n",
      "    Node: C\n",
      "Converting 0 .8 0 to hex color\n",
      "    Edge: edge_A_B connects A to B\n",
      "    Edge: edge_B_C connects B to C\n",
      "Written graph image to: AB.png\n"
     ]
    },
    {
     "data": {
      "image/png": "[encoded data removed]",
      "text/plain": [
       "<IPython.core.display.Image object>"
      ]
     },
     "execution_count": 11,
     "metadata": {},
     "output_type": "execute_result"
    }
   ],
   "source": [
    "#generating the graph of the model\n",
    "\n",
    "mod.to_graph_image(\n",
    "        engine=\"dot\",\n",
    "        output_format=\"png\",\n",
    "        view_on_render=False,\n",
    "        level=3,\n",
    "        filename_root=\"AB\",\n",
    "        is_horizontal=True\n",
    "    )\n",
    "# visualising the model\n",
    "from IPython.display import Image\n",
    "Image(filename=\"AB.png\")"
   ]
  },
  {
   "cell_type": "markdown",
   "id": "d4b13984",
   "metadata": {},
   "source": [
    "# Evaluating the graph of the model"
   ]
  },
  {
   "cell_type": "code",
   "execution_count": 12,
   "id": "857bc894",
   "metadata": {},
   "outputs": [
    {
     "name": "stdout",
     "output_type": "stream",
     "text": [
      "\n",
      "Init graph: TAO_GRAPH\n",
      "Evaluating graph: TAO_GRAPH, root nodes: ['A', 'B', 'C'], with array format numpy\n",
      "Output of A: 10\n",
      "Output of B: 9\n",
      "Output of C: 97.24\n"
     ]
    }
   ],
   "source": [
    "#Defining the graph of the model\n",
    "eg = EvaluableGraph(mod_graph, verbose=False)\n",
    "\n",
    "#evaluating the graph of the model\n",
    "eg.evaluate()\n",
    "\n",
    "#printing out the output of node A\n",
    "print('Output of A: %s'%eg.enodes[\"A\"].evaluable_outputs[\"output\"].curr_value) \n",
    "\n",
    "#printing out the output of node B\n",
    "print('Output of B: %s'%eg.enodes[\"B\"].evaluable_outputs[\"output\"].curr_value)\n",
    "\n",
    "#printing out the output of node C\n",
    "print('Output of C: %s'%eg.enodes[\"C\"].evaluable_outputs[\"output\"].curr_value) "
   ]
  },
  {
   "cell_type": "markdown",
   "id": "19cbc520",
   "metadata": {},
   "source": [
    "In the graph cell above, the current value of each of the node is evaluated and printed out. A node has an output of 10, B has 9 and C has an output of 97.24"
   ]
  },
  {
   "cell_type": "markdown",
   "id": "e401951f",
   "metadata": {},
   "source": [
    "# Saving the model to json and yaml file format"
   ]
  },
  {
   "cell_type": "code",
   "execution_count": 13,
   "id": "d35e7fe4",
   "metadata": {},
   "outputs": [
    {
     "data": {
      "text/plain": [
       "'model_json_file'"
      ]
     },
     "execution_count": 13,
     "metadata": {},
     "output_type": "execute_result"
    }
   ],
   "source": [
    "# saving the model in json file format\n",
    "mod.to_json_file(\"model_json_file\")"
   ]
  },
  {
   "cell_type": "code",
   "execution_count": 14,
   "id": "2b77a1a4",
   "metadata": {},
   "outputs": [
    {
     "data": {
      "text/plain": [
       "'model_yaml_file'"
      ]
     },
     "execution_count": 14,
     "metadata": {},
     "output_type": "execute_result"
    }
   ],
   "source": [
    "# saving the model in yaml file format\n",
    "mod.to_yaml_file(\"model_yaml_file\")"
   ]
  },
  {
   "cell_type": "code",
   "execution_count": null,
   "id": "a0340b43",
   "metadata": {},
   "outputs": [],
   "source": []
  }
 ],
 "metadata": {
  "kernelspec": {
   "display_name": "Python 3 (ipykernel)",
   "language": "python",
   "name": "python3"
  },
  "language_info": {
   "codemirror_mode": {
    "name": "ipython",
    "version": 3
   },
   "file_extension": ".py",
   "mimetype": "text/x-python",
   "name": "python",
   "nbconvert_exporter": "python",
   "pygments_lexer": "ipython3",
   "version": "3.9.7"
  }
 },
 "nbformat": 4,
 "nbformat_minor": 5
}
