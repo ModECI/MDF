{
 "cells": [
  {
   "cell_type": "markdown",
   "id": "c0f28f51",
   "metadata": {},
   "source": [
    "# Table of contents\n",
    "* [Project Description](Project-Description)\n",
    "* [MDF Libraries Used in this Demonstration and Their Usage](#MDF-Libraries-Used-in-this-Demonstration-and-Their-Usage)\n",
    "* [Standar workflow imports for MFD](#Standar-workflow-imports-for-MFD)\n",
    "* [Generating a model container](#Generating-a-model-container)\n",
    "* [Generating the model graph](#Generating-the-model-graph)\n",
    "* [Linking the created model to graph](#Linking-the-created-model-to-graph)\n",
    "* [Instanciating the first node and adding parameter values and I/O port(s)](#Instanciating-the-first-node-and-adding-parameter-values-and-I/O-port(s))\n",
    "* [Instanciating second node and adding parameter values I/O port(s)](#Instanciating-second-node-and-adding-parameter-values-I/O-port(s))\n",
    "* [Connecting node one input port sendernode to node two output port recipientnode](#Connecting-node-one-input-port-sendernode-to-node-two-output-port-recipientnode)\n",
    "* [Instanciating the third node and adding parameter values I/O port(s)](#Instanciating-the-third-node-and-adding-parameter-values-I/O-port(s))\n",
    "* [Connecting node two input port sender node to node three output port recipient node](#Connecting-node-two-input-port-sender-node-to-node-three-output-port-recipient-node)\n",
    "* [An overview of our graph](#An-overview-of-our-graph)\n",
    "* [Saving our model structure](#Saving-our-model-structure)\n",
    "* [Graph visualization and image generation](#Graph-visualization-and-image-generation)\n",
    "* [Connecting node two input port sendernode to node three output port recipientnode](#Connecting-node-two-input-port-sender-node-to-node-three-output-port-recipient-node)\n",
    "* [An overview of our graph](#An-overview-of-our-graph)\n",
    "* [Saving our model structure](#Saving-our-model-structure)\n",
    "* [Graph visualization and image generation](#Graph-visualization-and-image-generation)\n",
    "* [Intializing the graph evaluation and evaluating the graph parameters](#Intializing-the-graph-evaluation-and-evaluating-the-graph-parameters)\n",
    "* [Generating indivual nodes evaluted output values](#Generating-indivual-nodes-evaluted-output-values)\n",
    "* [Creating models with stateful parameters in MDF](#Creating-models-with-stateful-parameters-in-MDF)\n",
    "* [Generating model container, model graph and linking graph to model](#Generating-model-container-model-graph-and-linking-graph-to-model)\n",
    "* [Graph visualization and image generation](#Graph-visualization-and-image-generation)\n",
    "* [Linking conditions to nodes](#Linking-conditions-to-nodes)\n",
    "* [Setting conditions to nodes](#Setting-conditions-to-nodes)\n",
    "* [Types of conditions supported by mdf](#Types-of-conditions-supported-by-mdf)\n",
    "* [Graph visualization and image generation](#Graph-visualization-and-image-generation)\n",
    "* [Generating output values for evaluted nodes](#Generating-output-values-for-evaluted-nodes)"
   ]
  },
  {
   "cell_type": "markdown",
   "id": "75d28df1",
   "metadata": {},
   "source": [
    "## Project Description\n",
    "\n",
    "This project is intended for the sole purpose of demonstrating my overall understanding of the ModECI MDF libraries. This project is presented as a contribution as part of the Outreachy open source and application requirement. The ModECI MDF libraries is an open source library that provide a set of tool intended for expressing computational models in a format that allows them to be exchanged across programming languages and different execution environment.\n",
    "\n",
    "In this demonstration, a model, and a graph where created consisting of three nodes, each nodes were assigned to a condition and each condition had different activation critaria. For each of the instanciated node,  parameter identity and values were assigned to each node. In some cases, formulars were assigned to node(s) in form of parameters, having values and identity. In such cases, the parameters are passed into the nodes output ports which would connect the next nodes input port. This connection serves as link, enabling the flow of data from one node to the other. The input values are passed into the parameters which serve as the evaluable the mathematical expression.\n",
    "\n",
    "Similar to the nodes, the graph and the model are instanciated. Following this, the instanciated graph is appended to the already instanciated node. After successful creation of all the node and assigning their parameter, output and input port, the the first and second node are liked via their output and input port. The number of node linking will depend of the amount of nodes created.\n",
    "\n",
    "## MDF Libraries Used in this Demonstration and Their Usage\n",
    "\n",
    "**EvaluableGraph library**\n",
    "\n",
    "The `EvaluableGraph` library evaluates a  graph by making use of the execution engine. The evaluated graph consist of a node(s) linked together through edges. This library is imported from the modeci_mdf.execution_engine. One of the function from the Evalable graph used in this demonstration includes:\n",
    "\n",
    " * `evalate`:- This function is used to evalaute a full fledge graph having nodes and edges. It functions by evaluating the functions passed as parameter values. If input values exist, it factors then in and evaluates them to generate a final output values for each node.\n",
    "\n",
    "**Image library**\n",
    "\n",
    "This library coverts and mdf graph consisting of nodes, parameters, edge(s), input and output port(s) into an image of format `png` or `svg`. This made possibe and assisted by the Graphviz package. This library is used for the sole purpose of visualizing the full fledge graph with its nodes, edges, parameters, input and output values. Its helps to understand how the nodes and where the nodes are connected and by what edges between each nodes.The library is imported Ipython.display library. One of the function belonging to the image library used in the demonstration includes:\n",
    "\n",
    "* `to_graph_image`:- This function is used for coverting MDF graphs into image of format type `png` or `svg`\n",
    "\n",
    "\n",
    "**modeci_mdf.mdf library**\n",
    "\n",
    "This library enables moodel, graph, node(s) instanciation. It also enables setting of parameter identity and values. With the use of build in functions from it's libraries, imput and output nodes can be set to the nodes instanciated. This is by far one of the most important libraries as without it, the creation of graph, model and node(s) object will not be possible. In this demonstration, functions used include:\n",
    "\n",
    "* `Model`:- This instanciates a model which contains graph(s) objects and attribute parameters.\n",
    "\n",
    "* `Graph`:- This acts as a container for the node(s) created, its parameters, their edges, and condtions. Without the graph, the simple_connect function cannot perform as it takes the generated graph as an arguement. It aid the linking of node through their edges which is made possible through the interconnectedness of output(s) and input port(s).\n",
    "\n",
    "* `Node`:- The node is also a very important function. The node function is responsible for the creation of node objects. It serves as a store and at the same time as a link to another data point or node instance where it transfers data to. The node recieves parameters and parameter values through input and output port(s). This aids transfer of data from one node to the other.\n",
    "\n",
    "\n",
    "**Graph_scheduler**\n",
    "This module is use to link the generated node to an activation critaria. In other words, its used for setting node activation critaria. It determines when or when not for a node to run. One of the function used from this library in this demonstration includes:\n",
    "\n",
    "* `ConditionSet`:- This function provides specific conditions which has to be met for node execution.\n",
    "\n",
    "**modeci_mdf.utils**\n",
    "\n",
    "This is an extremely useful library, it contains useful utility function capable of handling various MDF objects. One of the function belonging to this library used in this demonstration includes:\n",
    "\n",
    "* `simple_connect`:- This is Used for creating an edge that connnects two input and output port of to or more nodes together and into a graph.\n",
    "\n"
   ]
  },
  {
   "cell_type": "markdown",
   "id": "a3d1c607",
   "metadata": {},
   "source": [
    "## Standar workflow imports for MFD\n",
    "\n",
    "1. **Import 1**: This import searches the `modeci_mdf.mdf` and imports all the modules within the library via the use of the wildcard notation.\n",
    "\n",
    "2. **Import 2**: This import searches the `modeci_mdf.execution_engine` library and imports the `EvaluableGraph` library.\n",
    "\n",
    "3. **Import 3**: This import searches the `modeci_mdf.utils` library and imports the `simple_connect` function.\n",
    "\n",
    "4. **Import 4**: The import searches the `Ipython.display` library and imports the `Image` function.\n"
   ]
  },
  {
   "cell_type": "code",
   "execution_count": 30,
   "id": "5f148d5c",
   "metadata": {},
   "outputs": [],
   "source": [
    "# Import 1\n",
    "from modeci_mdf.mdf import *\n",
    "# Import 2\n",
    "from modeci_mdf.execution_engine import EvaluableGraph\n",
    "# Import 3\n",
    "from modeci_mdf.utils import simple_connect\n",
    "# Import 4\n",
    "from IPython.display import Image"
   ]
  },
  {
   "cell_type": "markdown",
   "id": "e3a68784",
   "metadata": {},
   "source": [
    "##  Generating a model container\n",
    "\n",
    "The function below generates a container that houses the graph(s) identity and its metadata, the metadata is passed as a dictionary object, although it is set to `None` by default. The Model object is created using `Model` function."
   ]
  },
  {
   "cell_type": "code",
   "execution_count": 31,
   "id": "bd5aa74f",
   "metadata": {},
   "outputs": [],
   "source": [
    "# Generating a model container\n",
    "my_model = Model(id= \"my_model\")"
   ]
  },
  {
   "cell_type": "markdown",
   "id": "53f7551e",
   "metadata": {},
   "source": [
    "## Generating the model graph\n",
    "\n",
    "The module `Graph` servers as a container for generated nodes and it's elements such as parameter, node id, node metadata, output ports input ports e.t.c. "
   ]
  },
  {
   "cell_type": "code",
   "execution_count": 32,
   "id": "025d5d4c",
   "metadata": {},
   "outputs": [],
   "source": [
    "# Creating a graph instance\n",
    "my_model_graph = Graph(id= \"my_graph\")"
   ]
  },
  {
   "cell_type": "markdown",
   "id": "b6dc3007",
   "metadata": {},
   "source": [
    "## Linking the created graph to model\n",
    "The graph will serve the purpose of forming edges which creates an intersection or linkage path known as edges between two or more inter-connected nodes. "
   ]
  },
  {
   "cell_type": "code",
   "execution_count": 33,
   "id": "c8a382a4",
   "metadata": {},
   "outputs": [],
   "source": [
    "# linking the graph to model\n",
    "my_model.graphs.append(my_model_graph)"
   ]
  },
  {
   "cell_type": "markdown",
   "id": "993dd549",
   "metadata": {},
   "source": [
    "## Instanciating the first node and adding parameter values and I/O port(s)\n",
    "\n",
    "This module holds the the node identity, it's metadata. Using the `Parameter` module, parameter values such as parameter identity and values can be assigned to the node using the `Append` function. With the function `Input`, the nodes is provided an input port, it's identity and the input values. Similarly using function `Output`, provides the node an output port which recieves and hold the output identify and output value."
   ]
  },
  {
   "cell_type": "code",
   "execution_count": 34,
   "id": "6112fdd6",
   "metadata": {},
   "outputs": [],
   "source": [
    "# Instanciating node one\n",
    "node_one = Node(id= \"radius_of_a_circle\", metadata= {\"color\": \"0 .9 0\"})\n",
    "\n",
    "# Adding parameter value(s) to node one instance.\n",
    "node_one.parameters.append(Parameter(id= \"area\", value= 9))\n",
    "node_one.parameters.append(Parameter(id= \"pi\", value= 3.14))\n",
    "node_one.parameters.append(Parameter(id= \"constant\", value= 2))\n",
    "\n",
    "# Radius of a circle evaluation equation function.\n",
    "radius_of_a_circle_function = Parameter(id= \"radius\",\n",
    "                          value= \"area / (constant * pi)\")\n",
    "\n",
    "# Adding radius of a circle evaluation function to node\n",
    "node_one.parameters.append(radius_of_a_circle_function)\n",
    "\n",
    "# Adding output port to node one \n",
    "node_one.output_ports.append(OutputPort(id= \"node_one_output\",\n",
    "                                        value= \"radius\"))\n",
    "\n",
    "# Adding node one to instanciated graph\n",
    "my_model_graph.nodes.append(node_one)"
   ]
  },
  {
   "cell_type": "markdown",
   "id": "65238d7e",
   "metadata": {},
   "source": [
    "## Instanciating second node and adding parameter values I/O port(s)"
   ]
  },
  {
   "cell_type": "code",
   "execution_count": 35,
   "id": "2ef0edde",
   "metadata": {},
   "outputs": [],
   "source": [
    "# Instanciating node two.\n",
    "node_two = Node(id=\"circumference_of_a_circle\", metadata= {\"color\": \"0 .7 0\"})\n",
    "\n",
    "# Adding node two input port.\n",
    "node_two.input_ports.append(InputPort(id= \"radius\"))\n",
    "\n",
    "# Adding parameter values to node two instance.\n",
    "node_two.parameters.append(Parameter(id= \"pi\", value= 3.14))\n",
    "node_two.parameters.append(Parameter(id= \"constant\", value= 2))\n",
    "\n",
    "# Circumference of a circle evaluation equation function.\n",
    "circumference_of_a_circle_function = Parameter(id= \"circunference\",\n",
    "                                       value= \"radius * constant * pi\")\n",
    "\n",
    "# Adding circumference of a circle evaluation function to node.\n",
    "node_two.parameters.append(circumference_of_a_circle_function)\n",
    "\n",
    "# Adding output port to node one.\n",
    "node_two.output_ports.append(OutputPort(id= \"node_two_output\",\n",
    "                                        value= \"circunference\"))\n",
    "\n",
    "# Adding node two to instanciated graph.\n",
    "my_model_graph.nodes.append(node_two)"
   ]
  },
  {
   "cell_type": "markdown",
   "id": "818dce1c",
   "metadata": {},
   "source": [
    "## Connecting node one input port `sender node` to node two output port `recipient node`\n",
    "This is achived with the use of the `Simple_connect` function, it sends id(s), parameter values, I/O identity and value(s) from node one `sender node` to node two `recipient node`. In other words, This aids in the interchange and sharing of data from the sendernode to the recipient node, i.e from the output node of one node to the imput of another. The graph aids in the creation of edges which creates an intersection or linkage between two connected nodes."
   ]
  },
  {
   "cell_type": "code",
   "execution_count": 36,
   "id": "d2fcecb1",
   "metadata": {},
   "outputs": [
    {
     "data": {
      "text/plain": [
       "Edge(metadata=None, id='edge_radius_of_a_circle_circumference_of_a_circle', sender='radius_of_a_circle', receiver='circumference_of_a_circle', sender_port='node_one_output', receiver_port='radius', parameters=None)"
      ]
     },
     "execution_count": 36,
     "metadata": {},
     "output_type": "execute_result"
    }
   ],
   "source": [
    "simple_connect(node_one, node_two, my_model_graph)"
   ]
  },
  {
   "cell_type": "markdown",
   "id": "52ddaefe",
   "metadata": {},
   "source": [
    "## Instanciating the third node and adding parameter values I/O port(s)"
   ]
  },
  {
   "cell_type": "code",
   "execution_count": 37,
   "id": "56840c89",
   "metadata": {},
   "outputs": [],
   "source": [
    "# Instanciating node three.\n",
    "node_three = Node(id=\"diameter_of_a_circle\", metadata= {\"color\": \"0 .4 0\"})\n",
    "\n",
    "# Adding parameter values to node three instance.\n",
    "node_three.parameters.append(Parameter(id= \"pi\",\n",
    "                                     value= 3.14))\n",
    "\n",
    "# Diameter of a circle evaluation equation fuction.\n",
    "diameter_of_a_circle_function = Parameter(id= \"diameter\",\n",
    "                                         value= \"circumference / pi\")\n",
    "\n",
    "# Adding diameter of a circle evaluation function to node.\n",
    "node_three.parameters.append(diameter_of_a_circle_function)\n",
    "\n",
    "# Adding node three output port.\n",
    "node_three.output_ports.append(OutputPort(id= \"node_three_output\",\n",
    "                                         value= \"diameter\"))\n",
    "# Adding node three input port.\n",
    "node_three.input_ports.append(InputPort(id= \"circumference\"))\n",
    "\n",
    "# Adding node three to instanciated graph\n",
    "my_model_graph.nodes.append(node_three)"
   ]
  },
  {
   "cell_type": "markdown",
   "id": "f85b0483",
   "metadata": {},
   "source": [
    "## Connecting node two input port `sender node` to node three output port `recipient node`\n"
   ]
  },
  {
   "cell_type": "code",
   "execution_count": 38,
   "id": "1fdb3ec9",
   "metadata": {},
   "outputs": [
    {
     "data": {
      "text/plain": [
       "Edge(metadata=None, id='edge_circumference_of_a_circle_diameter_of_a_circle', sender='circumference_of_a_circle', receiver='diameter_of_a_circle', sender_port='node_two_output', receiver_port='circumference', parameters=None)"
      ]
     },
     "execution_count": 38,
     "metadata": {},
     "output_type": "execute_result"
    }
   ],
   "source": [
    "simple_connect(node_two, node_three, my_model_graph)"
   ]
  },
  {
   "cell_type": "markdown",
   "id": "74286bdc",
   "metadata": {},
   "source": [
    "## An overview of our graph"
   ]
  },
  {
   "cell_type": "code",
   "execution_count": 39,
   "id": "80ce9b6b",
   "metadata": {},
   "outputs": [
    {
     "name": "stdout",
     "output_type": "stream",
     "text": [
      "my_graph:\n",
      "    nodes:\n",
      "        radius_of_a_circle:\n",
      "            metadata:\n",
      "                color: 0 .9 0\n",
      "            parameters:\n",
      "                area:\n",
      "                    value: 9\n",
      "                pi:\n",
      "                    value: 3.14\n",
      "                constant:\n",
      "                    value: 2\n",
      "                radius:\n",
      "                    value: area / (constant * pi)\n",
      "            output_ports:\n",
      "                node_one_output:\n",
      "                    value: radius\n",
      "        circumference_of_a_circle:\n",
      "            metadata:\n",
      "                color: 0 .7 0\n",
      "            input_ports:\n",
      "                radius: {}\n",
      "            parameters:\n",
      "                pi:\n",
      "                    value: 3.14\n",
      "                constant:\n",
      "                    value: 2\n",
      "                circunference:\n",
      "                    value: radius * constant * pi\n",
      "            output_ports:\n",
      "                node_two_output:\n",
      "                    value: circunference\n",
      "        diameter_of_a_circle:\n",
      "            metadata:\n",
      "                color: 0 .4 0\n",
      "            input_ports:\n",
      "                circumference: {}\n",
      "            parameters:\n",
      "                pi:\n",
      "                    value: 3.14\n",
      "                diameter:\n",
      "                    value: circumference / pi\n",
      "            output_ports:\n",
      "                node_three_output:\n",
      "                    value: diameter\n",
      "    edges:\n",
      "        edge_radius_of_a_circle_circumference_of_a_circle:\n",
      "            sender: radius_of_a_circle\n",
      "            receiver: circumference_of_a_circle\n",
      "            sender_port: node_one_output\n",
      "            receiver_port: radius\n",
      "        edge_circumference_of_a_circle_diameter_of_a_circle:\n",
      "            sender: circumference_of_a_circle\n",
      "            receiver: diameter_of_a_circle\n",
      "            sender_port: node_two_output\n",
      "            receiver_port: circumference\n",
      "\n"
     ]
    }
   ],
   "source": [
    "# An overview of the structure of the model\n",
    "print(my_model_graph.to_yaml())"
   ]
  },
  {
   "cell_type": "markdown",
   "id": "5619519a",
   "metadata": {},
   "source": [
    "# Saving our model structure\n",
    "This give a birds eyes view of the models structure and its various component parameters, various nodes, input and output ports, thier correspondng ports and many more. Similar to giving a birds eye view, it also aids in saving of the models structure."
   ]
  },
  {
   "cell_type": "code",
   "execution_count": 40,
   "id": "d42a5050",
   "metadata": {},
   "outputs": [
    {
     "data": {
      "text/plain": [
       "'my_model.yaml'"
      ]
     },
     "execution_count": 40,
     "metadata": {},
     "output_type": "execute_result"
    }
   ],
   "source": [
    "my_model.to_json_file(\"my_model.json\")\n",
    "my_model.to_yaml_file(\"my_model.yaml\")"
   ]
  },
  {
   "cell_type": "markdown",
   "id": "c80c5d41",
   "metadata": {},
   "source": [
    "## Graph visualization and image generation\n",
    "No data analysis library would be complete without appropriate visualization engine. The is necessary because it enables users of the graphs and model output to draw insigns and know what exactly is happening at a single glance of the visualization or image generated. To generate a visualization it is necessary to set the generation parameter using the `to_graph_image`. Using this, we can easily set the engine, the output_format, files save location and orientation of the image."
   ]
  },
  {
   "cell_type": "code",
   "execution_count": 41,
   "id": "05880fbf",
   "metadata": {},
   "outputs": [
    {
     "name": "stdout",
     "output_type": "stream",
     "text": [
      "Converting MDF graph: my_graph to graphviz (level: 3, format: png)\n",
      "    Node: radius_of_a_circle\n",
      "    Node: circumference_of_a_circle\n",
      "    Node: diameter_of_a_circle\n",
      "    Edge: edge_radius_of_a_circle_circumference_of_a_circle connects radius_of_a_circle to circumference_of_a_circle\n",
      "    Edge: edge_circumference_of_a_circle_diameter_of_a_circle connects circumference_of_a_circle to diameter_of_a_circle\n",
      "Written graph image to: example.png\n"
     ]
    },
    {
     "data": {
      "image/png": "[encoded data removed]",
      "text/plain": [
       "<IPython.core.display.Image object>"
      ]
     },
     "execution_count": 41,
     "metadata": {},
     "output_type": "execute_result"
    }
   ],
   "source": [
    "# Graph generation\n",
    "my_model.to_graph_image(engine= \"dot\",\n",
    "                       output_format= \"png\",\n",
    "                       view_on_render= False,\n",
    "                       level= 3,\n",
    "                       filename_root= \"example\",\n",
    "                       is_horizontal= False,\n",
    "                       solid_color= True)\n",
    "\n",
    "# Graph visualisation\n",
    "Image(filename= \"example.png\")"
   ]
  },
  {
   "cell_type": "markdown",
   "id": "9ed35d50",
   "metadata": {},
   "source": [
    "## Intializing the graph evaluation and evaluating the graph parameters\n",
    "The gerated graph is passed into the function `EvaluableGraph`, The graph passed into the `EvaluableGraph` is evaluated using the `evaluate()` function."
   ]
  },
  {
   "cell_type": "code",
   "execution_count": 42,
   "id": "88ca21ef",
   "metadata": {},
   "outputs": [
    {
     "name": "stdout",
     "output_type": "stream",
     "text": [
      "\n",
      "Init graph: my_graph\n",
      "Evaluating graph: my_graph, root nodes: ['radius_of_a_circle'], with array format numpy\n"
     ]
    }
   ],
   "source": [
    "# Graph evaluation\n",
    "evaluated_graph = EvaluableGraph(my_model_graph, verbose= False)\n",
    "evaluated_graph.evaluate()"
   ]
  },
  {
   "cell_type": "markdown",
   "id": "e86cf919",
   "metadata": {},
   "source": [
    "## Generating indivual nodes evaluted output values\n",
    "After evaluating the graph using the `EvaluableGraph`, the nodes withing the graphs will be evaluated individually, the\n",
    "`EvaluableGraph` function will take into account the output and input values of individual nodes, their formulars and their parameter values processes it and generate concise and use output values."
   ]
  },
  {
   "cell_type": "code",
   "execution_count": 43,
   "id": "0e0de5fb",
   "metadata": {},
   "outputs": [
    {
     "name": "stdout",
     "output_type": "stream",
     "text": [
      "Output of node one: 1.43\n"
     ]
    }
   ],
   "source": [
    "# Viewing the evaluated output of node one.\n",
    "print(\"Output of node one: {:.2f}\".format(evaluated_graph.enodes[\"\\\n",
    "radius_of_a_circle\"].evaluable_outputs[\"node_one_output\"].curr_value))"
   ]
  },
  {
   "cell_type": "code",
   "execution_count": 44,
   "id": "68b03822",
   "metadata": {},
   "outputs": [
    {
     "name": "stdout",
     "output_type": "stream",
     "text": [
      "Output of node two: 9.00\n"
     ]
    }
   ],
   "source": [
    "# Viewing the evaluated output of node two.\n",
    "print(\"Output of node two: {:.2f}\".format(evaluated_graph.enodes[\"\\\n",
    "circumference_of_a_circle\"].evaluable_outputs[\"node_two_output\"].curr_value))"
   ]
  },
  {
   "cell_type": "code",
   "execution_count": 45,
   "id": "bd055d08",
   "metadata": {},
   "outputs": [
    {
     "name": "stdout",
     "output_type": "stream",
     "text": [
      "Output of node three: 2.87\n"
     ]
    }
   ],
   "source": [
    "# Viewing the evaluated output of node three.\n",
    "print(\"Output of node three: {:.2f}\".format(evaluated_graph.enodes[\"\\\n",
    "diameter_of_a_circle\"].evaluable_outputs[\"node_three_output\"].curr_value))"
   ]
  },
  {
   "cell_type": "markdown",
   "id": "3f24b06d",
   "metadata": {},
   "source": [
    "# Creating models with stateful parameters in MDF"
   ]
  },
  {
   "cell_type": "markdown",
   "id": "44924c48",
   "metadata": {},
   "source": [
    "## Generating model container, model graph and linking graph to model"
   ]
  },
  {
   "cell_type": "code",
   "execution_count": 46,
   "id": "f2efaedc",
   "metadata": {},
   "outputs": [],
   "source": [
    "# Creating a model container\n",
    "my_model_two = Model(id= \"Distance_traveled_per_rotation\")\n",
    "\n",
    "# Generating a graph instance container\n",
    "my_graph_two = Graph(id= \"Distance_traveled_per_rotation_graph\")\n",
    "\n",
    "# linking the model to graph\n",
    "my_model_two.graphs.append(my_graph_two)\n"
   ]
  },
  {
   "cell_type": "code",
   "execution_count": 47,
   "id": "a8e96204",
   "metadata": {},
   "outputs": [
    {
     "name": "stdout",
     "output_type": "stream",
     "text": [
      "Distance_traveled_per_rotation_graph:\n",
      "    nodes:\n",
      "        Rotation_node:\n",
      "            metadata:\n",
      "                color: 0 .7 .2\n",
      "            parameters:\n",
      "                number_of_rotation_per_turn:\n",
      "                    value: 1.0\n",
      "                number_of_rotations:\n",
      "                    value: number_of_rotations + number_of_rotation_per_turn\n",
      "            output_ports:\n",
      "                number_of_rotations:\n",
      "                    value: number_of_rotations\n",
      "\n"
     ]
    }
   ],
   "source": [
    "# Instanciating rotaion node\n",
    "rotation_node = Node(id = \"Rotation_node\",\n",
    "                     metadata= {\"color\": \"0 .7 .2\"})\n",
    "\n",
    "# Adding parameter value(s) to rotaion node instance \n",
    "rotation_node.parameters.append(Parameter(id=\"number_of_rotation_per_turn\",\n",
    "                                          value = 1.0))\n",
    "# Defining rotation count as stateful parameter                               \n",
    "rotation_count = Parameter(id= \"number_of_rotations\",\n",
    "                           value = \"number_of_rotations + number_of_rotation_per_turn\")\n",
    "\n",
    "# Adding rotation count as stateful parameter\n",
    "rotation_node.parameters.append(rotation_count)\n",
    "\n",
    "# Adding output port to rotation node\n",
    "rotation_node.output_ports.append(OutputPort(id = \"number_of_rotations\",\n",
    "                                             value = \"number_of_rotations\"))\n",
    "\n",
    "# Adding rotation node to instanciated graph\n",
    "my_graph_two.nodes.append(rotation_node)\n",
    "                                \n",
    "print(my_graph_two.to_yaml())"
   ]
  },
  {
   "cell_type": "code",
   "execution_count": 48,
   "id": "a8d00261",
   "metadata": {},
   "outputs": [
    {
     "name": "stdout",
     "output_type": "stream",
     "text": [
      "Distance_traveled_per_rotation_graph:\n",
      "    nodes:\n",
      "        Rotation_node:\n",
      "            metadata:\n",
      "                color: 0 .7 .2\n",
      "            parameters:\n",
      "                number_of_rotation_per_turn:\n",
      "                    value: 1.0\n",
      "                number_of_rotations:\n",
      "                    value: number_of_rotations + number_of_rotation_per_turn\n",
      "            output_ports:\n",
      "                number_of_rotations:\n",
      "                    value: number_of_rotations\n",
      "        Distance_node:\n",
      "            metadata:\n",
      "                color: 0 .5 2\n",
      "            parameters:\n",
      "                distance_per_rotation:\n",
      "                    value: 1000\n",
      "                distance:\n",
      "                    value: distance + distance_per_rotation\n",
      "            output_ports:\n",
      "                distance:\n",
      "                    value: distance\n",
      "\n"
     ]
    }
   ],
   "source": [
    "# Instanciating distabce node\n",
    "distance_node = Node(id = \"Distance_node\", metadata= {\"color\": \"0 .5 2\"})\n",
    "\n",
    "# Adding parameter value(s) to distance node instance\n",
    "distance_node.parameters.append(Parameter(id = \"distance_per_rotation\",\n",
    "                                          value = 1000))\n",
    "\n",
    "# Defining distance moved as stateful parameter \n",
    "distance_moved = Parameter(id = \"distance\",\n",
    "                           value = \"distance + distance_per_rotation\")\n",
    "\n",
    "# Adding distance move as stateful parameter\n",
    "distance_node.parameters.append(distance_moved)\n",
    "\n",
    "distance_node.output_ports.append(OutputPort(id = \"distance\",\n",
    "                                            value = \"distance\"))\n",
    "\n",
    "# Adding distance moved node to instanciated graph\n",
    "my_graph_two.nodes.append(distance_node)\n",
    "\n",
    "print(my_graph_two.to_yaml())"
   ]
  },
  {
   "cell_type": "markdown",
   "id": "d91931b0",
   "metadata": {},
   "source": [
    "## Graph visualization and image generation"
   ]
  },
  {
   "cell_type": "code",
   "execution_count": 49,
   "id": "6421bf92",
   "metadata": {},
   "outputs": [
    {
     "name": "stdout",
     "output_type": "stream",
     "text": [
      "Converting MDF graph: Distance_traveled_per_rotation_graph to graphviz (level: 3, format: png)\n",
      "    Node: Rotation_node\n",
      "    Node: Distance_node\n",
      "Written graph image to: Distance_traveled.png\n"
     ]
    },
    {
     "data": {
      "image/png": "[encoded data removed]",
      "text/plain": [
       "<IPython.core.display.Image object>"
      ]
     },
     "execution_count": 49,
     "metadata": {},
     "output_type": "execute_result"
    }
   ],
   "source": [
    "# Graph generation\n",
    "my_model_two.to_graph_image(\n",
    "                                    engine = \"dot\",\n",
    "                                    output_format = \"png\",\n",
    "                                    view_on_render = False,\n",
    "                                    level = 3,\n",
    "                                    filename_root = \"Distance_traveled\",\n",
    "                                    is_horizontal = True,\n",
    "                                    solid_color = True\n",
    "                                    )\n",
    "#Graph visualization\n",
    "Image(filename = \"Distance_traveled.png\")"
   ]
  },
  {
   "cell_type": "markdown",
   "id": "ea92a67a",
   "metadata": {},
   "source": [
    "## Evaluating the stateful graph a given number of time\n",
    "Doing this shows the effect of the number of rotation on the set value of the distance traveled per every rotation."
   ]
  },
  {
   "cell_type": "code",
   "execution_count": 50,
   "id": "ad1a1262",
   "metadata": {},
   "outputs": [
    {
     "name": "stdout",
     "output_type": "stream",
     "text": [
      "\n",
      "Init graph: Distance_traveled_per_rotation_graph\n",
      "\n",
      "===== Evaluating at rotation_count==  0  ======\n",
      "Evaluating graph: Distance_traveled_per_rotation_graph, root nodes: ['Rotation_node', 'Distance_node'], with array format numpy\n",
      "Output of Rotation_node : 1 \n",
      "Output of Distance_node : 1000 \n",
      "\n",
      "===== Evaluating at rotation_count==  1  ======\n",
      "Evaluating graph: Distance_traveled_per_rotation_graph, root nodes: ['Rotation_node', 'Distance_node'], with array format numpy\n",
      "Output of Rotation_node : 2 \n",
      "Output of Distance_node : 2000 \n",
      "\n",
      "===== Evaluating at rotation_count==  2  ======\n",
      "Evaluating graph: Distance_traveled_per_rotation_graph, root nodes: ['Rotation_node', 'Distance_node'], with array format numpy\n",
      "Output of Rotation_node : 3 \n",
      "Output of Distance_node : 3000 \n",
      "\n",
      "===== Evaluating at rotation_count==  3  ======\n",
      "Evaluating graph: Distance_traveled_per_rotation_graph, root nodes: ['Rotation_node', 'Distance_node'], with array format numpy\n",
      "Output of Rotation_node : 4 \n",
      "Output of Distance_node : 4000 \n",
      "\n",
      "===== Evaluating at rotation_count==  4  ======\n",
      "Evaluating graph: Distance_traveled_per_rotation_graph, root nodes: ['Rotation_node', 'Distance_node'], with array format numpy\n",
      "Output of Rotation_node : 5 \n",
      "Output of Distance_node : 5000 \n",
      "\n",
      "===== Evaluating at rotation_count==  5  ======\n",
      "Evaluating graph: Distance_traveled_per_rotation_graph, root nodes: ['Rotation_node', 'Distance_node'], with array format numpy\n",
      "Output of Rotation_node : 6 \n",
      "Output of Distance_node : 6000 \n",
      "\n",
      "===== Evaluating at rotation_count==  6  ======\n",
      "Evaluating graph: Distance_traveled_per_rotation_graph, root nodes: ['Rotation_node', 'Distance_node'], with array format numpy\n",
      "Output of Rotation_node : 7 \n",
      "Output of Distance_node : 7000 \n"
     ]
    }
   ],
   "source": [
    "# Graph evaluation using different evaluation inputs, the paremeters are incremental by one (1\\0)\n",
    "evaluable_graph_2 = EvaluableGraph(my_graph_two, verbose = False)\n",
    "rotataion_increment = 1\n",
    "rotations = 7\n",
    "rotation_count = 0\n",
    "while rotation_count < rotations:\n",
    "        print(\"\\n===== Evaluating at rotation_count==  {}  ======\".format(rotation_count))\n",
    "        evaluable_graph_2.evaluate(rotataion_increment)\n",
    "        \n",
    "        print(\"Output of {} : {} \".format(rotation_node.id, evaluable_graph_2.enodes[\"\\\n",
    "Rotation_node\"].evaluable_outputs[\"number_of_rotations\"].curr_value))\n",
    "        \n",
    "        print(\"Output of {} : {} \".format(distance_node.id, evaluable_graph_2.enodes[\"\\\n",
    "Distance_node\"].evaluable_outputs[\"distance\"].curr_value))\n",
    "        rotation_count += rotataion_increment"
   ]
  },
  {
   "cell_type": "markdown",
   "id": "f923811a",
   "metadata": {},
   "source": [
    "## Creating addtional model, graph and node\n",
    "The creation of a new node is essential as it provide a seperate model for showcases the effect of condtions on nodes, although I could have easily have used the previous model and graph, i feel generating a new model and graph instance provide a more clearner and organised demonstration. "
   ]
  },
  {
   "cell_type": "code",
   "execution_count": 51,
   "id": "59998289",
   "metadata": {},
   "outputs": [
    {
     "name": "stdout",
     "output_type": "stream",
     "text": [
      "Graph_for_time_taken_per_rotation:\n",
      "    nodes:\n",
      "        Rotation_node:\n",
      "            metadata:\n",
      "                color: 0 .7 .2\n",
      "            parameters:\n",
      "                number_of_rotation_per_turn:\n",
      "                    value: 1.0\n",
      "                number_of_rotations:\n",
      "                    value: number_of_rotations + number_of_rotation_per_turn\n",
      "            output_ports:\n",
      "                number_of_rotations:\n",
      "                    value: number_of_rotations\n",
      "        Distance_node:\n",
      "            metadata:\n",
      "                color: 0 .5 2\n",
      "            parameters:\n",
      "                distance_per_rotation:\n",
      "                    value: 1000\n",
      "                distance:\n",
      "                    value: distance + distance_per_rotation\n",
      "            output_ports:\n",
      "                distance:\n",
      "                    value: distance\n",
      "        time_node:\n",
      "            metadata:\n",
      "                color: 0 .2 .2\n",
      "            parameters:\n",
      "                time_taken_per_rotation:\n",
      "                    value: time_taken_per_rotation + 1\n",
      "            output_ports:\n",
      "                time_taken_per_rotation:\n",
      "                    value: time_taken_per_rotation\n",
      "\n"
     ]
    }
   ],
   "source": [
    "# Creating a model container\n",
    "my_model_three = Model(id= \"Time_taken_per_rotation\")\n",
    "\n",
    "# Generating a graph instance container\n",
    "my_graph_three = Graph(id= \"Graph_for_time_taken_per_rotation\")\n",
    "\n",
    "# linking the model to graph\n",
    "my_model_three.graphs.append(my_graph_three)\n",
    "\n",
    "# Adding parameter value(s) to time node instance\n",
    "time_node = Node(id = \"time_node\",\n",
    "                     metadata= {\"color\": \"0 .2 .2\"})\n",
    "\n",
    "# Defining time taken per rotationas as stateful parameter\n",
    "time_node.parameters.append(Parameter(id=\"time_taken_per_rotation\",\n",
    "                                          value = \"time_taken_per_rotation + 1\"))\n",
    "\n",
    "# Adding output port to time node\n",
    "time_node.output_ports.append(OutputPort(id = \"time_taken_per_rotation\",\n",
    "                                             value = \"time_taken_per_rotation\"))\n",
    "\n",
    "# Adding rotation node to instanciated graph\n",
    "my_graph_three.nodes.append(rotation_node)\n",
    "\n",
    "# Adding distance node to instanciated graph\n",
    "my_graph_three.nodes.append(distance_node)\n",
    "\n",
    "# Adding time node to instanciated graph\n",
    "my_graph_three.nodes.append(time_node)\n",
    "\n",
    "# Viewing the internal structure of our graph                                \n",
    "print(my_graph_three.to_yaml())"
   ]
  },
  {
   "cell_type": "markdown",
   "id": "ff594ce7",
   "metadata": {},
   "source": [
    "## Linking conditions to nodes\n",
    "This is done using the ConditionSet function. This is done by binding a specific node to a given condition type. The specifier is known as `node_specific`. Node and condition type are set by passing the node identity as the keys of the dictionary while contions are passed as dictionary value.\n",
    "## Setting conditions to nodes\n",
    "Conditions are set using the `Condition` function. Conditions are used in specifiying when nodes are allowed to execute. This is usually done by setting activation critaria for the various instanciated nodes.Their Activation types are important when setting node activation critaria. Normally the first node is independent and always assigned a static condition which always evaluates to true and as such the node activates always like the name type implies. Other nodes can be assigned conditions whose activations are dependent on the activation of other nodes usually the first, executing a specified number of times before it can be activated.\n",
    "\n",
    "### Types of conditions supported by mdf\n",
    "* Generic: This is satisfied when a user-specified function and set of arguments evaluates to `True`.\n",
    "* Static: This is satisfied either always or never.\n",
    "* Composite: This is satisfied based on one or more other Conditions.\n",
    "* Time-based: This is satisfied based on the current count of units of time at a specified `TimeScale`\n",
    "* Node-based: This is based on the execution or state of other node.\n",
    "* Convenience: This is based on other Condition, condensed for convenience."
   ]
  },
  {
   "cell_type": "code",
   "execution_count": 52,
   "id": "ff7d0c6b",
   "metadata": {},
   "outputs": [],
   "source": [
    "# Static condition to be assigned to rotation node (This is always trigger no matter what)\n",
    "condition_one = Condition(type= 'Always')\n",
    "\n",
    "# Node based condition to be assigned to distance and time node \n",
    "# Theses conditions would be satisfied after three execution of rotation node\n",
    "condition_two = Condition(type= 'EveryNCalls',\n",
    "                          dependencies= rotation_node.id, n= 3)"
   ]
  },
  {
   "cell_type": "code",
   "execution_count": 53,
   "id": "6fa926ab",
   "metadata": {},
   "outputs": [
    {
     "name": "stdout",
     "output_type": "stream",
     "text": [
      "Graph_for_time_taken_per_rotation:\n",
      "    nodes:\n",
      "        Rotation_node:\n",
      "            metadata:\n",
      "                color: 0 .7 .2\n",
      "            parameters:\n",
      "                number_of_rotation_per_turn:\n",
      "                    value: 1.0\n",
      "                number_of_rotations:\n",
      "                    value: number_of_rotations + number_of_rotation_per_turn\n",
      "            output_ports:\n",
      "                number_of_rotations:\n",
      "                    value: number_of_rotations\n",
      "        Distance_node:\n",
      "            metadata:\n",
      "                color: 0 .5 2\n",
      "            parameters:\n",
      "                distance_per_rotation:\n",
      "                    value: 1000\n",
      "                distance:\n",
      "                    value: distance + distance_per_rotation\n",
      "            output_ports:\n",
      "                distance:\n",
      "                    value: distance\n",
      "        time_node:\n",
      "            metadata:\n",
      "                color: 0 .2 .2\n",
      "            parameters:\n",
      "                time_taken_per_rotation:\n",
      "                    value: time_taken_per_rotation + 1\n",
      "            output_ports:\n",
      "                time_taken_per_rotation:\n",
      "                    value: time_taken_per_rotation\n",
      "    conditions:\n",
      "        node_specific:\n",
      "            Rotation_node:\n",
      "                type: Always\n",
      "                kwargs: {}\n",
      "            Distance_node:\n",
      "                type: EveryNCalls\n",
      "                kwargs:\n",
      "                    dependencies: Rotation_node\n",
      "                    n: 3\n",
      "            time_node:\n",
      "                type: EveryNCalls\n",
      "                kwargs:\n",
      "                    dependencies: Rotation_node\n",
      "                    n: 3\n",
      "\n"
     ]
    }
   ],
   "source": [
    "# add the conditions to the Graph\n",
    "my_graph_three.conditions = ConditionSet(node_specific= {rotation_node.id : condition_one, \n",
    "                                                         distance_node.id : condition_two,\n",
    "                                                         time_node.id: condition_two})\n",
    "\n",
    "# Printing the current structure of the graph after condition addition\n",
    "print(my_graph_three.to_yaml())"
   ]
  },
  {
   "cell_type": "markdown",
   "id": "255b5bd7",
   "metadata": {},
   "source": [
    "## Graph visualization and image generation"
   ]
  },
  {
   "cell_type": "code",
   "execution_count": 54,
   "id": "089592fe",
   "metadata": {},
   "outputs": [
    {
     "name": "stdout",
     "output_type": "stream",
     "text": [
      "Converting MDF graph: Graph_for_time_taken_per_rotation to graphviz (level: 3, format: png)\n",
      "    Node: Rotation_node\n",
      "    Node: Distance_node\n",
      "    Node: time_node\n",
      "Written graph image to: Time_taken_per_rotation.png\n"
     ]
    },
    {
     "data": {
      "image/png": "[encoded data removed]",
      "text/plain": [
       "<IPython.core.display.Image object>"
      ]
     },
     "execution_count": 54,
     "metadata": {},
     "output_type": "execute_result"
    }
   ],
   "source": [
    "# Graph generation\n",
    "my_model_three.to_graph_image(\n",
    "                                    engine = \"dot\",\n",
    "                                    output_format = \"png\",\n",
    "                                    view_on_render = False,\n",
    "                                    level = 3,\n",
    "                                    filename_root = \"Time_taken_per_rotation\",\n",
    "                                    is_horizontal = True,\n",
    "                                    solid_color = True\n",
    "                                    )\n",
    "#Graph visualization\n",
    "Image(filename = \"Time_taken_per_rotation.png\")"
   ]
  },
  {
   "cell_type": "markdown",
   "id": "f0991908",
   "metadata": {},
   "source": [
    "## Generating output values for evaluted nodes  with condtions"
   ]
  },
  {
   "cell_type": "code",
   "execution_count": 55,
   "id": "aa9140b3",
   "metadata": {},
   "outputs": [
    {
     "name": "stdout",
     "output_type": "stream",
     "text": [
      "\n",
      "Init graph: Graph_for_time_taken_per_rotation\n",
      "Evaluating graph: Graph_for_time_taken_per_rotation, root nodes: ['Rotation_node', 'Distance_node', 'time_node'], with array format numpy\n",
      "Output of number_of_rotation_per_turn: 3\n",
      "Output of distance_per_rotation: 1000\n",
      "Output of time_taken_per_rotation: 1\n"
     ]
    }
   ],
   "source": [
    "evaluable_graph = EvaluableGraph(my_graph_three, verbose = False)\n",
    "evaluable_graph.evaluate()\n",
    "\n",
    "# The Output of number of rotation per turn will be three (3) as it executes 3 times\n",
    "print(\"Output of number_of_rotation_per_turn: {}\".format(evaluable_graph.enodes[\"\\\n",
    "Rotation_node\"].evaluable_outputs[\"number_of_rotations\"].curr_value))\n",
    "\n",
    "# The Output of distance per rotation will be 1000 as it executes once while the\n",
    "# Independent node executes three times\n",
    "print(\"Output of distance_per_rotation: {}\".format(evaluable_graph.enodes[\"\\\n",
    "Distance_node\"].evaluable_outputs[\"distance\"].curr_value))\n",
    "\n",
    "# The Output of time taken per rotation will be one (1) as it executes 1 time while the\n",
    "# Independent node executes  three times\n",
    "print(\"Output of time_taken_per_rotation: {}\".format(evaluable_graph.enodes[\"\\\n",
    "time_node\"].evaluable_outputs[\"time_taken_per_rotation\"].curr_value))"
   ]
  },
  {
   "cell_type": "markdown",
   "id": "21849ca2",
   "metadata": {},
   "source": [
    "# Thank you"
   ]
  },
  {
   "cell_type": "code",
   "execution_count": null,
   "id": "cfad33b0",
   "metadata": {},
   "outputs": [],
   "source": []
  }
 ],
 "metadata": {
  "kernelspec": {
   "display_name": "Python 3 (ipykernel)",
   "language": "python",
   "name": "python3"
  },
  "language_info": {
   "codemirror_mode": {
    "name": "ipython",
    "version": 3
   },
   "file_extension": ".py",
   "mimetype": "text/x-python",
   "name": "python",
   "nbconvert_exporter": "python",
   "pygments_lexer": "ipython3",
   "version": "3.10.0"
  }
 },
 "nbformat": 4,
 "nbformat_minor": 5
}
