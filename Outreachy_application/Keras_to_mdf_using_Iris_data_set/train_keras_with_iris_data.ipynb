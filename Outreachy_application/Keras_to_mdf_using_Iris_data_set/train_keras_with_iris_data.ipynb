{
 "cells": [
  {
   "cell_type": "markdown",
   "id": "38db24c1",
   "metadata": {},
   "source": [
    "# Table of Contents\n",
    " * [Project description](#Project-description)\n",
    " * [About our data](#About-our-data)\n",
    " * [The columns in this dataset are](#The-columns-in-this-dataset-are)\n",
    " * [Libraries used in this demonstration](#Libraries-used-in-this-demonstration)\n",
    " * [Standar workflow imports](#Standar-workflow-imports)\n",
    " * [Importing our dataset using pandas](#Importing-our-dataset-using-pandas)\n",
    " * [Splitting our dataset into X (Features) and y (Target values)](#Splitting-our-dataset-into-X-(Features)-and-y-(Target-values))\n",
    " * [Splitting our data into train and test set](#Splitting-our-data-into-train-and-test-set)\n",
    " * [Converting all values to Numpy array](#Converting-all-values-to-Numpy-array)\n",
    " * [Instanciating our model object and adding layers](#Instanciating-our-model-object-and-adding-layers)\n",
    " * [Model compilation](#Model-compilation)\n",
    " * [Fitting our model with its training data](#Fitting-our-model-with-its-training-data)\n",
    " * [Viewing our matrics to determine the efficiency of our model](#Viewing-our-matrics-to-determine-the-efficiency-of-our-model)\n",
    " * [Model summary information](#Model-summary-information)\n",
    " * [Predicting the outcome of our X_test and comparing with actual values of y](#Predicting-the-outcome-of-our-X_test-and-comparing-with-actual-values-of-y)\n",
    " * [Visualizing our model](#Visualizing-our-model)"
   ]
  },
  {
   "cell_type": "markdown",
   "id": "03d8c7f1",
   "metadata": {},
   "source": [
    "## Project description\n",
    "\n",
    "This demonstration is intended for the sole purpose of training, testing and evaluating of the model created for the second MDF project. The project made use of modified data obtained from the popular site known as kaggle. The data set used to train our model was the Iris data set used in R. A Fisher's classic 1936 paper. For the sake of theses experiment, the Iris data set was slightly modified due to time contraints and as a result of much time spent on resolving compatibility issues of a shared dependency known as protobuf. \n",
    "\n",
    "## About our data\n",
    "\n",
    "Originally the data consist of three (3) isris spicies with 50 samples, each as well as some properties abot each flower. One flower species is linerarly seperable from the other two nut the other two are not linearly separable from each other. In this demonstration, the data gotten from kaggle were sorted and arraged according to specie types and in alphabetically. This lower species ranking lowest according to alphabetical sorting were the ones removed. In this demonstration,the species name Iris-setosa and Iris-vesicolor were assigned value 1 and 2 respectively as target values.\n",
    "\n",
    "## The columns in this dataset are\n",
    "\n",
    " * ID: These are the various index number assigned to each roles. This starts from index zero (0) and terminates at ninty nine (99)\n",
    " * Sepal Length in Cm: This is the length of the sepals, which are the green leaf like structures that surrounds and protects the flower when it is in bud.\n",
    " * Sepal Width in Cm: This is the width of the sepal whic is measured in perpendicular length.\n",
    " * Petal Length Cm: This refers to the length of the petals, which are colorful leaflike structures that make up the outer most parts of of the flower. \n",
    " * Petal WIdth Cm: This is the width of the petal and it is also measured in perpendicular length.\n",
    " * Species: The species are our target variables for the model, and are Iris-setosa and Iris-vesicolor. They are assigned numerical values of 0 and 1 respectively "
   ]
  },
  {
   "cell_type": "markdown",
   "id": "ab6d50f8",
   "metadata": {},
   "source": [
    "## Libraries used in this demonstration\n",
    " * Numpy: Numpy is a Python library used for numerical computing. This library provides fast and efficient functions for performing mathematical operations for performing mathematical operations on array and matrices. Numpy's main datatype is the ndarray, which is a multidimentional array that allows us perfrm mathematical operations on entire arrays\n",
    " * keras.metrics.accuracy: This module contains a special function known as accuracy which is used to measure the accuracy of a classification model during training and evaluation. It computes the accuracy rate as the fraction of correctly classified samples over the total numer of samples.\n",
    " * Keras.utils.vis_utils.plot_model: This function is uesd to create visual representations of a keras model. It is useful in enabling us understand how the model is and what is going on.\n",
    " * tensorflow.keras.layers.dense:This enables us to create a fully connected neural network layer, it a very common layer used in deep learning models. With the used of dense, we are able to stalk layers on top of each other. \n",
    " * Pandas: In this demonstration, pandas is used for importing our data set, it enable us separate the the target value from the features, it was also used to enable us reconstruct our final Y_Pred againts the actual_Y values.\n",
    " * Sklearn.model_selection.train_test_split: In this demonstration, this function was gotten form the scikit-learn library, this function enables us to split our data sets into a training set and a test set. This is an essential step in machine learning as it helps us evaluate the performance of a model on data it has never seen before.\n",
    " * Tensorflow.keras.models.sequential: This allows us to build neural network models layer-by-layer in a sequential manner. it is one of the most commonly used classes in keras for building deep learning models.\n",
    "* Tensorflow.keras.models.save_model: This is also a function from thekeras library in Python, This allows us to save a trained model to a file for later usage. this function can be used to save the keras model along with its architecture, weights and optimizer state. It use a .h5 extension when making saves."
   ]
  },
  {
   "cell_type": "markdown",
   "id": "564749e1",
   "metadata": {},
   "source": [
    "## Standar workflow imports"
   ]
  },
  {
   "cell_type": "code",
   "execution_count": 38,
   "id": "a88dea93",
   "metadata": {},
   "outputs": [],
   "source": [
    "import numpy as np\n",
    "import pandas as pd\n",
    "import tensorflow\n",
    "from tensorflow.keras.models import save_model\n",
    "from tensorflow.keras.models import Sequential\n",
    "from tensorflow.keras.layers import Dense\n",
    "from keras.metrics import Accuracy\n",
    "from keras.utils.vis_utils import plot_model\n",
    "from sklearn.model_selection import train_test_split\n",
    "from sklearn.datasets import load_iris"
   ]
  },
  {
   "cell_type": "markdown",
   "id": "8b5902e1",
   "metadata": {},
   "source": [
    "## Importing our dataset using pandas\n",
    "The data was imported into jupyter as a dataframe using the `.read_csv()` function, this takes the name of the dataset to be imported as the arguements. After inporting our dataset, to be sure the right dataset was imported and to also identify the various features and target values present we view the dataset using the `.head()`. This method makes visible the first 5 rows of the dataset.   "
   ]
  },
  {
   "cell_type": "code",
   "execution_count": 40,
   "id": "9a6f03ad",
   "metadata": {},
   "outputs": [],
   "source": [
    "my_dataset = load_iris()\n",
    "X = my_dataset.data\n",
    "y = my_dataset.target\n",
    "X = X[:100]\n",
    "y = y[:100]"
   ]
  },
  {
   "cell_type": "markdown",
   "id": "f65d6c48",
   "metadata": {},
   "source": [
    "## Splitting our dataset into X (Features) and y (Target values)\n",
    "For any machine model training work, as outcome(s), there should always be an expected values, in data science, these values as assigned y. This is the basis with which the model evaluates its data upon and uses this as a means to comfirm its predictions during training of the model. This lets the model know its doing the right thing and serves as feedback for the mode."
   ]
  },
  {
   "cell_type": "markdown",
   "id": "c6c75a2d",
   "metadata": {},
   "source": [
    "## Splitting our data into train and test set\n",
    "This is a big requirement when it comes to model training, it doesnt just stop at simple splitting the data, it does beyond that it randomises the data in such as way as to enable random destribution especially for this type of data were all the roles are arranged from 0s to 1s and are the species Iris--setosa and Iris-vesicolor respectively. In this case there is a need for randomisation. Note because random states constantly changes we need to set a random state or randomisation seed value so as to lock our randomisation to a set fixed randomisation pattern. "
   ]
  },
  {
   "cell_type": "code",
   "execution_count": 43,
   "id": "89d305e5",
   "metadata": {},
   "outputs": [
    {
     "data": {
      "text/plain": [
       "((80, 4), (80,))"
      ]
     },
     "execution_count": 43,
     "metadata": {},
     "output_type": "execute_result"
    }
   ],
   "source": [
    "X_train, X_test, y_train, y_test = train_test_split(X, y, test_size= 0.2, random_state=42)\n",
    "X_train.shape, y_train.shape"
   ]
  },
  {
   "cell_type": "markdown",
   "id": "bfc567dd",
   "metadata": {},
   "source": [
    "## Converting all values to Numpy array\n",
    "This is important as it converts our dataframe into an ndarray, this enables the model to better understant the data and form meaning connections between the data being fed into the model."
   ]
  },
  {
   "cell_type": "markdown",
   "id": "39afa1c5",
   "metadata": {},
   "source": [
    "## Instanciating our model object and adding layers\n",
    "This enables us to specify the dimention our data will be taking as input, it also specifies the number of neurons to use for each layer, aside from that it also specifies the activations as well as the layer_names. naming of individual layer with specific and easy use and remember names would come in extremely useful in the next phase of our demonstration. Finally, the use it also helps set the output value for our predictons."
   ]
  },
  {
   "cell_type": "code",
   "execution_count": 45,
   "id": "174872c7",
   "metadata": {},
   "outputs": [],
   "source": [
    "model = Sequential()\n",
    "model.add(Dense(units= 32, activation= \"relu\", input_dim= 4, name = \"first_layer\"))\n",
    "model.add(Dense(units= 64, activation= \"relu\", name = \"second_layer\"))\n",
    "model.add(Dense(units= 64, activation= \"relu\", name = \"third_layer\"))\n",
    "model.add(Dense(units= 1, activation= \"sigmoid\", name= \"fourth_layer\"))"
   ]
  },
  {
   "cell_type": "markdown",
   "id": "0d62be2f",
   "metadata": {},
   "source": [
    "## Model compilation\n",
    "This helps to check fo rformat errors and defines the loss function, the optimizer or learning rate and the matrics used."
   ]
  },
  {
   "cell_type": "code",
   "execution_count": 46,
   "id": "f862b7ec",
   "metadata": {},
   "outputs": [],
   "source": [
    "model.compile(loss=\"mse\",\n",
    "             optimizer= \"adam\",\n",
    "             metrics=[\"accuracy\"])"
   ]
  },
  {
   "cell_type": "markdown",
   "id": "2ded0e88",
   "metadata": {},
   "source": [
    "## Fitting our model with its training data\n",
    "This enables us to fit our model based on the data we have. After fitting our model, it enables us to make prediction based similar on similar data. Fitting our model means means passing training data through our model so as to to update the model and its internal mathematical variables, thereby getting it ready to make predictions. While fitting our model we can pass various parametes such as batch_sizes, epochs, verbose, validation_data etc."
   ]
  },
  {
   "cell_type": "code",
   "execution_count": 47,
   "id": "fc16addf",
   "metadata": {},
   "outputs": [
    {
     "data": {
      "text/plain": [
       "<keras.callbacks.History at 0x1e8273aad30>"
      ]
     },
     "execution_count": 47,
     "metadata": {},
     "output_type": "execute_result"
    }
   ],
   "source": [
    "model.fit(X_train, y_train, epochs = 10, batch_size = 32, validation_data = (X_test, y_test), verbose = False)"
   ]
  },
  {
   "cell_type": "markdown",
   "id": "8bc84b2a",
   "metadata": {},
   "source": [
    "## Viewing our matrics to determine the efficiency of our model\n",
    "Runnning this simple loop enables us to know our models loss rates as well as its overall accuracy. This is important as it enable us know if our model underfits or overfits our data, in this case, the dataset are not so complicated and our model can quickly fine relationships betweeen the data, enabling it to get perfect accuracy scores."
   ]
  },
  {
   "cell_type": "code",
   "execution_count": 48,
   "id": "c92b4ba9",
   "metadata": {},
   "outputs": [
    {
     "name": "stdout",
     "output_type": "stream",
     "text": [
      "loss: 0.06\n",
      "accuracy: 1.00\n"
     ]
    }
   ],
   "source": [
    "scores= model.evaluate(X_train, y_train, verbose=0)\n",
    "for i in range(2):\n",
    "    print(\"{}: {:.2f}\".format(model.metrics_names[i], scores[i]))"
   ]
  },
  {
   "cell_type": "markdown",
   "id": "26fed965",
   "metadata": {},
   "source": [
    "## Model summary information\n",
    "This provides a way to summarize a model, The summary includes the following sets of informations such as:\n",
    " * The layers and their order in the model\n",
    " * The output shapes of each layer\n",
    " * The number of parameters (weights and biases in each layers)\n",
    " * The total number of parameters (weights and biases in the mdel)"
   ]
  },
  {
   "cell_type": "code",
   "execution_count": 49,
   "id": "acbb6303",
   "metadata": {},
   "outputs": [
    {
     "name": "stdout",
     "output_type": "stream",
     "text": [
      "Model: \"sequential_1\"\n",
      "_________________________________________________________________\n",
      " Layer (type)                Output Shape              Param #   \n",
      "=================================================================\n",
      " first_layer (Dense)         (None, 32)                160       \n",
      "                                                                 \n",
      " second_layer (Dense)        (None, 64)                2112      \n",
      "                                                                 \n",
      " third_layer (Dense)         (None, 64)                4160      \n",
      "                                                                 \n",
      " fourth_layer (Dense)        (None, 1)                 65        \n",
      "                                                                 \n",
      "=================================================================\n",
      "Total params: 6,497\n",
      "Trainable params: 6,497\n",
      "Non-trainable params: 0\n",
      "_________________________________________________________________\n"
     ]
    }
   ],
   "source": [
    "model.summary()"
   ]
  },
  {
   "cell_type": "markdown",
   "id": "50fe94e6",
   "metadata": {},
   "source": [
    "## Predicting the outcome of our X_test and comparing with actual values of y\n",
    "This done with the fuction `.predict()`. This takes the X_test dataset as argument in predicting the values of ."
   ]
  },
  {
   "cell_type": "code",
   "execution_count": 50,
   "id": "e790c4c9",
   "metadata": {},
   "outputs": [],
   "source": [
    "y_pred = model.predict(X_test)"
   ]
  },
  {
   "cell_type": "code",
   "execution_count": 51,
   "id": "4f1939bc",
   "metadata": {},
   "outputs": [
    {
     "data": {
      "text/html": [
       "<div>\n",
       "<style scoped>\n",
       "    .dataframe tbody tr th:only-of-type {\n",
       "        vertical-align: middle;\n",
       "    }\n",
       "\n",
       "    .dataframe tbody tr th {\n",
       "        vertical-align: top;\n",
       "    }\n",
       "\n",
       "    .dataframe thead th {\n",
       "        text-align: right;\n",
       "    }\n",
       "</style>\n",
       "<table border=\"1\" class=\"dataframe\">\n",
       "  <thead>\n",
       "    <tr style=\"text-align: right;\">\n",
       "      <th></th>\n",
       "      <th>Actual Target</th>\n",
       "      <th>Predicted Target</th>\n",
       "    </tr>\n",
       "  </thead>\n",
       "  <tbody>\n",
       "    <tr>\n",
       "      <th>0</th>\n",
       "      <td>1</td>\n",
       "      <td>1</td>\n",
       "    </tr>\n",
       "    <tr>\n",
       "      <th>1</th>\n",
       "      <td>1</td>\n",
       "      <td>1</td>\n",
       "    </tr>\n",
       "    <tr>\n",
       "      <th>2</th>\n",
       "      <td>1</td>\n",
       "      <td>1</td>\n",
       "    </tr>\n",
       "    <tr>\n",
       "      <th>3</th>\n",
       "      <td>0</td>\n",
       "      <td>0</td>\n",
       "    </tr>\n",
       "    <tr>\n",
       "      <th>4</th>\n",
       "      <td>0</td>\n",
       "      <td>0</td>\n",
       "    </tr>\n",
       "    <tr>\n",
       "      <th>5</th>\n",
       "      <td>0</td>\n",
       "      <td>0</td>\n",
       "    </tr>\n",
       "    <tr>\n",
       "      <th>6</th>\n",
       "      <td>0</td>\n",
       "      <td>0</td>\n",
       "    </tr>\n",
       "    <tr>\n",
       "      <th>7</th>\n",
       "      <td>1</td>\n",
       "      <td>1</td>\n",
       "    </tr>\n",
       "    <tr>\n",
       "      <th>8</th>\n",
       "      <td>0</td>\n",
       "      <td>0</td>\n",
       "    </tr>\n",
       "    <tr>\n",
       "      <th>9</th>\n",
       "      <td>0</td>\n",
       "      <td>0</td>\n",
       "    </tr>\n",
       "    <tr>\n",
       "      <th>10</th>\n",
       "      <td>0</td>\n",
       "      <td>0</td>\n",
       "    </tr>\n",
       "    <tr>\n",
       "      <th>11</th>\n",
       "      <td>0</td>\n",
       "      <td>0</td>\n",
       "    </tr>\n",
       "    <tr>\n",
       "      <th>12</th>\n",
       "      <td>1</td>\n",
       "      <td>1</td>\n",
       "    </tr>\n",
       "    <tr>\n",
       "      <th>13</th>\n",
       "      <td>0</td>\n",
       "      <td>0</td>\n",
       "    </tr>\n",
       "    <tr>\n",
       "      <th>14</th>\n",
       "      <td>1</td>\n",
       "      <td>1</td>\n",
       "    </tr>\n",
       "    <tr>\n",
       "      <th>15</th>\n",
       "      <td>0</td>\n",
       "      <td>0</td>\n",
       "    </tr>\n",
       "    <tr>\n",
       "      <th>16</th>\n",
       "      <td>1</td>\n",
       "      <td>1</td>\n",
       "    </tr>\n",
       "    <tr>\n",
       "      <th>17</th>\n",
       "      <td>1</td>\n",
       "      <td>1</td>\n",
       "    </tr>\n",
       "    <tr>\n",
       "      <th>18</th>\n",
       "      <td>0</td>\n",
       "      <td>0</td>\n",
       "    </tr>\n",
       "    <tr>\n",
       "      <th>19</th>\n",
       "      <td>0</td>\n",
       "      <td>0</td>\n",
       "    </tr>\n",
       "  </tbody>\n",
       "</table>\n",
       "</div>"
      ],
      "text/plain": [
       "    Actual Target  Predicted Target\n",
       "0               1                 1\n",
       "1               1                 1\n",
       "2               1                 1\n",
       "3               0                 0\n",
       "4               0                 0\n",
       "5               0                 0\n",
       "6               0                 0\n",
       "7               1                 1\n",
       "8               0                 0\n",
       "9               0                 0\n",
       "10              0                 0\n",
       "11              0                 0\n",
       "12              1                 1\n",
       "13              0                 0\n",
       "14              1                 1\n",
       "15              0                 0\n",
       "16              1                 1\n",
       "17              1                 1\n",
       "18              0                 0\n",
       "19              0                 0"
      ]
     },
     "execution_count": 51,
     "metadata": {},
     "output_type": "execute_result"
    }
   ],
   "source": [
    "my_df = pd.DataFrame(y_test).reset_index()\n",
    "my_df = my_df.drop([\"index\"], axis=1)\n",
    "my_df.columns = [\"Actual Target\"]\n",
    "my_df[\"Predicted Target\"] = y_pred.round().astype(int)\n",
    "my_df"
   ]
  },
  {
   "cell_type": "markdown",
   "id": "5fb4c053",
   "metadata": {},
   "source": [
    "## Visualizing our model\n",
    "The summary i suseful for simple models but it can be confusing for models that have multiple imputs or outputs. This enables us to quickly understand what is happen at a glance of the model."
   ]
  },
  {
   "cell_type": "code",
   "execution_count": 52,
   "id": "80bf8778",
   "metadata": {},
   "outputs": [
    {
     "data": {
      "image/png": "[encoded data removed]",
      "text/plain": [
       "<IPython.core.display.Image object>"
      ]
     },
     "execution_count": 52,
     "metadata": {},
     "output_type": "execute_result"
    }
   ],
   "source": [
    "plot_model(model, to_file='model.png', show_shapes=True, show_layer_names=True)"
   ]
  },
  {
   "cell_type": "markdown",
   "id": "2e7e5220",
   "metadata": {},
   "source": [
    "## Saving our model for later use\n",
    "This involves saving our trained model by calling the save function and assigning a suitable name for the model to be saved."
   ]
  },
  {
   "cell_type": "code",
   "execution_count": 53,
   "id": "093204d0",
   "metadata": {},
   "outputs": [],
   "source": [
    "save_model(model, 'model.h5')"
   ]
  },
  {
   "cell_type": "code",
   "execution_count": null,
   "id": "301d6309",
   "metadata": {},
   "outputs": [],
   "source": []
  }
 ],
 "metadata": {
  "kernelspec": {
   "display_name": "Python 3 (ipykernel)",
   "language": "python",
   "name": "python3"
  },
  "language_info": {
   "codemirror_mode": {
    "name": "ipython",
    "version": 3
   },
   "file_extension": ".py",
   "mimetype": "text/x-python",
   "name": "python",
   "nbconvert_exporter": "python",
   "pygments_lexer": "ipython3",
   "version": "3.9.0"
  }
 },
 "nbformat": 4,
 "nbformat_minor": 5
}
