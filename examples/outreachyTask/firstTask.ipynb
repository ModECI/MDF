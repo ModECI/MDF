{
 "cells": [
  {
   "cell_type": "code",
   "execution_count": 1,
   "metadata": {},
   "outputs": [],
   "source": [
    "import numpy as np\n",
    "from modeci_mdf.mdf import *\n",
    "from modeci_mdf.execution_engine import EvaluableGraph\n",
    "from modeci_mdf.utils import simple_connect"
   ]
  },
  {
   "cell_type": "code",
   "execution_count": 2,
   "metadata": {},
   "outputs": [],
   "source": [
    "# Create the model and graph\n",
    "model = Model(id=\"example_model\")\n",
    "graph = Graph(id=\"example_graph\")\n",
    "model.graphs.append(graph)"
   ]
  },
  {
   "cell_type": "code",
   "execution_count": 3,
   "metadata": {},
   "outputs": [],
   "source": [
    "# Node 1: Input node with a parameter \"input_val\"\n",
    "node1 = Node(id=\"node1\")\n",
    "node1.parameters.append(Parameter(id=\"input_val\", value=2.0))\n",
    "node1.output_ports.append(OutputPort(id=\"output\", value=\"input_val\"))\n",
    "graph.nodes.append(node1)"
   ]
  },
  {
   "cell_type": "code",
   "execution_count": 4,
   "metadata": {},
   "outputs": [],
   "source": [
    "# Node 2: Takes input from node1, multiplies it by 3 and adds 2 if the input is greater than 1, otherwise subtracts 1\n",
    "node2 = Node(id=\"node2\")\n",
    "node2.input_ports.append(InputPort(id=\"input\"))\n",
    "node2.parameters.append(Parameter(id=\"multiplier\", value=3.0))\n",
    "node2.parameters.append(Parameter(id=\"offset\", value=2.0))\n",
    "node2.parameters.append(Parameter(id=\"result\", value=\"input * multiplier + offset\"))\n",
    "node2.output_ports.append(OutputPort(id=\"output\", value=\"result\"))\n",
    "graph.nodes.append(node2)"
   ]
  },
  {
   "cell_type": "code",
   "execution_count": 5,
   "metadata": {},
   "outputs": [],
   "source": [
    "# Node 3: Takes input from node2 and computes its square root\n",
    "import math\n",
    "node3 = Node(id=\"node3\")\n",
    "node3.input_ports.append(InputPort(id=\"input\"))\n",
    "node3.parameters.append(Parameter(id=\"result\", value=\"input * 10\"))\n",
    "node3.output_ports.append(OutputPort(id=\"output\", value=\"result\"))\n",
    "graph.nodes.append(node3)"
   ]
  },
  {
   "cell_type": "code",
   "execution_count": 6,
   "metadata": {},
   "outputs": [],
   "source": [
    "#  Connect the nodes\n",
    "e1 = simple_connect(node1, node2, graph)\n",
    "e2 = simple_connect(node2, node3, graph)"
   ]
  },
  {
   "cell_type": "code",
   "execution_count": 7,
   "metadata": {},
   "outputs": [
    {
     "data": {
      "text/plain": [
       "'example.yaml'"
      ]
     },
     "execution_count": 7,
     "metadata": {},
     "output_type": "execute_result"
    }
   ],
   "source": [
    "model.to_json_file(\"example.json\")\n",
    "model.to_yaml_file(\"example.yaml\")"
   ]
  },
  {
   "cell_type": "code",
   "execution_count": 8,
   "metadata": {},
   "outputs": [
    {
     "name": "stdout",
     "output_type": "stream",
     "text": [
      "Converting MDF graph: example_graph to graphviz (level: 3, format: png)\n",
      "    Node: node1\n",
      "    Node: node2\n",
      "    Node: node3\n",
      "    Edge: edge_node1_node2 connects node1 to node2\n",
      "    Edge: edge_node2_node3 connects node2 to node3\n",
      "Written graph image to: example.png\n"
     ]
    },
    {
     "data": {
      "image/png": "[encoded data removed]",
      "text/plain": [
       "<IPython.core.display.Image object>"
      ]
     },
     "execution_count": 8,
     "metadata": {},
     "output_type": "execute_result"
    }
   ],
   "source": [
    "model.to_graph_image(\n",
    "        engine=\"dot\",\n",
    "        output_format=\"png\",\n",
    "        view_on_render=False,\n",
    "        level=3,\n",
    "        filename_root=\"example\",\n",
    "        is_horizontal=True\n",
    "    )\n",
    "\n",
    "from IPython.display import Image\n",
    "Image(filename=\"example.png\")"
   ]
  },
  {
   "cell_type": "code",
   "execution_count": 9,
   "metadata": {},
   "outputs": [
    {
     "name": "stdout",
     "output_type": "stream",
     "text": [
      "\n",
      "Init graph: example_graph\n",
      "Evaluating graph: example_graph, root nodes: ['node1'], with array format numpy\n",
      "Output of node1: 2\n",
      "Output of node2: 8\n"
     ]
    }
   ],
   "source": [
    "#  Evaluate the graph\n",
    "eg = EvaluableGraph(graph, verbose=False)\n",
    "eg.evaluate()\n",
    "\n",
    "# Print the output values\n",
    "print('Output of node1:', eg.enodes[\"node1\"].evaluable_outputs[\"output\"].curr_value)\n",
    "print('Output of node2:', eg.enodes[\"node2\"].evaluable_outputs[\"output\"].curr_value)"
   ]
  },
  {
   "cell_type": "code",
   "execution_count": 11,
   "metadata": {},
   "outputs": [
    {
     "name": "stdout",
     "output_type": "stream",
     "text": [
      "Evaluating graph: example_graph, root nodes: ['node1'], with array format numpy\n",
      "Output of node1: 0\n",
      "Output of node2: 2\n",
      "Output of node3: 20\n"
     ]
    }
   ],
   "source": [
    "import numpy as np \n",
    "\n",
    "# give some another input to the node1 \n",
    "node1.get_parameter('input_val').value = 0\n",
    "\n",
    "eg.evaluate()\n",
    "\n",
    "# Print the output values\n",
    "print('Output of node1:', eg.enodes[\"node1\"].evaluable_outputs[\"output\"].curr_value)\n",
    "print('Output of node2:', eg.enodes[\"node2\"].evaluable_outputs[\"output\"].curr_value)\n",
    "\n",
    "print('Output of node3:', eg.enodes[\"node3\"].evaluable_outputs[\"output\"].curr_value)"
   ]
  },
  {
   "cell_type": "code",
   "execution_count": null,
   "metadata": {},
   "outputs": [],
   "source": []
  }
 ],
 "metadata": {
  "kernelspec": {
   "display_name": "mdfenv",
   "language": "python",
   "name": "python3"
  },
  "language_info": {
   "codemirror_mode": {
    "name": "ipython",
    "version": 3
   },
   "file_extension": ".py",
   "mimetype": "text/x-python",
   "name": "python",
   "nbconvert_exporter": "python",
   "pygments_lexer": "ipython3",
   "version": "3.9.16"
  },
  "orig_nbformat": 4
 },
 "nbformat": 4,
 "nbformat_minor": 2
}
