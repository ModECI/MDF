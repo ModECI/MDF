{
 "cells": [
  {
   "cell_type": "markdown",
   "id": "5c9ecda2-d7bd-4aa8-8e40-c8a1f4c0bd53",
   "metadata": {},
   "source": [
    "# Import necessary modules:"
   ]
  },
  {
   "cell_type": "code",
   "execution_count": 1,
   "id": "a9250d4f-6be4-4742-9490-77e657868553",
   "metadata": {
    "tags": []
   },
   "outputs": [],
   "source": [
    "from sympy import symbols, sin, exp, Derivative\n",
    "from modeci_mdf.mdf import *\n",
    "from modeci_mdf.utils import simple_connect\n",
    "from IPython.display import Image\n",
    "from modeci_mdf.execution_engine import EvaluableGraph"
   ]
  },
  {
   "cell_type": "markdown",
   "id": "250f46ac-e663-4f64-8fcc-fb4ac1c665d0",
   "metadata": {},
   "source": [
    "# Create a model with a unique identifier and a graph for the model"
   ]
  },
  {
   "cell_type": "code",
   "execution_count": 2,
   "id": "86726999-7d0c-4f47-b357-3d7229b6a551",
   "metadata": {
    "tags": []
   },
   "outputs": [],
   "source": [
    "model = Model(id=\"trial_model\")\n",
    "mod_graph = Graph(id=\"trial_example\")"
   ]
  },
  {
   "cell_type": "markdown",
   "id": "af359198-14ee-4a4b-8700-8e36ed2c0a4a",
   "metadata": {},
   "source": [
    "# Create 3 Nodes"
   ]
  },
  {
   "cell_type": "code",
   "execution_count": 3,
   "id": "78899ef8-b786-40e3-ba33-06c38134d839",
   "metadata": {
    "tags": []
   },
   "outputs": [],
   "source": [
    "node1 = Node(id=\"A\")\n",
    "node2 = Node(id=\"B\")\n",
    "node3 = Node(id=\"C\")"
   ]
  },
  {
   "cell_type": "markdown",
   "id": "c899619a-65df-47b0-9afb-916785936171",
   "metadata": {
    "tags": []
   },
   "source": [
    "# Add the nodes to the graph"
   ]
  },
  {
   "cell_type": "markdown",
   "id": "89b95ece-b06d-489a-9a72-dc132f1f7364",
   "metadata": {},
   "source": [
    "----------\n",
    "Set desired values for calculation"
   ]
  },
  {
   "cell_type": "code",
   "execution_count": 4,
   "id": "fa5a0039-bd3c-4596-8cea-b329748b2408",
   "metadata": {
    "tags": []
   },
   "outputs": [],
   "source": [
    "node1.parameters.append(Parameter(id=\"level\", value=239))\n",
    "node1.output_ports.append(OutputPort(id=\"output\", value=\"level\"))\n",
    "node2.input_ports.append(InputPort(id=\"input\"))\n",
    "node3.input_ports.append(InputPort(id=\"input\"))"
   ]
  },
  {
   "cell_type": "code",
   "execution_count": 5,
   "id": "516bcfe6-e2d0-4cda-980a-1501f338adf8",
   "metadata": {
    "tags": []
   },
   "outputs": [],
   "source": [
    "p1 = Parameter(id=\"2nd-node\",\n",
    "               value=\"1*(6*(input))\")\n",
    "\n",
    "node2.parameters.append(p1)\n",
    "node2.output_ports.append(OutputPort(id=\"output\", value=\"2nd-node\"))"
   ]
  },
  {
   "cell_type": "code",
   "execution_count": 6,
   "id": "a7641a06-1bee-43bc-b56c-14e87e1182e3",
   "metadata": {
    "tags": []
   },
   "outputs": [],
   "source": [
    "model.graphs.append(mod_graph)\n",
    "mod_graph.nodes.append(node1)\n",
    "mod_graph.nodes.append(node2)"
   ]
  },
  {
   "cell_type": "code",
   "execution_count": 7,
   "id": "f8f8e88f-e574-4150-84d0-ca3818394f9b",
   "metadata": {
    "tags": []
   },
   "outputs": [],
   "source": [
    "mod_graph.nodes.append(node3)\n",
    "node3.parameters.append(Parameter(id=\"3rd-node\", value=\"57*input\"))\n",
    "node3.output_ports.append(OutputPort(id=\"output\", value=\"3rd-node\"))"
   ]
  },
  {
   "cell_type": "markdown",
   "id": "100a5a86-9f33-4f68-b4da-1f2fdbf1825e",
   "metadata": {},
   "source": [
    "# Connect the nodes"
   ]
  },
  {
   "cell_type": "markdown",
   "id": "79d65319-20e8-4ec1-a5a8-3e9156b02eaf",
   "metadata": {},
   "source": [
    "----------\n",
    "Node A to Node B and Node B to Node C"
   ]
  },
  {
   "cell_type": "code",
   "execution_count": 8,
   "id": "83109dc4-2bb5-4fcc-9f18-92578f98e31c",
   "metadata": {
    "tags": []
   },
   "outputs": [],
   "source": [
    "edge1 = simple_connect(node1, node2, mod_graph)\n",
    "edge2 = simple_connect(node2, node3, mod_graph)"
   ]
  },
  {
   "cell_type": "markdown",
   "id": "dbd2e080-768b-4f85-8b59-8804c01faa3b",
   "metadata": {},
   "source": [
    "-------------\n",
    "Visualize the graph using graphviz"
   ]
  },
  {
   "cell_type": "code",
   "execution_count": 9,
   "id": "0da9ba6c-91ee-41ba-b1a4-581e17515264",
   "metadata": {
    "tags": []
   },
   "outputs": [
    {
     "name": "stdout",
     "output_type": "stream",
     "text": [
      "Converting MDF graph: trial_example to graphviz (level: 3, format: png)\n",
      "    Node: A\n",
      "    Node: B\n",
      "    Node: C\n",
      "    Edge: edge_A_B connects A to B\n",
      "    Edge: edge_B_C connects B to C\n",
      "Written graph image to: result.png\n"
     ]
    },
    {
     "data": {
      "image/png": "[encoded data removed]",
      "text/plain": [
       "<IPython.core.display.Image object>"
      ]
     },
     "execution_count": 9,
     "metadata": {},
     "output_type": "execute_result"
    }
   ],
   "source": [
    "model.to_graph_image(\n",
    "        engine=\"dot\",\n",
    "        output_format=\"png\",\n",
    "        view_on_render=False,\n",
    "        level=3,\n",
    "        filename_root=\"result\"\n",
    "    )\n",
    "\n",
    "Image(filename=\"result.png\")"
   ]
  },
  {
   "cell_type": "markdown",
   "id": "26245f20-1a80-4acc-8748-b71b77d1bf43",
   "metadata": {},
   "source": [
    "## Evaluate the graph and print the output values"
   ]
  },
  {
   "cell_type": "code",
   "execution_count": 10,
   "id": "4d347e9e-16d8-4881-bde8-a3eabf97c91e",
   "metadata": {
    "tags": []
   },
   "outputs": [
    {
     "name": "stdout",
     "output_type": "stream",
     "text": [
      "\n",
      "Init graph: trial_example\n",
      "Evaluating graph: trial_example, root nodes: ['A'], with array format numpy\n",
      "Output of A: 239\n",
      "Output of B: 1434\n",
      "Output of C: 81738\n"
     ]
    }
   ],
   "source": [
    "eval_grp = EvaluableGraph(mod_graph, verbose=False)\n",
    "eval_grp.evaluate()\n",
    "\n",
    "print('Output of A: %s'%eval_grp.enodes[\"A\"].evaluable_outputs[\"output\"].curr_value)\n",
    "print('Output of B: %s'%eval_grp.enodes[\"B\"].evaluable_outputs[\"output\"].curr_value)\n",
    "print('Output of C: %s'%eval_grp.enodes[\"C\"].evaluable_outputs[\"output\"].curr_value)"
   ]
  },
  {
   "cell_type": "code",
   "execution_count": null,
   "id": "2823472b-bced-4e45-a7c5-9b423c6aeead",
   "metadata": {},
   "outputs": [],
   "source": []
  },
  {
   "cell_type": "code",
   "execution_count": null,
   "id": "5d45a0e1-9d71-48a0-96ed-8dcc3e9963f6",
   "metadata": {},
   "outputs": [],
   "source": []
  }
 ],
 "metadata": {
  "kernelspec": {
   "display_name": "Python 3 (ipykernel)",
   "language": "python",
   "name": "python3"
  },
  "language_info": {
   "codemirror_mode": {
    "name": "ipython",
    "version": 3
   },
   "file_extension": ".py",
   "mimetype": "text/x-python",
   "name": "python",
   "nbconvert_exporter": "python",
   "pygments_lexer": "ipython3",
   "version": "3.9.13"
  }
 },
 "nbformat": 4,
 "nbformat_minor": 5
}
