{
 "cells": [
  {
   "cell_type": "markdown",
   "id": "4581f50f-39bd-44e2-9287-160f904cd43b",
   "metadata": {
    "id": "4581f50f-39bd-44e2-9287-160f904cd43b"
   },
   "source": [
    "# Implementing Model Description Format for Newton's Law of Cooling\n",
    "\n",
    "\n"
   ]
  },
  {
   "cell_type": "markdown",
   "id": "5e8d408f-beb4-41ab-9124-1dc1655eb312",
   "metadata": {
    "id": "5e8d408f-beb4-41ab-9124-1dc1655eb312"
   },
   "source": [
    "<p id=\"1-newtons-law-of-cooling-process-model-introduction\">\n",
    "\n",
    "## 1. Newton's Law of Cooling Process Model: Introduction\n",
    "\n",
    "In this notebook, a simple Newtonian cooling process model is implemented using the MDF library. The model simulates the cooling of an object to the ambient temperature over time.\n",
    "\n",
    "Newton's Law of Cooling is expressed by the differential equation:\n",
    "$$\n",
    "\\frac{dT}{dt} = -k(T - T_{\\text{ambient}})\n",
    "$$\n",
    "The temperature of the object is denoted by $T$,\\\n",
    "The ambient temperature is denoted by $T_{\\text{ambient}}$,\\\n",
    "The cooling coefficient is represented by $k$,\\\n",
    "The rate of change of the temperature over time is given by $\\frac{dT}{dt}$.\\\n",
    "<img src=\"attachment:6c8bd64d-a906-484c-9b32-6eb12d5f3b1d.png\" width=\"300\">\n"
   ]
  },
  {
   "cell_type": "code",
   "execution_count": 1,
   "id": "c9108ee9-870c-43ef-a6d6-0cc0656403ca",
   "metadata": {
    "id": "c9108ee9-870c-43ef-a6d6-0cc0656403ca"
   },
   "outputs": [],
   "source": [
    "from modeci_mdf.mdf import Model, Graph, Node, Parameter, OutputPort, Function, InputPort"
   ]
  },
  {
   "cell_type": "markdown",
   "id": "e392770f-6610-448f-a17e-92d2f19bf213",
   "metadata": {
    "id": "e392770f-6610-448f-a17e-92d2f19bf213",
    "tags": []
   },
   "source": [
    "## 2. Creating the Model and Graph\n",
    "First, we initialize the model and a graph to hold our computational nodes."
   ]
  },
  {
   "cell_type": "code",
   "execution_count": 2,
   "id": "42d29dbe-9da6-421c-b5f1-6c0ba65cd9a8",
   "metadata": {
    "id": "42d29dbe-9da6-421c-b5f1-6c0ba65cd9a8"
   },
   "outputs": [],
   "source": [
    "mod = Model(id=\"NewtonCoolingModel\")\n",
    "mod_graph = Graph(id=\"cooling_process\")\n",
    "mod.graphs.append(mod_graph)"
   ]
  },
  {
   "cell_type": "markdown",
   "id": "13452273-3035-4c7d-98a0-5a4bf1fc936d",
   "metadata": {
    "id": "13452273-3035-4c7d-98a0-5a4bf1fc936d"
   },
   "source": [
    "### 2.1 Defining Nodes and Parameters\n",
    "We define a single node with parameters for the cooling coefficient, ambient temperature (\\`T_a\\`), current temperature (\\`T_curr\\`), and the rate of temperature change (\\`dT_dt\\`). These parameters are essential for modeling the cooling process according to Newton's law of cooling."
   ]
  },
  {
   "cell_type": "code",
   "execution_count": 3,
   "id": "b285917f-c263-4cb4-bb77-410dfd239bc6",
   "metadata": {
    "id": "b285917f-c263-4cb4-bb77-410dfd239bc6"
   },
   "outputs": [],
   "source": [
    "cool_node = Node(id=\"cool_node\")\n",
    "cool_node.parameters.append(Parameter(id=\"cooling_coeff\", value=0.1))\n",
    "cool_node.parameters.append(Parameter(id=\"T_a\", value=20))"
   ]
  },
  {
   "cell_type": "code",
   "execution_count": 4,
   "id": "9ebb4a51-e0eb-4966-9fa5-f86933fada67",
   "metadata": {
    "id": "9ebb4a51-e0eb-4966-9fa5-f86933fada67"
   },
   "outputs": [],
   "source": [
    "s1 = Parameter(\n",
    "    id=\"T_curr\", default_initial_value=90, time_derivative=\"dT_dt\"\n",
    ")\n",
    "cool_node.parameters.append(s1)\n",
    "\n",
    "s2 = Parameter(\n",
    "    id=\"dT_dt\",\n",
    "    default_initial_value=0,\n",
    "    value=\"-cooling_coeff*(T_curr - T_a)\",\n",
    ")\n",
    "cool_node.parameters.append(s2)"
   ]
  },
  {
   "cell_type": "markdown",
   "id": "f45f4dc5-db21-4623-b95b-caeb23a27a2c",
   "metadata": {
    "id": "f45f4dc5-db21-4623-b95b-caeb23a27a2c"
   },
   "source": [
    "### 2.2 Output Ports\n",
    "An output port is defined to represent the current temperature of the object and the rate of change of the temperature over time 'dT_dt'."
   ]
  },
  {
   "cell_type": "code",
   "execution_count": 5,
   "id": "f5130413-ac3b-45cb-bca1-2bc43907cbd3",
   "metadata": {
    "id": "f5130413-ac3b-45cb-bca1-2bc43907cbd3"
   },
   "outputs": [],
   "source": [
    "op1 = OutputPort(id=\"out_port\", value=\"T_curr\")\n",
    "cool_node.output_ports.append(op1)\n",
    "op2 = OutputPort(id=\"out_port2\", value=\"dT_dt\")\n",
    "cool_node.output_ports.append(op2)"
   ]
  },
  {
   "cell_type": "markdown",
   "id": "f5644dcf-218c-41e5-9458-7ab4baf06da2",
   "metadata": {
    "id": "f5644dcf-218c-41e5-9458-7ab4baf06da2",
    "tags": []
   },
   "source": [
    "## 3. Visualizing the Model\n",
    "The MDF library allows for the visualization of the model structure, which can be generated as follows:"
   ]
  },
  {
   "cell_type": "code",
   "execution_count": 6,
   "id": "61cf61d9-3a05-4f93-a37e-6603ce16118c",
   "metadata": {
    "colab": {
     "base_uri": "https://localhost:8080/",
     "height": 291
    },
    "id": "61cf61d9-3a05-4f93-a37e-6603ce16118c",
    "outputId": "e9ea80d7-10cf-4145-ca4d-9fd7390d9c1e"
   },
   "outputs": [
    {
     "name": "stdout",
     "output_type": "stream",
     "text": [
      "Converting MDF graph: cooling_process to graphviz (level: 3, format: png)\n",
      "    Node: cool_node\n",
      "Written graph image to: NewtonsLawOfCooling.png\n"
     ]
    },
    {
     "data": {
      "image/png": "[encoded data removed]",
      "text/plain": [
       "<IPython.core.display.Image object>"
      ]
     },
     "execution_count": 6,
     "metadata": {},
     "output_type": "execute_result"
    }
   ],
   "source": [
    "mod_graph.nodes.append(cool_node)\n",
    "mod.to_graph_image(\n",
    "        engine=\"dot\",\n",
    "        output_format=\"png\",\n",
    "        view_on_render=False,\n",
    "        level=3,\n",
    "        filename_root=\"NewtonsLawOfCooling\",\n",
    "        is_horizontal=True\n",
    "    )\n",
    "\n",
    "from IPython.display import Image\n",
    "Image(filename=\"NewtonsLawOfCooling.png\")"
   ]
  },
  {
   "cell_type": "markdown",
   "id": "8d5adafb-e704-41c7-ab91-d83f887e0d29",
   "metadata": {
    "id": "8d5adafb-e704-41c7-ab91-d83f887e0d29",
    "tags": []
   },
   "source": [
    "## 4. Print the structure as yaml"
   ]
  },
  {
   "cell_type": "code",
   "execution_count": 7,
   "id": "af51ce0d-5b55-431e-b6c6-dafa53d74ab7",
   "metadata": {
    "colab": {
     "base_uri": "https://localhost:8080/"
    },
    "id": "af51ce0d-5b55-431e-b6c6-dafa53d74ab7",
    "outputId": "6a625ee0-e7e5-40db-d929-24d8d0597bb5"
   },
   "outputs": [
    {
     "name": "stdout",
     "output_type": "stream",
     "text": [
      "cooling_process:\n",
      "    nodes:\n",
      "        cool_node:\n",
      "            parameters:\n",
      "                cooling_coeff:\n",
      "                    value: 0.1\n",
      "                T_a:\n",
      "                    value: 20\n",
      "                T_curr:\n",
      "                    default_initial_value: 90\n",
      "                    time_derivative: dT_dt\n",
      "                dT_dt:\n",
      "                    value: -cooling_coeff*(T_curr - T_a)\n",
      "                    default_initial_value: 0\n",
      "            output_ports:\n",
      "                out_port:\n",
      "                    value: T_curr\n",
      "                out_port2:\n",
      "                    value: dT_dt\n",
      "\n"
     ]
    }
   ],
   "source": [
    "print(mod_graph.to_yaml())"
   ]
  },
  {
   "cell_type": "markdown",
   "id": "3b8e928c-517d-4873-90d5-4e6cea5bc4bf",
   "metadata": {
    "id": "3b8e928c-517d-4873-90d5-4e6cea5bc4bf",
    "tags": []
   },
   "source": [
    "## 5. Running the Model\n",
    "We can execute the model simulation over a specified duration. This is achieved using the \\`EvaluableGraph\\` class from MDF's execution engine, illustrating how the temperature of the object changes over time."
   ]
  },
  {
   "cell_type": "code",
   "execution_count": 11,
   "id": "4ac2c8b0-7578-4442-9b33-b713a7f2008f",
   "metadata": {
    "colab": {
     "base_uri": "https://localhost:8080/",
     "height": 1000
    },
    "id": "4ac2c8b0-7578-4442-9b33-b713a7f2008f",
    "outputId": "6673188f-f389-4389-fd34-0ceb8329b205"
   },
   "outputs": [
    {
     "name": "stdout",
     "output_type": "stream",
     "text": [
      "\n",
      "Init graph: cooling_process\n",
      "Executing the simulation for cooling_process graph.\n"
     ]
    },
    {
     "data": {
      "image/png": "[encoded data removed]",
      "text/plain": [
       "<Figure size 640x480 with 1 Axes>"
      ]
     },
     "metadata": {},
     "output_type": "display_data"
    }
   ],
   "source": [
    "from modeci_mdf.utils import load_mdf, print_summary\n",
    "from modeci_mdf.execution_engine import EvaluableGraph\n",
    "import matplotlib.pyplot as plt\n",
    "\n",
    "verbose = False\n",
    "eg = EvaluableGraph(mod_graph, verbose=verbose)\n",
    "dt = 0.1\n",
    "\n",
    "duration = 100\n",
    "t = 0\n",
    "recorded = {}\n",
    "times = []\n",
    "s = []\n",
    "print(\"Executing the simulation for\", mod_graph.id, \"graph.\")\n",
    "# Execute the simulation\n",
    "while t <= duration:\n",
    "    times.append(t)\n",
    "\n",
    "    if verbose:\n",
    "        print(f\"======   Evaluating at t = {t:.1f}  ======\")\n",
    "        print(\"dT_dt=\", eg.enodes[\"cool_node\"].evaluable_outputs[\"out_port2\"].curr_value)\n",
    "    if t == 0:\n",
    "        eg.evaluate()\n",
    "    else:\n",
    "        eg.evaluate(time_increment=dt)\n",
    "\n",
    "    s.append(eg.enodes[\"cool_node\"].evaluable_outputs[\"out_port\"].curr_value)\n",
    "    t += dt\n",
    "\n",
    "# Plotting the results\n",
    "plt.plot(times, s)\n",
    "plt.xlabel('Time')\n",
    "plt.ylabel('Temperature')\n",
    "plt.title('Cooling Process Simulation')\n",
    "plt.show()\n"
   ]
  },
  {
   "cell_type": "markdown",
   "id": "8d80f88d-7413-4c9b-a12c-ea1aa380a1f1",
   "metadata": {
    "id": "8d80f88d-7413-4c9b-a12c-ea1aa380a1f1",
    "tags": []
   },
   "source": [
    "## 6. Manual Algorithm for Finding Temperature at Time $t$\n",
    "For each time step from 0 to $t$:\n",
    "\n",
    "1. Calculate the rate of temperature change $\\frac{dT}{dt}$ using the formula: $-k(T - T_{\\text{ambient}})$.\n",
    "2. Update the temperature of the object for the next time step: $T_{\\text{new}} = T + \\frac{dT}{dt} \\times dt$.\n",
    "3. Repeat the process, using $T_{\\text{new}}$ as the new $T$ for the next iteration.\n",
    "\n",
    "### Example Calculation:\n",
    "\n",
    "Let's manually compute the temperature at time $t$ for an object with the following parameters:\n",
    "\n",
    "- Initial temperature $T_0 = 90$°C,\n",
    "- Ambient temperature $T_{\\text{ambient}} = 20$°C,\n",
    "- Cooling constant $k = 0.1$,\n",
    "- Time step $dt = 1$ minute,\n",
    "- Calculate the temperature after $t = 3$ minutes.\n",
    "\n",
    "Iterations:\n",
    "\n",
    "#### Initial Condition:\n",
    "\n",
    "- $T_0 = 90$°C\n",
    "\n",
    "#### Iteration 1:\n",
    "\n",
    "- $\\frac{dT}{dt} = -0.1(90 - 20) = -7$°C/min\n",
    "- $T_{\\text{new}} = 90 + (-7) \\times 1 = 83$°C\n",
    "\n",
    "#### Iteration 2:\n",
    "\n",
    "- $\\frac{dT}{dt} = -0.1(83 - 20) = -6.3$°C/min (approximately)\n",
    "- $T_{\\text{new}} = 83 + (-6.3) \\times 1 = 76.7$°C (approximately)\n",
    "\n",
    "#### Iteration 3:\n",
    "\n",
    "- $\\frac{dT}{dt} = -0.1(76.7 - 20) = -5.67$°C/min (approximately)\n",
    "- $T_{\\text{new}} = 76.7 + (-5.67) \\times 1 = 71.03$°C (approximately)\n",
    "\n",
    "After 3 minutes, the temperature of the object is approximately 71.03°C, demonstrating how it cools towards the ambient temperature over time according to Newton's Law of Cooling. This manual method provides a simple way to estimate temperature changes over discrete time intervals.\n"
   ]
  },
  {
   "cell_type": "markdown",
   "id": "3e603e26",
   "metadata": {},
   "source": []
  }
 ],
 "metadata": {
  "colab": {
   "provenance": []
  },
  "kernelspec": {
   "display_name": "Python 3 (ipykernel)",
   "language": "python",
   "name": "python3"
  },
  "language_info": {
   "codemirror_mode": {
    "name": "ipython",
    "version": 3
   },
   "file_extension": ".py",
   "mimetype": "text/x-python",
   "name": "python",
   "nbconvert_exporter": "python",
   "pygments_lexer": "ipython3",
   "version": "3.10.0"
  }
 },
 "nbformat": 4,
 "nbformat_minor": 5
}
