{
 "cells": [
  {
   "cell_type": "markdown",
   "id": "898c40db",
   "metadata": {},
   "source": [
    "## Importing the necessary libraries."
   ]
  },
  {
   "cell_type": "code",
   "execution_count": 1,
   "id": "f6a1819f",
   "metadata": {},
   "outputs": [],
   "source": [
    "# Import required libraries necessary for creating a pytorch model and making necessary predictions.\n",
    "import torch\n",
    "import torch.nn as nn\n",
    "import torch.optim as optim\n",
    "import torchvision.transforms as transforms\n",
    "import torchvision.datasets as datasets\n",
    "import torchvision\n",
    "\n",
    "# Import library required for visualizing the amout of time it takes for a pytorch and mdf model to make a prediction.\n",
    "import matplotlib.pyplot as plt\n",
    "\n",
    "# Import library required for keeping trach of the make a prediction.\n",
    "import time\n",
    "\n",
    "# Import packages needed for MDF model\n",
    "from modeci_mdf.interfaces.pytorch import pytorch_to_mdf\n",
    "from modeci_mdf.execution_engine import EvaluableGraph"
   ]
  },
  {
   "cell_type": "markdown",
   "id": "b8c91da1",
   "metadata": {},
   "source": [
    "## Dowloading and preparing the datasets."
   ]
  },
  {
   "cell_type": "code",
   "execution_count": 2,
   "id": "5fefbdca",
   "metadata": {},
   "outputs": [],
   "source": [
    "# Define a data transformation pipeline for the dataset\n",
    "# Compose transforms.ToTensor() and transforms.Normalize() to convert images to tensors and normalize pixel values.\n",
    "transform = transforms.Compose([transforms.ToTensor(), transforms.Normalize((0.5,), (0.5,))])\n",
    "\n",
    "# Load the training dataset (MNIST) with the specified transformations\n",
    "# root: The directory to save or load the dataset. Here, '.' represents the current directory.\n",
    "# train=True: Specifies to load the training split of the dataset.\n",
    "# download=True: Downloads the dataset if it is not already present in the specified root directory.\n",
    "# transform: Apply the transformation defined in the 'transform' variable to the dataset.\n",
    "trainset = torchvision.datasets.MNIST(root='.', train=True, download=True, transform=transform)\n",
    "\n",
    "# Create a DataLoader to efficiently load the training dataset in batches during training\n",
    "# batch_size=10: Specifies the number of samples per batch during training.\n",
    "# shuffle=True: Shuffles the order of samples in each epoch to introduce randomness.\n",
    "trainloader = torch.utils.data.DataLoader(trainset, batch_size=10, shuffle=True)\n",
    "\n",
    "# Load the testing dataset (MNIST) with the same transformations used for training\n",
    "# train=False: Specifies to load the testing (validation) split of the dataset.\n",
    "testset = torchvision.datasets.MNIST(root='.', train=False, download=True, transform=transform)\n",
    "\n",
    "# Create a DataLoader for the testing dataset to efficiently load it in batches during evaluation\n",
    "# shuffle=False: Since testing does not require shuffling, we set shuffle to False.\n",
    "testloader = torch.utils.data.DataLoader(testset, batch_size=10, shuffle=False)"
   ]
  },
  {
   "cell_type": "markdown",
   "id": "262ce318",
   "metadata": {},
   "source": [
    "## Defining the model and it foward pass."
   ]
  },
  {
   "cell_type": "code",
   "execution_count": 3,
   "id": "f48e3af9",
   "metadata": {},
   "outputs": [],
   "source": [
    "# Defining a SimpleModel in pytorch to making prediction on the MNIST data set.\n",
    "class SimpleModel(nn.Module):\n",
    "    def __init__(self):\n",
    "        super().__init__()\n",
    "        # Define the layers of the model in the constructor (__init__)\n",
    "        # Input layer (fc1): Fully connected layer with 784 input neurons (28*28) and 80 output neurons.\n",
    "        self.fc1 = nn.Linear(28 * 28, 80)\n",
    "        \n",
    "        # Hidden layer 1 (fc2): Fully connected layer with 80 input neurons and 40 output neurons.\n",
    "        self.fc2 = nn.Linear(80, 40)\n",
    "        \n",
    "        # Hidden layer 2 (fc3): Fully connected layer with 40 input neurons and 20 output neurons.\n",
    "        self.fc3 = nn.Linear(40, 20)\n",
    "        \n",
    "        # Output layer (fc4): Fully connected layer with 20 input neurons and 10 output neurons (number of classes).\n",
    "        self.fc4 = nn.Linear(20, 10)\n",
    "\n",
    "    def forward(self, x):\n",
    "        # The forward function defines the forward pass of the model.\n",
    "        \n",
    "        # Flatten the input tensor to shape (batch_size, 28*28).\n",
    "        x = x.view(-1, 1*28*28)\n",
    "        \n",
    "        # Apply ReLU activation to the output of the first fully connected layer (fc1).\n",
    "        x = torch.relu(self.fc1(x))\n",
    "        \n",
    "        # Apply ReLU activation to the output of the second fully connected layer (fc2).\n",
    "        x = torch.relu(self.fc2(x))\n",
    "        \n",
    "        # Apply ReLU activation to the output of the third fully connected layer (fc3).\n",
    "        x = torch.relu(self.fc3(x))\n",
    "        \n",
    "        # The output of the fourth fully connected layer (fc4).\n",
    "        x = self.fc4(x)\n",
    "        \n",
    "        return x"
   ]
  },
  {
   "cell_type": "markdown",
   "id": "8fd33810",
   "metadata": {},
   "source": [
    "## Instantiating the model."
   ]
  },
  {
   "cell_type": "code",
   "execution_count": 4,
   "id": "f5bd97ee",
   "metadata": {},
   "outputs": [],
   "source": [
    "# Create an instance of the SimpleModel class.\n",
    "model = SimpleModel()"
   ]
  },
  {
   "cell_type": "markdown",
   "id": "cc62bd83",
   "metadata": {},
   "source": [
    "## Training and evaluating the model."
   ]
  },
  {
   "cell_type": "code",
   "execution_count": 5,
   "id": "e8139f56",
   "metadata": {},
   "outputs": [
    {
     "name": "stdout",
     "output_type": "stream",
     "text": [
      "[Epoch 1, Batch 200] Loss: 1.650\n",
      "[Epoch 1, Batch 400] Loss: 0.840\n",
      "[Epoch 1, Batch 600] Loss: 0.679\n",
      "[Epoch 1, Batch 800] Loss: 0.608\n",
      "[Epoch 1, Batch 1000] Loss: 0.539\n",
      "[Epoch 1, Batch 1200] Loss: 0.503\n",
      "[Epoch 1, Batch 1400] Loss: 0.452\n",
      "[Epoch 1, Batch 1600] Loss: 0.448\n",
      "[Epoch 1, Batch 1800] Loss: 0.373\n",
      "[Epoch 1, Batch 2000] Loss: 0.352\n",
      "[Epoch 1, Batch 2200] Loss: 0.397\n",
      "[Epoch 1, Batch 2400] Loss: 0.334\n",
      "[Epoch 1, Batch 2600] Loss: 0.328\n",
      "[Epoch 1, Batch 2800] Loss: 0.348\n",
      "[Epoch 1, Batch 3000] Loss: 0.327\n",
      "[Epoch 1, Batch 3200] Loss: 0.309\n",
      "[Epoch 1, Batch 3400] Loss: 0.282\n",
      "[Epoch 1, Batch 3600] Loss: 0.316\n",
      "[Epoch 1, Batch 3800] Loss: 0.285\n",
      "[Epoch 1, Batch 4000] Loss: 0.259\n",
      "[Epoch 1, Batch 4200] Loss: 0.290\n",
      "[Epoch 1, Batch 4400] Loss: 0.256\n",
      "[Epoch 1, Batch 4600] Loss: 0.235\n",
      "[Epoch 1, Batch 4800] Loss: 0.283\n",
      "[Epoch 1, Batch 5000] Loss: 0.262\n",
      "[Epoch 1, Batch 5200] Loss: 0.238\n",
      "[Epoch 1, Batch 5400] Loss: 0.242\n",
      "[Epoch 1, Batch 5600] Loss: 0.245\n",
      "[Epoch 1, Batch 5800] Loss: 0.270\n",
      "[Epoch 1, Batch 6000] Loss: 0.264\n",
      "[Epoch 2, Batch 200] Loss: 0.261\n",
      "[Epoch 2, Batch 400] Loss: 0.209\n",
      "[Epoch 2, Batch 600] Loss: 0.213\n",
      "[Epoch 2, Batch 800] Loss: 0.270\n",
      "[Epoch 2, Batch 1000] Loss: 0.209\n",
      "[Epoch 2, Batch 1200] Loss: 0.200\n",
      "[Epoch 2, Batch 1400] Loss: 0.195\n",
      "[Epoch 2, Batch 1600] Loss: 0.213\n",
      "[Epoch 2, Batch 1800] Loss: 0.222\n",
      "[Epoch 2, Batch 2000] Loss: 0.207\n",
      "[Epoch 2, Batch 2200] Loss: 0.186\n",
      "[Epoch 2, Batch 2400] Loss: 0.226\n",
      "[Epoch 2, Batch 2600] Loss: 0.214\n",
      "[Epoch 2, Batch 2800] Loss: 0.224\n",
      "[Epoch 2, Batch 3000] Loss: 0.190\n",
      "[Epoch 2, Batch 3200] Loss: 0.199\n",
      "[Epoch 2, Batch 3400] Loss: 0.171\n",
      "[Epoch 2, Batch 3600] Loss: 0.206\n",
      "[Epoch 2, Batch 3800] Loss: 0.175\n",
      "[Epoch 2, Batch 4000] Loss: 0.180\n",
      "[Epoch 2, Batch 4200] Loss: 0.198\n",
      "[Epoch 2, Batch 4400] Loss: 0.194\n",
      "[Epoch 2, Batch 4600] Loss: 0.187\n",
      "[Epoch 2, Batch 4800] Loss: 0.176\n",
      "[Epoch 2, Batch 5000] Loss: 0.190\n",
      "[Epoch 2, Batch 5200] Loss: 0.214\n",
      "[Epoch 2, Batch 5400] Loss: 0.193\n",
      "[Epoch 2, Batch 5600] Loss: 0.209\n",
      "[Epoch 2, Batch 5800] Loss: 0.171\n",
      "[Epoch 2, Batch 6000] Loss: 0.183\n",
      "[Epoch 3, Batch 200] Loss: 0.179\n",
      "[Epoch 3, Batch 400] Loss: 0.179\n",
      "[Epoch 3, Batch 600] Loss: 0.198\n",
      "[Epoch 3, Batch 800] Loss: 0.164\n",
      "[Epoch 3, Batch 1000] Loss: 0.178\n",
      "[Epoch 3, Batch 1200] Loss: 0.177\n",
      "[Epoch 3, Batch 1400] Loss: 0.145\n",
      "[Epoch 3, Batch 1600] Loss: 0.161\n",
      "[Epoch 3, Batch 1800] Loss: 0.164\n",
      "[Epoch 3, Batch 2000] Loss: 0.162\n",
      "[Epoch 3, Batch 2200] Loss: 0.164\n",
      "[Epoch 3, Batch 2400] Loss: 0.173\n",
      "[Epoch 3, Batch 2600] Loss: 0.151\n",
      "[Epoch 3, Batch 2800] Loss: 0.151\n",
      "[Epoch 3, Batch 3000] Loss: 0.201\n",
      "[Epoch 3, Batch 3200] Loss: 0.171\n",
      "[Epoch 3, Batch 3400] Loss: 0.160\n",
      "[Epoch 3, Batch 3600] Loss: 0.146\n",
      "[Epoch 3, Batch 3800] Loss: 0.162\n",
      "[Epoch 3, Batch 4000] Loss: 0.170\n",
      "[Epoch 3, Batch 4200] Loss: 0.162\n",
      "[Epoch 3, Batch 4400] Loss: 0.163\n",
      "[Epoch 3, Batch 4600] Loss: 0.136\n",
      "[Epoch 3, Batch 4800] Loss: 0.169\n",
      "[Epoch 3, Batch 5000] Loss: 0.145\n",
      "[Epoch 3, Batch 5200] Loss: 0.147\n",
      "[Epoch 3, Batch 5400] Loss: 0.170\n",
      "[Epoch 3, Batch 5600] Loss: 0.153\n",
      "[Epoch 3, Batch 5800] Loss: 0.156\n",
      "[Epoch 3, Batch 6000] Loss: 0.130\n",
      "[Epoch 4, Batch 200] Loss: 0.120\n",
      "[Epoch 4, Batch 400] Loss: 0.149\n",
      "[Epoch 4, Batch 600] Loss: 0.103\n",
      "[Epoch 4, Batch 800] Loss: 0.149\n",
      "[Epoch 4, Batch 1000] Loss: 0.156\n",
      "[Epoch 4, Batch 1200] Loss: 0.134\n",
      "[Epoch 4, Batch 1400] Loss: 0.161\n",
      "[Epoch 4, Batch 1600] Loss: 0.136\n",
      "[Epoch 4, Batch 1800] Loss: 0.134\n",
      "[Epoch 4, Batch 2000] Loss: 0.166\n",
      "[Epoch 4, Batch 2200] Loss: 0.120\n",
      "[Epoch 4, Batch 2400] Loss: 0.163\n",
      "[Epoch 4, Batch 2600] Loss: 0.146\n",
      "[Epoch 4, Batch 2800] Loss: 0.132\n",
      "[Epoch 4, Batch 3000] Loss: 0.146\n",
      "[Epoch 4, Batch 3200] Loss: 0.144\n",
      "[Epoch 4, Batch 3400] Loss: 0.152\n",
      "[Epoch 4, Batch 3600] Loss: 0.124\n",
      "[Epoch 4, Batch 3800] Loss: 0.154\n",
      "[Epoch 4, Batch 4000] Loss: 0.136\n",
      "[Epoch 4, Batch 4200] Loss: 0.133\n",
      "[Epoch 4, Batch 4400] Loss: 0.167\n",
      "[Epoch 4, Batch 4600] Loss: 0.132\n",
      "[Epoch 4, Batch 4800] Loss: 0.141\n",
      "[Epoch 4, Batch 5000] Loss: 0.147\n",
      "[Epoch 4, Batch 5200] Loss: 0.142\n",
      "[Epoch 4, Batch 5400] Loss: 0.147\n",
      "[Epoch 4, Batch 5600] Loss: 0.134\n",
      "[Epoch 4, Batch 5800] Loss: 0.142\n",
      "[Epoch 4, Batch 6000] Loss: 0.152\n",
      "[Epoch 5, Batch 200] Loss: 0.137\n",
      "[Epoch 5, Batch 400] Loss: 0.109\n",
      "[Epoch 5, Batch 600] Loss: 0.128\n",
      "[Epoch 5, Batch 800] Loss: 0.121\n",
      "[Epoch 5, Batch 1000] Loss: 0.120\n",
      "[Epoch 5, Batch 1200] Loss: 0.133\n",
      "[Epoch 5, Batch 1400] Loss: 0.121\n",
      "[Epoch 5, Batch 1600] Loss: 0.123\n",
      "[Epoch 5, Batch 1800] Loss: 0.133\n",
      "[Epoch 5, Batch 2000] Loss: 0.158\n",
      "[Epoch 5, Batch 2200] Loss: 0.143\n",
      "[Epoch 5, Batch 2400] Loss: 0.112\n",
      "[Epoch 5, Batch 2600] Loss: 0.110\n",
      "[Epoch 5, Batch 2800] Loss: 0.153\n",
      "[Epoch 5, Batch 3000] Loss: 0.121\n",
      "[Epoch 5, Batch 3200] Loss: 0.140\n",
      "[Epoch 5, Batch 3400] Loss: 0.126\n",
      "[Epoch 5, Batch 3600] Loss: 0.117\n",
      "[Epoch 5, Batch 3800] Loss: 0.145\n",
      "[Epoch 5, Batch 4000] Loss: 0.143\n",
      "[Epoch 5, Batch 4200] Loss: 0.134\n",
      "[Epoch 5, Batch 4400] Loss: 0.131\n",
      "[Epoch 5, Batch 4600] Loss: 0.136\n",
      "[Epoch 5, Batch 4800] Loss: 0.125\n",
      "[Epoch 5, Batch 5000] Loss: 0.120\n",
      "[Epoch 5, Batch 5200] Loss: 0.145\n",
      "[Epoch 5, Batch 5400] Loss: 0.135\n",
      "[Epoch 5, Batch 5600] Loss: 0.126\n",
      "[Epoch 5, Batch 5800] Loss: 0.130\n",
      "[Epoch 5, Batch 6000] Loss: 0.135\n",
      "Training finished!\n",
      "Accuracy on the test set: 94.59%\n"
     ]
    }
   ],
   "source": [
    "# Define the loss function and optimizer for the SimpleModel.\n",
    "criterion = nn.CrossEntropyLoss()\n",
    "optimizer = optim.Adam(model.parameters(), lr=0.001)\n",
    "\n",
    "# Training the model 'SimpleModel'.\n",
    "def train_model(model, criterion, optimizer, num_epochs=5):\n",
    "    for epoch in range(num_epochs):\n",
    "        running_loss = 0.0\n",
    "        for i, data in enumerate(trainloader, 0):\n",
    "            inputs, labels = data\n",
    "            optimizer.zero_grad()\n",
    "\n",
    "            # Forward + backward + optimize\n",
    "            outputs = model(inputs)\n",
    "            loss = criterion(outputs, labels)\n",
    "            loss.backward()\n",
    "            optimizer.step()\n",
    "\n",
    "            running_loss += loss.item()\n",
    "\n",
    "            if i % 200 == 199:  # Print every 200 mini-batches\n",
    "                print(f\"[Epoch {epoch + 1}, Batch {i + 1}] Loss: {running_loss / 200:.3f}\")\n",
    "                running_loss = 0.0\n",
    "\n",
    "    print(\"Training finished!\")\n",
    "\n",
    "# Training the model (you can adjust the number of epochs as needed)\n",
    "train_model(model, criterion, optimizer, num_epochs=5)\n",
    "\n",
    "#pytorch_predictions\n",
    "\n",
    "# Making testing the models accuracy by using the trained model to make predictions.\n",
    "def test_model(model):\n",
    "    correct = 0\n",
    "    total = 0\n",
    "\n",
    "    with torch.no_grad():\n",
    "        for data in testloader:\n",
    "            inputs, labels = data\n",
    "            outputs = model(inputs)\n",
    "            _, predicted = torch.max(outputs.data, 1)\n",
    "            total += labels.size(0)\n",
    "            correct += (predicted == labels).sum().item()\n",
    "\n",
    "    print(f\"Accuracy on the test set: {100 * correct / total:.2f}%\")\n",
    "\n",
    "# Test the model on the test set\n",
    "test_model(model)\n"
   ]
  },
  {
   "cell_type": "markdown",
   "id": "a6162eee",
   "metadata": {},
   "source": [
    "## Putting the model in evaluation mode."
   ]
  },
  {
   "cell_type": "code",
   "execution_count": 6,
   "id": "562ec181",
   "metadata": {},
   "outputs": [
    {
     "data": {
      "text/plain": [
       "SimpleModel(\n",
       "  (fc1): Linear(in_features=784, out_features=80, bias=True)\n",
       "  (fc2): Linear(in_features=80, out_features=40, bias=True)\n",
       "  (fc3): Linear(in_features=40, out_features=20, bias=True)\n",
       "  (fc4): Linear(in_features=20, out_features=10, bias=True)\n",
       ")"
      ]
     },
     "execution_count": 6,
     "metadata": {},
     "output_type": "execute_result"
    }
   ],
   "source": [
    "# Putting the model into evaluation mode\n",
    "model.eval()"
   ]
  },
  {
   "cell_type": "markdown",
   "id": "743f2b24",
   "metadata": {},
   "source": [
    "## Visualizing the test dataset."
   ]
  },
  {
   "cell_type": "code",
   "execution_count": 7,
   "id": "910d67d2",
   "metadata": {},
   "outputs": [
    {
     "data": {
      "image/png": "[encoded data removed]",
      "text/plain": [
       "<Figure size 900x900 with 9 Axes>"
      ]
     },
     "metadata": {},
     "output_type": "display_data"
    }
   ],
   "source": [
    "# Indicies to be looped through by the model, count is 9\n",
    "indices = [9, 23, 90, 978, 545, 483, 789, 406, 909]\n",
    "\n",
    "# Create a figure for the grid of images\n",
    "fig = plt.figure(figsize=(9, 9))\n",
    "\n",
    "# Define the number of rows and columns for the grid\n",
    "rows, cols = 3, 3\n",
    "\n",
    "# Loop through the specified indices and plot images\n",
    "for i, index in enumerate(indices):\n",
    "    test_img = testset.data[index] / 255.0  # Preprocess the image\n",
    "\n",
    "    # Add a subplot to the figure\n",
    "    subplot_index = i + 1\n",
    "    ax = fig.add_subplot(rows, cols, subplot_index)\n",
    "\n",
    "    # Display the image on the subplot\n",
    "    ax.imshow(test_img, cmap='gray')\n",
    "    ax.set_title(f'Index: {index}')\n",
    "    ax.axis('off')\n",
    "\n",
    "# Adjust spacing between subplots\n",
    "plt.tight_layout()\n",
    "\n",
    "# Show the grid of images\n",
    "plt.show()\n"
   ]
  },
  {
   "cell_type": "markdown",
   "id": "610aec7c",
   "metadata": {},
   "source": [
    "## Making prediction with the pytorch model with only 9 images and recording the time it takes to make prediction."
   ]
  },
  {
   "cell_type": "code",
   "execution_count": 8,
   "id": "1be7932b",
   "metadata": {},
   "outputs": [
    {
     "name": "stdout",
     "output_type": "stream",
     "text": [
      "Total prediction time for 9 images: 0.0296s\n"
     ]
    },
    {
     "data": {
      "image/png": "[encoded data removed]",
      "text/plain": [
       "<Figure size 900x900 with 9 Axes>"
      ]
     },
     "metadata": {},
     "output_type": "display_data"
    }
   ],
   "source": [
    "# Indicies to be looped through by the model, count is 9\n",
    "indices = [9, 23, 90, 978, 545, 483, 789, 406, 909]\n",
    "\n",
    "# Create a figure for the grid of images\n",
    "fig = plt.figure(figsize=(9, 9))\n",
    "\n",
    "# Define the number of rows and columns for the grid\n",
    "rows, cols = 3, 3\n",
    "\n",
    "# Initialize total time\n",
    "total_pytorch_prediction_time_small = 0.0\n",
    "\n",
    "# Loop through the specified indices and plot images with predictions\n",
    "for i, index in enumerate(indices):\n",
    "    test_img = testset.data[index] / 255.0  # Preprocess the image\n",
    "\n",
    "    # Add a subplot to the figure\n",
    "    subplot_index = i + 1\n",
    "    ax = fig.add_subplot(rows, cols, subplot_index)\n",
    "\n",
    "    # Display the image on the subplot\n",
    "    ax.imshow(test_img, cmap='gray')\n",
    "    ax.axis('off')\n",
    "    \n",
    "    # Make predictions\n",
    "    start_time = time.time()\n",
    "    with torch.no_grad():\n",
    "        pred = model(test_img)\n",
    "    prediction = pred.argmax()\n",
    "    end_time = time.time()\n",
    "    \n",
    "    total_pytorch_prediction_time_small += end_time - start_time\n",
    "    \n",
    "    # Set title as Pytorch prediction\n",
    "    ax.set_title(f'Prediction: {prediction.item()}')\n",
    "\n",
    "# Print the total Pytorch prediction time\n",
    "print(f\"Total prediction time for {len(indices)} images: {total_pytorch_prediction_time_small:.4f}s\")\n",
    "\n",
    "# Adjust spacing between subplots\n",
    "plt.tight_layout()\n",
    "\n",
    "# Show the grid of images\n",
    "plt.show()\n"
   ]
  },
  {
   "cell_type": "markdown",
   "id": "d31e7d06",
   "metadata": {},
   "source": [
    "## Making prediction with pytorch model using 1000 images and recording the time it takes to make predictions."
   ]
  },
  {
   "cell_type": "code",
   "execution_count": 9,
   "id": "459460d7",
   "metadata": {},
   "outputs": [
    {
     "name": "stdout",
     "output_type": "stream",
     "text": [
      "These are the Matric for the pytorch model\n",
      "==================================================\n",
      "Number of data sets looped through: 1000\n",
      "Accuracy on the specified indices: 94.00%\n",
      "Total pytorch prediction time for 1000 images: 0.3252s\n"
     ]
    }
   ],
   "source": [
    "# Initialize variables for accuracy calculation\n",
    "correct_predictions = 0\n",
    "total_predictions = 0\n",
    "\n",
    "# Record the start time before making predictions\n",
    "\n",
    "total_pytorch_prediction_time = 0.0\n",
    "# Loop through the first 1000 data sets and make predictions\n",
    "for index in range(1000):\n",
    "    test_img, label = testset[index]\n",
    "    test_img = test_img.view(-1, 28 * 28)\n",
    "    \n",
    "    start_time = time.time()\n",
    "    # Make predictions\n",
    "    with torch.no_grad():\n",
    "        outputs = model(test_img)\n",
    "        _, predicted = torch.max(outputs.data, 1)\n",
    "    end_time = time.time()\n",
    "    \n",
    "    total_predictions += 1\n",
    "    if predicted == label:\n",
    "        correct_predictions += 1\n",
    "    \n",
    "    total_pytorch_prediction_time += end_time - start_time\n",
    "# Calculate accuracy\n",
    "accuracy = correct_predictions / total_predictions\n",
    "\n",
    "# Record the end time after making predictions\n",
    "\n",
    "\n",
    "# Calculate the time taken to make all predictions\n",
    "\n",
    "print(\"These are the Matric for the pytorch model\")\n",
    "print(\"=\" * 50)\n",
    "print(\"Number of data sets looped through:\", total_predictions)\n",
    "print(\"Accuracy on the specified indices: {:.2%}\".format(accuracy))\n",
    "print(\"Total pytorch prediction time for {} images: {:.4f}s\".format(total_predictions, total_pytorch_prediction_time))"
   ]
  },
  {
   "cell_type": "markdown",
   "id": "c0aa9d87",
   "metadata": {},
   "source": [
    "## Converting the pytorch model to MDF."
   ]
  },
  {
   "cell_type": "code",
   "execution_count": 10,
   "id": "d381ecf9",
   "metadata": {},
   "outputs": [
    {
     "name": "stderr",
     "output_type": "stream",
     "text": [
      "c:\\users\\mannie\\desktop\\contribution\\py39\\lib\\site-packages\\torch\\onnx\\symbolic_helper.py:719: UserWarning: allowzero=0 by default. In order to honor zero value in shape use allowzero=1\n",
      "  warnings.warn(\"allowzero=0 by default. In order to honor zero value in shape use allowzero=1\")\n"
     ]
    }
   ],
   "source": [
    "# Convert the PyTorch model to an MDF model and extract parameters\n",
    "# 'model': The pre-trained PyTorch model that you want to convert to MDF.\n",
    "# 'args': The input tensor (test_img) to the model, used for tracing the execution graph.\n",
    "# 'trace=True': Flag to enable tracing, which captures the execution graph of the model.\n",
    "# Tracing is necessary to generate the execution graph in the MDF model.\n",
    "mdf_model, params_dict = pytorch_to_mdf(\n",
    "        model=model,\n",
    "        args=test_img,\n",
    "        trace=True,\n",
    "    )"
   ]
  },
  {
   "cell_type": "markdown",
   "id": "e130bfbc",
   "metadata": {},
   "source": [
    "## Making prediction with the MDF converted pytorch model with only 9 images and timing the time to make prediction."
   ]
  },
  {
   "cell_type": "code",
   "execution_count": 11,
   "id": "e8ef86f1",
   "metadata": {},
   "outputs": [
    {
     "name": "stdout",
     "output_type": "stream",
     "text": [
      "\n",
      "Init graph: SimpleModelGraph\n",
      "\n",
      "\n",
      "Total MDF prediction time for 9 images: 1.0949s\n"
     ]
    },
    {
     "data": {
      "image/png": "[encoded data removed]",
      "text/plain": [
       "<Figure size 900x900 with 9 Axes>"
      ]
     },
     "metadata": {},
     "output_type": "display_data"
    }
   ],
   "source": [
    "# Indicies to be looped through by the model, count is 9\n",
    "indices = [9, 23, 90, 978, 545, 483, 789, 406, 909]\n",
    "\n",
    "# Create a figure for the grid of images\n",
    "fig = plt.figure(figsize=(9, 9))\n",
    "\n",
    "# Define the number of rows and columns for the grid\n",
    "rows, cols = 3, 3\n",
    "\n",
    "# Initialize total time\n",
    "total_mdf_prediction_time_small = 0.0\n",
    "\n",
    "mdf_graph = mdf_model.graphs[0]\n",
    "eg = EvaluableGraph(graph=mdf_graph)\n",
    "\n",
    "# Loop through the specified indices and plot images with predictions using MDF\n",
    "for i, index in enumerate(indices):\n",
    "    test_img = testset.data[index] / 255.0  # Preprocess the image\n",
    "\n",
    "    # Add a subplot to the figure\n",
    "    subplot_index = i + 1\n",
    "    ax = fig.add_subplot(rows, cols, subplot_index)\n",
    "\n",
    "    # Display the image on the subplot\n",
    "    ax.imshow(test_img, cmap='gray')\n",
    "    ax.axis('off')\n",
    "    \n",
    "    # Make predictions using MDF\n",
    "    start_time = time.time()\n",
    "    \n",
    "\n",
    "    params_dict['input1'] = test_img.detach().numpy()\n",
    "    eg.evaluate(initializer=params_dict, verbose=False)\n",
    "    mdf_pred = eg.output_enodes[0].get_output()\n",
    "    \n",
    "    end_time = time.time()\n",
    "    total_mdf_prediction_time_small += end_time - start_time\n",
    "    \n",
    "    # Set title as MDF prediction\n",
    "    ax.set_title(f'MDF Prediction: {mdf_pred.argmax().item()}')\n",
    "\n",
    "# Print the total prediction time\n",
    "print('\\n')\n",
    "print(f\"Total MDF prediction time for {len(indices)} images: {total_mdf_prediction_time_small:.4f}s\")\n",
    "\n",
    "# Adjust spacing between subplots\n",
    "plt.tight_layout()\n",
    "\n",
    "# Show the grid of images\n",
    "plt.show()\n"
   ]
  },
  {
   "cell_type": "markdown",
   "id": "d0c6475e",
   "metadata": {},
   "source": [
    "## Making prediction with the MDF converted pytorch model model using 1000 images and recording the time it takes to make predictions."
   ]
  },
  {
   "cell_type": "code",
   "execution_count": 12,
   "id": "cde94d4a",
   "metadata": {},
   "outputs": [
    {
     "name": "stdout",
     "output_type": "stream",
     "text": [
      "\n",
      "Init graph: SimpleModelGraph\n",
      "These are the Matric for the mdf model\n",
      "==================================================\n",
      "Number of data sets looped through: 1000\n",
      "Accuracy on the specified indices: 93.70%\n",
      "Total MDF prediction time for 1000 images: 100.1937s\n"
     ]
    }
   ],
   "source": [
    "# Initialize variables for accuracy calculation\n",
    "correct_predictions = 0\n",
    "total_predictions = 0\n",
    "\n",
    "# Initialize total time\n",
    "total_mdf_prediction_time = 0.0\n",
    "\n",
    "# Load the MDF model graph and create the EvaluableGraph\n",
    "mdf_graph = mdf_model.graphs[0]\n",
    "eg = EvaluableGraph(graph=mdf_graph, verbose=False)\n",
    "\n",
    "# Loop through the specified indices and make predictions using MDF\n",
    "for index in range(1000):\n",
    "    _, label = testset[index]\n",
    "    test_img = testset.data[index] / 255  # Preprocess the image\n",
    "\n",
    "    # Make predictions using MDF\n",
    "    start_time = time.time()\n",
    "\n",
    "    params_dict['input1'] = test_img.detach().numpy()\n",
    "    eg.evaluate(initializer=params_dict, time_increment=100)\n",
    "    mdf_pred = eg.output_enodes[0].get_output()\n",
    "    \n",
    "    end_time = time.time()\n",
    "    \n",
    "    total_predictions += 1\n",
    "    if mdf_pred.argmax().item() == label:\n",
    "        correct_predictions += 1\n",
    "\n",
    "    total_mdf_prediction_time += end_time - start_time\n",
    "\n",
    "# Calculate accuracy\n",
    "accuracy = correct_predictions / total_predictions\n",
    "\n",
    "print(\"These are the Matric for the mdf model\")\n",
    "print(\"=\" * 50)\n",
    "print(\"Number of data sets looped through:\", total_predictions)\n",
    "print(\"Accuracy on the specified indices: {:.2%}\".format(accuracy))\n",
    "print(\"Total MDF prediction time for {} images: {:.4f}s\".format(total_predictions, total_mdf_prediction_time))"
   ]
  },
  {
   "cell_type": "markdown",
   "id": "3b287c26",
   "metadata": {},
   "source": [
    "## Making the speed comparison between MDF and PyTorch using 9 images."
   ]
  },
  {
   "cell_type": "code",
   "execution_count": 13,
   "id": "3d5fa38e",
   "metadata": {},
   "outputs": [
    {
     "name": "stdout",
     "output_type": "stream",
     "text": [
      "Mdf is 36.9864 time slower than pytorch on 9 images\n"
     ]
    }
   ],
   "source": [
    "# Calculate the speed comparison between MDF and PyTorch predictions\n",
    "if total_pytorch_prediction_time_small == 0:\n",
    "    print(\"Pytorch made its prediction under 0s\")\n",
    "\n",
    "else:\n",
    "    speed_comparsion_small = total_mdf_prediction_time_small / total_pytorch_prediction_time_small\n",
    "    # Print the result\n",
    "    print(\"Mdf is {:.4f} time slower than pytorch on 9 images\".format(speed_comparsion_small))"
   ]
  },
  {
   "cell_type": "markdown",
   "id": "334ecbc6",
   "metadata": {},
   "source": [
    "## Making the speed comparison between MDF and PyTorch using 1000 images."
   ]
  },
  {
   "cell_type": "code",
   "execution_count": 14,
   "id": "be4525bc",
   "metadata": {},
   "outputs": [
    {
     "name": "stdout",
     "output_type": "stream",
     "text": [
      "Mdf is 308.1401 time slower than pytorch on 1000 images\n"
     ]
    }
   ],
   "source": [
    "speed_comparsion = total_mdf_prediction_time / total_pytorch_prediction_time\n",
    "\n",
    "# Print the result\n",
    "print(\"Mdf is {:.4f} time slower than pytorch on 1000 images\".format(speed_comparsion))"
   ]
  },
  {
   "cell_type": "markdown",
   "id": "6a45f99d",
   "metadata": {},
   "source": [
    "## Visualizing the time taken by both models to make predictions."
   ]
  },
  {
   "cell_type": "code",
   "execution_count": 15,
   "id": "85910775",
   "metadata": {},
   "outputs": [
    {
     "data": {
      "image/png": "[encoded data removed]",
      "text/plain": [
       "<Figure size 640x480 with 1 Axes>"
      ]
     },
     "metadata": {},
     "output_type": "display_data"
    }
   ],
   "source": [
    "# Prepare the data for the bar plot\n",
    "data = [total_pytorch_prediction_time, total_mdf_prediction_time]\n",
    "labels = [\"pytorch benchmanrk\", \"mdf benchmark\"]\n",
    "\n",
    "# Create a bar plot\n",
    "plt.bar(labels, data)\n",
    "\n",
    "# Add labels and title to the plot\n",
    "plt.xlabel('Prediction Platform')\n",
    "plt.ylabel('Time taken to make Prediction')\n",
    "plt.title('Mdf and pytorch comparison chart')\n",
    "\n",
    "# Display the plot\n",
    "plt.show()"
   ]
  },
  {
   "cell_type": "markdown",
   "id": "45b1272b",
   "metadata": {},
   "source": [
    "# The end"
   ]
  }
 ],
 "metadata": {
  "kernelspec": {
   "display_name": "Python 3 (ipykernel)",
   "language": "python",
   "name": "python3"
  },
  "language_info": {
   "codemirror_mode": {
    "name": "ipython",
    "version": 3
   },
   "file_extension": ".py",
   "mimetype": "text/x-python",
   "name": "python",
   "nbconvert_exporter": "python",
   "pygments_lexer": "ipython3",
   "version": "3.9.13"
  }
 },
 "nbformat": 4,
 "nbformat_minor": 5
}
