{
 "cells": [
  {
   "attachments": {},
   "cell_type": "markdown",
   "metadata": {},
   "source": [
    "## creation of model\n"
   ]
  },
  {
   "cell_type": "code",
   "execution_count": 123,
   "metadata": {},
   "outputs": [],
   "source": [
    "from modeci_mdf.interfaces import *\n",
    "from modeci_mdf.mdf import *\n",
    "from sklearn.datasets import load_iris\n",
    "\n"
   ]
  },
  {
   "cell_type": "code",
   "execution_count": 124,
   "metadata": {},
   "outputs": [],
   "source": [
    "from sklearn.datasets import load_iris\n",
    "from sklearn.tree import DecisionTreeClassifier\n",
    "import joblib\n",
    "# Load the iris dataset\n",
    "iris = load_iris()\n",
    "X, y = iris.data, iris.target\n",
    "clf = DecisionTreeClassifier(random_state=0)\n",
    "clf.fit(X, y)\n",
    "# Load the pre-trained model\n",
    "model = joblib.load('model_MDF.joblib')\n"
   ]
  },
  {
   "attachments": {},
   "cell_type": "markdown",
   "metadata": {},
   "source": [
    "## creating model and one graph"
   ]
  },
  {
   "cell_type": "code",
   "execution_count": 125,
   "metadata": {},
   "outputs": [],
   "source": [
    "from modeci_mdf.mdf import *\n",
    "import numpy as np\n",
    "\n",
    "model=Model(id=\"my_model\")\n",
    "my_graph = Graph(id=\"Mygraph\")\n",
    "\n",
    "#append the Graph object to the Model\n",
    "model.graphs.append(my_graph)"
   ]
  },
  {
   "attachments": {},
   "cell_type": "markdown",
   "metadata": {},
   "source": [
    "## creating the node 1"
   ]
  },
  {
   "cell_type": "code",
   "execution_count": 126,
   "metadata": {},
   "outputs": [
    {
     "name": "stdout",
     "output_type": "stream",
     "text": [
      "Mygraph:\n",
      "    nodes:\n",
      "        node1:\n",
      "            input_ports:\n",
      "                input1: {}\n",
      "                input2: {}\n",
      "            functions:\n",
      "                output = input1 * input2: {}\n",
      "                derivative = input2: {}\n",
      "                condition = input1 > 0: {}\n",
      "            output_ports:\n",
      "                output: {}\n",
      "\n"
     ]
    }
   ],
   "source": [
    "node1 = Node(id=\"node1\",\n",
    "              functions=[Function(\"output = input1 * input2\"),\n",
    "                          Function(\"derivative = input2\"), \n",
    "                          Function(\"condition = input1 > 0\")])\n",
    "\n",
    "\n",
    "#creating input port\n",
    "node1.input_ports = [InputPort(id=\"input1\"),\n",
    "                   InputPort(id=\"input2\")]\n",
    "\n",
    "\n",
    "#creation of output port\n",
    "node1.output_ports=[OutputPort(id=\"output\")]\n",
    "\n",
    "# Add node to the graph\n",
    "my_graph.nodes.append(node1)\n",
    "\n",
    "#printing the node\n",
    "print(my_graph.to_yaml())\n",
    "\n"
   ]
  },
  {
   "attachments": {},
   "cell_type": "markdown",
   "metadata": {},
   "source": [
    "## Creating of node 2"
   ]
  },
  {
   "cell_type": "code",
   "execution_count": 127,
   "metadata": {},
   "outputs": [
    {
     "name": "stdout",
     "output_type": "stream",
     "text": [
      "Mygraph:\n",
      "    nodes:\n",
      "        node1:\n",
      "            input_ports:\n",
      "                input1: {}\n",
      "                input2: {}\n",
      "            functions:\n",
      "                output = input1 * input2: {}\n",
      "                derivative = input2: {}\n",
      "                condition = input1 > 0: {}\n",
      "            output_ports:\n",
      "                output: {}\n",
      "        node2:\n",
      "            input_ports:\n",
      "                input1: {}\n",
      "                input2: {}\n",
      "            functions:\n",
      "                output = input1 + input2: {}\n",
      "                derivative = input1: {}\n",
      "                condition = input2 < 1: {}\n",
      "            output_ports:\n",
      "                output: {}\n",
      "\n"
     ]
    }
   ],
   "source": [
    "node2 = Node(id=\"node2\", \n",
    "             functions=[Function(\"output = input1 + input2\"), \n",
    "                        Function(\"derivative = input1\"), \n",
    "                        Function(\"condition = input2 < 1\")])\n",
    "\n",
    "\n",
    "#creating input port\n",
    "node2.input_ports = [InputPort(id=\"input1\"),\n",
    "                           InputPort(id=\"input2\")]\n",
    "\n",
    "\n",
    "#creation of output port\n",
    "node2.output_ports=[OutputPort(id=\"output\")]\n",
    "\n",
    "# Add node to the graph\n",
    "my_graph.nodes.append(node2)\n",
    "\n",
    "#printing the node\n",
    "print(my_graph.to_yaml())\n"
   ]
  },
  {
   "attachments": {},
   "cell_type": "markdown",
   "metadata": {},
   "source": [
    "## Creating of node 3"
   ]
  },
  {
   "cell_type": "code",
   "execution_count": 128,
   "metadata": {},
   "outputs": [
    {
     "name": "stdout",
     "output_type": "stream",
     "text": [
      "Mygraph:\n",
      "    nodes:\n",
      "        node1:\n",
      "            input_ports:\n",
      "                input1: {}\n",
      "                input2: {}\n",
      "            functions:\n",
      "                output = input1 * input2: {}\n",
      "                derivative = input2: {}\n",
      "                condition = input1 > 0: {}\n",
      "            output_ports:\n",
      "                output: {}\n",
      "        node2:\n",
      "            input_ports:\n",
      "                input1: {}\n",
      "                input2: {}\n",
      "            functions:\n",
      "                output = input1 + input2: {}\n",
      "                derivative = input1: {}\n",
      "                condition = input2 < 1: {}\n",
      "            output_ports:\n",
      "                output: {}\n",
      "        node3:\n",
      "            input_ports:\n",
      "                input1: {}\n",
      "                input2: {}\n",
      "            functions:\n",
      "                output = input1 - input2: {}\n",
      "                derivative = input1: {}\n",
      "                condition = input2 > 0: {}\n",
      "            output_ports:\n",
      "                output: {}\n",
      "\n"
     ]
    }
   ],
   "source": [
    "node3 = Node(id=\"node3\",\n",
    "              functions=[Function(\"output = input1 - input2\"), \n",
    "                         Function(\"derivative = input1\"), \n",
    "                         Function(\"condition = input2 > 0\")])\n",
    "\n",
    "#creating input port\n",
    "node3.input_ports=[InputPort(id=\"input1\"), \n",
    "                   InputPort(id=\"input2\")]\n",
    "\n",
    "\n",
    "#creation of output port\n",
    "node3.output_ports=[OutputPort(id=\"output\")]\n",
    "\n",
    "# Add node to the graph\n",
    "my_graph.nodes.append(node3)\n",
    "\n",
    "#printing the node\n",
    "print(my_graph.to_yaml())"
   ]
  },
  {
   "attachments": {},
   "cell_type": "markdown",
   "metadata": {},
   "source": [
    "## defining th econnection </br>\n",
    "## between the nodes of input and output of pretrained model"
   ]
  },
  {
   "cell_type": "code",
   "execution_count": 129,
   "metadata": {},
   "outputs": [],
   "source": [
    "# Create a node that runs the sklearn model\n",
    "model_node = Node(id=\"model_node\", \n",
    "                  functions=[Function(\"output = input * model.predict([input])[0]\")])\n"
   ]
  },
  {
   "cell_type": "code",
   "execution_count": 114,
   "metadata": {},
   "outputs": [],
   "source": [
    "import pickle\n",
    "from sklearn.linear_model import LinearRegression\n",
    "\n",
    "# Load the saved model\n",
    "with open('ML_Model.pkl', 'rb') as f:\n",
    "    model = pickle.load(f)\n"
   ]
  },
  {
   "attachments": {},
   "cell_type": "markdown",
   "metadata": {},
   "source": [
    " ## creating edges between the nodes"
   ]
  },
  {
   "cell_type": "code",
   "execution_count": 130,
   "metadata": {},
   "outputs": [
    {
     "name": "stdout",
     "output_type": "stream",
     "text": [
      "Mygraph:\n",
      "    nodes:\n",
      "        node1:\n",
      "            input_ports:\n",
      "                input1: {}\n",
      "                input2: {}\n",
      "            functions:\n",
      "                output = input1 * input2: {}\n",
      "                derivative = input2: {}\n",
      "                condition = input1 > 0: {}\n",
      "            output_ports:\n",
      "                output: {}\n",
      "        node2:\n",
      "            input_ports:\n",
      "                input1: {}\n",
      "                input2: {}\n",
      "            functions:\n",
      "                output = input1 + input2: {}\n",
      "                derivative = input1: {}\n",
      "                condition = input2 < 1: {}\n",
      "            output_ports:\n",
      "                output: {}\n",
      "        node3:\n",
      "            input_ports:\n",
      "                input1: {}\n",
      "                input2: {}\n",
      "            functions:\n",
      "                output = input1 - input2: {}\n",
      "                derivative = input1: {}\n",
      "                condition = input2 > 0: {}\n",
      "            output_ports:\n",
      "                output: {}\n",
      "    edges:\n",
      "        edge_node1_node2:\n",
      "            sender: node1\n",
      "            receiver: node2\n",
      "            sender_port: output\n",
      "            receiver_port: input1\n",
      "        edge_node2_node3:\n",
      "            sender: node2\n",
      "            receiver: node3\n",
      "            sender_port: output\n",
      "            receiver_port: input1\n",
      "        edge_node1_node3:\n",
      "            sender: node1\n",
      "            receiver: node3\n",
      "            sender_port: output\n",
      "            receiver_port: input1\n",
      "\n"
     ]
    }
   ],
   "source": [
    "from modeci_mdf.utils import simple_connect\n",
    "\n",
    "# Connect node1 to node2\n",
    "e1 = simple_connect(node1, node2, my_graph)\n",
    "\n",
    "# Connect node2 to node3\n",
    "e2 = simple_connect(node2, node3, my_graph)\n",
    "\n",
    "# Connect node1 to node3\n",
    "e3 = simple_connect(node1, node3, my_graph)\n",
    "\n",
    "# Print the current structure\n",
    "print(my_graph.to_yaml())"
   ]
  },
  {
   "attachments": {},
   "cell_type": "markdown",
   "metadata": {},
   "source": [
    "## Save the model"
   ]
  },
  {
   "cell_type": "code",
   "execution_count": 131,
   "metadata": {},
   "outputs": [
    {
     "data": {
      "text/plain": [
       "'ML_TO_MDF_Model.yaml'"
      ]
     },
     "execution_count": 131,
     "metadata": {},
     "output_type": "execute_result"
    }
   ],
   "source": [
    "model.to_json_file(\"ML_TO MDF_Model.json\")\n",
    "model.to_yaml_file(\"ML_TO_MDF_Model.yaml\")"
   ]
  },
  {
   "attachments": {},
   "cell_type": "markdown",
   "metadata": {},
   "source": [
    "## Generate a graph image from the model"
   ]
  },
  {
   "cell_type": "code",
   "execution_count": 132,
   "metadata": {},
   "outputs": [
    {
     "name": "stdout",
     "output_type": "stream",
     "text": [
      "Converting MDF graph: Mygraph to graphviz (level: 3, format: png)\n",
      "    Node: node1\n",
      "    Node: node2\n",
      "    Node: node3\n",
      "    Edge: edge_node1_node2 connects node1 to node2\n",
      "    Edge: edge_node2_node3 connects node2 to node3\n",
      "    Edge: edge_node1_node3 connects node1 to node3\n",
      "Written graph image to: ML_TO_MDF_Model.png\n"
     ]
    },
    {
     "data": {
      "image/png": "[encoded data removed]",
      "text/plain": [
       "<IPython.core.display.Image object>"
      ]
     },
     "execution_count": 132,
     "metadata": {},
     "output_type": "execute_result"
    }
   ],
   "source": [
    "model.to_graph_image(\n",
    "        engine=\"dot\",\n",
    "        output_format=\"png\",\n",
    "        view_on_render=False,\n",
    "        level=3,\n",
    "        filename_root=\"ML_TO_MDF_Model\",\n",
    "        is_horizontal=True\n",
    "    )\n",
    "\n",
    "from IPython.display import Image\n",
    "Image(filename=\"ML_TO_MDF_Model.png\")"
   ]
  },
  {
   "attachments": {},
   "cell_type": "markdown",
   "metadata": {},
   "source": [
    "## Execute the graph and print the values  <a class=\"anchor\" id=\"h3\"></a>"
   ]
  },
  {
   "attachments": {},
   "cell_type": "markdown",
   "metadata": {},
   "source": [
    "### Execute the graph with the current parameter values "
   ]
  },
  {
   "cell_type": "code",
   "execution_count": 136,
   "metadata": {},
   "outputs": [
    {
     "name": "stdout",
     "output_type": "stream",
     "text": [
      "\n",
      "Init graph: Mygraph\n",
      "Evaluating graph: Mygraph, root nodes: ['node1'], with array format numpy\n"
     ]
    },
    {
     "ename": "TypeError",
     "evalue": "argument of type 'NoneType' is not iterable",
     "output_type": "error",
     "traceback": [
      "\u001b[1;31m---------------------------------------------------------------------------\u001b[0m",
      "\u001b[1;31mTypeError\u001b[0m                                 Traceback (most recent call last)",
      "Cell \u001b[1;32mIn[136], line 7\u001b[0m\n\u001b[0;32m      4\u001b[0m graph \u001b[39m=\u001b[39m EvaluableGraph(my_graph)\n\u001b[0;32m      6\u001b[0m \u001b[39m# Evaluate the graph\u001b[39;00m\n\u001b[1;32m----> 7\u001b[0m graph\u001b[39m.\u001b[39;49mevaluate()\n\u001b[0;32m      9\u001b[0m \u001b[39m# Access the current value of the desired nodes\u001b[39;00m\n\u001b[0;32m     10\u001b[0m node1_output \u001b[39m=\u001b[39m graph\u001b[39m.\u001b[39menodes[\u001b[39m\"\u001b[39m\u001b[39mnode1\u001b[39m\u001b[39m\"\u001b[39m]\u001b[39m.\u001b[39mevaluable_outputs[\u001b[39m\"\u001b[39m\u001b[39moutput\u001b[39m\u001b[39m\"\u001b[39m]\u001b[39m.\u001b[39mcurr_value\n",
      "File \u001b[1;32mc:\\Users\\Sakshi\\OneDrive\\Documents\\Outreach_MDF\\mdf-env\\lib\\site-packages\\modeci_mdf\\execution_engine.py:1140\u001b[0m, in \u001b[0;36mEvaluableGraph.evaluate\u001b[1;34m(self, time_increment, array_format, initializer)\u001b[0m\n\u001b[0;32m   1136\u001b[0m         \u001b[39mfor\u001b[39;00m edge \u001b[39min\u001b[39;00m incoming_edges[node]:\n\u001b[0;32m   1137\u001b[0m             \u001b[39mself\u001b[39m\u001b[39m.\u001b[39mevaluate_edge(\n\u001b[0;32m   1138\u001b[0m                 edge, time_increment\u001b[39m=\u001b[39mtime_increment, array_format\u001b[39m=\u001b[39marray_format\n\u001b[0;32m   1139\u001b[0m             )\n\u001b[1;32m-> 1140\u001b[0m         \u001b[39mself\u001b[39;49m\u001b[39m.\u001b[39;49menodes[node\u001b[39m.\u001b[39;49mid]\u001b[39m.\u001b[39;49mevaluate(\n\u001b[0;32m   1141\u001b[0m             time_increment\u001b[39m=\u001b[39;49mtime_increment, array_format\u001b[39m=\u001b[39;49marray_format\n\u001b[0;32m   1142\u001b[0m         )\n\u001b[0;32m   1144\u001b[0m \u001b[39mif\u001b[39;00m \u001b[39mself\u001b[39m\u001b[39m.\u001b[39mverbose:\n\u001b[0;32m   1145\u001b[0m     \u001b[39mprint\u001b[39m(\u001b[39m\"\u001b[39m\u001b[39m> Order of execution of nodes: \u001b[39m\u001b[39m%s\u001b[39;00m\u001b[39m\"\u001b[39m \u001b[39m%\u001b[39m \u001b[39mself\u001b[39m\u001b[39m.\u001b[39morder_of_execution)\n",
      "File \u001b[1;32mc:\\Users\\Sakshi\\OneDrive\\Documents\\Outreach_MDF\\mdf-env\\lib\\site-packages\\modeci_mdf\\execution_engine.py:952\u001b[0m, in \u001b[0;36mEvaluableNode.evaluate\u001b[1;34m(self, time_increment, array_format)\u001b[0m\n\u001b[0;32m    947\u001b[0m     curr_params[ep] \u001b[39m=\u001b[39m \u001b[39mself\u001b[39m\u001b[39m.\u001b[39mevaluable_parameters[ep]\u001b[39m.\u001b[39mget_current_value(\n\u001b[0;32m    948\u001b[0m         curr_params, array_format\u001b[39m=\u001b[39marray_format\n\u001b[0;32m    949\u001b[0m     )\n\u001b[0;32m    951\u001b[0m \u001b[39mfor\u001b[39;00m ef \u001b[39min\u001b[39;00m \u001b[39mself\u001b[39m\u001b[39m.\u001b[39mevaluable_functions:\n\u001b[1;32m--> 952\u001b[0m     curr_params[ef] \u001b[39m=\u001b[39m \u001b[39mself\u001b[39;49m\u001b[39m.\u001b[39;49mevaluable_functions[ef]\u001b[39m.\u001b[39;49mevaluate(\n\u001b[0;32m    953\u001b[0m         curr_params, array_format\u001b[39m=\u001b[39;49marray_format\n\u001b[0;32m    954\u001b[0m     )\n\u001b[0;32m    956\u001b[0m \u001b[39m# Now evaluate and set params to new parameter values for use in output...\u001b[39;00m\n\u001b[0;32m    957\u001b[0m \u001b[39mfor\u001b[39;00m ep \u001b[39min\u001b[39;00m \u001b[39mself\u001b[39m\u001b[39m.\u001b[39mevaluable_parameters:\n",
      "File \u001b[1;32mc:\\Users\\Sakshi\\OneDrive\\Documents\\Outreach_MDF\\mdf-env\\lib\\site-packages\\modeci_mdf\\execution_engine.py:355\u001b[0m, in \u001b[0;36mEvaluableFunction.evaluate\u001b[1;34m(self, parameters, array_format)\u001b[0m\n\u001b[0;32m    347\u001b[0m             \u001b[39mprint\u001b[39m(\n\u001b[0;32m    348\u001b[0m                 \u001b[39m\"\u001b[39m\u001b[39m      Arg: \u001b[39m\u001b[39m{}\u001b[39;00m\u001b[39m became: \u001b[39m\u001b[39m{}\u001b[39;00m\u001b[39m\"\u001b[39m\u001b[39m.\u001b[39mformat(\n\u001b[0;32m    349\u001b[0m                     arg, _val_info(func_params[arg])\n\u001b[0;32m    350\u001b[0m                 )\n\u001b[0;32m    351\u001b[0m             )\n\u001b[0;32m    353\u001b[0m \u001b[39m# If this is an ONNX operation, evaluate it without modelspec.\u001b[39;00m\n\u001b[1;32m--> 355\u001b[0m \u001b[39mif\u001b[39;00m \u001b[39m\"\u001b[39;49m\u001b[39monnx_ops.\u001b[39;49m\u001b[39m\"\u001b[39;49m \u001b[39min\u001b[39;49;00m expr:\n\u001b[0;32m    356\u001b[0m     \u001b[39mif\u001b[39;00m \u001b[39mself\u001b[39m\u001b[39m.\u001b[39mverbose:\n\u001b[0;32m    357\u001b[0m         \u001b[39mprint\u001b[39m(\u001b[39mf\u001b[39m\u001b[39m\"\u001b[39m\u001b[39m{\u001b[39;00m\u001b[39mself\u001b[39m\u001b[39m.\u001b[39mfunction\u001b[39m.\u001b[39mid\u001b[39m}\u001b[39;00m\u001b[39m is evaluating ONNX function \u001b[39m\u001b[39m{\u001b[39;00mexpr\u001b[39m}\u001b[39;00m\u001b[39m\"\u001b[39m)\n",
      "\u001b[1;31mTypeError\u001b[0m: argument of type 'NoneType' is not iterable"
     ]
    }
   ],
   "source": [
    "from modeci_mdf.execution_engine import EvaluableGraph\n",
    "\n",
    " ## Instantiate an EvaluableGraph object\n",
    "graph = EvaluableGraph(my_graph)\n",
    "\n",
    "# Evaluate the graph\n",
    "graph.evaluate()\n",
    "\n",
    "# Access the current value of the desired nodes\n",
    "node1_output = graph.enodes[\"node1\"].evaluable_outputs[\"output\"].curr_value\n",
    "node2_output = graph.enodes[\"node2\"].evaluable_outputs[\"output\"].curr_value\n",
    "node3_output = graph.enodes[\"node3\"].evaluable_outputs[\"output\"].curr_value\n",
    "\n",
    "# Print the values of the desired nodes\n",
    "print(f\"Node 1 output: {node1_output}\")\n",
    "print(f\"Node 2 output: {node2_output}\")\n",
    "print(f\"Node 3 output: {node3_output}\")\n"
   ]
  },
  {
   "cell_type": "code",
   "execution_count": 134,
   "metadata": {},
   "outputs": [
    {
     "name": "stdout",
     "output_type": "stream",
     "text": [
      "\n",
      "Init graph: Mygraph\n",
      "Evaluating graph: Mygraph, root nodes: ['node1'], with array format numpy\n"
     ]
    },
    {
     "ename": "TypeError",
     "evalue": "argument of type 'NoneType' is not iterable",
     "output_type": "error",
     "traceback": [
      "\u001b[1;31m---------------------------------------------------------------------------\u001b[0m",
      "\u001b[1;31mTypeError\u001b[0m                                 Traceback (most recent call last)",
      "Cell \u001b[1;32mIn[134], line 4\u001b[0m\n\u001b[0;32m      1\u001b[0m \u001b[39mfrom\u001b[39;00m \u001b[39mmodeci_mdf\u001b[39;00m\u001b[39m.\u001b[39;00m\u001b[39mexecution_engine\u001b[39;00m \u001b[39mimport\u001b[39;00m EvaluableGraph\n\u001b[0;32m      3\u001b[0m eg \u001b[39m=\u001b[39m EvaluableGraph(my_graph, verbose\u001b[39m=\u001b[39m\u001b[39mFalse\u001b[39;00m)\n\u001b[1;32m----> 4\u001b[0m eg\u001b[39m.\u001b[39;49mevaluate()\n\u001b[0;32m      6\u001b[0m \u001b[39mfor\u001b[39;00m edge \u001b[39min\u001b[39;00m my_graph\u001b[39m.\u001b[39medges:\n\u001b[0;32m      7\u001b[0m     \u001b[39mprint\u001b[39m(\u001b[39mf\u001b[39m\u001b[39m\"\u001b[39m\u001b[39mOutput of edge \u001b[39m\u001b[39m{\u001b[39;00medge\u001b[39m.\u001b[39msender\u001b[39m}\u001b[39;00m\u001b[39m to \u001b[39m\u001b[39m{\u001b[39;00medge\u001b[39m.\u001b[39mreceiver\u001b[39m}\u001b[39;00m\u001b[39m: \u001b[39m\u001b[39m{\u001b[39;00medge\u001b[39m.\u001b[39mevaluable_outputs[\u001b[39m'\u001b[39m\u001b[39moutput\u001b[39m\u001b[39m'\u001b[39m]\u001b[39m.\u001b[39mcurr_value\u001b[39m}\u001b[39;00m\u001b[39m\"\u001b[39m)\n",
      "File \u001b[1;32mc:\\Users\\Sakshi\\OneDrive\\Documents\\Outreach_MDF\\mdf-env\\lib\\site-packages\\modeci_mdf\\execution_engine.py:1140\u001b[0m, in \u001b[0;36mEvaluableGraph.evaluate\u001b[1;34m(self, time_increment, array_format, initializer)\u001b[0m\n\u001b[0;32m   1136\u001b[0m         \u001b[39mfor\u001b[39;00m edge \u001b[39min\u001b[39;00m incoming_edges[node]:\n\u001b[0;32m   1137\u001b[0m             \u001b[39mself\u001b[39m\u001b[39m.\u001b[39mevaluate_edge(\n\u001b[0;32m   1138\u001b[0m                 edge, time_increment\u001b[39m=\u001b[39mtime_increment, array_format\u001b[39m=\u001b[39marray_format\n\u001b[0;32m   1139\u001b[0m             )\n\u001b[1;32m-> 1140\u001b[0m         \u001b[39mself\u001b[39;49m\u001b[39m.\u001b[39;49menodes[node\u001b[39m.\u001b[39;49mid]\u001b[39m.\u001b[39;49mevaluate(\n\u001b[0;32m   1141\u001b[0m             time_increment\u001b[39m=\u001b[39;49mtime_increment, array_format\u001b[39m=\u001b[39;49marray_format\n\u001b[0;32m   1142\u001b[0m         )\n\u001b[0;32m   1144\u001b[0m \u001b[39mif\u001b[39;00m \u001b[39mself\u001b[39m\u001b[39m.\u001b[39mverbose:\n\u001b[0;32m   1145\u001b[0m     \u001b[39mprint\u001b[39m(\u001b[39m\"\u001b[39m\u001b[39m> Order of execution of nodes: \u001b[39m\u001b[39m%s\u001b[39;00m\u001b[39m\"\u001b[39m \u001b[39m%\u001b[39m \u001b[39mself\u001b[39m\u001b[39m.\u001b[39morder_of_execution)\n",
      "File \u001b[1;32mc:\\Users\\Sakshi\\OneDrive\\Documents\\Outreach_MDF\\mdf-env\\lib\\site-packages\\modeci_mdf\\execution_engine.py:952\u001b[0m, in \u001b[0;36mEvaluableNode.evaluate\u001b[1;34m(self, time_increment, array_format)\u001b[0m\n\u001b[0;32m    947\u001b[0m     curr_params[ep] \u001b[39m=\u001b[39m \u001b[39mself\u001b[39m\u001b[39m.\u001b[39mevaluable_parameters[ep]\u001b[39m.\u001b[39mget_current_value(\n\u001b[0;32m    948\u001b[0m         curr_params, array_format\u001b[39m=\u001b[39marray_format\n\u001b[0;32m    949\u001b[0m     )\n\u001b[0;32m    951\u001b[0m \u001b[39mfor\u001b[39;00m ef \u001b[39min\u001b[39;00m \u001b[39mself\u001b[39m\u001b[39m.\u001b[39mevaluable_functions:\n\u001b[1;32m--> 952\u001b[0m     curr_params[ef] \u001b[39m=\u001b[39m \u001b[39mself\u001b[39;49m\u001b[39m.\u001b[39;49mevaluable_functions[ef]\u001b[39m.\u001b[39;49mevaluate(\n\u001b[0;32m    953\u001b[0m         curr_params, array_format\u001b[39m=\u001b[39;49marray_format\n\u001b[0;32m    954\u001b[0m     )\n\u001b[0;32m    956\u001b[0m \u001b[39m# Now evaluate and set params to new parameter values for use in output...\u001b[39;00m\n\u001b[0;32m    957\u001b[0m \u001b[39mfor\u001b[39;00m ep \u001b[39min\u001b[39;00m \u001b[39mself\u001b[39m\u001b[39m.\u001b[39mevaluable_parameters:\n",
      "File \u001b[1;32mc:\\Users\\Sakshi\\OneDrive\\Documents\\Outreach_MDF\\mdf-env\\lib\\site-packages\\modeci_mdf\\execution_engine.py:355\u001b[0m, in \u001b[0;36mEvaluableFunction.evaluate\u001b[1;34m(self, parameters, array_format)\u001b[0m\n\u001b[0;32m    347\u001b[0m             \u001b[39mprint\u001b[39m(\n\u001b[0;32m    348\u001b[0m                 \u001b[39m\"\u001b[39m\u001b[39m      Arg: \u001b[39m\u001b[39m{}\u001b[39;00m\u001b[39m became: \u001b[39m\u001b[39m{}\u001b[39;00m\u001b[39m\"\u001b[39m\u001b[39m.\u001b[39mformat(\n\u001b[0;32m    349\u001b[0m                     arg, _val_info(func_params[arg])\n\u001b[0;32m    350\u001b[0m                 )\n\u001b[0;32m    351\u001b[0m             )\n\u001b[0;32m    353\u001b[0m \u001b[39m# If this is an ONNX operation, evaluate it without modelspec.\u001b[39;00m\n\u001b[1;32m--> 355\u001b[0m \u001b[39mif\u001b[39;00m \u001b[39m\"\u001b[39;49m\u001b[39monnx_ops.\u001b[39;49m\u001b[39m\"\u001b[39;49m \u001b[39min\u001b[39;49;00m expr:\n\u001b[0;32m    356\u001b[0m     \u001b[39mif\u001b[39;00m \u001b[39mself\u001b[39m\u001b[39m.\u001b[39mverbose:\n\u001b[0;32m    357\u001b[0m         \u001b[39mprint\u001b[39m(\u001b[39mf\u001b[39m\u001b[39m\"\u001b[39m\u001b[39m{\u001b[39;00m\u001b[39mself\u001b[39m\u001b[39m.\u001b[39mfunction\u001b[39m.\u001b[39mid\u001b[39m}\u001b[39;00m\u001b[39m is evaluating ONNX function \u001b[39m\u001b[39m{\u001b[39;00mexpr\u001b[39m}\u001b[39;00m\u001b[39m\"\u001b[39m)\n",
      "\u001b[1;31mTypeError\u001b[0m: argument of type 'NoneType' is not iterable"
     ]
    }
   ],
   "source": [
    "from modeci_mdf.execution_engine import EvaluableGraph\n",
    "\n",
    "eg = EvaluableGraph(my_graph, verbose=False)\n",
    "eg.evaluate()\n",
    "\n",
    "for edge in my_graph.edges:\n",
    "    print(f\"Output of edge {edge.sender} to {edge.receiver}: {edge.evaluable_outputs['output'].curr_value}\")\n"
   ]
  },
  {
   "cell_type": "code",
   "execution_count": null,
   "metadata": {},
   "outputs": [],
   "source": []
  },
  {
   "cell_type": "code",
   "execution_count": null,
   "metadata": {},
   "outputs": [
    {
     "ename": "AttributeError",
     "evalue": "'Node' object has no attribute 'get_parameter'",
     "output_type": "error",
     "traceback": [
      "\u001b[1;31m---------------------------------------------------------------------------\u001b[0m",
      "\u001b[1;31mAttributeError\u001b[0m                            Traceback (most recent call last)",
      "Cell \u001b[1;32mIn[85], line 3\u001b[0m\n\u001b[0;32m      1\u001b[0m \u001b[39mimport\u001b[39;00m \u001b[39mnumpy\u001b[39;00m \u001b[39mas\u001b[39;00m \u001b[39mnp\u001b[39;00m \n\u001b[0;32m      2\u001b[0m \u001b[39m#Convert the value of the parameter to a numpy array\u001b[39;00m\n\u001b[1;32m----> 3\u001b[0m node1\u001b[39m.\u001b[39;49mget_parameter(\u001b[39m'\u001b[39m\u001b[39mlevel\u001b[39m\u001b[39m'\u001b[39m)\u001b[39m.\u001b[39mvalue \u001b[39m=\u001b[39m np\u001b[39m.\u001b[39marray([[\u001b[39m1\u001b[39m,\u001b[39m2\u001b[39m],[\u001b[39m3\u001b[39m,\u001b[39m4\u001b[39m]])\n\u001b[0;32m      5\u001b[0m eg\u001b[39m.\u001b[39mevaluate()\n",
      "\u001b[1;31mAttributeError\u001b[0m: 'Node' object has no attribute 'get_parameter'"
     ]
    }
   ],
   "source": [
    "import numpy as np \n",
    "#Convert the value of the parameter to a numpy array\n",
    "node1.get_parameter('level').value = np.array([[1,2],[3,4]])\n",
    "\n",
    "eg.evaluate()"
   ]
  },
  {
   "cell_type": "code",
   "execution_count": null,
   "metadata": {},
   "outputs": [],
   "source": []
  },
  {
   "cell_type": "code",
   "execution_count": null,
   "metadata": {},
   "outputs": [],
   "source": []
  },
  {
   "cell_type": "code",
   "execution_count": null,
   "metadata": {},
   "outputs": [],
   "source": []
  },
  {
   "cell_type": "code",
   "execution_count": null,
   "metadata": {},
   "outputs": [],
   "source": []
  },
  {
   "cell_type": "code",
   "execution_count": null,
   "metadata": {},
   "outputs": [],
   "source": []
  },
  {
   "cell_type": "code",
   "execution_count": null,
   "metadata": {},
   "outputs": [],
   "source": []
  },
  {
   "cell_type": "code",
   "execution_count": null,
   "metadata": {},
   "outputs": [],
   "source": []
  },
  {
   "cell_type": "code",
   "execution_count": null,
   "metadata": {},
   "outputs": [],
   "source": []
  },
  {
   "cell_type": "code",
   "execution_count": null,
   "metadata": {},
   "outputs": [],
   "source": []
  },
  {
   "cell_type": "code",
   "execution_count": null,
   "metadata": {},
   "outputs": [],
   "source": []
  },
  {
   "cell_type": "code",
   "execution_count": null,
   "metadata": {},
   "outputs": [],
   "source": []
  },
  {
   "cell_type": "code",
   "execution_count": null,
   "metadata": {},
   "outputs": [],
   "source": [
    "from modeci_mdf.mdf import Model, Node, InputPort, OutputPort, Function\n",
    "\n",
    "# Load the iris dataset\n",
    "iris = load_iris()\n",
    "X = iris.data\n",
    "y = iris.target\n",
    "\n",
    "# Load the pre-trained model\n",
    "model = joblib.load('model_file.joblib')\n",
    "\n",
    "# Define the nodes\n",
    "node1 = Node(id=\"node1\", functions=[Function(\"output = input1 * input2\")])\n",
    "node2 = Node(id=\"node2\", functions=[Function(\"output = input1 + input2\")])\n",
    "node3 = Node(id=\"node3\", functions=[Function(\"output = input1 - input2\")])\n",
    "\n",
    "# Define the input and output ports for each node\n",
    "node1.inputs = [InputPort(id=\"input1\"), InputPort(id=\"input2\")]\n",
    "node1.outputs = [OutputPort(id=\"output\")]\n",
    "\n",
    "node2.inputs = [InputPort(id=\"input1\"), InputPort(id=\"input2\")]\n",
    "node2.outputs = [OutputPort(id=\"output\")]\n",
    "\n",
    "node3.inputs = [InputPort(id=\"input1\"), InputPort(id=\"input2\")]\n",
    "node3.outputs = [OutputPort(id=\"output\")]\n",
    "\n",
    "# Define the connections between the nodes based on the inputs and outputs of the pre-trained model\n",
    "node1.inputs[0].source = None\n",
    "node1.inputs[1].source = None\n",
    "node1.outputs[0].targets = [node2.inputs[0], node3.inputs[0]]\n",
    "\n",
    "node2.inputs[0].source = node1.outputs[0]\n",
    "node2.inputs[1].source = None\n",
    "node2.outputs[0].targets = None\n",
    "\n",
    "node3.inputs[0].source = node1.outputs[0]\n",
    "node3.inputs[1].source = None\n",
    "node3.outputs[0].targets = None\n",
    "\n",
    "# Create the MDF model and add the nodes\n",
    "mdf_model = Model(id=\"my_model\")\n",
    "mdf_model.nodes = [node1, node2, node3]\n"
   ]
  },
  {
   "cell_type": "code",
   "execution_count": null,
   "metadata": {},
   "outputs": [],
   "source": []
  },
  {
   "cell_type": "code",
   "execution_count": null,
   "metadata": {},
   "outputs": [],
   "source": []
  },
  {
   "cell_type": "code",
   "execution_count": null,
   "metadata": {},
   "outputs": [],
   "source": []
  },
  {
   "cell_type": "code",
   "execution_count": null,
   "metadata": {},
   "outputs": [],
   "source": []
  },
  {
   "cell_type": "code",
   "execution_count": null,
   "metadata": {},
   "outputs": [],
   "source": []
  },
  {
   "cell_type": "code",
   "execution_count": null,
   "metadata": {},
   "outputs": [],
   "source": []
  },
  {
   "cell_type": "code",
   "execution_count": null,
   "metadata": {},
   "outputs": [],
   "source": []
  },
  {
   "cell_type": "code",
   "execution_count": null,
   "metadata": {},
   "outputs": [],
   "source": []
  },
  {
   "cell_type": "code",
   "execution_count": null,
   "metadata": {},
   "outputs": [],
   "source": []
  },
  {
   "cell_type": "code",
   "execution_count": null,
   "metadata": {},
   "outputs": [],
   "source": []
  },
  {
   "cell_type": "code",
   "execution_count": null,
   "metadata": {},
   "outputs": [],
   "source": []
  },
  {
   "cell_type": "code",
   "execution_count": null,
   "metadata": {},
   "outputs": [],
   "source": []
  },
  {
   "cell_type": "code",
   "execution_count": null,
   "metadata": {},
   "outputs": [],
   "source": []
  },
  {
   "attachments": {},
   "cell_type": "markdown",
   "metadata": {},
   "source": [
    "##  creating edges for the model \n"
   ]
  },
  {
   "cell_type": "code",
   "execution_count": null,
   "metadata": {},
   "outputs": [
    {
     "ename": "AttributeError",
     "evalue": "'Node' object has no attribute 'outputs'",
     "output_type": "error",
     "traceback": [
      "\u001b[1;31m---------------------------------------------------------------------------\u001b[0m",
      "\u001b[1;31mAttributeError\u001b[0m                            Traceback (most recent call last)",
      "Cell \u001b[1;32mIn[37], line 4\u001b[0m\n\u001b[0;32m      1\u001b[0m \u001b[39m# Define  and edges\u001b[39;00m\n\u001b[0;32m      2\u001b[0m \u001b[39mfrom\u001b[39;00m \u001b[39mmodeci_mdf\u001b[39;00m\u001b[39m.\u001b[39;00m\u001b[39mutils\u001b[39;00m \u001b[39mimport\u001b[39;00m simple_connect\n\u001b[1;32m----> 4\u001b[0m edge1 \u001b[39m=\u001b[39m simple_connect(node1\u001b[39m.\u001b[39;49moutputs[\u001b[39m0\u001b[39m], node2\u001b[39m.\u001b[39minputs[\u001b[39m0\u001b[39m], my_graph)\n\u001b[0;32m      5\u001b[0m edge2 \u001b[39m=\u001b[39m simple_connect(node2\u001b[39m.\u001b[39moutputs[\u001b[39m0\u001b[39m], node3\u001b[39m.\u001b[39minputs[\u001b[39m0\u001b[39m], my_graph)\n\u001b[0;32m      7\u001b[0m \u001b[39m# Create the MDF model and add the nodes and edges\u001b[39;00m\n",
      "\u001b[1;31mAttributeError\u001b[0m: 'Node' object has no attribute 'outputs'"
     ]
    }
   ],
   "source": [
    "\n",
    "# Define  and edges\n",
    "from modeci_mdf.utils import simple_connect\n",
    "\n",
    "edge1 = simple_connect(node1.outputs[0], node2.inputs[0], my_graph)\n",
    "edge2 = simple_connect(node2.outputs[0], node3.inputs[0], my_graph)\n",
    "\n",
    "# Create the MDF model and add the nodes and edges\n",
    "\n",
    "print(my_graph.to_yaml())\n",
    "\n"
   ]
  },
  {
   "attachments": {},
   "cell_type": "markdown",
   "metadata": {},
   "source": [
    "## creating edges between the system"
   ]
  },
  {
   "cell_type": "code",
   "execution_count": null,
   "metadata": {},
   "outputs": [
    {
     "data": {
      "text/plain": [
       "'ML_Model_Testing.yaml'"
      ]
     },
     "execution_count": 19,
     "metadata": {},
     "output_type": "execute_result"
    }
   ],
   "source": [
    "model.to_json_file(\"ML_Model_Testing.json\")\n",
    "model.to_yaml_file(\"ML_Model_Testing.yaml\")"
   ]
  },
  {
   "attachments": {},
   "cell_type": "markdown",
   "metadata": {},
   "source": [
    "## Save the model"
   ]
  },
  {
   "cell_type": "code",
   "execution_count": null,
   "metadata": {},
   "outputs": [
    {
     "name": "stdout",
     "output_type": "stream",
     "text": [
      "Converting MDF graph: Mygraph to graphviz (level: 3, format: png)\n",
      "    Node: node1\n",
      "    Node: node2\n",
      "    Node: node3\n",
      "    Edge: edge_node1_node2 connects node1 to node2\n",
      "    Edge: edge_node1_node3 connects node1 to node3\n",
      "    Edge: edge_node1_node2 connects node1 to node2\n",
      "    Edge: edge_node1_node3 connects node1 to node3\n",
      "    Edge: edge_node1_node2 connects node1 to node2\n",
      "    Edge: edge_node1_node3 connects node1 to node3\n",
      "    Edge: edge_node1_node2 connects node1 to node2\n",
      "    Edge: edge_node1_node3 connects node1 to node3\n",
      "    Edge: edge_node1_node2 connects node1 to node2\n",
      "    Edge: edge_node1_node3 connects node1 to node3\n"
     ]
    },
    {
     "ename": "KeyboardInterrupt",
     "evalue": "",
     "output_type": "error",
     "traceback": [
      "\u001b[1;31m---------------------------------------------------------------------------\u001b[0m",
      "\u001b[1;31mKeyboardInterrupt\u001b[0m                         Traceback (most recent call last)",
      "Cell \u001b[1;32mIn[21], line 1\u001b[0m\n\u001b[1;32m----> 1\u001b[0m model\u001b[39m.\u001b[39;49mto_graph_image(\n\u001b[0;32m      2\u001b[0m         engine\u001b[39m=\u001b[39;49m\u001b[39m\"\u001b[39;49m\u001b[39mdot\u001b[39;49m\u001b[39m\"\u001b[39;49m,\n\u001b[0;32m      3\u001b[0m         output_format\u001b[39m=\u001b[39;49m\u001b[39m\"\u001b[39;49m\u001b[39mpng\u001b[39;49m\u001b[39m\"\u001b[39;49m,\n\u001b[0;32m      4\u001b[0m         view_on_render\u001b[39m=\u001b[39;49m\u001b[39mFalse\u001b[39;49;00m,\n\u001b[0;32m      5\u001b[0m         level\u001b[39m=\u001b[39;49m\u001b[39m3\u001b[39;49m,\n\u001b[0;32m      6\u001b[0m         filename_root\u001b[39m=\u001b[39;49m\u001b[39m\"\u001b[39;49m\u001b[39mML_Model_MDF_Graph\u001b[39;49m\u001b[39m\"\u001b[39;49m,\n\u001b[0;32m      7\u001b[0m         is_horizontal\u001b[39m=\u001b[39;49m\u001b[39mTrue\u001b[39;49;00m\n\u001b[0;32m      8\u001b[0m     )\n\u001b[0;32m     10\u001b[0m \u001b[39mfrom\u001b[39;00m \u001b[39mIPython\u001b[39;00m\u001b[39m.\u001b[39;00m\u001b[39mdisplay\u001b[39;00m \u001b[39mimport\u001b[39;00m Image\n\u001b[0;32m     11\u001b[0m Image(filename\u001b[39m=\u001b[39m\u001b[39m\"\u001b[39m\u001b[39mML_Model_MDF_Graph.png\u001b[39m\u001b[39m\"\u001b[39m)\n",
      "File \u001b[1;32mc:\\Users\\Sakshi\\OneDrive\\Documents\\Outreach_MDF\\mdf-env\\lib\\site-packages\\modeci_mdf\\mdf.py:553\u001b[0m, in \u001b[0;36mModel.to_graph_image\u001b[1;34m(self, engine, output_format, view_on_render, level, filename_root, only_warn_on_fail, is_horizontal)\u001b[0m\n\u001b[0;32m    550\u001b[0m \u001b[39mfrom\u001b[39;00m \u001b[39mmodeci_mdf\u001b[39;00m\u001b[39m.\u001b[39;00m\u001b[39minterfaces\u001b[39;00m\u001b[39m.\u001b[39;00m\u001b[39mgraphviz\u001b[39;00m\u001b[39m.\u001b[39;00m\u001b[39mexporter\u001b[39;00m \u001b[39mimport\u001b[39;00m mdf_to_graphviz\n\u001b[0;32m    552\u001b[0m \u001b[39mtry\u001b[39;00m:\n\u001b[1;32m--> 553\u001b[0m     mdf_to_graphviz(\n\u001b[0;32m    554\u001b[0m         \u001b[39mself\u001b[39;49m\u001b[39m.\u001b[39;49mgraphs[\u001b[39m0\u001b[39;49m],\n\u001b[0;32m    555\u001b[0m         engine\u001b[39m=\u001b[39;49mengine,\n\u001b[0;32m    556\u001b[0m         output_format\u001b[39m=\u001b[39;49moutput_format,\n\u001b[0;32m    557\u001b[0m         view_on_render\u001b[39m=\u001b[39;49mview_on_render,\n\u001b[0;32m    558\u001b[0m         level\u001b[39m=\u001b[39;49mlevel,\n\u001b[0;32m    559\u001b[0m         filename_root\u001b[39m=\u001b[39;49mfilename_root,\n\u001b[0;32m    560\u001b[0m         is_horizontal\u001b[39m=\u001b[39;49mis_horizontal,\n\u001b[0;32m    561\u001b[0m     )\n\u001b[0;32m    563\u001b[0m \u001b[39mexcept\u001b[39;00m \u001b[39mException\u001b[39;00m \u001b[39mas\u001b[39;00m e:\n\u001b[0;32m    564\u001b[0m     \u001b[39mif\u001b[39;00m only_warn_on_fail:\n",
      "File \u001b[1;32mc:\\Users\\Sakshi\\OneDrive\\Documents\\Outreach_MDF\\mdf-env\\lib\\site-packages\\modeci_mdf\\interfaces\\graphviz\\exporter.py:457\u001b[0m, in \u001b[0;36mmdf_to_graphviz\u001b[1;34m(mdf_graph, engine, output_format, view_on_render, level, filename_root, is_horizontal)\u001b[0m\n\u001b[0;32m    455\u001b[0m     graph\u001b[39m.\u001b[39mview()\n\u001b[0;32m    456\u001b[0m \u001b[39melse\u001b[39;00m:\n\u001b[1;32m--> 457\u001b[0m     name \u001b[39m=\u001b[39m graph\u001b[39m.\u001b[39;49mrender()\n\u001b[0;32m    458\u001b[0m     \u001b[39mprint\u001b[39m(\u001b[39m\"\u001b[39m\u001b[39mWritten graph image to: \u001b[39m\u001b[39m%s\u001b[39;00m\u001b[39m\"\u001b[39m \u001b[39m%\u001b[39m name)\n",
      "File \u001b[1;32mc:\\Users\\Sakshi\\OneDrive\\Documents\\Outreach_MDF\\mdf-env\\lib\\site-packages\\graphviz\\_tools.py:171\u001b[0m, in \u001b[0;36mdeprecate_positional_args.<locals>.decorator.<locals>.wrapper\u001b[1;34m(*args, **kwargs)\u001b[0m\n\u001b[0;32m    162\u001b[0m     wanted \u001b[39m=\u001b[39m \u001b[39m'\u001b[39m\u001b[39m, \u001b[39m\u001b[39m'\u001b[39m\u001b[39m.\u001b[39mjoin(\u001b[39mf\u001b[39m\u001b[39m'\u001b[39m\u001b[39m{\u001b[39;00mname\u001b[39m}\u001b[39;00m\u001b[39m=\u001b[39m\u001b[39m{\u001b[39;00mvalue\u001b[39m!r}\u001b[39;00m\u001b[39m'\u001b[39m\n\u001b[0;32m    163\u001b[0m                        \u001b[39mfor\u001b[39;00m name, value \u001b[39min\u001b[39;00m deprecated\u001b[39m.\u001b[39mitems())\n\u001b[0;32m    164\u001b[0m     warnings\u001b[39m.\u001b[39mwarn(\u001b[39mf\u001b[39m\u001b[39m'\u001b[39m\u001b[39mThe signature of \u001b[39m\u001b[39m{\u001b[39;00mfunc\u001b[39m.\u001b[39m\u001b[39m__name__\u001b[39m\u001b[39m}\u001b[39;00m\u001b[39m will be reduced\u001b[39m\u001b[39m'\u001b[39m\n\u001b[0;32m    165\u001b[0m                   \u001b[39mf\u001b[39m\u001b[39m'\u001b[39m\u001b[39m to \u001b[39m\u001b[39m{\u001b[39;00msupported_number\u001b[39m}\u001b[39;00m\u001b[39m positional args\u001b[39m\u001b[39m'\u001b[39m\n\u001b[0;32m    166\u001b[0m                   \u001b[39mf\u001b[39m\u001b[39m'\u001b[39m\u001b[39m \u001b[39m\u001b[39m{\u001b[39;00m\u001b[39mlist\u001b[39m(supported)\u001b[39m}\u001b[39;00m\u001b[39m: pass \u001b[39m\u001b[39m{\u001b[39;00mwanted\u001b[39m}\u001b[39;00m\u001b[39m'\u001b[39m\n\u001b[0;32m    167\u001b[0m                   \u001b[39m'\u001b[39m\u001b[39m as keyword arg(s)\u001b[39m\u001b[39m'\u001b[39m,\n\u001b[0;32m    168\u001b[0m                   stacklevel\u001b[39m=\u001b[39mstacklevel,\n\u001b[0;32m    169\u001b[0m                   category\u001b[39m=\u001b[39mcategory)\n\u001b[1;32m--> 171\u001b[0m \u001b[39mreturn\u001b[39;00m func(\u001b[39m*\u001b[39margs, \u001b[39m*\u001b[39m\u001b[39m*\u001b[39mkwargs)\n",
      "File \u001b[1;32mc:\\Users\\Sakshi\\OneDrive\\Documents\\Outreach_MDF\\mdf-env\\lib\\site-packages\\graphviz\\rendering.py:122\u001b[0m, in \u001b[0;36mRender.render\u001b[1;34m(self, filename, directory, view, cleanup, format, renderer, formatter, neato_no_op, quiet, quiet_view, outfile, engine, raise_if_result_exists, overwrite_source)\u001b[0m\n\u001b[0;32m    118\u001b[0m filepath \u001b[39m=\u001b[39m \u001b[39mself\u001b[39m\u001b[39m.\u001b[39msave(filename, directory\u001b[39m=\u001b[39mdirectory, skip_existing\u001b[39m=\u001b[39m\u001b[39mNone\u001b[39;00m)\n\u001b[0;32m    120\u001b[0m args\u001b[39m.\u001b[39mappend(filepath)\n\u001b[1;32m--> 122\u001b[0m rendered \u001b[39m=\u001b[39m \u001b[39mself\u001b[39m\u001b[39m.\u001b[39m_render(\u001b[39m*\u001b[39margs, \u001b[39m*\u001b[39m\u001b[39m*\u001b[39mkwargs)\n\u001b[0;32m    124\u001b[0m \u001b[39mif\u001b[39;00m cleanup:\n\u001b[0;32m    125\u001b[0m     log\u001b[39m.\u001b[39mdebug(\u001b[39m'\u001b[39m\u001b[39mdelete \u001b[39m\u001b[39m%r\u001b[39;00m\u001b[39m'\u001b[39m, filepath)\n",
      "File \u001b[1;32mc:\\Users\\Sakshi\\OneDrive\\Documents\\Outreach_MDF\\mdf-env\\lib\\site-packages\\graphviz\\_tools.py:171\u001b[0m, in \u001b[0;36mdeprecate_positional_args.<locals>.decorator.<locals>.wrapper\u001b[1;34m(*args, **kwargs)\u001b[0m\n\u001b[0;32m    162\u001b[0m     wanted \u001b[39m=\u001b[39m \u001b[39m'\u001b[39m\u001b[39m, \u001b[39m\u001b[39m'\u001b[39m\u001b[39m.\u001b[39mjoin(\u001b[39mf\u001b[39m\u001b[39m'\u001b[39m\u001b[39m{\u001b[39;00mname\u001b[39m}\u001b[39;00m\u001b[39m=\u001b[39m\u001b[39m{\u001b[39;00mvalue\u001b[39m!r}\u001b[39;00m\u001b[39m'\u001b[39m\n\u001b[0;32m    163\u001b[0m                        \u001b[39mfor\u001b[39;00m name, value \u001b[39min\u001b[39;00m deprecated\u001b[39m.\u001b[39mitems())\n\u001b[0;32m    164\u001b[0m     warnings\u001b[39m.\u001b[39mwarn(\u001b[39mf\u001b[39m\u001b[39m'\u001b[39m\u001b[39mThe signature of \u001b[39m\u001b[39m{\u001b[39;00mfunc\u001b[39m.\u001b[39m\u001b[39m__name__\u001b[39m\u001b[39m}\u001b[39;00m\u001b[39m will be reduced\u001b[39m\u001b[39m'\u001b[39m\n\u001b[0;32m    165\u001b[0m                   \u001b[39mf\u001b[39m\u001b[39m'\u001b[39m\u001b[39m to \u001b[39m\u001b[39m{\u001b[39;00msupported_number\u001b[39m}\u001b[39;00m\u001b[39m positional args\u001b[39m\u001b[39m'\u001b[39m\n\u001b[0;32m    166\u001b[0m                   \u001b[39mf\u001b[39m\u001b[39m'\u001b[39m\u001b[39m \u001b[39m\u001b[39m{\u001b[39;00m\u001b[39mlist\u001b[39m(supported)\u001b[39m}\u001b[39;00m\u001b[39m: pass \u001b[39m\u001b[39m{\u001b[39;00mwanted\u001b[39m}\u001b[39;00m\u001b[39m'\u001b[39m\n\u001b[0;32m    167\u001b[0m                   \u001b[39m'\u001b[39m\u001b[39m as keyword arg(s)\u001b[39m\u001b[39m'\u001b[39m,\n\u001b[0;32m    168\u001b[0m                   stacklevel\u001b[39m=\u001b[39mstacklevel,\n\u001b[0;32m    169\u001b[0m                   category\u001b[39m=\u001b[39mcategory)\n\u001b[1;32m--> 171\u001b[0m \u001b[39mreturn\u001b[39;00m func(\u001b[39m*\u001b[39margs, \u001b[39m*\u001b[39m\u001b[39m*\u001b[39mkwargs)\n",
      "File \u001b[1;32mc:\\Users\\Sakshi\\OneDrive\\Documents\\Outreach_MDF\\mdf-env\\lib\\site-packages\\graphviz\\backend\\rendering.py:324\u001b[0m, in \u001b[0;36mrender\u001b[1;34m(engine, format, filepath, renderer, formatter, neato_no_op, quiet, outfile, raise_if_result_exists, overwrite_filepath)\u001b[0m\n\u001b[0;32m    320\u001b[0m     \u001b[39mraise\u001b[39;00m exceptions\u001b[39m.\u001b[39mFileExistsError(\u001b[39mf\u001b[39m\u001b[39m'\u001b[39m\u001b[39moutput file exists: \u001b[39m\u001b[39m{\u001b[39;00mos\u001b[39m.\u001b[39mfspath(outfile)\u001b[39m!r}\u001b[39;00m\u001b[39m'\u001b[39m)\n\u001b[0;32m    322\u001b[0m cmd \u001b[39m+\u001b[39m\u001b[39m=\u001b[39m args\n\u001b[1;32m--> 324\u001b[0m execute\u001b[39m.\u001b[39;49mrun_check(cmd,\n\u001b[0;32m    325\u001b[0m                   cwd\u001b[39m=\u001b[39;49mfilepath\u001b[39m.\u001b[39;49mparent \u001b[39mif\u001b[39;49;00m filepath\u001b[39m.\u001b[39;49mparent\u001b[39m.\u001b[39;49mparts \u001b[39melse\u001b[39;49;00m \u001b[39mNone\u001b[39;49;00m,\n\u001b[0;32m    326\u001b[0m                   quiet\u001b[39m=\u001b[39;49mquiet,\n\u001b[0;32m    327\u001b[0m                   capture_output\u001b[39m=\u001b[39;49m\u001b[39mTrue\u001b[39;49;00m)\n\u001b[0;32m    329\u001b[0m \u001b[39mreturn\u001b[39;00m os\u001b[39m.\u001b[39mfspath(outfile)\n",
      "File \u001b[1;32mc:\\Users\\Sakshi\\OneDrive\\Documents\\Outreach_MDF\\mdf-env\\lib\\site-packages\\graphviz\\backend\\execute.py:81\u001b[0m, in \u001b[0;36mrun_check\u001b[1;34m(cmd, input_lines, encoding, quiet, **kwargs)\u001b[0m\n\u001b[0;32m     79\u001b[0m         proc \u001b[39m=\u001b[39m _run_input_lines(cmd, input_lines, kwargs\u001b[39m=\u001b[39mkwargs)\n\u001b[0;32m     80\u001b[0m     \u001b[39melse\u001b[39;00m:\n\u001b[1;32m---> 81\u001b[0m         proc \u001b[39m=\u001b[39m subprocess\u001b[39m.\u001b[39mrun(cmd, \u001b[39m*\u001b[39m\u001b[39m*\u001b[39mkwargs)\n\u001b[0;32m     82\u001b[0m \u001b[39mexcept\u001b[39;00m \u001b[39mOSError\u001b[39;00m \u001b[39mas\u001b[39;00m e:\n\u001b[0;32m     83\u001b[0m     \u001b[39mif\u001b[39;00m e\u001b[39m.\u001b[39merrno \u001b[39m==\u001b[39m errno\u001b[39m.\u001b[39mENOENT:\n",
      "File \u001b[1;32m~\\AppData\\Local\\Programs\\Python\\Python310\\lib\\subprocess.py:505\u001b[0m, in \u001b[0;36mrun\u001b[1;34m(input, capture_output, timeout, check, *popenargs, **kwargs)\u001b[0m\n\u001b[0;32m    503\u001b[0m \u001b[39mwith\u001b[39;00m Popen(\u001b[39m*\u001b[39mpopenargs, \u001b[39m*\u001b[39m\u001b[39m*\u001b[39mkwargs) \u001b[39mas\u001b[39;00m process:\n\u001b[0;32m    504\u001b[0m     \u001b[39mtry\u001b[39;00m:\n\u001b[1;32m--> 505\u001b[0m         stdout, stderr \u001b[39m=\u001b[39m process\u001b[39m.\u001b[39;49mcommunicate(\u001b[39minput\u001b[39;49m, timeout\u001b[39m=\u001b[39;49mtimeout)\n\u001b[0;32m    506\u001b[0m     \u001b[39mexcept\u001b[39;00m TimeoutExpired \u001b[39mas\u001b[39;00m exc:\n\u001b[0;32m    507\u001b[0m         process\u001b[39m.\u001b[39mkill()\n",
      "File \u001b[1;32m~\\AppData\\Local\\Programs\\Python\\Python310\\lib\\subprocess.py:1154\u001b[0m, in \u001b[0;36mPopen.communicate\u001b[1;34m(self, input, timeout)\u001b[0m\n\u001b[0;32m   1151\u001b[0m     endtime \u001b[39m=\u001b[39m \u001b[39mNone\u001b[39;00m\n\u001b[0;32m   1153\u001b[0m \u001b[39mtry\u001b[39;00m:\n\u001b[1;32m-> 1154\u001b[0m     stdout, stderr \u001b[39m=\u001b[39m \u001b[39mself\u001b[39;49m\u001b[39m.\u001b[39;49m_communicate(\u001b[39minput\u001b[39;49m, endtime, timeout)\n\u001b[0;32m   1155\u001b[0m \u001b[39mexcept\u001b[39;00m \u001b[39mKeyboardInterrupt\u001b[39;00m:\n\u001b[0;32m   1156\u001b[0m     \u001b[39m# https://bugs.python.org/issue25942\u001b[39;00m\n\u001b[0;32m   1157\u001b[0m     \u001b[39m# See the detailed comment in .wait().\u001b[39;00m\n\u001b[0;32m   1158\u001b[0m     \u001b[39mif\u001b[39;00m timeout \u001b[39mis\u001b[39;00m \u001b[39mnot\u001b[39;00m \u001b[39mNone\u001b[39;00m:\n",
      "File \u001b[1;32m~\\AppData\\Local\\Programs\\Python\\Python310\\lib\\subprocess.py:1528\u001b[0m, in \u001b[0;36mPopen._communicate\u001b[1;34m(self, input, endtime, orig_timeout)\u001b[0m\n\u001b[0;32m   1524\u001b[0m \u001b[39m# Wait for the reader threads, or time out.  If we time out, the\u001b[39;00m\n\u001b[0;32m   1525\u001b[0m \u001b[39m# threads remain reading and the fds left open in case the user\u001b[39;00m\n\u001b[0;32m   1526\u001b[0m \u001b[39m# calls communicate again.\u001b[39;00m\n\u001b[0;32m   1527\u001b[0m \u001b[39mif\u001b[39;00m \u001b[39mself\u001b[39m\u001b[39m.\u001b[39mstdout \u001b[39mis\u001b[39;00m \u001b[39mnot\u001b[39;00m \u001b[39mNone\u001b[39;00m:\n\u001b[1;32m-> 1528\u001b[0m     \u001b[39mself\u001b[39;49m\u001b[39m.\u001b[39;49mstdout_thread\u001b[39m.\u001b[39;49mjoin(\u001b[39mself\u001b[39;49m\u001b[39m.\u001b[39;49m_remaining_time(endtime))\n\u001b[0;32m   1529\u001b[0m     \u001b[39mif\u001b[39;00m \u001b[39mself\u001b[39m\u001b[39m.\u001b[39mstdout_thread\u001b[39m.\u001b[39mis_alive():\n\u001b[0;32m   1530\u001b[0m         \u001b[39mraise\u001b[39;00m TimeoutExpired(\u001b[39mself\u001b[39m\u001b[39m.\u001b[39margs, orig_timeout)\n",
      "File \u001b[1;32m~\\AppData\\Local\\Programs\\Python\\Python310\\lib\\threading.py:1096\u001b[0m, in \u001b[0;36mThread.join\u001b[1;34m(self, timeout)\u001b[0m\n\u001b[0;32m   1093\u001b[0m     \u001b[39mraise\u001b[39;00m \u001b[39mRuntimeError\u001b[39;00m(\u001b[39m\"\u001b[39m\u001b[39mcannot join current thread\u001b[39m\u001b[39m\"\u001b[39m)\n\u001b[0;32m   1095\u001b[0m \u001b[39mif\u001b[39;00m timeout \u001b[39mis\u001b[39;00m \u001b[39mNone\u001b[39;00m:\n\u001b[1;32m-> 1096\u001b[0m     \u001b[39mself\u001b[39;49m\u001b[39m.\u001b[39;49m_wait_for_tstate_lock()\n\u001b[0;32m   1097\u001b[0m \u001b[39melse\u001b[39;00m:\n\u001b[0;32m   1098\u001b[0m     \u001b[39m# the behavior of a negative timeout isn't documented, but\u001b[39;00m\n\u001b[0;32m   1099\u001b[0m     \u001b[39m# historically .join(timeout=x) for x<0 has acted as if timeout=0\u001b[39;00m\n\u001b[0;32m   1100\u001b[0m     \u001b[39mself\u001b[39m\u001b[39m.\u001b[39m_wait_for_tstate_lock(timeout\u001b[39m=\u001b[39m\u001b[39mmax\u001b[39m(timeout, \u001b[39m0\u001b[39m))\n",
      "File \u001b[1;32m~\\AppData\\Local\\Programs\\Python\\Python310\\lib\\threading.py:1116\u001b[0m, in \u001b[0;36mThread._wait_for_tstate_lock\u001b[1;34m(self, block, timeout)\u001b[0m\n\u001b[0;32m   1113\u001b[0m     \u001b[39mreturn\u001b[39;00m\n\u001b[0;32m   1115\u001b[0m \u001b[39mtry\u001b[39;00m:\n\u001b[1;32m-> 1116\u001b[0m     \u001b[39mif\u001b[39;00m lock\u001b[39m.\u001b[39;49macquire(block, timeout):\n\u001b[0;32m   1117\u001b[0m         lock\u001b[39m.\u001b[39mrelease()\n\u001b[0;32m   1118\u001b[0m         \u001b[39mself\u001b[39m\u001b[39m.\u001b[39m_stop()\n",
      "\u001b[1;31mKeyboardInterrupt\u001b[0m: "
     ]
    }
   ],
   "source": [
    "model.to_graph_image(\n",
    "        engine=\"dot\",\n",
    "        output_format=\"png\",\n",
    "        view_on_render=False,\n",
    "        level=3,\n",
    "        filename_root=\"ML_Model_MDF_Graph\",\n",
    "        is_horizontal=True\n",
    "    )\n",
    "\n",
    "from IPython.display import Image\n",
    "Image(filename=\"ML_Model_MDF_Graph.png\")"
   ]
  },
  {
   "cell_type": "code",
   "execution_count": null,
   "metadata": {},
   "outputs": [],
   "source": []
  },
  {
   "cell_type": "code",
   "execution_count": null,
   "metadata": {},
   "outputs": [],
   "source": []
  },
  {
   "cell_type": "code",
   "execution_count": null,
   "metadata": {},
   "outputs": [],
   "source": []
  },
  {
   "cell_type": "code",
   "execution_count": null,
   "metadata": {},
   "outputs": [],
   "source": []
  },
  {
   "cell_type": "code",
   "execution_count": null,
   "metadata": {},
   "outputs": [],
   "source": []
  }
 ],
 "metadata": {
  "kernelspec": {
   "display_name": "mdf-env",
   "language": "python",
   "name": "python3"
  },
  "language_info": {
   "codemirror_mode": {
    "name": "ipython",
    "version": 3
   },
   "file_extension": ".py",
   "mimetype": "text/x-python",
   "name": "python",
   "nbconvert_exporter": "python",
   "pygments_lexer": "ipython3",
   "version": "3.10.10"
  },
  "orig_nbformat": 4
 },
 "nbformat": 4,
 "nbformat_minor": 2
}
