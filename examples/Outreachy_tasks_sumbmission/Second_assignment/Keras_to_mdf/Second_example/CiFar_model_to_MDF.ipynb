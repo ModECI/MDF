{
 "cells": [
  {
   "cell_type": "markdown",
   "id": "5ab223ea",
   "metadata": {},
   "source": [
    "# In this notebook we will change Keras(Cifar10 dataset model) to MDF"
   ]
  },
  {
   "cell_type": "markdown",
   "id": "2964143b",
   "metadata": {},
   "source": [
    "Using the function define in [**MDF\\\\examples\\\\TensorFlow\\\\Keras**]"
   ]
  },
  {
   "cell_type": "code",
   "execution_count": 1,
   "id": "972afbae",
   "metadata": {},
   "outputs": [],
   "source": [
    "# import sys to temporarily add files to sys path \n",
    "import sys\n",
    "\n",
    "# add dir path of the keras2mdf helper function\n",
    "sys.path.append(\"C:\\\\Users\\\\Rishikesh Maurya\\\\MDF\\\\examples\\\\TensorFlow\\\\Keras\")\n",
    "\n",
    "# access every function in keras2mdf\n",
    "from keras2mdf import *"
   ]
  },
  {
   "cell_type": "markdown",
   "id": "b3e1c77e",
   "metadata": {},
   "source": [
    "### Import Necessary Libraries"
   ]
  },
  {
   "cell_type": "code",
   "execution_count": 2,
   "id": "b3049882",
   "metadata": {},
   "outputs": [],
   "source": [
    "import tensorflow as tf\n",
    "from tensorflow.keras.datasets import cifar10\n",
    "from keras.utils.vis_utils import plot_model\n",
    "import numpy as np"
   ]
  },
  {
   "cell_type": "markdown",
   "id": "079cf9cf",
   "metadata": {},
   "source": [
    "### Splitting into training and Testing"
   ]
  },
  {
   "cell_type": "code",
   "execution_count": 32,
   "id": "e19b2fe1",
   "metadata": {},
   "outputs": [
    {
     "name": "stdout",
     "output_type": "stream",
     "text": [
      "(50000, 32, 32, 3)\n",
      "(10000, 32, 32, 3)\n"
     ]
    }
   ],
   "source": [
    "# Load the CIFAR-10 dataset\n",
    "(x_train, y_train), (x_test, y_test) = cifar10.load_data()\n",
    "print(x_train.shape)#Splitting the x_train with 50000 datasets\n",
    "print(x_test.shape)#Splitting the x_test with 10000 datasets of image"
   ]
  },
  {
   "cell_type": "markdown",
   "id": "c1cf14fe",
   "metadata": {},
   "source": [
    "### Normalizing the Image"
   ]
  },
  {
   "cell_type": "code",
   "execution_count": 33,
   "id": "b972c593",
   "metadata": {},
   "outputs": [],
   "source": [
    "# Normalize the input data\n",
    "x_train = x_train / 255.0\n",
    "x_test = x_test / 255.0"
   ]
  },
  {
   "cell_type": "markdown",
   "id": "02e28f00",
   "metadata": {},
   "source": [
    "### KERAS MODEL"
   ]
  },
  {
   "cell_type": "code",
   "execution_count": 34,
   "id": "987525da",
   "metadata": {},
   "outputs": [],
   "source": [
    "# Define the model architecture\n",
    "model = tf.keras.Sequential([\n",
    "    tf.keras.layers.Flatten(input_shape=(32, 32, 3)),\n",
    "    tf.keras.layers.Dense(128, activation='relu'),\n",
    "    tf.keras.layers.Dense(10, activation='softmax')\n",
    "])\n"
   ]
  },
  {
   "cell_type": "markdown",
   "id": "55b7b652",
   "metadata": {},
   "source": [
    "### Adding the optimizer and loss function"
   ]
  },
  {
   "cell_type": "code",
   "execution_count": 35,
   "id": "fe94b042",
   "metadata": {},
   "outputs": [],
   "source": [
    "# Compile the model\n",
    "model.compile(optimizer='adam',\n",
    "              loss='sparse_categorical_crossentropy',\n",
    "              metrics=['accuracy'])"
   ]
  },
  {
   "cell_type": "markdown",
   "id": "15be5b29",
   "metadata": {},
   "source": [
    "### Fitting the model for training the model"
   ]
  },
  {
   "cell_type": "code",
   "execution_count": 49,
   "id": "fe40d024",
   "metadata": {},
   "outputs": [
    {
     "name": "stdout",
     "output_type": "stream",
     "text": [
      "Epoch 1/20\n",
      "1563/1563 [==============================] - 16s 10ms/step - loss: 1.6002 - accuracy: 0.4299 - val_loss: 1.5846 - val_accuracy: 0.4345\n",
      "Epoch 2/20\n",
      "1563/1563 [==============================] - 13s 9ms/step - loss: 1.5831 - accuracy: 0.4365 - val_loss: 1.5850 - val_accuracy: 0.4362\n",
      "Epoch 3/20\n",
      "1563/1563 [==============================] - 13s 9ms/step - loss: 1.5737 - accuracy: 0.4404 - val_loss: 1.5645 - val_accuracy: 0.4377\n",
      "Epoch 4/20\n",
      "1563/1563 [==============================] - 13s 8ms/step - loss: 1.5593 - accuracy: 0.4459 - val_loss: 1.6585 - val_accuracy: 0.4201\n",
      "Epoch 5/20\n",
      "1563/1563 [==============================] - 13s 8ms/step - loss: 1.5475 - accuracy: 0.4483 - val_loss: 1.6520 - val_accuracy: 0.4086\n",
      "Epoch 6/20\n",
      "1563/1563 [==============================] - 13s 8ms/step - loss: 1.5410 - accuracy: 0.4524 - val_loss: 1.5638 - val_accuracy: 0.4387\n",
      "Epoch 7/20\n",
      "1563/1563 [==============================] - 13s 8ms/step - loss: 1.5291 - accuracy: 0.4556 - val_loss: 1.5980 - val_accuracy: 0.4316\n",
      "Epoch 8/20\n",
      "1563/1563 [==============================] - 13s 8ms/step - loss: 1.5218 - accuracy: 0.4571 - val_loss: 1.5899 - val_accuracy: 0.4247\n",
      "Epoch 9/20\n",
      "1563/1563 [==============================] - 13s 8ms/step - loss: 1.5145 - accuracy: 0.4617 - val_loss: 1.5937 - val_accuracy: 0.4280\n",
      "Epoch 10/20\n",
      "1563/1563 [==============================] - 13s 8ms/step - loss: 1.5076 - accuracy: 0.4634 - val_loss: 1.5374 - val_accuracy: 0.4505\n",
      "Epoch 11/20\n",
      "1563/1563 [==============================] - 13s 9ms/step - loss: 1.5034 - accuracy: 0.4643 - val_loss: 1.5441 - val_accuracy: 0.4460\n",
      "Epoch 12/20\n",
      "1563/1563 [==============================] - 13s 8ms/step - loss: 1.4951 - accuracy: 0.4679 - val_loss: 1.5422 - val_accuracy: 0.4578\n",
      "Epoch 13/20\n",
      "1563/1563 [==============================] - 13s 8ms/step - loss: 1.4906 - accuracy: 0.4696 - val_loss: 1.5983 - val_accuracy: 0.4461\n",
      "Epoch 14/20\n",
      "1563/1563 [==============================] - 13s 8ms/step - loss: 1.4860 - accuracy: 0.4700 - val_loss: 1.5490 - val_accuracy: 0.4504\n",
      "Epoch 15/20\n",
      "1563/1563 [==============================] - 13s 8ms/step - loss: 1.4791 - accuracy: 0.4730 - val_loss: 1.5770 - val_accuracy: 0.4418\n",
      "Epoch 16/20\n",
      "1563/1563 [==============================] - 13s 8ms/step - loss: 1.4754 - accuracy: 0.4739 - val_loss: 1.5718 - val_accuracy: 0.4417\n",
      "Epoch 17/20\n",
      "1563/1563 [==============================] - 13s 8ms/step - loss: 1.4729 - accuracy: 0.4745 - val_loss: 1.5752 - val_accuracy: 0.4386\n",
      "Epoch 18/20\n",
      "1563/1563 [==============================] - 13s 8ms/step - loss: 1.4671 - accuracy: 0.4790 - val_loss: 1.5826 - val_accuracy: 0.4437\n",
      "Epoch 19/20\n",
      "1563/1563 [==============================] - 13s 8ms/step - loss: 1.4627 - accuracy: 0.4779 - val_loss: 1.5511 - val_accuracy: 0.4429\n",
      "Epoch 20/20\n",
      "1563/1563 [==============================] - 13s 9ms/step - loss: 1.4595 - accuracy: 0.4795 - val_loss: 1.5392 - val_accuracy: 0.4573\n"
     ]
    },
    {
     "data": {
      "text/plain": [
       "<keras.callbacks.History at 0x2732fa42370>"
      ]
     },
     "execution_count": 49,
     "metadata": {},
     "output_type": "execute_result"
    }
   ],
   "source": [
    "# Train the model\n",
    "model.fit(x_train, y_train, epochs=20, validation_data=(x_test, y_test))"
   ]
  },
  {
   "cell_type": "markdown",
   "id": "0a42cdd3",
   "metadata": {},
   "source": [
    "### Evaluation of Model"
   ]
  },
  {
   "cell_type": "code",
   "execution_count": 50,
   "id": "57585180",
   "metadata": {
    "scrolled": true
   },
   "outputs": [
    {
     "name": "stdout",
     "output_type": "stream",
     "text": [
      "313/313 [==============================] - 1s 2ms/step - loss: 1.5392 - accuracy: 0.4573\n",
      "Test accuracy: 0.45730000734329224\n"
     ]
    }
   ],
   "source": [
    "# Evaluate the model on the test data\n",
    "test_loss, test_acc = model.evaluate(x_test, y_test)\n",
    "print('Test accuracy:', test_acc)# Testing the accuracy/"
   ]
  },
  {
   "cell_type": "markdown",
   "id": "160163e6",
   "metadata": {},
   "source": [
    "The above accuracy is very low we can add some other layers increase epocs and change optimizer function for improving the\n",
    "accuracy but for now I will go with this simple model"
   ]
  },
  {
   "cell_type": "code",
   "execution_count": 53,
   "id": "6f2c098e",
   "metadata": {},
   "outputs": [
    {
     "name": "stdout",
     "output_type": "stream",
     "text": [
      "1/1 [==============================] - 0s 5ms/step\n",
      "The predicted number at index 1 is 9\n"
     ]
    }
   ],
   "source": [
    "Prediction=model.predict(x_test[1].reshape(1,32,32,3))\n",
    "print(\"The predicted number at index 1 is\", np.argmax(Prediction))"
   ]
  },
  {
   "cell_type": "code",
   "execution_count": 56,
   "id": "273aaf6d",
   "metadata": {},
   "outputs": [
    {
     "data": {
      "text/plain": [
       "array([8], dtype=uint8)"
      ]
     },
     "execution_count": 56,
     "metadata": {},
     "output_type": "execute_result"
    }
   ],
   "source": [
    "y_test[1]"
   ]
  },
  {
   "cell_type": "markdown",
   "id": "16884d59",
   "metadata": {},
   "source": [
    "###  Graph Generate"
   ]
  },
  {
   "cell_type": "code",
   "execution_count": 9,
   "id": "512ff6de",
   "metadata": {},
   "outputs": [
    {
     "data": {
      "image/png": "[encoded data removed]",
      "text/plain": [
       "<IPython.core.display.Image object>"
      ]
     },
     "execution_count": 9,
     "metadata": {},
     "output_type": "execute_result"
    }
   ],
   "source": [
    "#Plotting the Cifar10 model \n",
    "plot_model(model, to_file=\"model_plot.png\", show_shapes=True, show_layer_names=True)"
   ]
  },
  {
   "cell_type": "markdown",
   "id": "7ea5f247",
   "metadata": {},
   "source": [
    "### Layers in the model for generating nodes in MDF"
   ]
  },
  {
   "cell_type": "code",
   "execution_count": 10,
   "id": "f3345ec3",
   "metadata": {
    "scrolled": true
   },
   "outputs": [
    {
     "name": "stdout",
     "output_type": "stream",
     "text": [
      "flatten\n",
      "dense\n",
      "dense_1\n"
     ]
    }
   ],
   "source": [
    "for x in model.layers:\n",
    "    print(x.name)"
   ]
  },
  {
   "cell_type": "code",
   "execution_count": 11,
   "id": "9f582d4f",
   "metadata": {},
   "outputs": [],
   "source": [
    "layers_to_extract = [ \"dense\", \"dense_1\"]"
   ]
  },
  {
   "cell_type": "markdown",
   "id": "a5bb2684",
   "metadata": {},
   "source": [
    "### Params and activation function values from layer of Keras model"
   ]
  },
  {
   "cell_type": "code",
   "execution_count": 12,
   "id": "a2f08844",
   "metadata": {},
   "outputs": [
    {
     "data": {
      "text/plain": [
       "(None, 3072)"
      ]
     },
     "execution_count": 12,
     "metadata": {},
     "output_type": "execute_result"
    }
   ],
   "source": [
    "params, activations = get_weights_and_activation(layers_to_extract, model)\n",
    "# creating the model and graph from init_model_with_graph\n",
    "\n",
    "mod, mod_graph = init_model_with_graph(\"keras_to_MDF\", \"Keras_to_MDF_graph\")\n",
    "#checking the input shape of the first dense layer of the keras model\n",
    "\n",
    "model.layers[1].input_shape"
   ]
  },
  {
   "cell_type": "markdown",
   "id": "6aaf17cf",
   "metadata": {},
   "source": [
    "### Changing the shape of X_train for MDF input node "
   ]
  },
  {
   "cell_type": "code",
   "execution_count": 13,
   "id": "7fe1eaf5",
   "metadata": {},
   "outputs": [],
   "source": [
    "x_train =x_train[0, :, :]"
   ]
  },
  {
   "cell_type": "code",
   "execution_count": 14,
   "id": "c23fc696",
   "metadata": {},
   "outputs": [
    {
     "data": {
      "text/plain": [
       "(32, 32, 3)"
      ]
     },
     "execution_count": 14,
     "metadata": {},
     "output_type": "execute_result"
    }
   ],
   "source": [
    "x_train.shape"
   ]
  },
  {
   "cell_type": "code",
   "execution_count": 15,
   "id": "b4486e2a",
   "metadata": {},
   "outputs": [],
   "source": [
    "input = x_train.reshape(1,32,32,3)"
   ]
  },
  {
   "cell_type": "code",
   "execution_count": 16,
   "id": "d6f7a0b4",
   "metadata": {},
   "outputs": [
    {
     "data": {
      "text/plain": [
       "(3072,)"
      ]
     },
     "execution_count": 16,
     "metadata": {},
     "output_type": "execute_result"
    }
   ],
   "source": [
    "input_value = input.reshape(3072,)\n",
    "\n",
    "\n",
    "input_value.shape"
   ]
  },
  {
   "cell_type": "markdown",
   "id": "dc342410",
   "metadata": {},
   "source": [
    "## Input node"
   ]
  },
  {
   "cell_type": "code",
   "execution_count": 17,
   "id": "ce9ef8ce",
   "metadata": {},
   "outputs": [],
   "source": [
    "# create input node for the mdf model\n",
    "\n",
    "input_node = create_input_node(\"input_node\", input_value)\n",
    "\n",
    "# append the input node to the graph\n",
    "\n",
    "mod_graph.nodes.append(input_node)"
   ]
  },
  {
   "cell_type": "markdown",
   "id": "9a1d2669",
   "metadata": {},
   "source": [
    "## 1st Dense node"
   ]
  },
  {
   "cell_type": "code",
   "execution_count": 18,
   "id": "1f86740d",
   "metadata": {},
   "outputs": [],
   "source": [
    "weights = params[\"dense\"][\"weights\"]\n",
    "bias = params[\"dense\"][\"bias\"]\n",
    "\n",
    "# create first dense node of the model\n",
    "dense_node = create_dense_node(\"dense_node\", weights, bias)\n",
    "\n",
    "#append the dense node to the graph\n",
    "mod_graph.nodes.append(dense_node)"
   ]
  },
  {
   "cell_type": "markdown",
   "id": "0059b1b3",
   "metadata": {},
   "source": [
    "## Adding activation function to node"
   ]
  },
  {
   "cell_type": "code",
   "execution_count": 19,
   "id": "859942f5",
   "metadata": {},
   "outputs": [],
   "source": [
    "#create activation on the first dense node\n",
    "activation_node = create_activation_node(\"activation_node\",  activations[0])\n",
    "\n",
    "#append the activation node to the graph\n",
    "mod_graph.nodes.append(activation_node)"
   ]
  },
  {
   "cell_type": "markdown",
   "id": "8d32d8db",
   "metadata": {},
   "source": [
    "# 2nd Dense node"
   ]
  },
  {
   "cell_type": "code",
   "execution_count": 20,
   "id": "b0b0d717",
   "metadata": {},
   "outputs": [],
   "source": [
    "weights_1 = params[\"dense_1\"][\"weights\"]\n",
    "bias_1= params[\"dense_1\"][\"bias\"]\n",
    "\n",
    "#create second dense noe\n",
    "dense1_node = create_dense_node(\"dense1_node\", weights_1, bias_1)\n",
    "\n",
    "#append second dense node to the graph\n",
    "mod_graph.nodes.append(dense1_node)"
   ]
  },
  {
   "cell_type": "markdown",
   "id": "bb1b5518",
   "metadata": {},
   "source": [
    "## 2nd activation function"
   ]
  },
  {
   "cell_type": "code",
   "execution_count": 21,
   "id": "add1fdb1",
   "metadata": {},
   "outputs": [],
   "source": [
    "#create activation on the second dense node\n",
    "activation1_node = create_activation_node(\"activation1_node\",  activations[1])\n",
    "\n",
    "#append the second activation node to the graph\n",
    "mod_graph.nodes.append(activation1_node)"
   ]
  },
  {
   "cell_type": "markdown",
   "id": "88175112",
   "metadata": {},
   "source": [
    "### Connecting all the nodes"
   ]
  },
  {
   "cell_type": "code",
   "execution_count": 22,
   "id": "c886de5f",
   "metadata": {},
   "outputs": [],
   "source": [
    "e1 = simple_connect(input_node, dense_node, mod_graph)\n",
    "e2 = simple_connect(dense_node, activation_node, mod_graph)\n",
    "e3 = simple_connect(activation_node, dense1_node, mod_graph)\n",
    "e4 = simple_connect(dense1_node, activation1_node, mod_graph)\n"
   ]
  },
  {
   "cell_type": "markdown",
   "id": "c80c05ea",
   "metadata": {},
   "source": [
    "### Generating the Graph image"
   ]
  },
  {
   "cell_type": "code",
   "execution_count": 23,
   "id": "dd6c39be",
   "metadata": {},
   "outputs": [
    {
     "name": "stdout",
     "output_type": "stream",
     "text": [
      "Converting MDF graph: Keras_to_MDF_graph to graphviz (level: 1, format: png)\n",
      "    Node: input_node\n",
      "    Node: dense_node\n",
      "    Node: activation_node\n",
      "    Node: dense1_node\n",
      "    Node: activation1_node\n",
      "    Edge: edge_input_node_dense_node connects input_node to dense_node\n",
      "    Edge: edge_dense_node_activation_node connects dense_node to activation_node\n",
      "    Edge: edge_activation_node_dense1_node connects activation_node to dense1_node\n",
      "    Edge: edge_dense1_node_activation1_node connects dense1_node to activation1_node\n",
      "Written graph image to: keras_to_MDF.png\n"
     ]
    },
    {
     "data": {
      "image/png": "[encoded data removed]",
      "text/plain": [
       "<IPython.core.display.Image object>"
      ]
     },
     "execution_count": 23,
     "metadata": {},
     "output_type": "execute_result"
    }
   ],
   "source": [
    "mod.to_graph_image(\n",
    "        engine=\"dot\",\n",
    "        output_format=\"png\",\n",
    "        view_on_render=False,\n",
    "        level=1,\n",
    "        filename_root=\"keras_to_MDF\",\n",
    "        is_horizontal=True, \n",
    ")\n",
    "\n",
    "from IPython.display import Image\n",
    "Image(filename=\"Keras_to_MDF.png\")"
   ]
  },
  {
   "cell_type": "markdown",
   "id": "f32c8a77",
   "metadata": {},
   "source": [
    "### Evaluating the MDF model"
   ]
  },
  {
   "cell_type": "code",
   "execution_count": 24,
   "id": "b856c63c",
   "metadata": {},
   "outputs": [
    {
     "name": "stdout",
     "output_type": "stream",
     "text": [
      "\n",
      "Init graph: Keras_to_MDF_graph\n",
      "Evaluating graph: Keras_to_MDF_graph, root nodes: ['input_node'], with array format numpy\n"
     ]
    }
   ],
   "source": [
    "eg = EvaluableGraph(mod_graph, verbose=False)\n",
    "\n",
    "# evaluating the model \n",
    "eg.evaluate()"
   ]
  },
  {
   "cell_type": "markdown",
   "id": "9ee2059c",
   "metadata": {},
   "source": [
    "### Output of MDF model"
   ]
  },
  {
   "cell_type": "code",
   "execution_count": 57,
   "id": "9f397656",
   "metadata": {},
   "outputs": [
    {
     "data": {
      "text/plain": [
       "6"
      ]
     },
     "execution_count": 57,
     "metadata": {},
     "output_type": "execute_result"
    }
   ],
   "source": [
    "mdf_prediction = eg.enodes[\"activation1_node\"].evaluable_outputs[\"activation1_node_out\"].curr_value\n",
    "\n",
    "mdf_prediction.argmax()"
   ]
  },
  {
   "cell_type": "markdown",
   "id": "30b5f992",
   "metadata": {},
   "source": [
    "### Keras model prediction"
   ]
  },
  {
   "cell_type": "code",
   "execution_count": 58,
   "id": "41d94ac1",
   "metadata": {},
   "outputs": [
    {
     "name": "stdout",
     "output_type": "stream",
     "text": [
      "1/1 [==============================] - 0s 16ms/step\n"
     ]
    },
    {
     "data": {
      "text/plain": [
       "6"
      ]
     },
     "execution_count": 58,
     "metadata": {},
     "output_type": "execute_result"
    }
   ],
   "source": [
    "model.predict(input, batch_size=1).argmax()"
   ]
  },
  {
   "cell_type": "markdown",
   "id": "7198a8ad",
   "metadata": {},
   "source": [
    "# The above both predicted the same output"
   ]
  }
 ],
 "metadata": {
  "kernelspec": {
   "display_name": "Python 3 (ipykernel)",
   "language": "python",
   "name": "python3"
  },
  "language_info": {
   "codemirror_mode": {
    "name": "ipython",
    "version": 3
   },
   "file_extension": ".py",
   "mimetype": "text/x-python",
   "name": "python",
   "nbconvert_exporter": "python",
   "pygments_lexer": "ipython3",
   "version": "3.9.13"
  }
 },
 "nbformat": 4,
 "nbformat_minor": 5
}
