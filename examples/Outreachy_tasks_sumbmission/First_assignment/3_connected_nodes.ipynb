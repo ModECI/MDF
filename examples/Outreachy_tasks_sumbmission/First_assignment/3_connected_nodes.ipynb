{
 "cells": [
  {
   "cell_type": "markdown",
   "id": "6ee05f25",
   "metadata": {},
   "source": [
    "## Creating and executing MDF models\n",
    "    \n",
    "    The aim of creating this models is to know how to:\n",
    "\n",
    "1. **Create and execute MDF models with graphs, nodes, parameters and Edges.**\n",
    "2. **Create and execute MDF models that has a stateful parameter.**\n",
    "3. **Create and execute MDF models that has a condition controlling the flow node operations.**"
   ]
  },
  {
   "cell_type": "markdown",
   "id": "91e4f812",
   "metadata": {},
   "source": [
    "## 1. Create a Model with three nodes containing unique mathematics expression <br>\n",
    " Create an MDF that has a graph with three nodes, where each node has mathematical expressions that can be evaluated"
   ]
  },
  {
   "cell_type": "code",
   "execution_count": 1,
   "id": "8b981913",
   "metadata": {},
   "outputs": [],
   "source": [
    "# Import all the required libraries\n",
    "from modeci_mdf.mdf import *\n",
    "import os\n",
    "import sys\n",
    "from pathlib import Path\n",
    "from modeci_mdf.utils import load_mdf\n",
    "from modeci_mdf.interfaces.pytorch.exporter import mdf_to_pytorch\n",
    "from modeci_mdf.execution_engine import EvaluableGraph"
   ]
  },
  {
   "cell_type": "code",
   "execution_count": 2,
   "id": "43517ab6",
   "metadata": {
    "scrolled": true
   },
   "outputs": [
    {
     "name": "stdout",
     "output_type": "stream",
     "text": [
      "state_example:\n",
      "    nodes:\n",
      "        A:\n",
      "            parameters:\n",
      "                level:\n",
      "                    value: 1.0\n",
      "            output_ports:\n",
      "                output:\n",
      "                    value: level\n",
      "        B:\n",
      "            input_ports:\n",
      "                input: {}\n",
      "            parameters:\n",
      "                2nd-node:\n",
      "                    value: 1/(1+(input))\n",
      "            output_ports:\n",
      "                output:\n",
      "                    value: 2nd-node\n",
      "        C:\n",
      "            input_ports:\n",
      "                input: {}\n",
      "            parameters:\n",
      "                3rd-node:\n",
      "                    value: 100*input\n",
      "            output_ports:\n",
      "                output:\n",
      "                    value: 3rd-node\n",
      "\n"
     ]
    }
   ],
   "source": [
    "# Create a model \n",
    "mod = Model(id=\"3-connected-nodes\")\n",
    "# Defining graph for our model\n",
    "mod_graph = Graph(id=\"state_example\")\n",
    "# Adding graph in our mod.graphs\n",
    "mod.graphs.append(mod_graph)\n",
    "\n",
    "a_node = Node(id=\"A\")\n",
    "\n",
    "a_node.parameters.append(Parameter(id=\"level\", value=1.0))\n",
    "a_node.output_ports.append(OutputPort(id=\"output\", value = \"level\"))\n",
    "\n",
    "mod_graph.nodes.append(a_node)\n",
    "\n",
    "#https://mdf.readthedocs.io/en/latest/api/Specification.html#parameter\n",
    "#Add a stateless parameter - this is a parameter which will evaluate to the same value every execution of the node (for the same external inputs)\n",
    "b_node = Node(id=\"B\")\n",
    "b_node.input_ports.append(InputPort(id=\"input\"))\n",
    "mod_graph.nodes.append(b_node)\n",
    "p1 = Parameter(\n",
    "    id=\"2nd-node\",\n",
    "    value=\"1/(1+(input))\",\n",
    ")\n",
    "\n",
    "b_node.parameters.append(p1)\n",
    "\n",
    "b_node.output_ports.append(OutputPort(id=\"output\", value=\"2nd-node\"))\n",
    "\n",
    "\n",
    "#Add a stateful parameter - this is a parameter whose value is influenced by a previous value of a parameter, possibly itself\n",
    "\n",
    "c_node = Node(id=\"C\")\n",
    "c_node.input_ports.append(InputPort(id=\"input\"))\n",
    "mod_graph.nodes.append(c_node)\n",
    "c_node.parameters.append(Parameter(id=\"3rd-node\", value=\"100*input\"))\n",
    "\n",
    "\n",
    "c_node.output_ports.append(OutputPort(id=\"output\", value=\"3rd-node\"))\n",
    "\n",
    "\n",
    "\n",
    "# Print the current structure\n",
    "print(mod_graph.to_yaml())\n",
    "\n"
   ]
  },
  {
   "cell_type": "code",
   "execution_count": 3,
   "id": "60942b3b",
   "metadata": {},
   "outputs": [
    {
     "name": "stdout",
     "output_type": "stream",
     "text": [
      "state_example:\n",
      "    nodes:\n",
      "        A:\n",
      "            parameters:\n",
      "                level:\n",
      "                    value: 1.0\n",
      "            output_ports:\n",
      "                output:\n",
      "                    value: level\n",
      "        B:\n",
      "            input_ports:\n",
      "                input: {}\n",
      "            parameters:\n",
      "                2nd-node:\n",
      "                    value: 1/(1+(input))\n",
      "            output_ports:\n",
      "                output:\n",
      "                    value: 2nd-node\n",
      "        C:\n",
      "            input_ports:\n",
      "                input: {}\n",
      "            parameters:\n",
      "                3rd-node:\n",
      "                    value: 100*input\n",
      "            output_ports:\n",
      "                output:\n",
      "                    value: 3rd-node\n",
      "    edges:\n",
      "        edge_A_B:\n",
      "            sender: A\n",
      "            receiver: B\n",
      "            sender_port: output\n",
      "            receiver_port: input\n",
      "        edge_B_C:\n",
      "            sender: B\n",
      "            receiver: C\n",
      "            sender_port: output\n",
      "            receiver_port: input\n",
      "\n"
     ]
    }
   ],
   "source": [
    "from modeci_mdf.utils import simple_connect\n",
    "\n",
    "e1 = simple_connect(a_node, b_node, mod_graph)\n",
    "e2 = simple_connect(b_node, c_node, mod_graph)\n",
    "\n",
    "\n",
    "# Print the current structure\n",
    "print(mod_graph.to_yaml())\n"
   ]
  },
  {
   "cell_type": "code",
   "execution_count": 4,
   "id": "0bb84717",
   "metadata": {},
   "outputs": [
    {
     "name": "stdout",
     "output_type": "stream",
     "text": [
      "Converting MDF graph: state_example to graphviz (level: 3, format: png)\n",
      "    Node: A\n",
      "    Node: B\n",
      "    Node: C\n",
      "    Edge: edge_A_B connects A to B\n",
      "    Edge: edge_B_C connects B to C\n",
      "Written graph image to: states.png\n"
     ]
    },
    {
     "data": {
      "image/png": "[encoded data removed]",
      "text/plain": [
       "<IPython.core.display.Image object>"
      ]
     },
     "execution_count": 4,
     "metadata": {},
     "output_type": "execute_result"
    }
   ],
   "source": [
    "\n",
    "mod.to_graph_image(\n",
    "        engine=\"dot\",\n",
    "        output_format=\"png\",\n",
    "        view_on_render=False,\n",
    "        level=3,\n",
    "        filename_root=\"states\"\n",
    "    )\n",
    "\n",
    "from IPython.display import Image\n",
    "Image(filename=\"states.png\")\n"
   ]
  },
  {
   "cell_type": "code",
   "execution_count": 5,
   "id": "59045f3e",
   "metadata": {
    "scrolled": true
   },
   "outputs": [
    {
     "name": "stdout",
     "output_type": "stream",
     "text": [
      "\n",
      "Init graph: state_example\n",
      "Evaluating graph: state_example, root nodes: ['A'], with array format numpy\n",
      "Output of A: 1\n",
      "Output of B: 0.5\n",
      "Output of C: 50\n"
     ]
    }
   ],
   "source": [
    "#Evaluating the graph once and printing out the output value\n",
    "from modeci_mdf.execution_engine import EvaluableGraph\n",
    "\n",
    "eg = EvaluableGraph(mod_graph, verbose=False)\n",
    "eg.evaluate()\n",
    "\n",
    "print('Output of A: %s'%eg.enodes[\"A\"].evaluable_outputs[\"output\"].curr_value)\n",
    "print('Output of B: %s'%eg.enodes[\"B\"].evaluable_outputs[\"output\"].curr_value)\n",
    "print('Output of C: %s'%eg.enodes[\"C\"].evaluable_outputs[\"output\"].curr_value)"
   ]
  },
  {
   "cell_type": "code",
   "execution_count": 7,
   "id": "7cfbc409",
   "metadata": {},
   "outputs": [
    {
     "data": {
      "text/plain": [
       "'3_connected_node.yaml'"
      ]
     },
     "execution_count": 7,
     "metadata": {},
     "output_type": "execute_result"
    }
   ],
   "source": [
    "mod.to_json_file(\"3_connected_node.json\")\n",
    "mod.to_yaml_file(\"3_connected_node.yaml\")"
   ]
  },
  {
   "cell_type": "markdown",
   "id": "9a992ec2",
   "metadata": {},
   "source": [
    "## 2. Stateful Parameters in MDF\n",
    "Create another MDF model using stateful parameters in the node(s) of its graph<br>Creating another node with with the intention to review a teacher and calculating its fees"
   ]
  },
  {
   "cell_type": "code",
   "execution_count": 8,
   "id": "e6c16179",
   "metadata": {},
   "outputs": [
    {
     "name": "stdout",
     "output_type": "stream",
     "text": [
      "Teacher_fees_graph:\n",
      "    nodes:\n",
      "        months_of_teaching:\n",
      "            parameters:\n",
      "                unit_increment:\n",
      "                    value: 1.0\n",
      "                months:\n",
      "                    value: months + unit_increment\n",
      "            output_ports:\n",
      "                output:\n",
      "                    value: months\n",
      "\n"
     ]
    }
   ],
   "source": [
    "# Create a model \n",
    "mdf_model_1 = Model(id=\"Teacher_fees_calculator\")\n",
    "\n",
    "# Create a graph\n",
    "mdf_graph_1 = Graph(id=\"Teacher_fees_graph\")\n",
    "\n",
    "# Add the graph to the model\n",
    "mdf_model_1.graphs.append(mdf_graph_1)\n",
    "\n",
    "# Create the Teacher_Assesment_node \n",
    "#Here it is the parameter in which we are assigning how many months teacher will teach theiw students\n",
    "Teacher_months_node_1 = Node(id=\"months_of_teaching\")\n",
    "\n",
    "# add a parament to the node\n",
    "Teacher_months_node_1.parameters.append(Parameter(id=\"unit_increment\", value=1.0))\n",
    "\n",
    "# add a stateful parameter\n",
    "months = Parameter(\n",
    "    id=\"months\",\n",
    "    value=\"months + unit_increment\",\n",
    ")\n",
    "\n",
    "# add the stateful parameter into the node\n",
    "Teacher_months_node_1.parameters.append(months)\n",
    "\n",
    "\n",
    "# Add an output port\n",
    "Teacher_months_node_1.output_ports.append(OutputPort(id=\"output\", value=\"months\"))\n",
    "\n",
    "mdf_graph_1.nodes.append(Teacher_months_node_1)\n",
    "# Print the current structure\n",
    "print(mdf_graph_1.to_yaml())"
   ]
  },
  {
   "cell_type": "code",
   "execution_count": 9,
   "id": "1b23b955",
   "metadata": {},
   "outputs": [
    {
     "name": "stdout",
     "output_type": "stream",
     "text": [
      "Teacher_fees_graph:\n",
      "    nodes:\n",
      "        months_of_teaching:\n",
      "            parameters:\n",
      "                unit_increment:\n",
      "                    value: 1.0\n",
      "                months:\n",
      "                    value: months + unit_increment\n",
      "            output_ports:\n",
      "                output:\n",
      "                    value: months\n",
      "        Class_Teacher_fees:\n",
      "            input_ports:\n",
      "                input: {}\n",
      "            parameters:\n",
      "                fees_per_months:\n",
      "                    value: 100*input\n",
      "                batch:\n",
      "                    value: batch + fees_per_months\n",
      "            output_ports:\n",
      "                output:\n",
      "                    value: batch\n",
      "\n"
     ]
    }
   ],
   "source": [
    "# Creating here fees of per months\n",
    "Teacher_fees_node = Node(id=\"Class_Teacher_fees\")\n",
    "#adding an input port\n",
    "Teacher_fees_node.input_ports.append(InputPort(id=\"input\"))\n",
    "# Add parameter with constant for increment as its value(it's the fees of a techer for a month)\n",
    "Teacher_fees_node.parameters.append(Parameter(id=\"fees_per_months\", value=\"100*input\"))\n",
    "\n",
    "# add a stateful parameter price that changes with increment(It the numbers of bacthes of students teacher teaches)\n",
    "batch_of_students = Parameter(\n",
    "    id=\"batch\",\n",
    "    value=\"batch + fees_per_months\",\n",
    ")\n",
    "\n",
    "Teacher_fees_node.parameters.append(batch_of_students)\n",
    "\n",
    "\n",
    "# Add an output port\n",
    "Teacher_fees_node.output_ports.append(OutputPort(id=\"output\", value=\"batch\"))\n",
    "\n",
    "mdf_graph_1.nodes.append(Teacher_fees_node)\n",
    "# Print the current structure\n",
    "print(mdf_graph_1.to_yaml())"
   ]
  },
  {
   "cell_type": "code",
   "execution_count": 10,
   "id": "6d31252e",
   "metadata": {},
   "outputs": [
    {
     "name": "stdout",
     "output_type": "stream",
     "text": [
      "Teacher_fees_graph:\n",
      "    nodes:\n",
      "        months_of_teaching:\n",
      "            parameters:\n",
      "                unit_increment:\n",
      "                    value: 1.0\n",
      "                months:\n",
      "                    value: months + unit_increment\n",
      "            output_ports:\n",
      "                output:\n",
      "                    value: months\n",
      "        Class_Teacher_fees:\n",
      "            input_ports:\n",
      "                input: {}\n",
      "            parameters:\n",
      "                fees_per_months:\n",
      "                    value: 100*input\n",
      "                batch:\n",
      "                    value: batch + fees_per_months\n",
      "            output_ports:\n",
      "                output:\n",
      "                    value: batch\n",
      "    edges:\n",
      "        edge_months_of_teaching_Class_Teacher_fees:\n",
      "            sender: months_of_teaching\n",
      "            receiver: Class_Teacher_fees\n",
      "            sender_port: output\n",
      "            receiver_port: input\n",
      "\n"
     ]
    }
   ],
   "source": [
    "from modeci_mdf.utils import simple_connect\n",
    "\n",
    "e1 = simple_connect(Teacher_months_node_1, Teacher_fees_node, mdf_graph_1)\n",
    "\n",
    "\n",
    "# Print the current structure\n",
    "print(mdf_graph_1.to_yaml())"
   ]
  },
  {
   "cell_type": "markdown",
   "id": "eb9db5de",
   "metadata": {},
   "source": [
    "## 3.3 Generate a graph image for the model using condition"
   ]
  },
  {
   "cell_type": "code",
   "execution_count": 11,
   "id": "ac73f073",
   "metadata": {},
   "outputs": [
    {
     "name": "stdout",
     "output_type": "stream",
     "text": [
      "Converting MDF graph: Teacher_fees_graph to graphviz (level: 3, format: png)\n",
      "    Node: months_of_teaching\n",
      "    Node: Class_Teacher_fees\n",
      "    Edge: edge_months_of_teaching_Class_Teacher_fees connects months_of_teaching to Class_Teacher_fees\n",
      "Written graph image to: Teacher_fees_Review.png\n"
     ]
    },
    {
     "data": {
      "image/png": "[encoded data removed]",
      "text/plain": [
       "<IPython.core.display.Image object>"
      ]
     },
     "execution_count": 11,
     "metadata": {},
     "output_type": "execute_result"
    }
   ],
   "source": [
    "mdf_model_1.to_graph_image(engine=\"dot\", \n",
    "                         output_format=\"png\", \n",
    "                         view_on_render=False, \n",
    "                         level=3, \n",
    "                         filename_root=\"Teacher_fees_Review\"\n",
    "                        )\n",
    "from IPython.display import Image\n",
    "Image(filename=\"Teacher_fees_Review.png\")"
   ]
  },
  {
   "cell_type": "code",
   "execution_count": 13,
   "id": "2d57b798",
   "metadata": {},
   "outputs": [
    {
     "name": "stdout",
     "output_type": "stream",
     "text": [
      "\n",
      "Init graph: Teacher_fees_graph\n",
      "Evaluating graph: Teacher_fees_graph, root nodes: ['months_of_teaching'], with array format numpy\n",
      "\n",
      "===== Evaluating for batch = 0  ======\n",
      "Output of Number of Months: 1\n",
      "Output of Fees of a Teacher: 100\n",
      "============================================================ \n",
      "\n",
      "Evaluating graph: Teacher_fees_graph, root nodes: ['months_of_teaching'], with array format numpy\n",
      "\n",
      "===== Evaluating for batch = 1  ======\n",
      "Output of Number of Months: 2\n",
      "Output of Fees of a Teacher: 300\n",
      "============================================================ \n",
      "\n",
      "Evaluating graph: Teacher_fees_graph, root nodes: ['months_of_teaching'], with array format numpy\n",
      "\n",
      "===== Evaluating for batch = 2  ======\n",
      "Output of Number of Months: 3\n",
      "Output of Fees of a Teacher: 600\n",
      "============================================================ \n",
      "\n",
      "Evaluating graph: Teacher_fees_graph, root nodes: ['months_of_teaching'], with array format numpy\n",
      "\n",
      "===== Evaluating for batch = 3  ======\n",
      "Output of Number of Months: 4\n",
      "Output of Fees of a Teacher: 1000\n",
      "============================================================ \n",
      "\n",
      "Evaluating graph: Teacher_fees_graph, root nodes: ['months_of_teaching'], with array format numpy\n",
      "\n",
      "===== Evaluating for batch = 4  ======\n",
      "Output of Number of Months: 5\n",
      "Output of Fees of a Teacher: 1500\n",
      "============================================================ \n",
      "\n"
     ]
    }
   ],
   "source": [
    "# Evaluating the mdf_model_graph1 once and printing out the output value\n",
    "eg_1 = EvaluableGraph(mdf_graph_1, verbose=False)\n",
    "dt = 1 \n",
    "actual=0\n",
    "#This is the number of batches teacher teaches in a month \n",
    "number_of_batch = 5\n",
    "original_amount=number_of_batch*100*number_of_batch\n",
    "\n",
    "t = 0\n",
    "while t < number_of_batch:\n",
    "    eg_1.evaluate(time_increment=dt)\n",
    "#     print(f\"runtime_{t}\")\n",
    "    print(\"\\n===== Evaluating for batch = %s  ======\" % (t))\n",
    "    #notice that the output increments by 1 because of the stateful parameter setup on the node   \n",
    "    print('Output of Number of Months: %s'%eg_1.enodes[\"months_of_teaching\"].evaluable_outputs[\"output\"].curr_value)\n",
    "    print('Output of Fees of a Teacher: %s'%eg_1.enodes[\"Class_Teacher_fees\"].evaluable_outputs[\"output\"].curr_value)\n",
    "    actual=eg_1.enodes[\"Class_Teacher_fees\"].evaluable_outputs[\"output\"].curr_value\n",
    "    print(\"=\"*60,\"\\n\")\n",
    "    t += dt"
   ]
  },
  {
   "cell_type": "markdown",
   "id": "76aa91c2",
   "metadata": {},
   "source": [
    "## 3. Conditions in MDF\n",
    "Create another MDF model using conditions to control the implementations of node(s) in its graph\n",
    "\n",
    "\n",
    "## 3.1 Create the nodes "
   ]
  },
  {
   "cell_type": "code",
   "execution_count": 14,
   "id": "b62cb6d5",
   "metadata": {},
   "outputs": [
    {
     "name": "stdout",
     "output_type": "stream",
     "text": [
      "Profit_of_Company_graph:\n",
      "    nodes:\n",
      "        months_of_teaching:\n",
      "            parameters:\n",
      "                unit_increment:\n",
      "                    value: 1.0\n",
      "                months:\n",
      "                    value: months + unit_increment\n",
      "            output_ports:\n",
      "                output:\n",
      "                    value: months\n",
      "        Class_Teacher_fees:\n",
      "            input_ports:\n",
      "                input: {}\n",
      "            parameters:\n",
      "                fees_per_months:\n",
      "                    value: 100*input\n",
      "                batch:\n",
      "                    value: batch + fees_per_months\n",
      "            output_ports:\n",
      "                output:\n",
      "                    value: batch\n",
      "        Profit:\n",
      "            parameters:\n",
      "                net_profit:\n",
      "                    value: 40.0\n",
      "            output_ports:\n",
      "                output:\n",
      "                    value: net_profit\n",
      "\n"
     ]
    }
   ],
   "source": [
    "# Create the model \n",
    "mdf_model_2 = Model(id=\"Profit_of_Company\")\n",
    "\n",
    "# Create the graph\n",
    "mdf_graph_2 = Graph(id=\"Profit_of_Company_graph\")\n",
    "\n",
    "# Add the graph to the model\n",
    "mdf_model_2.graphs.append(mdf_graph_2)\n",
    "\n",
    "# Create a node for number of Profit of the company\n",
    "Company_Profit = Node(id=\"Profit\")\n",
    "\n",
    "# add the months nodes and fees node into this model's graph\n",
    "# this nodes were created previously for the model with stateful parameters\n",
    "mdf_graph_2.nodes.append(Teacher_months_node_1)\n",
    "mdf_graph_2.nodes.append(Teacher_fees_node)\n",
    "\n",
    "# Add the profit node to this model's graph\n",
    "mdf_graph_2.nodes.append(Company_Profit)\n",
    "# Add a parameters\n",
    "value=((original_amount-actual)/original_amount)*100\n",
    "Company_Profit.parameters.append(Parameter(id=\"net_profit\", value=value))\n",
    "\n",
    "# Add an output port\n",
    "Company_Profit.output_ports.append(OutputPort(id=\"output\", value=\"net_profit\"))\n",
    "\n",
    "# Print current structure as YAML\n",
    "print(mdf_graph_2.to_yaml())"
   ]
  },
  {
   "cell_type": "markdown",
   "id": "9885e267",
   "metadata": {},
   "source": [
    "## 3.2 Add Conditions"
   ]
  },
  {
   "cell_type": "code",
   "execution_count": 15,
   "id": "0489d9c3",
   "metadata": {},
   "outputs": [],
   "source": [
    "#This condition means that house_unit_node and house_price_node is always executed\n",
    "cond_0 = Condition(type=\"Always\")\n",
    "\n",
    "#This condition means that B will execute when A has run 4 times\n",
    "cond_1 = Condition(type=\"EveryNCalls\", dependencies=Teacher_months_node_1.id, n=6)"
   ]
  },
  {
   "cell_type": "code",
   "execution_count": 16,
   "id": "e92f684f",
   "metadata": {},
   "outputs": [
    {
     "name": "stdout",
     "output_type": "stream",
     "text": [
      "Profit_of_Company_graph:\n",
      "    nodes:\n",
      "        months_of_teaching:\n",
      "            parameters:\n",
      "                unit_increment:\n",
      "                    value: 1.0\n",
      "                months:\n",
      "                    value: months + unit_increment\n",
      "            output_ports:\n",
      "                output:\n",
      "                    value: months\n",
      "        Class_Teacher_fees:\n",
      "            input_ports:\n",
      "                input: {}\n",
      "            parameters:\n",
      "                fees_per_months:\n",
      "                    value: 100*input\n",
      "                batch:\n",
      "                    value: batch + fees_per_months\n",
      "            output_ports:\n",
      "                output:\n",
      "                    value: batch\n",
      "        Profit:\n",
      "            parameters:\n",
      "                net_profit:\n",
      "                    value: 40.0\n",
      "            output_ports:\n",
      "                output:\n",
      "                    value: net_profit\n",
      "    conditions:\n",
      "        node_specific:\n",
      "            months_of_teaching:\n",
      "                type: Always\n",
      "                kwargs: {}\n",
      "            Class_Teacher_fees:\n",
      "                type: Always\n",
      "                kwargs: {}\n",
      "            Profit:\n",
      "                type: EveryNCalls\n",
      "                kwargs:\n",
      "                    dependencies: months_of_teaching\n",
      "                    n: 6\n",
      "\n"
     ]
    }
   ],
   "source": [
    "#add the conditions to the mdf_graph_2\n",
    "mdf_graph_2.conditions = ConditionSet(\n",
    "    node_specific={Teacher_months_node_1.id: cond_0, Teacher_fees_node.id: cond_0, Company_Profit.id: cond_1},\n",
    ")\n",
    "\n",
    "# Print the current structure\n",
    "print(mdf_graph_2.to_yaml())"
   ]
  },
  {
   "cell_type": "code",
   "execution_count": 17,
   "id": "8d161e42",
   "metadata": {},
   "outputs": [
    {
     "name": "stdout",
     "output_type": "stream",
     "text": [
      "Profit_of_Company_graph:\n",
      "    nodes:\n",
      "        months_of_teaching:\n",
      "            parameters:\n",
      "                unit_increment:\n",
      "                    value: 1.0\n",
      "                months:\n",
      "                    value: months + unit_increment\n",
      "            output_ports:\n",
      "                output:\n",
      "                    value: months\n",
      "        Class_Teacher_fees:\n",
      "            input_ports:\n",
      "                input: {}\n",
      "            parameters:\n",
      "                fees_per_months:\n",
      "                    value: 100*input\n",
      "                batch:\n",
      "                    value: batch + fees_per_months\n",
      "            output_ports:\n",
      "                output:\n",
      "                    value: batch\n",
      "        Profit:\n",
      "            parameters:\n",
      "                net_profit:\n",
      "                    value: 40.0\n",
      "            output_ports:\n",
      "                output:\n",
      "                    value: net_profit\n",
      "    edges:\n",
      "        edge_months_of_teaching_Class_Teacher_fees:\n",
      "            sender: months_of_teaching\n",
      "            receiver: Class_Teacher_fees\n",
      "            sender_port: output\n",
      "            receiver_port: input\n",
      "    conditions:\n",
      "        node_specific:\n",
      "            months_of_teaching:\n",
      "                type: Always\n",
      "                kwargs: {}\n",
      "            Class_Teacher_fees:\n",
      "                type: Always\n",
      "                kwargs: {}\n",
      "            Profit:\n",
      "                type: EveryNCalls\n",
      "                kwargs:\n",
      "                    dependencies: months_of_teaching\n",
      "                    n: 6\n",
      "\n"
     ]
    }
   ],
   "source": [
    "from modeci_mdf.utils import simple_connect\n",
    "\n",
    "e1 = simple_connect(Teacher_months_node_1, Teacher_fees_node, mdf_graph_2)\n",
    "\n",
    "\n",
    "# Print the current structure\n",
    "print(mdf_graph_2.to_yaml())"
   ]
  },
  {
   "cell_type": "markdown",
   "id": "177774ec",
   "metadata": {},
   "source": [
    "## 3.3 Generate a graph image for the model using condition"
   ]
  },
  {
   "cell_type": "code",
   "execution_count": 18,
   "id": "e3daf659",
   "metadata": {},
   "outputs": [
    {
     "name": "stdout",
     "output_type": "stream",
     "text": [
      "Converting MDF graph: Profit_of_Company_graph to graphviz (level: 2, format: png)\n",
      "    Node: months_of_teaching\n",
      "    Node: Class_Teacher_fees\n",
      "    Node: Profit\n",
      "    Edge: edge_months_of_teaching_Class_Teacher_fees connects months_of_teaching to Class_Teacher_fees\n",
      "Written graph image to: Company_profit.png\n"
     ]
    },
    {
     "data": {
      "image/png": "[encoded data removed]",
      "text/plain": [
       "<IPython.core.display.Image object>"
      ]
     },
     "execution_count": 18,
     "metadata": {},
     "output_type": "execute_result"
    }
   ],
   "source": [
    "mdf_model_2.to_graph_image(\n",
    "        engine=\"dot\",\n",
    "        output_format=\"png\",\n",
    "        view_on_render=False,\n",
    "        level=2,\n",
    "        filename_root=\"Company_profit\",\n",
    "        is_horizontal=False\n",
    ")\n",
    "\n",
    "from IPython.display import Image\n",
    "Image(filename=\"Company_profit.png\")"
   ]
  },
  {
   "cell_type": "markdown",
   "id": "b1c70900",
   "metadata": {},
   "source": [
    "## 3.4 Execute the Graph"
   ]
  },
  {
   "cell_type": "code",
   "execution_count": 20,
   "id": "256294d6",
   "metadata": {},
   "outputs": [
    {
     "name": "stdout",
     "output_type": "stream",
     "text": [
      "\n",
      "Init graph: Profit_of_Company_graph\n",
      "Evaluating graph: Profit_of_Company_graph, root nodes: ['months_of_teaching', 'Profit'], with array format numpy\n",
      "Number of Months: 5\n",
      "Fees for 5 batches for 5 months a: 1500\n",
      "Profit of a Company: 40\n"
     ]
    }
   ],
   "source": [
    "eg_2 = EvaluableGraph(mdf_graph_2, verbose=False)\n",
    "\n",
    "eg_2.evaluate()\n",
    "\n",
    "# Months node will execute 5 times before Profit node executes once\n",
    "print(f'Number of Months: {eg_2.enodes[\"months_of_teaching\"].evaluable_outputs[\"output\"].curr_value-1}') \n",
    "\n",
    "# Fees node will execute everytime Months node executes\n",
    "print(f'Fees for 5 batches for 5 months a: {eg_2.enodes[\"Class_Teacher_fees\"].evaluable_outputs[\"output\"].curr_value}')\n",
    "\n",
    "# Profit node will execute once for 5 runs of months and fees node\n",
    "print(f'Profit of a Company: {eg_2.enodes[\"Profit\"].evaluable_outputs[\"output\"].curr_value}')\n"
   ]
  },
  {
   "cell_type": "code",
   "execution_count": null,
   "id": "27977c01",
   "metadata": {},
   "outputs": [],
   "source": []
  }
 ],
 "metadata": {
  "kernelspec": {
   "display_name": "Python 3 (ipykernel)",
   "language": "python",
   "name": "python3"
  },
  "language_info": {
   "codemirror_mode": {
    "name": "ipython",
    "version": 3
   },
   "file_extension": ".py",
   "mimetype": "text/x-python",
   "name": "python",
   "nbconvert_exporter": "python",
   "pygments_lexer": "ipython3",
   "version": "3.9.13"
  }
 },
 "nbformat": 4,
 "nbformat_minor": 5
}
