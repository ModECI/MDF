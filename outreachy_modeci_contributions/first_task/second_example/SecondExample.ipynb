{
 "cells": [
  {
   "cell_type": "markdown",
   "id": "24597738",
   "metadata": {},
   "source": [
    "# Creating and executing MDF models\n",
    ">The aim of creating this models is to know how to:\n",
    "> - Create and execute MDF models with graphs, nodes, parameters and Edges\n",
    "> - Create and execute MDF models that has a stateful parameter\n",
    "> - Create and execute MDF models that has a condition controlling the flow node operations.\n",
    "\n",
    "You can navigate to each section below\n",
    "- **[Create a Model with three nodes containing unique mathematics expression](#mdf-three-node)**\n",
    "    - **[Creade a Node that implements the area of a Circle](#model0-node0)**\n",
    "    - **[Create a Node that gets the diameter of the circle using the previous node output](#model0_node1)**\n",
    "    - **[Create a Node that gets the perimeter of the circle using the previous node output](#model0_node2)**\n",
    "    - **[Create Edges between the nodes](#model0_edge0_edge1)**\n",
    "    - **[Save the model](#model0_save)**\n",
    "    - **[Generate a graph image from the model](#model0_graph_image)**\n",
    "    - **[Execute the graph and get the output values](#model0_execute_graph)**\n",
    "- **[Stateful Parameters in MDF](#model1)**\n",
    "    - **[Create a node with a stateful parameter for house units](#model1_node0)**\n",
    "    - **[Create a node with a stateful parameter for house price](#model1_node1)**\n",
    "    - **[Generate a graph image for the model with a stateful parameters](#model1_graph_image)**\n",
    "    - **[Execute the graph with a stateful parameters](#model1_eg)**\n",
    "- **[Conditions in MDF](#model2)**\n",
    "    - **[Create the nodes](#model2_node0_node1_node2)**\n",
    "    - **[Add conditions](#model2_add_condition)**\n",
    "    - **[Generate a graph image for the model using condition](#model2_graph_image)**\n",
    "    - **[Execute the Graph](#model2_eg)** \n"
   ]
  },
  {
   "cell_type": "markdown",
   "id": "bf866ecc",
   "metadata": {},
   "source": [
    "<a class=\"anchor\" id=\"mdf-three-node\"></a>\n",
    "## 1. Create a Model with three nodes containing unique mathematics expression\n",
    "\n",
    "\n",
    "Create an MDF that has a graph with three nodes, where each node has mathematical expressions that can be evaluated"
   ]
  },
  {
   "cell_type": "markdown",
   "id": "f5f92234",
   "metadata": {},
   "source": [
    "<a class=\"anchor\" id=\"model0\"></a>\n",
    "### 1.1 Create the mdf model with a graph"
   ]
  },
  {
   "cell_type": "code",
   "execution_count": 1,
   "id": "3f522200",
   "metadata": {},
   "outputs": [],
   "source": [
    "from modeci_mdf.mdf import *\n",
    "\n",
    "# create a model\n",
    "mdf_model_0 = Model(id=\"MathExpressions-Circle\")\n",
    "\n",
    "# create a graph \n",
    "mdf_graph_0 = Graph(id=\"func_graph\")\n",
    "\n",
    "# append the graph into the model\n",
    "mdf_model_0.graphs.append(mdf_graph_0)"
   ]
  },
  {
   "cell_type": "markdown",
   "id": "b8f39a1e",
   "metadata": {},
   "source": [
    "<a class=\"anchor\" id=\"model0-node0\"></a>\n",
    "### 1.2 Creade a Node that implements the area of a Circle"
   ]
  },
  {
   "cell_type": "code",
   "execution_count": 2,
   "id": "583a2ba8",
   "metadata": {},
   "outputs": [
    {
     "name": "stdout",
     "output_type": "stream",
     "text": [
      "func_graph:\n",
      "    nodes:\n",
      "        area:\n",
      "            parameters:\n",
      "                radius:\n",
      "                    value: 7\n",
      "                pii:\n",
      "                    value: 3.141592653589793\n",
      "            output_ports:\n",
      "                output:\n",
      "                    value: pii * radius * radius\n",
      "\n"
     ]
    }
   ],
   "source": [
    "from math import pi\n",
    "# create a node \n",
    "node_0_0 = Node(id=\"area\")\n",
    "\n",
    "# add the node to the graph \"mdf_graph_0\"\n",
    "mdf_graph_0.nodes.append(node_0_0)\n",
    "\n",
    "# add a parameter for radius in the node\n",
    "node_0_0.parameters.append(Parameter(id=\"radius\", value = 7))\n",
    "\n",
    "# add a parameter for pi in the node\n",
    "node_0_0.parameters.append(Parameter(id=\"pii\", value=pi))\n",
    "\n",
    "# add an ouput port in the node\n",
    "node_0_0.output_ports.append(OutputPort(id=\"output\", value=\"pii * radius * radius\"))\n",
    "\n",
    "# print current structure to yaml\n",
    "print(mdf_graph_0.to_yaml())"
   ]
  },
  {
   "cell_type": "markdown",
   "id": "466ea890",
   "metadata": {},
   "source": [
    "<a class=\"anchor\" id=\"model0_node1\"></a>\n",
    "### 1.3 Create a Node that gets the diameter of the circle using the previous node output"
   ]
  },
  {
   "cell_type": "code",
   "execution_count": 3,
   "id": "2f00cbb1",
   "metadata": {},
   "outputs": [],
   "source": [
    " # create a second node\n",
    "node_0_1 = Node(id=\"diameter\")\n",
    "\n",
    "# add the node to the graph \"mdf_graph_0\"\n",
    "mdf_graph_0.nodes.append(node_0_1)\n",
    "\n",
    "# add an input port\n",
    "node_0_1.input_ports.append(InputPort(id=\"input\"))\n",
    "\n",
    "# add parameter to get area\n",
    "node_0_1.parameters.append(Parameter(id=\"area\", value=\"input\"))\n",
    "\n",
    "# add parameter to get pi\n",
    "node_0_1.parameters.append(Parameter(id=\"pii\", value=pi))\n",
    "\n",
    "# get diameter from area\n",
    "r = Parameter(id=\"radius\", function=\"onnx::Pow\", args={\"X\":\"area/pii\", \"Y\":0.5})\n",
    "\n",
    "# add parameter for radius\n",
    "node_0_1.parameters.append(r)\n",
    "\n",
    "\n",
    "# add an ouput port\n",
    "node_0_1.output_ports.append(OutputPort(id=\"output\", value = \"2 * radius\"))"
   ]
  },
  {
   "cell_type": "markdown",
   "id": "b2d48963",
   "metadata": {},
   "source": [
    "<a class=\"anchor\" id=\"model0_node2\"></a>\n",
    "### 1.3 Creade a Node that gets the perimeter of the circle using the previous node output"
   ]
  },
  {
   "cell_type": "code",
   "execution_count": 4,
   "id": "94ca06e9",
   "metadata": {},
   "outputs": [],
   "source": [
    "# create a third node\n",
    "node_0_2 = Node(id=\"perimeter\")\n",
    "\n",
    "# add the node to the graph \"mdf_graph_0\"\n",
    "mdf_graph_0.nodes.append(node_0_2)\n",
    "\n",
    "# add an input port\n",
    "node_0_2.input_ports.append(InputPort(id=\"input\"))\n",
    "\n",
    "# add parameter to get diameter\n",
    "node_0_2.parameters.append(Parameter(id=\"diameter\", value=\"input\"))\n",
    "\n",
    "# add parameter to get pi\n",
    "node_0_2.parameters.append(Parameter(id=\"pii\", value=pi))\n",
    "\n",
    "\n",
    "# add an ouput port\n",
    "node_0_2.output_ports.append(OutputPort(id=\"output\", value = \"diameter * pii\"))"
   ]
  },
  {
   "cell_type": "markdown",
   "id": "5279bea8",
   "metadata": {},
   "source": [
    "<a class=\"anchor\" id=\"model0_edge0_edge1\"></a>\n",
    "### 1.4 Create Edges between the nodes"
   ]
  },
  {
   "cell_type": "code",
   "execution_count": 5,
   "id": "362ad2b6",
   "metadata": {},
   "outputs": [],
   "source": [
    "# create edges between area_node and diameter_node\n",
    "e1 = Edge(id=\"area-diameter\", sender=\"area\", receiver=\"diameter\", sender_port=\"output\", receiver_port=\"input\")\n",
    "\n",
    "# create edges between diameter_node and perimeter_node\n",
    "e2 = Edge(id=\"diameter-perimeter\", sender=\"diameter\", receiver=\"perimeter\", sender_port=\"output\", receiver_port=\"input\")"
   ]
  },
  {
   "cell_type": "code",
   "execution_count": 6,
   "id": "bd130d65",
   "metadata": {},
   "outputs": [],
   "source": [
    "# add edges to the graph \"mdf_graph_0\"\n",
    "mdf_graph_0.edges.extend([e1, e2])"
   ]
  },
  {
   "cell_type": "code",
   "execution_count": 7,
   "id": "2400747f",
   "metadata": {},
   "outputs": [
    {
     "name": "stdout",
     "output_type": "stream",
     "text": [
      "func_graph:\n",
      "    nodes:\n",
      "        area:\n",
      "            parameters:\n",
      "                radius:\n",
      "                    value: 7\n",
      "                pii:\n",
      "                    value: 3.141592653589793\n",
      "            output_ports:\n",
      "                output:\n",
      "                    value: pii * radius * radius\n",
      "        diameter:\n",
      "            input_ports:\n",
      "                input: {}\n",
      "            parameters:\n",
      "                area:\n",
      "                    value: input\n",
      "                pii:\n",
      "                    value: 3.141592653589793\n",
      "                radius:\n",
      "                    function: onnx::Pow\n",
      "                    args:\n",
      "                        X: area/pii\n",
      "                        Y: 0.5\n",
      "            output_ports:\n",
      "                output:\n",
      "                    value: 2 * radius\n",
      "        perimeter:\n",
      "            input_ports:\n",
      "                input: {}\n",
      "            parameters:\n",
      "                diameter:\n",
      "                    value: input\n",
      "                pii:\n",
      "                    value: 3.141592653589793\n",
      "            output_ports:\n",
      "                output:\n",
      "                    value: diameter * pii\n",
      "    edges:\n",
      "        area-diameter:\n",
      "            sender: area\n",
      "            receiver: diameter\n",
      "            sender_port: output\n",
      "            receiver_port: input\n",
      "        diameter-perimeter:\n",
      "            sender: diameter\n",
      "            receiver: perimeter\n",
      "            sender_port: output\n",
      "            receiver_port: input\n",
      "\n"
     ]
    }
   ],
   "source": [
    "# Print the current structure\n",
    "print(mdf_graph_0.to_yaml())"
   ]
  },
  {
   "cell_type": "markdown",
   "id": "b90b1429",
   "metadata": {},
   "source": [
    "<a class=\"anchor\" id=\"model0_save\"></a>\n",
    "### 1.5 Save the model"
   ]
  },
  {
   "cell_type": "code",
   "execution_count": 8,
   "id": "000e6ee0",
   "metadata": {},
   "outputs": [
    {
     "data": {
      "text/plain": [
       "'MathExpressions-Circle.yaml'"
      ]
     },
     "execution_count": 8,
     "metadata": {},
     "output_type": "execute_result"
    }
   ],
   "source": [
    "mdf_model_0.to_json_file(\"MathExpressions-Circle.json\")\n",
    "mdf_model_0.to_yaml_file(\"MathExpressions-Circle.yaml\")"
   ]
  },
  {
   "cell_type": "markdown",
   "id": "778b34a5",
   "metadata": {},
   "source": [
    "<a class=\"anchor\" id=\"model0_graph_image\"></a>\n",
    "### 1.6 Generate a graph image from the model"
   ]
  },
  {
   "cell_type": "code",
   "execution_count": 9,
   "id": "bed701ae",
   "metadata": {},
   "outputs": [
    {
     "name": "stdout",
     "output_type": "stream",
     "text": [
      "Converting MDF graph: func_graph to graphviz (level: 3, format: png)\n",
      "    Node: area\n",
      "    Node: diameter\n",
      "    Node: perimeter\n",
      "    Edge: area-diameter connects area to diameter\n",
      "    Edge: diameter-perimeter connects diameter to perimeter\n"
     ]
    },
    {
     "data": {
      "image/png": "[encoded data removed]",
      "text/plain": [
       "<IPython.core.display.Image object>"
      ]
     },
     "execution_count": 9,
     "metadata": {},
     "output_type": "execute_result"
    }
   ],
   "source": [
    "mdf_model_0.to_graph_image(engine=\"dot\", \n",
    "                           output_format=\"png\", \n",
    "                           view_on_render=\"False\",\n",
    "                           level=3,\n",
    "                           filename_root=\"MathExpressions-Circle\",\n",
    "                           is_horizontal=\"True\"\n",
    "                          )\n",
    "\n",
    "from IPython.display import Image\n",
    "Image(filename=\"MathExpressions-Circle.png\")"
   ]
  },
  {
   "cell_type": "markdown",
   "id": "6c80d761",
   "metadata": {},
   "source": [
    "<a class=\"anchor\" id=\"model0_execute_graph\"></a>\n",
    "### 1.7 Execute the graph and get the output values"
   ]
  },
  {
   "cell_type": "code",
   "execution_count": 10,
   "id": "7ee73234",
   "metadata": {},
   "outputs": [
    {
     "name": "stdout",
     "output_type": "stream",
     "text": [
      "\n",
      "Init graph: func_graph\n",
      "Evaluating graph: func_graph, root nodes: ['area'], with array format numpy\n",
      "\n",
      "Area: 153.93804002589985\n",
      "Diameter: 14\n",
      "Perimeter: 43.982297150257104\n",
      "\n",
      "<class 'numpy.ndarray'>\n"
     ]
    }
   ],
   "source": [
    "from modeci_mdf.execution_engine import EvaluableGraph\n",
    "\n",
    "eg_0 = EvaluableGraph(mdf_graph_0, verbose=False)\n",
    "eg_0.evaluate()\n",
    "\n",
    "print(f'\\nArea: {eg_0.enodes[\"area\"].evaluable_outputs[\"output\"].curr_value}')\n",
    "print(f'Diameter: {eg_0.enodes[\"diameter\"].evaluable_outputs[\"output\"].curr_value[0]}')\n",
    "print(f'Perimeter: {eg_0.enodes[\"perimeter\"].evaluable_outputs[\"output\"].curr_value[0]}\\n')\n",
    "\n",
    "# check the datatype of the diameter node output\n",
    "print(type(eg_0.enodes[\"diameter\"].evaluable_outputs[\"output\"].curr_value))"
   ]
  },
  {
   "cell_type": "markdown",
   "id": "6fad801e",
   "metadata": {},
   "source": [
    "<a class=\"anchor\" id=\"model1\"></a>\n",
    "## 2. Stateful Parameters in MDF\n",
    "\n",
    "Create another MDF model using stateful parameters in the node(s) of its graph"
   ]
  },
  {
   "cell_type": "markdown",
   "id": "d06bdaf9",
   "metadata": {},
   "source": [
    "<a class=\"anchor\" id=\"model1_node0\"></a>\n",
    "### 2.1 Create a node with a stateful parameter for house units"
   ]
  },
  {
   "cell_type": "code",
   "execution_count": 11,
   "id": "45816a40",
   "metadata": {},
   "outputs": [
    {
     "name": "stdout",
     "output_type": "stream",
     "text": [
      "house_state_graph:\n",
      "    nodes:\n",
      "        house_unit:\n",
      "            parameters:\n",
      "                unit_increment:\n",
      "                    value: 1.0\n",
      "                no_of_units:\n",
      "                    value: no_of_units + unit_increment\n",
      "            output_ports:\n",
      "                output:\n",
      "                    value: no_of_units\n",
      "\n"
     ]
    }
   ],
   "source": [
    "# Create a model \n",
    "mdf_model_1 = Model(id=\"House-States\")\n",
    "\n",
    "# Create a graph\n",
    "mdf_graph_1 = Graph(id=\"house_state_graph\")\n",
    "\n",
    "# Add the graph to the model\n",
    "mdf_model_1.graphs.append(mdf_graph_1)\n",
    "\n",
    "# Create the house unit node\n",
    "house_unit_node = Node(id=\"house_unit\")\n",
    "\n",
    "# add a parament to the node\n",
    "house_unit_node.parameters.append(Parameter(id=\"unit_increment\", value=1.0))\n",
    "\n",
    "# add a stateful parameter\n",
    "units = Parameter(\n",
    "    id=\"no_of_units\",\n",
    "    value=\"no_of_units + unit_increment\",\n",
    ")\n",
    "\n",
    "# add the stateful parameter into the node\n",
    "house_unit_node.parameters.append(units)\n",
    "\n",
    "\n",
    "# Add an output port\n",
    "house_unit_node.output_ports.append(OutputPort(id=\"output\", value=\"no_of_units\"))\n",
    "\n",
    "mdf_graph_1.nodes.append(house_unit_node)\n",
    "# Print the current structure\n",
    "print(mdf_graph_1.to_yaml())"
   ]
  },
  {
   "cell_type": "markdown",
   "id": "cb372a1e",
   "metadata": {},
   "source": [
    "<a class=\"anchor\" id=\"model1_node1\"></a>\n",
    "### 2.2 Create a node with a stateful parameter for house price"
   ]
  },
  {
   "cell_type": "code",
   "execution_count": 12,
   "id": "4dcc049a",
   "metadata": {},
   "outputs": [
    {
     "name": "stdout",
     "output_type": "stream",
     "text": [
      "house_state_graph:\n",
      "    nodes:\n",
      "        house_unit:\n",
      "            parameters:\n",
      "                unit_increment:\n",
      "                    value: 1.0\n",
      "                no_of_units:\n",
      "                    value: no_of_units + unit_increment\n",
      "            output_ports:\n",
      "                output:\n",
      "                    value: no_of_units\n",
      "        house_price:\n",
      "            parameters:\n",
      "                price_increment:\n",
      "                    value: 175000\n",
      "                price:\n",
      "                    value: price + price_increment\n",
      "            output_ports:\n",
      "                output:\n",
      "                    value: price\n",
      "\n"
     ]
    }
   ],
   "source": [
    "# Create the house price node \n",
    "house_price_node = Node(id=\"house_price\")\n",
    "\n",
    "# Add parameter with constant for increment as its value\n",
    "house_price_node.parameters.append(Parameter(id=\"price_increment\", value=175000))\n",
    "\n",
    "# add a stateful parameter price that changes with increment\n",
    "price = Parameter(\n",
    "    id=\"price\",\n",
    "    value=\"price + price_increment\",\n",
    ")\n",
    "\n",
    "# add the price parameter into the node\n",
    "house_price_node.parameters.append(price)\n",
    "\n",
    "\n",
    "# Add an output port\n",
    "house_price_node.output_ports.append(OutputPort(id=\"output\", value=\"price\"))\n",
    "\n",
    "mdf_graph_1.nodes.append(house_price_node)\n",
    "# Print the current structure\n",
    "print(mdf_graph_1.to_yaml())"
   ]
  },
  {
   "cell_type": "markdown",
   "id": "f48009b4",
   "metadata": {},
   "source": [
    "<a class=\"anchor\" id=\"model1_graph_image\"></a>\n",
    "### 2.3 Generate a graph image for the model with a stateful parameters"
   ]
  },
  {
   "cell_type": "code",
   "execution_count": 13,
   "id": "517af8b2",
   "metadata": {},
   "outputs": [
    {
     "name": "stdout",
     "output_type": "stream",
     "text": [
      "Converting MDF graph: house_state_graph to graphviz (level: 3, format: png)\n",
      "    Node: house_unit\n",
      "    Node: house_price\n",
      "Written graph image to: house-states.png\n"
     ]
    },
    {
     "data": {
      "image/png": "[encoded data removed]",
      "text/plain": [
       "<IPython.core.display.Image object>"
      ]
     },
     "execution_count": 13,
     "metadata": {},
     "output_type": "execute_result"
    }
   ],
   "source": [
    "mdf_model_1.to_graph_image(engine=\"dot\", \n",
    "                         output_format=\"png\", \n",
    "                         view_on_render=False, \n",
    "                         level=3, \n",
    "                         filename_root=\"house-states\"\n",
    "                        )\n",
    "from IPython.display import Image\n",
    "Image(filename=\"house-states.png\")"
   ]
  },
  {
   "cell_type": "markdown",
   "id": "d478c448",
   "metadata": {},
   "source": [
    "<a class=\"anchor\" id=\"model1_eg\"></a>\n",
    "### 2.4 Execute the graph with a stateful parameters"
   ]
  },
  {
   "cell_type": "code",
   "execution_count": 14,
   "id": "b089e46b",
   "metadata": {},
   "outputs": [
    {
     "name": "stdout",
     "output_type": "stream",
     "text": [
      "\n",
      "Init graph: house_state_graph\n",
      "Evaluating graph: house_state_graph, root nodes: ['house_unit', 'house_price'], with array format numpy\n",
      "\n",
      "===== Evaluating at t = 0  ======\n",
      "Output of House Units: 1\n",
      "Output of Price Units: 175000\n",
      "======================================== \n",
      "\n",
      "Evaluating graph: house_state_graph, root nodes: ['house_unit', 'house_price'], with array format numpy\n",
      "\n",
      "===== Evaluating at t = 1  ======\n",
      "Output of House Units: 2\n",
      "Output of Price Units: 350000\n",
      "======================================== \n",
      "\n",
      "Evaluating graph: house_state_graph, root nodes: ['house_unit', 'house_price'], with array format numpy\n",
      "\n",
      "===== Evaluating at t = 2  ======\n",
      "Output of House Units: 3\n",
      "Output of Price Units: 525000\n",
      "======================================== \n",
      "\n",
      "Evaluating graph: house_state_graph, root nodes: ['house_unit', 'house_price'], with array format numpy\n",
      "\n",
      "===== Evaluating at t = 3  ======\n",
      "Output of House Units: 4\n",
      "Output of Price Units: 700000\n",
      "======================================== \n",
      "\n",
      "Evaluating graph: house_state_graph, root nodes: ['house_unit', 'house_price'], with array format numpy\n",
      "\n",
      "===== Evaluating at t = 4  ======\n",
      "Output of House Units: 5\n",
      "Output of Price Units: 875000\n",
      "======================================== \n",
      "\n"
     ]
    }
   ],
   "source": [
    "# Evaluating the mdf_model_graph1 once and printing out the output value\n",
    "\n",
    "eg_1 = EvaluableGraph(mdf_graph_1, verbose=False)\n",
    "\n",
    "dt = 1\n",
    "runtime = 5\n",
    "t = 0\n",
    "while t < runtime:\n",
    "    eg_1.evaluate(time_increment=dt)\n",
    "#     print(f\"runtime_{t}\")\n",
    "    print(\"\\n===== Evaluating at t = %s  ======\" % (t))\n",
    "    #notice that the output increments by 1 because of the stateful parameter setup on the node    \n",
    "    print('Output of House Units: %s'%eg_1.enodes[\"house_unit\"].evaluable_outputs[\"output\"].curr_value)\n",
    "    print('Output of Price Units: %s'%eg_1.enodes[\"house_price\"].evaluable_outputs[\"output\"].curr_value)\n",
    "    print(\"=\"*40,\"\\n\")\n",
    "    t += dt\n"
   ]
  },
  {
   "cell_type": "markdown",
   "id": "cf5766dd",
   "metadata": {},
   "source": [
    "<a class=\"anchor\" id=\"model2\"></a>\n",
    "## 3. Conditions in MDF \n",
    "\n",
    "Create another MDF model using conditions to control the implementations of node(s) in its graph"
   ]
  },
  {
   "cell_type": "markdown",
   "id": "763150f6",
   "metadata": {},
   "source": [
    "<a class=\"anchor\" id=\"model2_node0_node1_node2\"></a>\n",
    "### 3.1 Create the nodes"
   ]
  },
  {
   "cell_type": "code",
   "execution_count": 15,
   "id": "a22a2ac9",
   "metadata": {},
   "outputs": [
    {
     "name": "stdout",
     "output_type": "stream",
     "text": [
      "house_condition-graph:\n",
      "    nodes:\n",
      "        house_unit:\n",
      "            parameters:\n",
      "                unit_increment:\n",
      "                    value: 1.0\n",
      "                no_of_units:\n",
      "                    value: no_of_units + unit_increment\n",
      "            output_ports:\n",
      "                output:\n",
      "                    value: no_of_units\n",
      "        house_price:\n",
      "            parameters:\n",
      "                price_increment:\n",
      "                    value: 175000\n",
      "                price:\n",
      "                    value: price + price_increment\n",
      "            output_ports:\n",
      "                output:\n",
      "                    value: price\n",
      "        house_structure:\n",
      "            parameters:\n",
      "                no_of_house_structure:\n",
      "                    value: no_of_house_structure + 1\n",
      "            output_ports:\n",
      "                output:\n",
      "                    value: no_of_house_structure\n",
      "\n"
     ]
    }
   ],
   "source": [
    "# Create the model \n",
    "mdf_model_2 = Model(id=\"House-Condition\")\n",
    "\n",
    "# Create the graph\n",
    "mdf_graph_2 = Graph(id=\"house_condition-graph\")\n",
    "\n",
    "# Add the graph to the model\n",
    "mdf_model_2.graphs.append(mdf_graph_2)\n",
    "\n",
    "# Create a node for number of house structures\n",
    "house_structure_node = Node(id=\"house_structure\")\n",
    "\n",
    "# add the house_unit_node and house_price_node into this model's graph\n",
    "# this nodes were created previously for the model with stateful parameters\n",
    "mdf_graph_2.nodes.append(house_unit_node)\n",
    "mdf_graph_2.nodes.append(house_price_node)\n",
    "\n",
    "# Add the house_structure node to this model's graph\n",
    "mdf_graph_2.nodes.append(house_structure_node)\n",
    "\n",
    "# Add a parameters\n",
    "house_structure_node.parameters.append(Parameter(id=\"no_of_house_structure\", value=\"no_of_house_structure + 1\"))\n",
    "\n",
    "# Add an output port\n",
    "house_structure_node.output_ports.append(OutputPort(id=\"output\", value=\"no_of_house_structure\"))\n",
    "\n",
    "# Print current structure as YAML\n",
    "print(mdf_graph_2.to_yaml())"
   ]
  },
  {
   "cell_type": "markdown",
   "id": "ba73c821",
   "metadata": {},
   "source": [
    "<a class=\"anchor\" id=\"model2_add_condition\"></a>\n",
    "### 3.2 Add Conditions"
   ]
  },
  {
   "cell_type": "code",
   "execution_count": 16,
   "id": "6ac0eb6c",
   "metadata": {},
   "outputs": [],
   "source": [
    "#This condition means that house_unit_node and house_price_node is always executed\n",
    "cond_0 = Condition(type=\"Always\")\n",
    "\n",
    "#This condition means that B will execute when A has run 4 times\n",
    "cond_1 = Condition(type=\"EveryNCalls\", dependencies=house_unit_node.id, n=4)  \n"
   ]
  },
  {
   "cell_type": "code",
   "execution_count": 17,
   "id": "f65e083a",
   "metadata": {},
   "outputs": [
    {
     "name": "stdout",
     "output_type": "stream",
     "text": [
      "house_condition-graph:\n",
      "    nodes:\n",
      "        house_unit:\n",
      "            parameters:\n",
      "                unit_increment:\n",
      "                    value: 1.0\n",
      "                no_of_units:\n",
      "                    value: no_of_units + unit_increment\n",
      "            output_ports:\n",
      "                output:\n",
      "                    value: no_of_units\n",
      "        house_price:\n",
      "            parameters:\n",
      "                price_increment:\n",
      "                    value: 175000\n",
      "                price:\n",
      "                    value: price + price_increment\n",
      "            output_ports:\n",
      "                output:\n",
      "                    value: price\n",
      "        house_structure:\n",
      "            parameters:\n",
      "                no_of_house_structure:\n",
      "                    value: no_of_house_structure + 1\n",
      "            output_ports:\n",
      "                output:\n",
      "                    value: no_of_house_structure\n",
      "    conditions:\n",
      "        node_specific:\n",
      "            house_unit:\n",
      "                type: Always\n",
      "                kwargs: {}\n",
      "            house_price:\n",
      "                type: Always\n",
      "                kwargs: {}\n",
      "            house_structure:\n",
      "                type: EveryNCalls\n",
      "                kwargs:\n",
      "                    dependencies: house_unit\n",
      "                    n: 4\n",
      "\n"
     ]
    }
   ],
   "source": [
    "#add the conditions to the mdf_graph_2\n",
    "mdf_graph_2.conditions = ConditionSet(\n",
    "    node_specific={house_unit_node.id: cond_0, house_price_node.id: cond_0, house_structure_node.id: cond_1},\n",
    ")\n",
    "\n",
    "# Print the current structure\n",
    "print(mdf_graph_2.to_yaml())"
   ]
  },
  {
   "cell_type": "markdown",
   "id": "fa072d38",
   "metadata": {},
   "source": [
    "<a class=\"anchor\" id=\"model2_graph_image\"></a>\n",
    "### 3.3 Generate a graph image for the model using condition"
   ]
  },
  {
   "cell_type": "code",
   "execution_count": 18,
   "id": "4d9aba6e",
   "metadata": {},
   "outputs": [
    {
     "name": "stdout",
     "output_type": "stream",
     "text": [
      "Converting MDF graph: house_condition-graph to graphviz (level: 2, format: png)\n",
      "    Node: house_unit\n",
      "    Node: house_price\n",
      "    Node: house_structure\n",
      "Written graph image to: house_conditions.png\n"
     ]
    },
    {
     "data": {
      "image/png": "[encoded data removed]",
      "text/plain": [
       "<IPython.core.display.Image object>"
      ]
     },
     "execution_count": 18,
     "metadata": {},
     "output_type": "execute_result"
    }
   ],
   "source": [
    "mdf_model_2.to_graph_image(\n",
    "        engine=\"dot\",\n",
    "        output_format=\"png\",\n",
    "        view_on_render=False,\n",
    "        level=2,\n",
    "        filename_root=\"house_conditions\",\n",
    "        is_horizontal=False\n",
    ")\n",
    "\n",
    "from IPython.display import Image\n",
    "Image(filename=\"house_conditions.png\")"
   ]
  },
  {
   "cell_type": "markdown",
   "id": "efb280b1",
   "metadata": {},
   "source": [
    "<a class=\"anchor\" id=\"model2_eg\"></a>\n",
    "### 3.4 Execute the Graph"
   ]
  },
  {
   "cell_type": "code",
   "execution_count": 19,
   "id": "6b897145",
   "metadata": {},
   "outputs": [
    {
     "name": "stdout",
     "output_type": "stream",
     "text": [
      "\n",
      "Init graph: house_condition-graph\n",
      "Evaluating graph: house_condition-graph, root nodes: ['house_unit', 'house_price', 'house_structure'], with array format numpy\n",
      "Output of house units: 4\n",
      "Output of house prices: 700000\n",
      "Output of house structures: 1\n"
     ]
    }
   ],
   "source": [
    "eg_2 = EvaluableGraph(mdf_graph_2, verbose=False)\n",
    "\n",
    "eg_2.evaluate()\n",
    "\n",
    "# house_unit_node will execute 4 times before house_structure_node executes once\n",
    "print(f'Output of house units: {eg_2.enodes[\"house_unit\"].evaluable_outputs[\"output\"].curr_value}') \n",
    "\n",
    "# house_price_node will execute everytime house_unit_node executes\n",
    "print(f'Output of house prices: {eg_2.enodes[\"house_price\"].evaluable_outputs[\"output\"].curr_value}')\n",
    "\n",
    "# house_structure_node will execute once for 4 runs of house_unit_node\n",
    "print(f'Output of house structures: {eg_2.enodes[\"house_structure\"].evaluable_outputs[\"output\"].curr_value}')"
   ]
  }
 ],
 "metadata": {
  "kernelspec": {
   "display_name": "Python 3 (ipykernel)",
   "language": "python",
   "name": "python3"
  },
  "language_info": {
   "codemirror_mode": {
    "name": "ipython",
    "version": 3
   },
   "file_extension": ".py",
   "mimetype": "text/x-python",
   "name": "python",
   "nbconvert_exporter": "python",
   "pygments_lexer": "ipython3",
   "version": "3.9.13"
  }
 },
 "nbformat": 4,
 "nbformat_minor": 5
}
