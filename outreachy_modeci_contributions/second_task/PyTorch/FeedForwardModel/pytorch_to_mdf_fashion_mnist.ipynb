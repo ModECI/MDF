{
 "cells": [
  {
   "cell_type": "markdown",
   "metadata": {},
   "source": [
    "# A FeedForward Deep Neural Network on the FashionMnist Dataset\n",
    "> This notebook is one of the contributions made to the MODECI-MDF project for Outreachy Internship Contribution Phase (Summer, 2023) . The aim of creating this notebook is to build a model using pytorch and convert the model to MDF model using the `pytorch_to_mdf` function developed by MODECI\n",
    "\n",
    "Workflow:\n",
    "1. Get the FashionMNIST dataset available in torchvision datasets as;\n",
    "    - Train image data\n",
    "    - Test image data\n",
    "2. Preprocess the image data\n",
    "    - create shuffled batches of the train data as tensors. Normalized to 0 -1.\n",
    "3. Create PyTorch Model\n",
    "    - Create a feedforward neural network using `nn.Module` which is pytorch's base class for building neural nets\n",
    "    - Train the network on the train data\n",
    "    - Evaluate the network on the test data\n",
    "    - Get the result of prediction on one of the test images \n",
    "4. Create MDF Model\n",
    "    - Use the pytorch_to_mdf function to create MDF model from the pytorch model and the test image whose result was accessed\n",
    "    - Visualize mdf graph\n",
    "    - Assert the results are the same for pytorch and mdf\n",
    "5. Create ONNX graph from pytorch model"
   ]
  },
  {
   "cell_type": "markdown",
   "metadata": {},
   "source": [
    "## Reference"
   ]
  },
  {
   "cell_type": "markdown",
   "metadata": {},
   "source": [
    "This notebook was created using concepts and structures learnt from taking Datacamp's Course on **[Deep Learning with PyTorch](https://campus.datacamp.com/courses/deep-learning-with-pytorch/introduction-to-pytorch?ex=1)**\n",
    "to gain an understanding on how to preprocess data in pytorch and build neural networks using pytorch.\n",
    "\n",
    "The course showed how to build feedforward network and convolutional network using the `MNIST` dataset. A lot of the concepts and structure used here was in accordance with how the [course on feedforward network](https://campus.datacamp.com/courses/deep-learning-with-pytorch/artificial-neural-networks?ex=1) was taught on pytorch. \n",
    "\n",
    "Implementation done here that differed from the course are as follows:\n",
    "- Use of different dataset (fashion-mnist instead of mnist and cifar-10)\n",
    "- Data Transformation\n",
    "    - In the course data was normalized using the mean and standard deviation after scaling the tensor values in 0-1\n",
    "    - In this notebook normalization was not done but the tensor values were scaled to 0-1\n",
    "    - The batch size used in the course was 32 but a batch_size of 10 was used here (each epochs had sample 10 images trained on 6000 times)\n",
    "- Different architecture of feedforward network\n",
    "    - The input shape defination in the course was different from what was done here\n",
    "    - In the course the input was flattened before passing it as a parameter of the network\n",
    "    - In this notebook the input was flattened after passing it in as a parameter of the network\n",
    "    - In this notebook the predictions were appeneded to a list to compare with the mdf model predictions\n",
    "    \n",
    "    \n",
    "    \n",
    "**More references**:\n",
    "\n",
    "[PyTorch Docs](https://pytorch.org/docs/stable/index.html)\n",
    "\n",
    "[PyTorch Discussion](https://discuss.pytorch.org)"
   ]
  },
  {
   "cell_type": "markdown",
   "metadata": {
    "id": "cPa2RnNodFh-"
   },
   "source": [
    "## Get and preprocess the Data"
   ]
  },
  {
   "cell_type": "code",
   "execution_count": 1,
   "metadata": {
    "id": "aqspr0Ct9loS"
   },
   "outputs": [
    {
     "name": "stdout",
     "output_type": "stream",
     "text": [
      "Downloading http://fashion-mnist.s3-website.eu-central-1.amazonaws.com/train-images-idx3-ubyte.gz\n",
      "Downloading http://fashion-mnist.s3-website.eu-central-1.amazonaws.com/train-images-idx3-ubyte.gz to .\\FashionMNIST\\raw\\train-images-idx3-ubyte.gz\n"
     ]
    },
    {
     "data": {
      "application/vnd.jupyter.widget-view+json": {
       "model_id": "fd1ada2f5f524e3793ef7b6ea0d09def",
       "version_major": 2,
       "version_minor": 0
      },
      "text/plain": [
       "  0%|          | 0/26421880 [00:00<?, ?it/s]"
      ]
     },
     "metadata": {},
     "output_type": "display_data"
    },
    {
     "name": "stdout",
     "output_type": "stream",
     "text": [
      "Extracting .\\FashionMNIST\\raw\\train-images-idx3-ubyte.gz to .\\FashionMNIST\\raw\n",
      "\n",
      "Downloading http://fashion-mnist.s3-website.eu-central-1.amazonaws.com/train-labels-idx1-ubyte.gz\n",
      "Downloading http://fashion-mnist.s3-website.eu-central-1.amazonaws.com/train-labels-idx1-ubyte.gz to .\\FashionMNIST\\raw\\train-labels-idx1-ubyte.gz\n"
     ]
    },
    {
     "data": {
      "application/vnd.jupyter.widget-view+json": {
       "model_id": "c981547ce242484981c69702d8ed44dd",
       "version_major": 2,
       "version_minor": 0
      },
      "text/plain": [
       "  0%|          | 0/29515 [00:00<?, ?it/s]"
      ]
     },
     "metadata": {},
     "output_type": "display_data"
    },
    {
     "name": "stdout",
     "output_type": "stream",
     "text": [
      "Extracting .\\FashionMNIST\\raw\\train-labels-idx1-ubyte.gz to .\\FashionMNIST\\raw\n",
      "\n",
      "Downloading http://fashion-mnist.s3-website.eu-central-1.amazonaws.com/t10k-images-idx3-ubyte.gz\n",
      "Downloading http://fashion-mnist.s3-website.eu-central-1.amazonaws.com/t10k-images-idx3-ubyte.gz to .\\FashionMNIST\\raw\\t10k-images-idx3-ubyte.gz\n"
     ]
    },
    {
     "data": {
      "application/vnd.jupyter.widget-view+json": {
       "model_id": "d4685860b6234d84987d58a1a0c9c4c4",
       "version_major": 2,
       "version_minor": 0
      },
      "text/plain": [
       "  0%|          | 0/4422102 [00:00<?, ?it/s]"
      ]
     },
     "metadata": {},
     "output_type": "display_data"
    },
    {
     "name": "stdout",
     "output_type": "stream",
     "text": [
      "Extracting .\\FashionMNIST\\raw\\t10k-images-idx3-ubyte.gz to .\\FashionMNIST\\raw\n",
      "\n",
      "Downloading http://fashion-mnist.s3-website.eu-central-1.amazonaws.com/t10k-labels-idx1-ubyte.gz\n",
      "Downloading http://fashion-mnist.s3-website.eu-central-1.amazonaws.com/t10k-labels-idx1-ubyte.gz to .\\FashionMNIST\\raw\\t10k-labels-idx1-ubyte.gz\n"
     ]
    },
    {
     "data": {
      "application/vnd.jupyter.widget-view+json": {
       "model_id": "295193d6248d4443888212126a17bc11",
       "version_major": 2,
       "version_minor": 0
      },
      "text/plain": [
       "  0%|          | 0/5148 [00:00<?, ?it/s]"
      ]
     },
     "metadata": {},
     "output_type": "display_data"
    },
    {
     "name": "stdout",
     "output_type": "stream",
     "text": [
      "Extracting .\\FashionMNIST\\raw\\t10k-labels-idx1-ubyte.gz to .\\FashionMNIST\\raw\n",
      "\n"
     ]
    }
   ],
   "source": [
    "# import datasets module needed downloading the fashion-mnist data\n",
    "import torchvision.datasets as datasets\n",
    "\n",
    "# import transforms to preprocess the data\n",
    "from torchvision import transforms\n",
    "\n",
    "# download the training images, transform them to tensor, and rescale their pixel values to 0-1\n",
    "train = datasets.FashionMNIST(root=\".\", download=True, train=True, transform = transforms.ToTensor())\n",
    "\n",
    "# download the test images, transform them to tensor and rescale their pixel values to 0-1\n",
    "test = datasets.FashionMNIST(root=\".\", download=True, train=False, transform = transforms.ToTensor())"
   ]
  },
  {
   "cell_type": "code",
   "execution_count": 2,
   "metadata": {
    "id": "2HqpX1k_BLK8"
   },
   "outputs": [],
   "source": [
    "from torch.utils.data import DataLoader\n",
    "\n",
    "# load the train data\n",
    "train_dl = DataLoader(train, batch_size=10, shuffle=True)\n",
    "\n",
    "# load the test data\n",
    "test_dl = DataLoader(test, batch_size=10, shuffle=False)"
   ]
  },
  {
   "cell_type": "code",
   "execution_count": 3,
   "metadata": {},
   "outputs": [
    {
     "name": "stdout",
     "output_type": "stream",
     "text": [
      "train_dl_shape:\n",
      "torch.Size([60000, 28, 28])\n",
      "\n",
      "test_dl_shape:\n",
      "torch.Size([10000, 28, 28])\n"
     ]
    }
   ],
   "source": [
    "# inspect the train and test data loader\n",
    "# get the shape of the training set and test data set\n",
    "train_dl_shape = train_dl.dataset.data.shape\n",
    "test_dl_shape = test_dl.dataset.data.shape\n",
    "\n",
    "# print the shapes\n",
    "print(f\"train_dl_shape:\\n{train_dl_shape}\\n\\ntest_dl_shape:\\n{test_dl_shape}\")"
   ]
  },
  {
   "cell_type": "code",
   "execution_count": 4,
   "metadata": {},
   "outputs": [],
   "source": [
    "# create label index to name map\n",
    "label_map = {0 : \"T-shirt/top\", \n",
    "             1 : \"Trouser\", \n",
    "             2 : \"Pullover\", \n",
    "             3 : \"Dress\", \n",
    "             4 : \"Coat\",\n",
    "             5 : \"Sandal\",\n",
    "             6 : \"Shirt\",\n",
    "             7 : \"Sneaker\",\n",
    "             8 : \"Bag\",\n",
    "             9 : \"Ankle boot\"\n",
    "            }"
   ]
  },
  {
   "cell_type": "markdown",
   "metadata": {
    "id": "7g_YRSU6KIVi"
   },
   "source": [
    "## PyTorch Model"
   ]
  },
  {
   "cell_type": "markdown",
   "metadata": {
    "id": "4zN9_4CGKLnv"
   },
   "source": [
    "### Building"
   ]
  },
  {
   "cell_type": "code",
   "execution_count": 5,
   "metadata": {},
   "outputs": [],
   "source": [
    "import torch.nn as nn\n",
    "import torch.nn.functional as F\n",
    "import torch\n",
    "\n",
    "# create the network using the base class for all neural nets in pytorch\n",
    "class FeedForwardNet(nn.Module):\n",
    "  # calling the constructor of the parent class\n",
    "\n",
    "    def __init__(self):\n",
    "        super(FeedForwardNet, self).__init__()\n",
    "        # define the layers for the network\n",
    "        self.fc1 = nn.Linear(1*28*28, 256)\n",
    "        self.fc2 = nn.Linear(256, 10)\n",
    "\n",
    "\n",
    "    def forward(self, x):\n",
    "        \n",
    "        # flatten the input data\n",
    "        x = x.view(-1, 1*28*28)\n",
    "        \n",
    "        # create link between the layers and activation function\n",
    "        x = F.relu(self.fc1(x))\n",
    "        x = self.fc2(x)\n",
    "\n",
    "        return x"
   ]
  },
  {
   "cell_type": "markdown",
   "metadata": {},
   "source": [
    "### Training "
   ]
  },
  {
   "cell_type": "code",
   "execution_count": 6,
   "metadata": {
    "id": "ZKYO1iUErxEZ"
   },
   "outputs": [
    {
     "name": "stdout",
     "output_type": "stream",
     "text": [
      "Epochs 1/4\n",
      "6000/6000 - Loss: 0.27108\n",
      "Epochs 2/4\n",
      "6000/6000 - Loss: 0.12072\n",
      "Epochs 3/4\n",
      "6000/6000 - Loss: 0.38017\n",
      "Epochs 4/4\n",
      "6000/6000 - Loss: 0.25044\n"
     ]
    }
   ],
   "source": [
    "# create an instance of the network\n",
    "ff_model = FeedForwardNet()\n",
    "\n",
    "# define the optimizer for the instance\n",
    "optimizer = torch.optim.Adam(ff_model.parameters(), lr=0.001)\n",
    "\n",
    "# define the loss function\n",
    "criterion = nn.CrossEntropyLoss()\n",
    "\n",
    "# define the number of epochs\n",
    "epochs = 4\n",
    "\n",
    "# train the model for  epochs\n",
    "for epoch in range(epochs):\n",
    "    # loop through the batches generated by train_dl\n",
    "    for idx, (x_train, y_train) in enumerate(train_dl):\n",
    "        \n",
    "        # do forward propagation\n",
    "        y_pred = ff_model(x_train) # computed output\n",
    "        loss = criterion(y_pred, y_train) # compute loss\n",
    "        optimizer.zero_grad() # clear previous gradients \n",
    "        \n",
    "        # do backward propagation \n",
    "        loss.backward() # get changes of weight and bias wrt to the loss\n",
    "        optimizer.step() # updates the weight and bias\n",
    "        \n",
    "        # check epochs and losses for batches\n",
    "        if (idx+1) % len(train_dl) == 0:\n",
    "            batch = idx + 1\n",
    "            print(f\"Epochs {epoch+1}/{epochs}\\n{batch}/{batch} - Loss: {round(loss.item(), 5)}\")"
   ]
  },
  {
   "cell_type": "markdown",
   "metadata": {
    "id": "lmXQPfrxzxxr"
   },
   "source": [
    "### Validate"
   ]
  },
  {
   "cell_type": "code",
   "execution_count": 7,
   "metadata": {},
   "outputs": [
    {
     "data": {
      "text/plain": [
       "FeedForwardNet(\n",
       "  (fc1): Linear(in_features=784, out_features=256, bias=True)\n",
       "  (fc2): Linear(in_features=256, out_features=10, bias=True)\n",
       ")"
      ]
     },
     "execution_count": 7,
     "metadata": {},
     "output_type": "execute_result"
    }
   ],
   "source": [
    "ff_model.eval()"
   ]
  },
  {
   "cell_type": "code",
   "execution_count": 8,
   "metadata": {},
   "outputs": [
    {
     "name": "stdout",
     "output_type": "stream",
     "text": [
      "The model's accuracy on the test images is: 86.18 %\n"
     ]
    }
   ],
   "source": [
    "# Evaluate the ff_model on the test set\n",
    "correct = 0 # current no of correct predictions \n",
    "total = 0# current total number of all predictions\n",
    "\n",
    "predictions = list() # list to append prediction probabilities per batch\n",
    "pred_probs = list() # list to append predictions per batch\n",
    "\n",
    "with torch.no_grad():\n",
    "    for x_test, y_test in test_dl:\n",
    "        pred_prob = ff_model(x_test) # predicted probabilities for each batch \n",
    "        _, y_test_pred = torch.max(pred_prob.data, 1) # predicted label index\n",
    "        total += y_test.size(0) # update total by number of mini-batch\n",
    "        correct += (y_test_pred == y_test).sum().item()\n",
    "\n",
    "        pred_probs.append(pred_prob)\n",
    "        predictions.append(y_test_pred)\n",
    "\n",
    "print(f'The model\\'s accuracy on the test images is: {round((correct / total) * 100, 3)} %')"
   ]
  },
  {
   "cell_type": "markdown",
   "metadata": {},
   "source": [
    "### Sample prediction on first Image in test set"
   ]
  },
  {
   "cell_type": "code",
   "execution_count": 9,
   "metadata": {},
   "outputs": [
    {
     "data": {
      "image/png": "[encoded data removed]",
      "text/plain": [
       "<Figure size 640x480 with 1 Axes>"
      ]
     },
     "metadata": {},
     "output_type": "display_data"
    }
   ],
   "source": [
    "# visualize the image\n",
    "import matplotlib.pyplot as plt\n",
    "img_tensor = test.data[0] / 255\n",
    "\n",
    "plt.imshow(img_tensor);"
   ]
  },
  {
   "cell_type": "code",
   "execution_count": 10,
   "metadata": {},
   "outputs": [
    {
     "data": {
      "text/plain": [
       "tensor([[-11.6555, -17.1680, -13.6452, -18.5256, -15.4989,  -4.5574, -13.7593,\n",
       "          -2.9831, -14.0825,   2.4066]])"
      ]
     },
     "execution_count": 10,
     "metadata": {},
     "output_type": "execute_result"
    }
   ],
   "source": [
    "# check prediction probailities on first image in the test set\n",
    "# do not compute gradient \n",
    "with torch.no_grad():\n",
    "    sample_pred = ff_model(img_tensor)\n",
    "sample_pred"
   ]
  },
  {
   "cell_type": "code",
   "execution_count": 11,
   "metadata": {},
   "outputs": [],
   "source": [
    "# uncomment the code below to see another way of checking prediction probabilities on first image in the test set\n",
    "# pred_probs[0][0]"
   ]
  },
  {
   "cell_type": "code",
   "execution_count": 12,
   "metadata": {},
   "outputs": [
    {
     "name": "stdout",
     "output_type": "stream",
     "text": [
      "This is a/an Ankle boot\n"
     ]
    }
   ],
   "source": [
    "# check predicted label name\n",
    "label_idx = sample_pred.argmax()\n",
    "print(f\"This is a/an {label_map[label_idx.item()]}\")"
   ]
  },
  {
   "cell_type": "markdown",
   "metadata": {},
   "source": [
    "## MDF Model"
   ]
  },
  {
   "cell_type": "code",
   "execution_count": 13,
   "metadata": {},
   "outputs": [],
   "source": [
    "# import packages needed for mdf model\n",
    "from modeci_mdf.interfaces.pytorch import pytorch_to_mdf\n",
    "from modeci_mdf.execution_engine import EvaluableGraph"
   ]
  },
  {
   "cell_type": "markdown",
   "metadata": {},
   "source": [
    "### Create MDF model"
   ]
  },
  {
   "cell_type": "code",
   "execution_count": 14,
   "metadata": {},
   "outputs": [
    {
     "name": "stderr",
     "output_type": "stream",
     "text": [
      "C:\\Users\\peaceOiza\\Documents\\mdf-env\\lib\\site-packages\\torch\\onnx\\symbolic_helper.py:719: UserWarning: allowzero=0 by default. In order to honor zero value in shape use allowzero=1\n",
      "  warnings.warn(\"allowzero=0 by default. In order to honor zero value in shape use allowzero=1\")\n"
     ]
    }
   ],
   "source": [
    "# convert pytorch model to mdf model\n",
    "mdf_model, params_dict = pytorch_to_mdf(\n",
    "        model=ff_model,\n",
    "        args=img_tensor,\n",
    "        trace=True,\n",
    "    )"
   ]
  },
  {
   "cell_type": "markdown",
   "metadata": {},
   "source": [
    "### MDF Graph"
   ]
  },
  {
   "cell_type": "code",
   "execution_count": 15,
   "metadata": {},
   "outputs": [
    {
     "name": "stdout",
     "output_type": "stream",
     "text": [
      "Converting MDF graph: FeedForwardNetGraph to graphviz (level: 3, format: png)\n",
      "    Node: Reshape_6\n",
      "Converting .4 .3 .3 to hex color\n",
      "Bkgd color: ['.4', '.3', '.3'] (#664c4c), font: white\n",
      "    Node: Gemm_7\n",
      "Converting .2 .3 .5 to hex color\n",
      "Bkgd color: ['.2', '.3', '.5'] (#334c7f), font: white\n",
      "    Node: Relu_8\n",
      "Converting .4 .2 .1 to hex color\n",
      "Bkgd color: ['.4', '.2', '.1'] (#663319), font: white\n",
      "    Node: Gemm_9\n",
      "Converting .2 .3 .5 to hex color\n",
      "Bkgd color: ['.2', '.3', '.5'] (#334c7f), font: white\n",
      "    Edge: Reshape_6_Gemm_7 connects Reshape_6 to Gemm_7\n",
      "    Edge: Gemm_7_Relu_8 connects Gemm_7 to Relu_8\n",
      "    Edge: Relu_8_Gemm_9 connects Relu_8 to Gemm_9\n",
      "Written graph image to: pytorch_to_MDF.png\n"
     ]
    },
    {
     "data": {
      "image/png": "[encoded data removed]",
      "text/plain": [
       "<IPython.core.display.Image object>"
      ]
     },
     "execution_count": 15,
     "metadata": {},
     "output_type": "execute_result"
    }
   ],
   "source": [
    "# visualize mdf-model graph image\n",
    "mdf_model.to_graph_image(\n",
    "        engine=\"dot\",\n",
    "        output_format=\"png\",\n",
    "        view_on_render=False,\n",
    "        level=3,\n",
    "        filename_root=\"pytorch_to_MDF\",\n",
    "        is_horizontal=False,\n",
    "        solid_color=True\n",
    ")\n",
    "from IPython.display import Image\n",
    "Image(filename=\"pytorch_to_MDF.png\")"
   ]
  },
  {
   "cell_type": "code",
   "execution_count": 16,
   "metadata": {},
   "outputs": [
    {
     "name": "stdout",
     "output_type": "stream",
     "text": [
      "\n",
      "Init graph: FeedForwardNetGraph\n",
      "Evaluating graph: FeedForwardNetGraph, root nodes: ['Reshape_6'], with array format numpy\n",
      "[[-11.6554575  -17.16798019 -13.64522266 -18.5255661  -15.49886227\n",
      "   -4.55735111 -13.75925159  -2.98314047 -14.0824995    2.40662003]]\n",
      "\n",
      "This is a/an Ankle boot\n"
     ]
    }
   ],
   "source": [
    "# get the graph\n",
    "mdf_graph = mdf_model.graphs[0]\n",
    "params_dict[\"input1\"] = img_tensor\n",
    "\n",
    "# evaluate the graph\n",
    "eg = EvaluableGraph(graph=mdf_graph, verbose=False)\n",
    "\n",
    "eg.evaluate(initializer=params_dict)\n",
    "\n",
    "# get mdf model prediction\n",
    "mdf_pred = eg.output_enodes[0].get_output()\n",
    "print(mdf_pred)\n",
    "mdf_pred_idx = mdf_pred.argmax()\n",
    "print(f\"\\nThis is a/an {label_map[mdf_pred_idx]}\")"
   ]
  },
  {
   "cell_type": "code",
   "execution_count": 17,
   "metadata": {},
   "outputs": [
    {
     "data": {
      "text/plain": [
       "dtype('float64')"
      ]
     },
     "execution_count": 17,
     "metadata": {},
     "output_type": "execute_result"
    }
   ],
   "source": [
    "# check the datatype of the mdf model prediction\n",
    "mdf_pred.dtype"
   ]
  },
  {
   "cell_type": "code",
   "execution_count": 18,
   "metadata": {},
   "outputs": [
    {
     "data": {
      "text/plain": [
       "torch.float32"
      ]
     },
     "execution_count": 18,
     "metadata": {},
     "output_type": "execute_result"
    }
   ],
   "source": [
    "# check the datatype of the pytorch prediction\n",
    "sample_pred.dtype"
   ]
  },
  {
   "cell_type": "code",
   "execution_count": 19,
   "metadata": {},
   "outputs": [
    {
     "data": {
      "text/plain": [
       "tensor([[-11.6555, -17.1680, -13.6452, -18.5256, -15.4989,  -4.5574, -13.7593,\n",
       "          -2.9831, -14.0825,   2.4066]])"
      ]
     },
     "execution_count": 19,
     "metadata": {},
     "output_type": "execute_result"
    }
   ],
   "source": [
    "# create a variable to store mdf predictions with the same datatype as the pytorch prediction\n",
    "mdf_pred_torch = torch.tensor(mdf_pred, dtype=torch.float32)\n",
    "mdf_pred_torch"
   ]
  },
  {
   "cell_type": "code",
   "execution_count": 20,
   "metadata": {},
   "outputs": [
    {
     "data": {
      "text/plain": [
       "True"
      ]
     },
     "execution_count": 20,
     "metadata": {},
     "output_type": "execute_result"
    }
   ],
   "source": [
    "# compare the predictions of the pytorch model with the mdf model\n",
    "torch.allclose(sample_pred, mdf_pred_torch)"
   ]
  },
  {
   "cell_type": "markdown",
   "metadata": {},
   "source": [
    "## Onnx Graph from pytorch model"
   ]
  },
  {
   "cell_type": "code",
   "execution_count": 21,
   "metadata": {},
   "outputs": [
    {
     "name": "stdout",
     "output_type": "stream",
     "text": [
      "graph(%0 : Float(28, 28, strides=[28, 1], requires_grad=0, device=cpu),\n",
      "      %fc1.weight : Float(256, 784, strides=[784, 1], requires_grad=1, device=cpu),\n",
      "      %fc1.bias : Float(256, strides=[1], requires_grad=1, device=cpu),\n",
      "      %fc2.weight : Float(10, 256, strides=[256, 1], requires_grad=1, device=cpu),\n",
      "      %fc2.bias : Float(10, strides=[1], requires_grad=1, device=cpu)):\n",
      "  %5 : Long(2, strides=[1], device=cpu) = onnx::Constant[value=  -1  784 [ CPULongType{2} ]]() # C:\\Users\\peaceOiza\\AppData\\Local\\Temp\\ipykernel_14032\\3213453821.py:19:0\n",
      "  %6 : Float(1, 784, strides=[784, 1], requires_grad=0, device=cpu) = onnx::Reshape(%0, %5) # C:\\Users\\peaceOiza\\AppData\\Local\\Temp\\ipykernel_14032\\3213453821.py:19:0\n",
      "  %7 : Float(1, 256, strides=[256, 1], requires_grad=1, device=cpu) = onnx::Gemm[alpha=1., beta=1., transB=1](%6, %fc1.weight, %fc1.bias) # C:\\Users\\peaceOiza\\Documents\\mdf-env\\lib\\site-packages\\torch\\nn\\modules\\linear.py:103:0\n",
      "  %8 : Float(1, 256, strides=[256, 1], requires_grad=1, device=cpu) = onnx::Relu(%7) # C:\\Users\\peaceOiza\\Documents\\mdf-env\\lib\\site-packages\\torch\\nn\\functional.py:1442:0\n",
      "  %9 : Float(1, 10, strides=[10, 1], requires_grad=1, device=cpu) = onnx::Gemm[alpha=1., beta=1., transB=1](%8, %fc2.weight, %fc2.bias) # C:\\Users\\peaceOiza\\Documents\\mdf-env\\lib\\site-packages\\torch\\nn\\modules\\linear.py:103:0\n",
      "  return (%9)\n",
      "\n",
      "Serving 'pytorch_to_MDF.onnx' at http://localhost:8080\n"
     ]
    }
   ],
   "source": [
    "try:\n",
    "    from IPython.display import Image\n",
    "    onnx_graph = Image(filename=\"pytorch_to_MDF.onnx.png\")\n",
    "    display(onnx_graph)\n",
    "    \n",
    "except:\n",
    "    import netron\n",
    "    torch.onnx.export(\n",
    "            ff_model,\n",
    "            img_tensor,\n",
    "            \"pytorch_to_MDF.onnx\",\n",
    "            verbose=True,\n",
    "            input_names=[],\n",
    "            opset_version=9,\n",
    "        )\n",
    "    netron.start(\"pytorch_to_MDF.onnx\")"
   ]
  }
 ],
 "metadata": {
  "colab": {
   "provenance": []
  },
  "kernelspec": {
   "display_name": "Python 3 (ipykernel)",
   "language": "python",
   "name": "python3"
  },
  "language_info": {
   "codemirror_mode": {
    "name": "ipython",
    "version": 3
   },
   "file_extension": ".py",
   "mimetype": "text/x-python",
   "name": "python",
   "nbconvert_exporter": "python",
   "pygments_lexer": "ipython3",
   "version": "3.9.13"
  }
 },
 "nbformat": 4,
 "nbformat_minor": 1
}
