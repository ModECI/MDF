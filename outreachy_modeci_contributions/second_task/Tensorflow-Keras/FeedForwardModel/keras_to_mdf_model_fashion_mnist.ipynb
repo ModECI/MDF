{
 "cells": [
  {
   "cell_type": "markdown",
   "id": "60b7cc25",
   "metadata": {},
   "source": [
    "# A FeedForward Deep Neural Network on the FashionMnist Dataset"
   ]
  },
  {
   "cell_type": "markdown",
   "id": "11714e84",
   "metadata": {},
   "source": [
    "> This notebook is one of the contributions made to the MODECI-MDF project for Outreachy Internship Contribution Phase (_Summer_, 2023) . The aim of creating this notebook is to build a model using [Keras](https://keras.io) API and convert the model to MDF model using a slightly modified version (by me) of the **`keras2mdf`** python script in development by MODECI"
   ]
  },
  {
   "cell_type": "markdown",
   "id": "ef3c0ed2",
   "metadata": {},
   "source": [
    "## Dataset\n",
    "\n",
    "The fashion-mnist dataset contains 60,000 images for training and 10,000 images for testing. The images have ten classes which are; T-shirt/top, Trouser, Pullover, Dress, Coat, Sandal, Shirt, Sneaker, Bag, Ankle boot."
   ]
  },
  {
   "cell_type": "markdown",
   "id": "a8a0d287",
   "metadata": {},
   "source": [
    "## Get Data"
   ]
  },
  {
   "cell_type": "code",
   "execution_count": 1,
   "id": "4cf4dc62",
   "metadata": {},
   "outputs": [],
   "source": [
    "# import the fashion_mnist from keras datasets\n",
    "import keras.datasets.fashion_mnist as fashion_mnist\n",
    "\n",
    "# retrieve the training and validation data\n",
    "(x_train, y_train), (x_val, y_val) = fashion_mnist.load_data()\n",
    "\n",
    "# remove the first image array from the validation data and assign it as test data\n",
    "x_test, x_val = x_val[0, :, :], x_val[1:, :, :]\n",
    "y_val = y_val[1:]\n",
    "\n",
    "# map each label class to its name\n",
    "label_map = {0 : \"T-shirt/top\", \n",
    "             1 : \"Trouser\", \n",
    "             2 : \"Pullover\", \n",
    "             3 : \"Dress\", \n",
    "             4 : \"Coat\",\n",
    "             5 : \"Sandal\",\n",
    "             6 : \"Shirt\",\n",
    "             7 : \"Sneaker\",\n",
    "             8 : \"Bag\",\n",
    "             9 : \"Ankle boot\"\n",
    "            }"
   ]
  },
  {
   "cell_type": "code",
   "execution_count": 2,
   "id": "546d95b8",
   "metadata": {},
   "outputs": [
    {
     "name": "stdout",
     "output_type": "stream",
     "text": [
      "The shape of x_train is: (60000, 28, 28)\n",
      "The shape of x_val is: (9999, 28, 28)\n",
      "The shape of x_test is: (28, 28)\n"
     ]
    }
   ],
   "source": [
    "# check the input shape for all the training, validation, and testing images\n",
    "print(f\"The shape of x_train is: {x_train.shape}\")\n",
    "print(f\"The shape of x_val is: {x_val.shape}\")\n",
    "print(f\"The shape of x_test is: {x_test.shape}\")"
   ]
  },
  {
   "cell_type": "code",
   "execution_count": 3,
   "id": "4e553cb5",
   "metadata": {},
   "outputs": [
    {
     "name": "stdout",
     "output_type": "stream",
     "text": [
      "The shape of y_train is: (60000,)\n",
      "The shape of y_val is: (9999,)\n"
     ]
    }
   ],
   "source": [
    "# check the label shape for all the training, and validation images\n",
    "print(f\"The shape of y_train is: {y_train.shape}\")\n",
    "print(f\"The shape of y_val is: {y_val.shape}\")"
   ]
  },
  {
   "cell_type": "code",
   "execution_count": 4,
   "id": "d8a2b714",
   "metadata": {},
   "outputs": [
    {
     "data": {
      "image/png": "[encoded data removed]",
      "text/plain": [
       "<Figure size 640x480 with 1 Axes>"
      ]
     },
     "metadata": {},
     "output_type": "display_data"
    }
   ],
   "source": [
    "# import python library to visualization image\n",
    "import matplotlib.pyplot as plt\n",
    "\n",
    "# check the first image in the Fashion-Mnist data\n",
    "img_arr  = x_train[0, :, :]\n",
    "label_id = y_train[0]\n",
    "plt.axis('off')\n",
    "plt.title(f\"{label_map[label_id]}\")\n",
    "plt.imshow(img_arr);"
   ]
  },
  {
   "cell_type": "markdown",
   "id": "a24c227b",
   "metadata": {},
   "source": [
    "## Data Preprocessing"
   ]
  },
  {
   "cell_type": "code",
   "execution_count": 5,
   "id": "fce969c7",
   "metadata": {},
   "outputs": [],
   "source": [
    "# import module for preprocessing the data\n",
    "import keras.utils as utils"
   ]
  },
  {
   "cell_type": "code",
   "execution_count": 6,
   "id": "0876638a",
   "metadata": {},
   "outputs": [],
   "source": [
    "# transfrom the input images by rescaling the pixel values to 0-1\n",
    "x_train_scaled = x_train/255\n",
    "x_val_scaled = x_val/255\n",
    "x_test_scaled = x_test/255\n",
    "\n",
    "# do one-hot encoding to reshape the label\n",
    "y_train_encoding = utils.to_categorical(y_train)\n",
    "y_val_encoding = utils.to_categorical(y_val)"
   ]
  },
  {
   "cell_type": "markdown",
   "id": "e99fc797",
   "metadata": {},
   "source": [
    "## Keras Model"
   ]
  },
  {
   "cell_type": "code",
   "execution_count": 7,
   "id": "ad9e9eff",
   "metadata": {},
   "outputs": [],
   "source": [
    "# import classes and function needed for modelling\n",
    "from keras.layers import Flatten, Dense\n",
    "from keras.models import Sequential, load_model\n",
    "from keras.utils.vis_utils import plot_model"
   ]
  },
  {
   "cell_type": "markdown",
   "id": "8b29bbfa",
   "metadata": {},
   "source": [
    "### Building"
   ]
  },
  {
   "cell_type": "code",
   "execution_count": 8,
   "id": "c13a28ef",
   "metadata": {},
   "outputs": [],
   "source": [
    "# create the keras model with a feedforward neural architecture\n",
    "kr_model = Sequential([\n",
    "    Flatten(),\n",
    "    Dense(256, activation='relu'),\n",
    "    Dense(10, activation='softmax')\n",
    "])\n",
    "\n",
    "# compile the model\n",
    "kr_model.compile(optimizer=\"adam\", loss=\"categorical_crossentropy\", metrics=[\"accuracy\"])"
   ]
  },
  {
   "cell_type": "markdown",
   "id": "770341e3",
   "metadata": {},
   "source": [
    "### Training"
   ]
  },
  {
   "cell_type": "code",
   "execution_count": 9,
   "id": "c278a352",
   "metadata": {},
   "outputs": [
    {
     "name": "stdout",
     "output_type": "stream",
     "text": [
      "Epoch 1/4\n",
      "6000/6000 - 25s - loss: 0.4707 - accuracy: 0.8298 - val_loss: 0.4616 - val_accuracy: 0.8359 - 25s/epoch - 4ms/step\n",
      "Epoch 2/4\n",
      "6000/6000 - 24s - loss: 0.3608 - accuracy: 0.8683 - val_loss: 0.3856 - val_accuracy: 0.8600 - 24s/epoch - 4ms/step\n",
      "Epoch 3/4\n",
      "6000/6000 - 23s - loss: 0.3273 - accuracy: 0.8807 - val_loss: 0.3564 - val_accuracy: 0.8718 - 23s/epoch - 4ms/step\n",
      "Epoch 4/4\n",
      "6000/6000 - 24s - loss: 0.3031 - accuracy: 0.8878 - val_loss: 0.3584 - val_accuracy: 0.8743 - 24s/epoch - 4ms/step\n"
     ]
    }
   ],
   "source": [
    "# train the model \n",
    "history = kr_model.fit(x_train_scaled, \n",
    "                       y_train_encoding, \n",
    "                       validation_data=(x_val_scaled, y_val_encoding), \n",
    "                       batch_size=10, \n",
    "                       epochs=4, \n",
    "                       verbose=2)"
   ]
  },
  {
   "cell_type": "markdown",
   "id": "ac367020",
   "metadata": {},
   "source": [
    "### Evaluation"
   ]
  },
  {
   "cell_type": "code",
   "execution_count": 10,
   "id": "d89abaca",
   "metadata": {},
   "outputs": [
    {
     "name": "stdout",
     "output_type": "stream",
     "text": [
      "1875/1875 [==============================] - 5s 3ms/step - loss: 0.2779 - accuracy: 0.8962\n"
     ]
    },
    {
     "data": {
      "text/plain": [
       "[0.27786991000175476, 0.8962166905403137]"
      ]
     },
     "execution_count": 10,
     "metadata": {},
     "output_type": "execute_result"
    }
   ],
   "source": [
    "# evaluate how well the model does on training images\n",
    "kr_model.evaluate(x_train_scaled, y_train_encoding)"
   ]
  },
  {
   "cell_type": "code",
   "execution_count": 11,
   "id": "01145e02",
   "metadata": {},
   "outputs": [
    {
     "name": "stdout",
     "output_type": "stream",
     "text": [
      "313/313 [==============================] - 1s 3ms/step - loss: 0.3584 - accuracy: 0.8743\n"
     ]
    },
    {
     "data": {
      "text/plain": [
       "[0.358370840549469, 0.8742874264717102]"
      ]
     },
     "execution_count": 11,
     "metadata": {},
     "output_type": "execute_result"
    }
   ],
   "source": [
    "# evaluate how well the model does on the validation images\n",
    "kr_model.evaluate(x_val_scaled, y_val_encoding)"
   ]
  },
  {
   "cell_type": "markdown",
   "id": "0820510e",
   "metadata": {},
   "source": [
    "### Visualize the model"
   ]
  },
  {
   "cell_type": "code",
   "execution_count": 12,
   "id": "c4706e65",
   "metadata": {},
   "outputs": [
    {
     "data": {
      "image/png": "[encoded data removed]",
      "text/plain": [
       "<IPython.core.display.Image object>"
      ]
     },
     "execution_count": 12,
     "metadata": {},
     "output_type": "execute_result"
    }
   ],
   "source": [
    "# plot the keras model\n",
    "plot_model(kr_model, to_file=\"kr_feed_forward_model.png\", show_shapes=True)"
   ]
  },
  {
   "cell_type": "markdown",
   "id": "ab20d376",
   "metadata": {},
   "source": [
    "### Predict on test image"
   ]
  },
  {
   "cell_type": "code",
   "execution_count": 13,
   "id": "7d893307",
   "metadata": {},
   "outputs": [
    {
     "data": {
      "image/png": "[encoded data removed]",
      "text/plain": [
       "<Figure size 640x480 with 1 Axes>"
      ]
     },
     "metadata": {},
     "output_type": "display_data"
    }
   ],
   "source": [
    "# visualize the test image\n",
    "plt.imshow(x_test_scaled);"
   ]
  },
  {
   "cell_type": "code",
   "execution_count": 14,
   "id": "6ecc107d",
   "metadata": {},
   "outputs": [],
   "source": [
    "# reshape the test image dimension\n",
    "x_test_scaled = x_test_scaled.reshape(1, 28, 28)"
   ]
  },
  {
   "cell_type": "code",
   "execution_count": 15,
   "id": "1bbdd8d3",
   "metadata": {},
   "outputs": [
    {
     "name": "stdout",
     "output_type": "stream",
     "text": [
      "1/1 [==============================] - 0s 197ms/step\n",
      "Prediction: \n",
      "[[5.7691852e-07 7.2739310e-12 1.2232545e-09 1.3249107e-09 1.4535550e-08\n",
      "  1.8108208e-02 7.3135674e-08 2.7836841e-02 3.9151928e-08 9.5405424e-01]]\n"
     ]
    },
    {
     "data": {
      "text/plain": [
       "'Ankle boot'"
      ]
     },
     "execution_count": 15,
     "metadata": {},
     "output_type": "execute_result"
    }
   ],
   "source": [
    "# predict the class of the test image using the keras model\n",
    "pred = kr_model.predict(x_test_scaled, batch_size=1)\n",
    "\n",
    "# check prediction probabilities\n",
    "print(f\"Prediction: \\n{pred}\")\n",
    "\n",
    "# get highest prediction probability\n",
    "label_ind = pred.argmax()\n",
    "\n",
    "# label of prediction\n",
    "label_map[label_ind]"
   ]
  },
  {
   "cell_type": "markdown",
   "id": "e5014b25",
   "metadata": {},
   "source": [
    "## MDF Model"
   ]
  },
  {
   "cell_type": "markdown",
   "id": "e7050eb0",
   "metadata": {},
   "source": [
    "### Retrieve details from Keras model needed to build MDF model"
   ]
  },
  {
   "cell_type": "code",
   "execution_count": 16,
   "id": "76a74fbe",
   "metadata": {},
   "outputs": [
    {
     "name": "stdout",
     "output_type": "stream",
     "text": [
      "['flatten', 'dense', 'dense_1']\n"
     ]
    }
   ],
   "source": [
    "# get layers in the keras model\n",
    "kr_model_layers = []\n",
    "for layer in kr_model.layers:\n",
    "    kr_model_layers.append(layer.name)\n",
    "    \n",
    "# see layers in the keras model\n",
    "print(kr_model_layers)"
   ]
  },
  {
   "cell_type": "code",
   "execution_count": 17,
   "id": "86d0d4cf",
   "metadata": {},
   "outputs": [],
   "source": [
    "# import sys to temporarily add files to sys path \n",
    "import sys\n",
    "\n",
    "# add dir path of the keras2mdf helper function\n",
    "sys.path.append(\"C:\\\\Users\\\\peaceOiza\\\\Documents\\\\MDF\\\\examples\\\\TensorFlow\\\\Keras\")\n",
    "\n",
    "# access every function in keras2mdf\n",
    "from keras2mdf import *"
   ]
  },
  {
   "cell_type": "code",
   "execution_count": 18,
   "id": "926646ca",
   "metadata": {},
   "outputs": [],
   "source": [
    "# get the parameters and activation in each dense layer\n",
    "# use the get_weights_and_activation function from keras2mdf\n",
    "params, activations = get_weights_and_activation(kr_model_layers[1:], kr_model)"
   ]
  },
  {
   "cell_type": "markdown",
   "id": "207cf6a9",
   "metadata": {},
   "source": [
    "### Build MDF model"
   ]
  },
  {
   "cell_type": "code",
   "execution_count": 19,
   "id": "d1a00262",
   "metadata": {},
   "outputs": [],
   "source": [
    "# create mdf model and graph using the init_model_with_graph function from keras2mdf\n",
    "mdf_model, mdf_model_graph = init_model_with_graph(\"feedforward\", \"feedforward_graph\")"
   ]
  },
  {
   "cell_type": "code",
   "execution_count": 20,
   "id": "81d26558",
   "metadata": {},
   "outputs": [
    {
     "data": {
      "text/plain": [
       "(None, 784)"
      ]
     },
     "execution_count": 20,
     "metadata": {},
     "output_type": "execute_result"
    }
   ],
   "source": [
    "# check the input shape of the first dense layer of keras model \n",
    "kr_model.layers[1].input_shape"
   ]
  },
  {
   "cell_type": "markdown",
   "id": "16d26fe5",
   "metadata": {},
   "source": [
    "#### Create input node for the model"
   ]
  },
  {
   "cell_type": "code",
   "execution_count": 21,
   "id": "596fb587",
   "metadata": {},
   "outputs": [],
   "source": [
    "# reshape x_test_scaled from (1, 28, 28) to (1, 784)\n",
    "input_value = x_test_scaled.reshape(784,)\n",
    "\n",
    "# create the input node for the mdf model\n",
    "input_node = create_input_node(\"input_node\", input_value)\n",
    "\n",
    "# add the input node to the mdf model graph\n",
    "\n",
    "mdf_model_graph.nodes.append(input_node)"
   ]
  },
  {
   "cell_type": "markdown",
   "id": "b5af6518",
   "metadata": {},
   "source": [
    "#### Create function to view each node structure in the model as a dictionary"
   ]
  },
  {
   "cell_type": "code",
   "execution_count": 22,
   "id": "6753cafa",
   "metadata": {},
   "outputs": [],
   "source": [
    "# define function to access nodes using dictionary structure\n",
    "def access_nodes(node_name, graph=mdf_model_graph):\n",
    "    # convert the graph structure to dict\n",
    "    mdf_dict = mdf_model_graph.to_dict()\n",
    "\n",
    "    # access all the nodes in mdf_dict\n",
    "    nested_nodes_dict = mdf_dict[\"feedforward_graph\"][\"nodes\"]\n",
    "    \n",
    "    # return details about a specific node \n",
    "    return nested_nodes_dict[node_name]"
   ]
  },
  {
   "cell_type": "code",
   "execution_count": 23,
   "id": "8f2919eb",
   "metadata": {},
   "outputs": [],
   "source": [
    "# uncomment code below to see info on input node\n",
    "# print(\"The details about the input node in the model are: \")\n",
    "# print(\"=\"*50)\n",
    "# access_nodes(\"input_node\")"
   ]
  },
  {
   "cell_type": "markdown",
   "id": "679291c8",
   "metadata": {},
   "source": [
    "#### Create first Dense node of the model"
   ]
  },
  {
   "cell_type": "code",
   "execution_count": 24,
   "id": "6935b158",
   "metadata": {},
   "outputs": [],
   "source": [
    "# get weights and bias for the first dense node\n",
    "weights_h1 = params[\"dense\"][\"weights\"]\n",
    "bias_h1 = params[\"dense\"][\"bias\"]\n",
    "\n",
    "# create the first dense node for the mdf model\n",
    "dense_node = create_dense_node(\"dense_node\", weights_h1, bias_h1)\n",
    "\n",
    "# add the dense node to the mdf model graph\n",
    "mdf_model_graph.nodes.append(dense_node)"
   ]
  },
  {
   "cell_type": "code",
   "execution_count": 25,
   "id": "0308e527",
   "metadata": {},
   "outputs": [],
   "source": [
    "# uncomment code below to see info on the first dense node\n",
    "# print(\"The details about the first dense node in the model are: \")\n",
    "# print(\"=\"*50)\n",
    "# access_nodes(\"dense_node\")"
   ]
  },
  {
   "cell_type": "markdown",
   "id": "3ab37bd6",
   "metadata": {},
   "source": [
    "#### Create first activation node "
   ]
  },
  {
   "cell_type": "code",
   "execution_count": 26,
   "id": "70f5edf9",
   "metadata": {},
   "outputs": [],
   "source": [
    "# create activation on first dense node\n",
    "activation_node = create_activation_node(\"activation_node\", activations[0])\n",
    "\n",
    "# add the activation of the first dense node to the mdf model graph\n",
    "mdf_model_graph.nodes.append(activation_node)"
   ]
  },
  {
   "cell_type": "code",
   "execution_count": 27,
   "id": "bbfc6dc1",
   "metadata": {},
   "outputs": [],
   "source": [
    "# uncomment code below to see info on the activation of the first dense node\n",
    "# print(\"The details about the activation for the first dense layer in the model are: \")\n",
    "# print(\"=\"*50)\n",
    "# access_nodes(\"activation_node\")"
   ]
  },
  {
   "cell_type": "markdown",
   "id": "9c2a588d",
   "metadata": {},
   "source": [
    "#### Create second Dense node of the model"
   ]
  },
  {
   "cell_type": "code",
   "execution_count": 28,
   "id": "712d95e1",
   "metadata": {},
   "outputs": [],
   "source": [
    "# get weights and bias for the second dense node\n",
    "weights_h2 = params[\"dense_1\"][\"weights\"]\n",
    "bias_h2 = params[\"dense_1\"][\"bias\"]\n",
    "\n",
    "# create the second dense node for the mdf model\n",
    "dense_node_1 = create_dense_node(\"dense_node_1\", weights_h2, bias_h2)\n",
    "\n",
    "# add the second dense node to the mdf model graph\n",
    "mdf_model_graph.nodes.append(dense_node_1)"
   ]
  },
  {
   "cell_type": "code",
   "execution_count": 29,
   "id": "75e5b7bb",
   "metadata": {},
   "outputs": [],
   "source": [
    "# uncomment code below to see info on the second dense node\n",
    "# print(\"The details about the first dense node in the model are: \")\n",
    "# print(\"=\"*50)\n",
    "# access_nodes(\"dense_node_1\")"
   ]
  },
  {
   "cell_type": "markdown",
   "id": "1d78b322",
   "metadata": {},
   "source": [
    "#### Create output node"
   ]
  },
  {
   "cell_type": "code",
   "execution_count": 30,
   "id": "da269a60",
   "metadata": {},
   "outputs": [],
   "source": [
    "# create activation on second dense node to get the model's output\n",
    "output_node = create_activation_node(\"output_node\", activations[1])\n",
    "\n",
    "# add the activation of the first dense node to the mdf model graph\n",
    "mdf_model_graph.nodes.append(output_node)"
   ]
  },
  {
   "cell_type": "code",
   "execution_count": 31,
   "id": "5cd5c5cd",
   "metadata": {},
   "outputs": [],
   "source": [
    "# uncomment code below to see info on the activation of the second dense node\n",
    "# print(\"The details about the activation for the second dense layer in the model are: \")\n",
    "# print(\"=\"*50)\n",
    "# access_nodes(\"output_node\")"
   ]
  },
  {
   "cell_type": "markdown",
   "id": "335d09c5",
   "metadata": {},
   "source": [
    "#### Create connections between the nodes in the model"
   ]
  },
  {
   "cell_type": "code",
   "execution_count": 32,
   "id": "81c35144",
   "metadata": {},
   "outputs": [],
   "source": [
    "# import function to create links between a sender node to a receiver node\n",
    "# the sender node sends its output as input for the receiver node\n",
    "from modeci_mdf.utils import simple_connect\n",
    "e1 = simple_connect(input_node, dense_node, mdf_model_graph)\n",
    "e2 = simple_connect(dense_node, activation_node, mdf_model_graph)\n",
    "e3 = simple_connect(activation_node, dense_node_1, mdf_model_graph)\n",
    "e4 = simple_connect(dense_node_1, output_node, mdf_model_graph)"
   ]
  },
  {
   "cell_type": "markdown",
   "id": "f6d4909f",
   "metadata": {},
   "source": [
    "#### Generate graph image of the model"
   ]
  },
  {
   "cell_type": "code",
   "execution_count": 33,
   "id": "691f169c",
   "metadata": {},
   "outputs": [
    {
     "name": "stdout",
     "output_type": "stream",
     "text": [
      "Converting MDF graph: feedforward_graph to graphviz (level: 1, format: png)\n",
      "    Node: input_node\n",
      "Bkgd color: None (#444444), font: black\n",
      "    Node: dense_node\n",
      "Bkgd color: None (#444444), font: black\n",
      "    Node: activation_node\n",
      "Bkgd color: None (#444444), font: black\n",
      "    Node: dense_node_1\n",
      "Bkgd color: None (#444444), font: black\n",
      "    Node: output_node\n",
      "Bkgd color: None (#444444), font: black\n",
      "    Edge: edge_input_node_dense_node connects input_node to dense_node\n",
      "    Edge: edge_dense_node_activation_node connects dense_node to activation_node\n",
      "    Edge: edge_activation_node_dense_node_1 connects activation_node to dense_node_1\n",
      "    Edge: edge_dense_node_1_output_node connects dense_node_1 to output_node\n",
      "Written graph image to: keras_to_MDF.png\n"
     ]
    },
    {
     "data": {
      "image/png": "[encoded data removed]",
      "text/plain": [
       "<IPython.core.display.Image object>"
      ]
     },
     "execution_count": 33,
     "metadata": {},
     "output_type": "execute_result"
    }
   ],
   "source": [
    "mdf_model.to_graph_image(\n",
    "        engine=\"dot\",\n",
    "        output_format=\"png\",\n",
    "        view_on_render=False,\n",
    "        level=1,\n",
    "        filename_root=\"keras_to_MDF\",\n",
    "        is_horizontal=True,\n",
    "        solid_color=True\n",
    ")\n",
    "from IPython.display import Image\n",
    "Image(filename=\"Keras_to_MDF.png\")"
   ]
  },
  {
   "cell_type": "markdown",
   "id": "82b80bf9",
   "metadata": {},
   "source": [
    "#### Evaluate the model"
   ]
  },
  {
   "cell_type": "code",
   "execution_count": 34,
   "id": "514cafa3",
   "metadata": {},
   "outputs": [
    {
     "name": "stdout",
     "output_type": "stream",
     "text": [
      "\n",
      "Init graph: feedforward_graph\n",
      "Evaluating graph: feedforward_graph, root nodes: ['input_node'], with array format numpy\n"
     ]
    }
   ],
   "source": [
    "from modeci_mdf.execution_engine import EvaluableGraph\n",
    "\n",
    "# create an instance of EvaluableGraph on the graph\n",
    "eg = EvaluableGraph(mdf_model_graph, verbose=False)\n",
    "eg.evaluate()"
   ]
  },
  {
   "cell_type": "code",
   "execution_count": 35,
   "id": "470ed640",
   "metadata": {},
   "outputs": [
    {
     "name": "stdout",
     "output_type": "stream",
     "text": [
      "Mdf model prediction probabilities:\n",
      "[5.76918746e-07 7.27391711e-12 1.22325709e-09 1.32491323e-09\n",
      " 1.45355776e-08 1.81082021e-02 7.31356273e-08 2.78368284e-02\n",
      " 3.91518841e-08 9.54054263e-01]\n"
     ]
    },
    {
     "data": {
      "text/plain": [
       "'Ankle boot'"
      ]
     },
     "execution_count": 35,
     "metadata": {},
     "output_type": "execute_result"
    }
   ],
   "source": [
    "# check prediction probabilities of mdf model\n",
    "mdf_pred = eg.enodes['output_node'].evaluable_outputs['output_node_out'].curr_value\n",
    "print(f\"Mdf model prediction probabilities:\\n{mdf_pred}\")\n",
    "\n",
    "# get highest prediction probability\n",
    "class_ind = mdf_pred.argmax()\n",
    "\n",
    "# label of prediction\n",
    "label_map[class_ind]"
   ]
  },
  {
   "cell_type": "code",
   "execution_count": 36,
   "id": "67d703c8",
   "metadata": {},
   "outputs": [],
   "source": [
    "# compare keras model and mdf model prediction probabilities\n",
    "assert pred.all() == mdf_pred.all()"
   ]
  }
 ],
 "metadata": {
  "kernelspec": {
   "display_name": "Python 3 (ipykernel)",
   "language": "python",
   "name": "python3"
  },
  "language_info": {
   "codemirror_mode": {
    "name": "ipython",
    "version": 3
   },
   "file_extension": ".py",
   "mimetype": "text/x-python",
   "name": "python",
   "nbconvert_exporter": "python",
   "pygments_lexer": "ipython3",
   "version": "3.9.13"
  }
 },
 "nbformat": 4,
 "nbformat_minor": 5
}
