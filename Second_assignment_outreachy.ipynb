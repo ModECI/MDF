{
 "cells": [
  {
   "cell_type": "code",
   "execution_count": 1,
   "id": "8b981913",
   "metadata": {},
   "outputs": [],
   "source": [
    "from sympy import symbols, sin, exp, Derivative\n",
    "from modeci_mdf.mdf import *\n",
    "\n",
    "\n"
   ]
  },
  {
   "cell_type": "code",
   "execution_count": 11,
   "id": "43517ab6",
   "metadata": {
    "scrolled": true
   },
   "outputs": [
    {
     "name": "stdout",
     "output_type": "stream",
     "text": [
      "state_example:\n",
      "    nodes:\n",
      "        A:\n",
      "            parameters:\n",
      "                level:\n",
      "                    value: 1.0\n",
      "            output_ports:\n",
      "                output:\n",
      "                    value: level\n",
      "        B:\n",
      "            input_ports:\n",
      "                input: {}\n",
      "            parameters:\n",
      "                2nd-node:\n",
      "                    value: 1/(1+(input))\n",
      "            output_ports:\n",
      "                output:\n",
      "                    value: 2nd-node\n",
      "        C:\n",
      "            input_ports:\n",
      "                input: {}\n",
      "            parameters:\n",
      "                3rd-node:\n",
      "                    value: 100*input\n",
      "            output_ports:\n",
      "                output:\n",
      "                    value: 3rd-node\n",
      "\n"
     ]
    }
   ],
   "source": [
    "# Create a model \n",
    "mod = Model(id=\"3-connected-nodes\")\n",
    "# Defining graph for our model\n",
    "mod_graph = Graph(id=\"state_example\")\n",
    "# Adding graph in our mod.graphs\n",
    "mod.graphs.append(mod_graph)\n",
    "\n",
    "a_node = Node(id=\"A\")\n",
    "\n",
    "a_node.parameters.append(Parameter(id=\"level\", value=1.0))\n",
    "a_node.output_ports.append(OutputPort(id=\"output\", value = \"level\"))\n",
    "\n",
    "mod_graph.nodes.append(a_node)\n",
    "\n",
    "#https://mdf.readthedocs.io/en/latest/api/Specification.html#parameter\n",
    "#Add a stateless parameter - this is a parameter which will evaluate to the same value every execution of the node (for the same external inputs)\n",
    "b_node = Node(id=\"B\")\n",
    "b_node.input_ports.append(InputPort(id=\"input\"))\n",
    "mod_graph.nodes.append(b_node)\n",
    "p1 = Parameter(\n",
    "    id=\"2nd-node\",\n",
    "    value=\"1/(1+(input))\",\n",
    ")\n",
    "\n",
    "b_node.parameters.append(p1)\n",
    "\n",
    "b_node.output_ports.append(OutputPort(id=\"output\", value=\"2nd-node\"))\n",
    "\n",
    "\n",
    "#Add a stateful parameter - this is a parameter whose value is influenced by a previous value of a parameter, possibly itself\n",
    "\n",
    "c_node = Node(id=\"C\")\n",
    "c_node.input_ports.append(InputPort(id=\"input\"))\n",
    "mod_graph.nodes.append(c_node)\n",
    "c_node.parameters.append(Parameter(id=\"3rd-node\", value=\"100*input\"))\n",
    "\n",
    "\n",
    "c_node.output_ports.append(OutputPort(id=\"output\", value=\"3rd-node\"))\n",
    "\n",
    "\n",
    "\n",
    "# Print the current structure\n",
    "print(mod_graph.to_yaml())\n",
    "\n"
   ]
  },
  {
   "cell_type": "code",
   "execution_count": 12,
   "id": "60942b3b",
   "metadata": {},
   "outputs": [
    {
     "name": "stdout",
     "output_type": "stream",
     "text": [
      "state_example:\n",
      "    nodes:\n",
      "        A:\n",
      "            parameters:\n",
      "                level:\n",
      "                    value: 1.0\n",
      "            output_ports:\n",
      "                output:\n",
      "                    value: level\n",
      "        B:\n",
      "            input_ports:\n",
      "                input: {}\n",
      "            parameters:\n",
      "                2nd-node:\n",
      "                    value: 1/(1+(input))\n",
      "            output_ports:\n",
      "                output:\n",
      "                    value: 2nd-node\n",
      "        C:\n",
      "            input_ports:\n",
      "                input: {}\n",
      "            parameters:\n",
      "                3rd-node:\n",
      "                    value: 100*input\n",
      "            output_ports:\n",
      "                output:\n",
      "                    value: 3rd-node\n",
      "    edges:\n",
      "        edge_A_B:\n",
      "            sender: A\n",
      "            receiver: B\n",
      "            sender_port: output\n",
      "            receiver_port: input\n",
      "        edge_B_C:\n",
      "            sender: B\n",
      "            receiver: C\n",
      "            sender_port: output\n",
      "            receiver_port: input\n",
      "\n"
     ]
    }
   ],
   "source": [
    "from modeci_mdf.utils import simple_connect\n",
    "\n",
    "e1 = simple_connect(a_node, b_node, mod_graph)\n",
    "e2 = simple_connect(b_node, c_node, mod_graph)\n",
    "\n",
    "\n",
    "# Print the current structure\n",
    "print(mod_graph.to_yaml())\n"
   ]
  },
  {
   "cell_type": "code",
   "execution_count": 13,
   "id": "0bb84717",
   "metadata": {},
   "outputs": [
    {
     "name": "stdout",
     "output_type": "stream",
     "text": [
      "Converting MDF graph: state_example to graphviz (level: 3, format: png)\n",
      "    Node: A\n",
      "    Node: B\n",
      "    Node: C\n",
      "    Edge: edge_A_B connects A to B\n",
      "    Edge: edge_B_C connects B to C\n",
      "Written graph image to: states.png\n"
     ]
    },
    {
     "data": {
      "image/png": "[encoded data removed]",
      "text/plain": [
       "<IPython.core.display.Image object>"
      ]
     },
     "execution_count": 13,
     "metadata": {},
     "output_type": "execute_result"
    }
   ],
   "source": [
    "\n",
    "mod.to_graph_image(\n",
    "        engine=\"dot\",\n",
    "        output_format=\"png\",\n",
    "        view_on_render=False,\n",
    "        level=3,\n",
    "        filename_root=\"states\"\n",
    "    )\n",
    "\n",
    "from IPython.display import Image\n",
    "Image(filename=\"states.png\")\n"
   ]
  },
  {
   "cell_type": "code",
   "execution_count": 14,
   "id": "59045f3e",
   "metadata": {
    "scrolled": true
   },
   "outputs": [
    {
     "name": "stdout",
     "output_type": "stream",
     "text": [
      "\n",
      "Init graph: state_example\n",
      "Evaluating graph: state_example, root nodes: ['A'], with array format numpy\n",
      "Output of A: 1\n",
      "Output of B: 0.5\n",
      "Output of C: 50\n"
     ]
    }
   ],
   "source": [
    "#Evaluating the graph once and printing out the output value\n",
    "from modeci_mdf.execution_engine import EvaluableGraph\n",
    "\n",
    "eg = EvaluableGraph(mod_graph, verbose=False)\n",
    "eg.evaluate()\n",
    "\n",
    "print('Output of A: %s'%eg.enodes[\"A\"].evaluable_outputs[\"output\"].curr_value)\n",
    "print('Output of B: %s'%eg.enodes[\"B\"].evaluable_outputs[\"output\"].curr_value)\n",
    "print('Output of C: %s'%eg.enodes[\"C\"].evaluable_outputs[\"output\"].curr_value)"
   ]
  },
  {
   "cell_type": "code",
   "execution_count": null,
   "id": "8665229a",
   "metadata": {},
   "outputs": [],
   "source": []
  },
  {
   "cell_type": "code",
   "execution_count": null,
   "id": "b93d5639",
   "metadata": {},
   "outputs": [],
   "source": []
  }
 ],
 "metadata": {
  "kernelspec": {
   "display_name": "Python 3 (ipykernel)",
   "language": "python",
   "name": "python3"
  },
  "language_info": {
   "codemirror_mode": {
    "name": "ipython",
    "version": 3
   },
   "file_extension": ".py",
   "mimetype": "text/x-python",
   "name": "python",
   "nbconvert_exporter": "python",
   "pygments_lexer": "ipython3",
   "version": "3.9.13"
  }
 },
 "nbformat": 4,
 "nbformat_minor": 5
}
