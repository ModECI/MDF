{
 "cells": [
  {
   "cell_type": "markdown",
   "id": "00594742",
   "metadata": {},
   "source": [
    "# GENERAL OVERVIEW OF THE PROJECT\n",
    "\n",
    "This project is one of the task for the ModECI/MDF outreachy intenship perequite for summer 2023 internship. it shows step-by-step tutorial on how to implement pytorch with MDF (Model Description Format). In this tutorial, i will be taking you through step-by-step tutorial on how i built a keras model, trained it and then converted it to MDF in order to use it with any MDF compatible tools."
   ]
  },
  {
   "cell_type": "markdown",
   "id": "552b9ce4",
   "metadata": {},
   "source": [
    "# REQUIREMENT\n",
    "\n",
    "\n",
    "## Libraries\n",
    "\n",
    "### The library used in this project are listed as follows:\n",
    "\n",
    "\n",
    "\n",
    "1. Numpy: Numpy is a python library used for working with arrays. it also has functions for working in domain of linear algebra, fourier transform and matrices. it was used in this project to generate our dataset for building the keras model.\n",
    "\n",
    "\n",
    "\n",
    "2. Tensorflow: Tensorflow is an end-end open source platform for machine learning. TensorFlow is a rich system for managing all aspects of a machine learning system. it only focuses on using a particular Tensorflow API to develop and train machine learning models. it was used in this project to import keras.\n",
    "\n",
    "\n",
    "3. keras: keras is an open-source software library that provides a Python interface for Artificial Neural Networks. Keras acts as an interface for the TensorFlow library. \n",
    "\n",
    "4. save_model:This function accepts the model object and the file path and then save the model. if no file path is specified, then the model will be saved to the current working directory. After the model is saved, you can load it using the load_model fuction. it is used in this project to save the keras model.\n",
    "\n",
    "\n",
    "5. layers: A layer in a deep learning model is a structure or network topology in the model's architecture, which takes information from the previous layers and then passes it to the next layer. it was used in this project to create layers of the model.\n",
    "\n",
    "\n",
    "6. Activation: An activation function is a mathematical gate in between the input feeding the current neuron and its output going to the next layer. it can be as simple as a step function that turns the neuron output on and off, depending on the rule of threshold. it was used in this project for activating the layers of the the keras model.\n",
    "\n",
    "\n",
    "7. Dense:Keras Dense layer is the layer that contains all the neurons that are deeply connected within themselves. it is the layer of neurons in which each neuron receives input from all the neurons of previous layer thus called as dense. it is used in this project to specify number of neurons needed in each layer.\n",
    "\n",
    "\n",
    "8. plot_model: The plot_model() is a generic plot-function which accepts ,many model-objects. it is used in this project to create plot of the network. it takes in two arguments which are the model you wish to plot(required) and the name of the file to which to save the plot.\n",
    "\n",
    "\n"
   ]
  },
  {
   "cell_type": "markdown",
   "id": "a83a4616",
   "metadata": {},
   "source": [
    "# DATASET\n",
    "\n",
    "The MNIST(Modified National Institute of Standards and Technology) dataset is a widely used dataset for machine learning and computer vision.  it consists of a large collection of grayscale images of handwritten digits(0-9), along with their corresponding labels (the digit in each image). Each image in the MNIST dataset is 28x28 pixels in size, and is represented as a 2-dimensional array of pixel intensities. The reason why we use MNIST to build this model is because of the following:\n",
    "\n",
    "* Availability: The MNIST dataset is widely available and is easy to download. it can also be loaded directly from online.\n",
    "* Simple and well-defined: The MNIST dataset consists of simple grayscale images of handwritten digits, and the task of classifying the digit in each image is well defined and straightforward.\n",
    "* Low Dimension: The MNIST images are 28x28 pixels in size, which is a relatively low dimensional input space compared to more complex image datasets. This makes it easier to train machine learning models and to visualize the results.\n",
    "* Clean and Preprocessed: The MNIST dataset has already been preprocessed and cleaned which saves time and reduces the amount of preprocessing required."
   ]
  },
  {
   "cell_type": "markdown",
   "id": "163dd15e",
   "metadata": {},
   "source": [
    "# WORKFLOW\n",
    "\n",
    "1. I created a simple model with keras using the MNIST dataset which was later saved to be re-used in the next notebook.\n",
    "2. The model was then loaded in the second notebook and the keras model was converted to MDF using the helper functions in the keras2mdf python script in the development branch of MDF Repository\n",
    "3. In the last workflow of this project, the newly created MDF Model was then saved in the json and yaml file format and the graphical representation of it was generated."
   ]
  },
  {
   "cell_type": "markdown",
   "id": "5b42c08f",
   "metadata": {},
   "source": [
    "### Importing Libraries"
   ]
  },
  {
   "cell_type": "code",
   "execution_count": 2,
   "id": "1958a488",
   "metadata": {},
   "outputs": [],
   "source": [
    "#importing libraries\n",
    "import tensorflow as tf\n",
    "from keras.layers import Dense\n",
    "from keras.utils.vis_utils import plot_model\n",
    "from keras.models import Sequential\n",
    "from keras import layers\n",
    "import matplotlib.pyplot as plt\n",
    "import numpy as np\n"
   ]
  },
  {
   "cell_type": "markdown",
   "id": "612e855c",
   "metadata": {},
   "source": [
    "### Load Dataset"
   ]
  },
  {
   "cell_type": "code",
   "execution_count": 3,
   "id": "aad698c0",
   "metadata": {},
   "outputs": [],
   "source": [
    "#loading dataset\n",
    "mnist = tf.keras.datasets.mnist"
   ]
  },
  {
   "cell_type": "markdown",
   "id": "83d74b94",
   "metadata": {},
   "source": [
    "### Splitting dataset into training and test"
   ]
  },
  {
   "cell_type": "code",
   "execution_count": 4,
   "id": "52c46cb7",
   "metadata": {},
   "outputs": [],
   "source": [
    "#splitting dataset into test and validation\n",
    "(x_train, y_train), (x_test, y_test) = mnist.load_data()"
   ]
  },
  {
   "cell_type": "markdown",
   "id": "5c6f2d66",
   "metadata": {},
   "source": [
    "### Normalize dataset"
   ]
  },
  {
   "cell_type": "code",
   "execution_count": 5,
   "id": "a9f1cbbb",
   "metadata": {},
   "outputs": [],
   "source": [
    "#normalize dataset\n",
    "x_train = tf.keras.utils.normalize(x_train, axis=1)\n",
    "x_test = tf.keras.utils.normalize(x_test, axis=1)"
   ]
  },
  {
   "cell_type": "markdown",
   "id": "7c73f9a3",
   "metadata": {},
   "source": [
    "### Build model"
   ]
  },
  {
   "cell_type": "code",
   "execution_count": 6,
   "id": "d122323f",
   "metadata": {},
   "outputs": [],
   "source": [
    "#Build Model\n",
    "kr_model = tf.keras.models.Sequential()\n",
    "kr_model.add(tf.keras.layers.Flatten()) # input layer\n",
    "kr_model.add(tf.keras.layers.Dense(128, activation=tf.nn.relu)) #hidden layer\n",
    "kr_model.add(tf.keras.layers.Dense(128, activation=tf.nn.relu))\n",
    "kr_model.add(tf.keras.layers.Dense(10, activation=tf.nn.softmax)) #output layer"
   ]
  },
  {
   "cell_type": "markdown",
   "id": "7ff3b5b3",
   "metadata": {},
   "source": [
    "### Compile model\n"
   ]
  },
  {
   "cell_type": "code",
   "execution_count": 7,
   "id": "81b77ef5",
   "metadata": {},
   "outputs": [],
   "source": [
    "#compile Model\n",
    "kr_model.compile(\n",
    "     optimizer= \"adam\", loss=\"sparse_categorical_crossentropy\", metrics=[\"accuracy\"])"
   ]
  },
  {
   "cell_type": "markdown",
   "id": "1c0d7cc6",
   "metadata": {},
   "source": [
    "### Train the model"
   ]
  },
  {
   "cell_type": "code",
   "execution_count": 8,
   "id": "5e125c81",
   "metadata": {},
   "outputs": [
    {
     "name": "stdout",
     "output_type": "stream",
     "text": [
      "Epoch 1/10\n",
      "1875/1875 [==============================] - 24s 7ms/step - loss: 0.2634 - accuracy: 0.9220\n",
      "Epoch 2/10\n",
      "1875/1875 [==============================] - 15s 8ms/step - loss: 0.1070 - accuracy: 0.9672\n",
      "Epoch 3/10\n",
      "1875/1875 [==============================] - 14s 8ms/step - loss: 0.0719 - accuracy: 0.9769\n",
      "Epoch 4/10\n",
      "1875/1875 [==============================] - 14s 7ms/step - loss: 0.0523 - accuracy: 0.9837\n",
      "Epoch 5/10\n",
      "1875/1875 [==============================] - 12s 7ms/step - loss: 0.0411 - accuracy: 0.9861\n",
      "Epoch 6/10\n",
      "1875/1875 [==============================] - 14s 7ms/step - loss: 0.0315 - accuracy: 0.9895\n",
      "Epoch 7/10\n",
      "1875/1875 [==============================] - 15s 8ms/step - loss: 0.0254 - accuracy: 0.9915\n",
      "Epoch 8/10\n",
      "1875/1875 [==============================] - 13s 7ms/step - loss: 0.0207 - accuracy: 0.9928\n",
      "Epoch 9/10\n",
      "1875/1875 [==============================] - 14s 7ms/step - loss: 0.0172 - accuracy: 0.9940\n",
      "Epoch 10/10\n",
      "1875/1875 [==============================] - 14s 7ms/step - loss: 0.0154 - accuracy: 0.9947\n"
     ]
    },
    {
     "data": {
      "text/plain": [
       "<keras.callbacks.History at 0x1579bdfce80>"
      ]
     },
     "execution_count": 8,
     "metadata": {},
     "output_type": "execute_result"
    }
   ],
   "source": [
    "#train model\n",
    "kr_model.fit(x_train, y_train, epochs=10)"
   ]
  },
  {
   "cell_type": "markdown",
   "id": "8d07e767",
   "metadata": {},
   "source": [
    "### Summarize the model"
   ]
  },
  {
   "cell_type": "code",
   "execution_count": 12,
   "id": "6d8fc2ce",
   "metadata": {},
   "outputs": [
    {
     "name": "stdout",
     "output_type": "stream",
     "text": [
      "Model: \"sequential\"\n",
      "_________________________________________________________________\n",
      " Layer (type)                Output Shape              Param #   \n",
      "=================================================================\n",
      " flatten (Flatten)           (32, 784)                 0         \n",
      "                                                                 \n",
      " dense (Dense)               (32, 128)                 100480    \n",
      "                                                                 \n",
      " dense_1 (Dense)             (32, 128)                 16512     \n",
      "                                                                 \n",
      " dense_2 (Dense)             (32, 10)                  1290      \n",
      "                                                                 \n",
      "=================================================================\n",
      "Total params: 118,282\n",
      "Trainable params: 118,282\n",
      "Non-trainable params: 0\n",
      "_________________________________________________________________\n"
     ]
    }
   ],
   "source": [
    "#summarize model\n",
    "kr_model.summary()"
   ]
  },
  {
   "cell_type": "markdown",
   "id": "e85a4379",
   "metadata": {},
   "source": [
    "### Evaluate model"
   ]
  },
  {
   "cell_type": "code",
   "execution_count": 9,
   "id": "bfa75745",
   "metadata": {},
   "outputs": [
    {
     "name": "stdout",
     "output_type": "stream",
     "text": [
      "313/313 [==============================] - 2s 4ms/step - loss: 0.1139 - accuracy: 0.9747\n",
      "0.11385560035705566 0.9746999740600586\n"
     ]
    }
   ],
   "source": [
    "#Evaluate the model\n",
    "val_loss, val_acc = kr_model.evaluate(x_test, y_test)\n",
    "print(val_loss, val_acc)"
   ]
  },
  {
   "cell_type": "markdown",
   "id": "42162b9f",
   "metadata": {},
   "source": [
    "### Plot the graph of model"
   ]
  },
  {
   "cell_type": "code",
   "execution_count": 10,
   "id": "4340babe",
   "metadata": {},
   "outputs": [
    {
     "data": {
      "image/png": "[encoded data removed]",
      "text/plain": [
       "<IPython.core.display.Image object>"
      ]
     },
     "execution_count": 10,
     "metadata": {},
     "output_type": "execute_result"
    }
   ],
   "source": [
    "# plot the model graph\n",
    "\n",
    "plot_model(kr_model, to_file=\"model_plot.png\", show_shapes=True, show_layer_names=True)"
   ]
  },
  {
   "cell_type": "markdown",
   "id": "31366ee5",
   "metadata": {},
   "source": [
    "### Save the model"
   ]
  },
  {
   "cell_type": "code",
   "execution_count": 11,
   "id": "e59e8b1e",
   "metadata": {},
   "outputs": [],
   "source": [
    "# Saving model \n",
    "kr_model.save(\"kr_N_model.h5\")"
   ]
  },
  {
   "cell_type": "markdown",
   "id": "e1d6adfc",
   "metadata": {},
   "source": [
    "### Make predictions with model"
   ]
  },
  {
   "cell_type": "code",
   "execution_count": 12,
   "id": "ec30eabf",
   "metadata": {},
   "outputs": [
    {
     "name": "stdout",
     "output_type": "stream",
     "text": [
      "WARNING:tensorflow:Layers in a Sequential model should only have a single input tensor. Received: inputs=(<tf.Tensor 'IteratorGetNext:0' shape=(None, 28, 28) dtype=float32>,). Consider rewriting this model with the Functional API.\n",
      "313/313 [==============================] - 1s 4ms/step\n",
      "The predicted number at index 1 is 2\n"
     ]
    }
   ],
   "source": [
    "# predict example for index 1\n",
    "predictions = kr_model.predict([x_test])\n",
    "print(\"The predicted number at index 1 is\", np.argmax(predictions[1]))"
   ]
  },
  {
   "cell_type": "markdown",
   "id": "f29ead22",
   "metadata": {},
   "source": [
    "### Print actual value at index position 1"
   ]
  },
  {
   "cell_type": "code",
   "execution_count": 13,
   "id": "f8277868",
   "metadata": {},
   "outputs": [
    {
     "data": {
      "image/png": "[encoded data removed]",
      "text/plain": [
       "<Figure size 640x480 with 1 Axes>"
      ]
     },
     "metadata": {},
     "output_type": "display_data"
    }
   ],
   "source": [
    "#print the actual value at that index 1\n",
    "plt.imshow(x_test[1])\n",
    "plt.show()"
   ]
  },
  {
   "cell_type": "code",
   "execution_count": null,
   "id": "d3ac1013",
   "metadata": {},
   "outputs": [],
   "source": []
  }
 ],
 "metadata": {
  "kernelspec": {
   "display_name": "Python 3 (ipykernel)",
   "language": "python",
   "name": "python3"
  },
  "language_info": {
   "codemirror_mode": {
    "name": "ipython",
    "version": 3
   },
   "file_extension": ".py",
   "mimetype": "text/x-python",
   "name": "python",
   "nbconvert_exporter": "python",
   "pygments_lexer": "ipython3",
   "version": "3.9.16"
  }
 },
 "nbformat": 4,
 "nbformat_minor": 5
}
